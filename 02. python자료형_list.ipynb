{
 "cells": [
  {
   "cell_type": "markdown",
   "metadata": {},
   "source": [
    "### 변수의 명명규칙\n",
    "1. 첫글자는 영문대소문자와 언더바(_)로 시작해야 한다.\n",
    "2. 나머지글자는 영문자, 숫자, 언더바로 구성한다. \n",
    "3. 대소문자를 구분한다. \n",
    "4. 길이제한은 없다.\n",
    "5. 예약어(키워드)는 사용할 수 없다.\n",
    "['False', 'None', 'True', 'and', 'as', 'assert', 'async', 'await', 'break', 'class', 'continue', 'def', 'del', 'elif', 'else', 'except', 'finally', 'for', 'from', 'global', 'if', 'import', 'in', 'is', 'lambda', 'nonlocal', 'not', 'or', 'pass', 'raise', 'return', 'try', 'while', 'with', 'yield']"
   ]
  },
  {
   "cell_type": "code",
   "execution_count": 19,
   "metadata": {},
   "outputs": [
    {
     "name": "stdout",
     "output_type": "stream",
     "text": [
      "['False', 'None', 'True', 'and', 'as', 'assert', 'async', 'await', 'break', 'class', 'continue', 'def', 'del', 'elif', 'else', 'except', 'finally', 'for', 'from', 'global', 'if', 'import', 'in', 'is', 'lambda', 'nonlocal', 'not', 'or', 'pass', 'raise', 'return', 'try', 'while', 'with', 'yield']\n"
     ]
    }
   ],
   "source": [
    "#  python에서 사용되는 예약어(키워드) 리스트\n",
    "import keyword\n",
    "print(keyword.kwlist) \n",
    "# impport는 외부 프로그램을 가져옴"
   ]
  },
  {
   "cell_type": "code",
   "execution_count": 20,
   "metadata": {},
   "outputs": [
    {
     "name": "stdout",
     "output_type": "stream",
     "text": [
      "keyword\t \n"
     ]
    }
   ],
   "source": [
    "#import hello #python hello.py 실행\n",
    "\n",
    "# %매직명령어\n",
    "# %who: 현재 세션에서 사용중인 변수 , 모듈등을 출력하는 명령어\n",
    "# 주의할 점은 매직명령어 뒤에는 주석을 추가할 수 없다, 추가하면 error 발생\n",
    "%who "
   ]
  },
  {
   "cell_type": "markdown",
   "metadata": {},
   "source": [
    "### 매직명령어(%)\n",
    "매직명령어는 주피터노트북에서마 사용되는 명령어\n",
    "*  %magic : 모든 매직명령어의 도움말 출력.\n",
    "*  %lsmagic : 매직명령어 목록을 출력\n",
    "*  %cls : 화면 클리어\n",
    "*  %who : 현재 세션에서 사용주어인 변수, 모듈등의 목록을 츌력\n",
    "*  %whos : 사용중인 변수와 해당하눈 값을 출력\n",
    "*  %reset : 작업공간을 초기화 시킴.(수행여부 확인)\n",
    "*  %reset -f : 작업공간을 초기화 시킴(수행여부를 확인 x,바로 실행)\n",
    "*  %paste : 클립보드의 코드를 실행\n",
    "*  %time : 실행시간을 측정해서 보여준다.\n",
    "*  %hist : 과거의 실행된 명령어리스트를 출력\n",
    "*  %pwd : 현재 디렉토리를 출력\n",
    "*  %cd : 디렉토리 변경\n",
    "*  %ls : 현재 디렉토리의 목록을 출력"
   ]
  },
  {
   "cell_type": "code",
   "execution_count": 35,
   "metadata": {},
   "outputs": [
    {
     "name": "stdout",
     "output_type": "stream",
     "text": [
      "a\t keyword\t \n",
      "keyword\t \n"
     ]
    }
   ],
   "source": [
    "a = 10\n",
    "%who \n",
    "# print (%who) error / 걍 %who 하면 각각 print 됨.\n",
    "del a \n",
    "%who"
   ]
  },
  {
   "cell_type": "markdown",
   "metadata": {},
   "source": [
    "### 리스트자료형\n",
    "python에서 리스트 자료형을 만들 때는 대괄호[]로 감싸주고 그 안에 각 요소들을 컴마(,)로 구분해 준다. 예를들어 리스트명 =  [1,2,3,4]"
   ]
  },
  {
   "cell_type": "code",
   "execution_count": null,
   "metadata": {},
   "outputs": [],
   "source": [
    "a = [] # 빈 리스트(객체)를 정의\n",
    "print(a)\n",
    "\n",
    "# 변수 타입을 확인하는 방법\n",
    "# 1. 변수명?\n",
    "# 2. type()함수\n",
    "a?\n",
    "'''\n",
    "a? result\n",
    "Type:        list\n",
    "String form: [1, 2, 3]\n",
    "Length:      3\n",
    "Docstring:  \n",
    "Built-in mutable sequence.\n",
    "\n",
    "If no argument is given, the constructor creates a new empty list.\n",
    "The argument must be an iterable if specified.\n",
    "'''\n",
    "type(a)\n",
    "print(type(a)) \n",
    "# 위 두개가 출력되는 내용 다르다."
   ]
  },
  {
   "cell_type": "code",
   "execution_count": null,
   "metadata": {},
   "outputs": [],
   "source": [
    "a = [] #빈리스트 객체\n",
    "b = [1,2,3]\n",
    "c = ['a','b','c'] #3개의 문자요소를 갖는 리스트 선언\n",
    "d = [1,'a',1.2] # python에서 자료형 구분이 없이 선언가능\n",
    "e = [1,2,[3,4],['x','y',['a','b']]] #리스트 안에 리스트 선언 가능.\n",
    "# 리스트 안에는 어떠한 자료형도 가능하다."
   ]
  },
  {
   "cell_type": "code",
   "execution_count": 45,
   "metadata": {},
   "outputs": [
    {
     "name": "stdout",
     "output_type": "stream",
     "text": [
      "a\t b\t c\t d\t e\t keyword\t \n"
     ]
    }
   ],
   "source": [
    "%who"
   ]
  },
  {
   "cell_type": "markdown",
   "metadata": {},
   "source": [
    "### 1. 리스트의 인덱싱과 슬라이싱"
   ]
  },
  {
   "cell_type": "code",
   "execution_count": 62,
   "metadata": {},
   "outputs": [
    {
     "name": "stdout",
     "output_type": "stream",
     "text": [
      "1,2,3,a\n",
      "1 2 3 a\n",
      "1\n",
      "5\n",
      "a\n",
      "x\n",
      "z\n"
     ]
    }
   ],
   "source": [
    "# 1. 리스트인덱싱\n",
    "a = [1,2,3,'a']\n",
    "# a?\n",
    "print(a[0],a[1],a[2],a[3],sep=',') # sep = ',' 구분자로 ,를 출력\n",
    "print(a[0],a[1],a[2],a[3],end='\\n')\n",
    "#for i in a:\n",
    "#    print(i)\n",
    "print(a[0],end=\"\\n\") # default end=\"\\n\"\n",
    "print(a[1]+a[2])\n",
    "# print(a[1]+a[3]) # int와 str + 연산 불가.\n",
    "print(a[-1])\n",
    "\n",
    "a = [1,2,3,['a','b','c',['x','y','z']]]\n",
    "print(a[3][3][0]) \n",
    "print(a[-1][-1][-1]) # 다른 프로그램 언어에서 이차원배열과 유사"
   ]
  },
  {
   "cell_type": "code",
   "execution_count": null,
   "metadata": {},
   "outputs": [],
   "source": [
    "# 2. 리스트슬라이싱\n",
    "# 문자열과 마찬가지로 리스트에서도 슬라이싱기법을 사용한다.\n",
    "a = [1,2,3,4,5]\n",
    "print(a[:2]) # result [1, 2]\n",
    "\n",
    "b = \"12345\"\n",
    "print(b[:2])\n",
    "print(b[0:2])\n",
    "\n",
    "type(a) # list\n",
    "type(b) # str\n",
    "\n",
    "c = a[:2]\n",
    "d = a[2:]\n",
    "print(c)\n",
    "print(d)"
   ]
  },
  {
   "cell_type": "code",
   "execution_count": 76,
   "metadata": {},
   "outputs": [
    {
     "name": "stdout",
     "output_type": "stream",
     "text": [
      "[1, 2, 3, ['a', 'b', 'c'], 4, 5]\n",
      "[3, ['a', 'b', 'c'], 4]\n",
      "['a', 'b', 'c']\n",
      "a\n",
      "['a', 'b']\n"
     ]
    }
   ],
   "source": [
    "# 중첩된 리스트에서 슬라이싱하기\n",
    "a = [1,2,3,['a','b','c'],4,5]\n",
    "print(a)\n",
    "print(a[2:5])\n",
    "print(a[3])\n",
    "print(a[3][0])\n",
    "print(a[3][:2])"
   ]
  },
  {
   "cell_type": "markdown",
   "metadata": {},
   "source": [
    "### 2. 리스트 연산자."
   ]
  },
  {
   "cell_type": "code",
   "execution_count": 79,
   "metadata": {},
   "outputs": [
    {
     "name": "stdout",
     "output_type": "stream",
     "text": [
      "[1, 2, 3, 4, 5, 6]\n",
      "[1, 2, 3, 1, 2, 3, 1, 2, 3]\n"
     ]
    }
   ],
   "source": [
    "# 1. 리스트더하기(+) : 2개의 리스트를 합치기\n",
    "a = [1,2,3]\n",
    "b = [4,5,6]\n",
    "c = a+b\n",
    "print(c)\n",
    "\n",
    "# 리스트 곱하기(*) : 곱한 수 만큼 리스트 반복.\n",
    "d = a*len(b)\n",
    "print(d)"
   ]
  },
  {
   "cell_type": "markdown",
   "metadata": {},
   "source": [
    "### 3. 리스트의 수정, 삭제."
   ]
  },
  {
   "cell_type": "code",
   "execution_count": 130,
   "metadata": {},
   "outputs": [
    {
     "name": "stdout",
     "output_type": "stream",
     "text": [
      "[1, 2, 4]\n"
     ]
    }
   ],
   "source": [
    "# 1. 리스트에서 하나의 값만 수정하기\n",
    "a = [1,2,3]\n",
    "a[2] = 4\n",
    "print(a)"
   ]
  },
  {
   "cell_type": "code",
   "execution_count": 85,
   "metadata": {},
   "outputs": [
    {
     "name": "stdout",
     "output_type": "stream",
     "text": [
      "[1, 'a', 'b', 'c', 4]\n"
     ]
    }
   ],
   "source": [
    "# 2. 리스트에서 연속된 범위의 값을 수정하기\n",
    "a[1:2] = ['a','b','c']\n",
    "print(a)"
   ]
  },
  {
   "cell_type": "code",
   "execution_count": 86,
   "metadata": {},
   "outputs": [
    {
     "name": "stdout",
     "output_type": "stream",
     "text": [
      "[1, 'b', 'c', 4]\n"
     ]
    }
   ],
   "source": [
    "# 3. 리스트요소 삭제하기\n",
    "del a[1]\n",
    "print(a)"
   ]
  },
  {
   "cell_type": "markdown",
   "metadata": {},
   "source": [
    "### 4. 리스트의 관련 함수.\n",
    "* append() : 리스트에 요소를 맨뒤에 추가\n",
    "* sort() : 리스트의 요소를 순서대로 정렬 (리턴값없음)\n",
    "* reverse() : 리스트의 요소를 현재상태 그대로 뒤집기 (리턴값없음)\n",
    "* index() : 특정값의 요소 위치 반환 \n",
    "* insert() :  리스트에 요소를 지정된 위치에 삽입\n",
    "* remove() : 리스트요소를 삭제\n",
    "* pop() : 리스트요소를 꺼내기\n",
    "* count() : 리스트안에 있는 특정값의 개수를 세기\n",
    "* extend() : 리스트 확장."
   ]
  },
  {
   "cell_type": "code",
   "execution_count": 98,
   "metadata": {},
   "outputs": [
    {
     "name": "stdout",
     "output_type": "stream",
     "text": [
      "[1, 2, 3, 4]\n",
      "[1, 2, 3, 4, 'a']\n",
      "[1, 2, 3, 4, 'a', ['a', 'b', 'c']]\n",
      "[1, 2, 3, 4, 'a', ['a', 'b', 'c'], <built-in function print>]\n"
     ]
    },
    {
     "data": {
      "text/plain": [
       "<function print>"
      ]
     },
     "execution_count": 98,
     "metadata": {},
     "output_type": "execute_result"
    }
   ],
   "source": [
    "# 1. append() \n",
    "a = [1,2,3]\n",
    "a.append(4)\n",
    "print(a)\n",
    "a.append('a')\n",
    "print(a)\n",
    "a.append(['a','b','c'])\n",
    "print(a)\n",
    "a.append(print)\n",
    "print(a)"
   ]
  },
  {
   "cell_type": "code",
   "execution_count": 107,
   "metadata": {},
   "outputs": [
    {
     "name": "stdout",
     "output_type": "stream",
     "text": [
      "[2, 3, 5, 6, 8, 9, 10]\n",
      "['a', 'e', 's', 'w', 'z']\n"
     ]
    }
   ],
   "source": [
    "# 2. sort() \n",
    "a= [2,3,5,8,6,9,10]\n",
    "a.sort() # sort()함수는 sort만 시키고 return값이 없다.\n",
    "print(a)\n",
    "\n",
    "b = ['a','e','s','w','z']\n",
    "b.sort()\n",
    "print(b)\n",
    "# str 과 int 함께 정렬 못함.\n",
    "# sort는 자료형이 동일해야한다."
   ]
  },
  {
   "cell_type": "code",
   "execution_count": null,
   "metadata": {},
   "outputs": [],
   "source": [
    "# 3. reverse()\n",
    "# reverse() 함수는 역순으로 뒤집어 주는데 이때 리스트 요소를 순서대로 정렬해서 뒤집는 것이 아니라 \n",
    "# 현재 리스트를 그래도 꺼꾸로 뒤집는다.\n",
    "\n",
    "a = ['a','c','b']\n",
    "a.reverse()\n",
    "print(a)"
   ]
  },
  {
   "cell_type": "code",
   "execution_count": null,
   "metadata": {},
   "outputs": [],
   "source": [
    "# 4. index()\n",
    "a = [1,2,3,4,'a']\n",
    "print(a.index('a')) "
   ]
  },
  {
   "cell_type": "code",
   "execution_count": null,
   "metadata": {},
   "outputs": [],
   "source": [
    "# 5. insert()\n",
    "# 사용방법 : insert(삽입할 위치, 삽입할 값)\n",
    "a = [1,2,3]\n",
    "a.insert(1,'s') # 기존 a[1] 값을 뒤로 말어냄\n",
    "print(a)"
   ]
  },
  {
   "cell_type": "code",
   "execution_count": 117,
   "metadata": {},
   "outputs": [
    {
     "name": "stdout",
     "output_type": "stream",
     "text": [
      "[1, 2, 1, 2, 3, 1, 2, 3]\n",
      "[1, 2, 1, 2, 1, 2, 3]\n"
     ]
    }
   ],
   "source": [
    "# 6.remove() : 특정값의 해당하는 리스트요소를 제거\n",
    "# 만약에 리스트안에 중복된 깂이 있다면 맨 앞에 값만 삭제.\n",
    "# 사용법 .remove(삭제할 값)\n",
    "# a.remove?\n",
    "\n",
    "a = [1,2,3,1,2,3,1,2,3]\n",
    "a.remove(3)\n",
    "print(a)\n",
    "a.remove(3)\n",
    "print(a)"
   ]
  },
  {
   "cell_type": "code",
   "execution_count": 121,
   "metadata": {},
   "outputs": [
    {
     "name": "stdout",
     "output_type": "stream",
     "text": [
      "3\n",
      "[1, 2]\n",
      "2 [1]\n"
     ]
    }
   ],
   "source": [
    "# 7. pop() : 매개변수의 위치에 해당하는 리스트요소를 꺼낸 후 삭제\n",
    "# 만약에 위치를 지정하지 않을 경우 즉, 매개변수가 없을 경우 맨뒤요소를 꺼냄.\n",
    "# 사용법 : pop(꺼낼 요소의 위치)\n",
    "a = [1,2,3]\n",
    "b = a.pop() # 위치를 짖ㅇ하지 않으면 맨뒤의 요소를 꺼낸 후 삭제, 매개변수 index = -1\n",
    "print(b)\n",
    "print(a)  \n",
    "\n",
    "\n",
    "c = a.pop(1) \n",
    "print(c, a) "
   ]
  },
  {
   "cell_type": "code",
   "execution_count": 123,
   "metadata": {},
   "outputs": [
    {
     "name": "stdout",
     "output_type": "stream",
     "text": [
      "2\n"
     ]
    }
   ],
   "source": [
    "# 8. count() : 특정 값의 개수를 리턴\n",
    "# count(갯수를 확인할 특정 값)\n",
    "a = [1,2,3,1]\n",
    "print(a.count(1))  # 1이 배열 속 몇개 존재하는지"
   ]
  },
  {
   "cell_type": "code",
   "execution_count": 128,
   "metadata": {},
   "outputs": [
    {
     "name": "stdout",
     "output_type": "stream",
     "text": [
      "[1, 2, 3, 4, 5]\n",
      "[1, 2, 3, 4, 5, 'a', 'b']\n",
      "[1, 2, 3, 4, 5, 'a', 'b', 'a']\n"
     ]
    }
   ],
   "source": [
    "# 9. extend() : 리스트를 확장\n",
    "# 사용법 : extend(iterable 자료형만 가능)\n",
    "a = [1,2,3]\n",
    "a.extend([4,5])\n",
    "print(a)\n",
    "b = ['a','b']\n",
    "a.extend(b)\n",
    "print(a)\n",
    "a.extend(\"a\")\n",
    "print(a)"
   ]
  },
  {
   "cell_type": "code",
   "execution_count": null,
   "metadata": {},
   "outputs": [],
   "source": [
    "# 리스트요소를 삭제하는 방법\n",
    "# 1. remove() : 입력매개변수가 요소의 값.\n",
    "# 2. pop() : 입력매개변수가 요소의 인덱스.(위치)\n",
    "# 3. del : 입력매개변수가 요소의 인덱스.(위치)\n",
    "# 삭제되는 결과는 동일, 삭제에 사용되는 매개값에 대해서는 큰 차이가 있다."
   ]
  }
 ],
 "metadata": {
  "kernelspec": {
   "display_name": "Python 3",
   "language": "python",
   "name": "python3"
  },
  "language_info": {
   "codemirror_mode": {
    "name": "ipython",
    "version": 3
   },
   "file_extension": ".py",
   "mimetype": "text/x-python",
   "name": "python",
   "nbconvert_exporter": "python",
   "pygments_lexer": "ipython3",
   "version": "3.7.4"
  }
 },
 "nbformat": 4,
 "nbformat_minor": 2
}
