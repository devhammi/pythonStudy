{
 "cells": [
  {
   "cell_type": "code",
   "execution_count": null,
   "metadata": {},
   "outputs": [],
   "source": [
    "# 한줄주석\n",
    "# 파이썬에서는 문자열은 ''  or \"\" 은 구분하지 않는다.(둘다 사용가능)"
   ]
  },
  {
   "cell_type": "markdown",
   "metadata": {},
   "source": [
    "### jupyterNotebook 단축키\n",
    "1. 셀나누기 : ctrl + shift + -\n",
    "2. 셀 실행 : ctrl + enter(실행 후 다음셀로 안넘어감) or shift +enter(실행 후 다음셀로 넘어감)"
   ]
  },
  {
   "cell_type": "markdown",
   "metadata": {},
   "source": [
    "### 1. 숫자형"
   ]
  },
  {
   "cell_type": "code",
   "execution_count": 13,
   "metadata": {},
   "outputs": [
    {
     "name": "stdout",
     "output_type": "stream",
     "text": [
      "1 2 3\n",
      "1.2 -3.44\n",
      "15 23\n",
      "1.2\n"
     ]
    }
   ],
   "source": [
    "# 정수형\n",
    "a = 1 \n",
    "b = 2\n",
    "c = 3\n",
    "print(a,b,c)\n",
    "\n",
    "# 실수형\n",
    "d = 1.2\n",
    "e = -3.44\n",
    "print(d,e)\n",
    "\n",
    "# 8진수와 16진수\n",
    "# 8진수를 위해서는 숫자기 0o  or 0O로 시작\n",
    "# 16진수는 0x로 시작\n",
    "\n",
    "f = 0O17\n",
    "g = 0X17\n",
    "print(f,g)\n",
    "\n",
    "a = 1.2\n",
    "print(a) # 정수 -> 실수 변경 시(type 변경시) error 발생 안함.\n",
    "\n",
    "# print = 100\n",
    "# print(100) ## 에러발생.  현재 세션에서 print가 재정의 됨.\n"
   ]
  },
  {
   "cell_type": "code",
   "execution_count": 16,
   "metadata": {},
   "outputs": [
    {
     "name": "stdout",
     "output_type": "stream",
     "text": [
      "2\n",
      "5.0\n",
      "20\n",
      "8\n",
      "1.75\n",
      "3\n",
      "1\n",
      "1.0\n"
     ]
    }
   ],
   "source": [
    "# 숫자형을 활용하기 위한 연산자\n",
    "# +,- ,/,* 연산자를 통해서 사칙연산을 수행한다. \n",
    "# 제곱연산자 : **\n",
    "# 나눗셈결과 나머지를 리턴 : %\n",
    "# 나눗셈결과 나머지를 버리는 연산자 : // (주의 : 정수형과 실수형 결과가 상이)\n",
    "\n",
    "a = 1+1\n",
    "print(a)\n",
    "print(10/2)\n",
    "print(10*2)\n",
    "print(10-2)\n",
    "\n",
    "print(7/4)\n",
    "print(7%4) #나머지리턴\n",
    "print(7//4) #몫이 리턴\n",
    "print(7.0//4)\n"
   ]
  },
  {
   "cell_type": "markdown",
   "metadata": {},
   "source": [
    "### 2. 문자형"
   ]
  },
  {
   "cell_type": "code",
   "execution_count": null,
   "metadata": {},
   "outputs": [],
   "source": [
    "# 문자열이란? \n",
    "# 문자, 단어등으로 구성된 집합을 말한다. \n",
    "a = 'life is too short.'\n",
    "b = '123'\n",
    "c = \"True\"\n",
    "print(a,b,c)"
   ]
  },
  {
   "cell_type": "code",
   "execution_count": 12,
   "metadata": {},
   "outputs": [
    {
     "data": {
      "text/plain": [
       "'\\nhello python\\n'"
      ]
     },
     "execution_count": 12,
     "metadata": {},
     "output_type": "execute_result"
    }
   ],
   "source": [
    "# 문자열생성과 사용\n",
    "# 작은 따옴표와 큰 따옴표를 사용 \n",
    "# 작은 / 큰 따옴표를 연속 3개을 사용\n",
    "\n",
    "\"\"\"\n",
    "hello python\n",
    "\"\"\"\n",
    "\n",
    "# print 함수 사용 안하면 out 으로 표시"
   ]
  },
  {
   "cell_type": "code",
   "execution_count": null,
   "metadata": {},
   "outputs": [],
   "source": [
    "#문자열에 작은 / 큰 따옴표를 포함\n",
    "a = \"python's python\"\n",
    "b = \"python\\\"s python\"\n",
    "print(a,b)"
   ]
  },
  {
   "cell_type": "code",
   "execution_count": null,
   "metadata": {},
   "outputs": [],
   "source": [
    "# 문자열 연산하기\n",
    "# python에서 문자열을 연산할 때 자료형이 틀리면 에러발생\n",
    "# 1) 문자열 연결하기\n",
    "a = '1'+'a'\n",
    "print(a)\n",
    "# b = 1+'a' # 자료형 틀려서 error\n",
    "head = 'Python'\n",
    "tail = 'is fun!!'\n",
    "print(head+tail)\n",
    "\n",
    "# 2) 문자열 곱하기\n",
    "print(head*10) # 10번 출력\n",
    "print(\"=\"*50)  # 50번 출력"
   ]
  },
  {
   "cell_type": "code",
   "execution_count": 57,
   "metadata": {},
   "outputs": [
    {
     "name": "stdout",
     "output_type": "stream",
     "text": [
      "안녕하세욥\n",
      "안\n",
      "1111안녕하세욥\n",
      "욥\n",
      "안\n"
     ]
    }
   ],
   "source": [
    "# 3)문자열의 인덱싱과 슬라이싱\n",
    "# 인덱싱이라는 것은 문자열의 특정위치의 문자를 가르키는 것이고\n",
    "# 슬라이싱이라는 것은 문자열을 자르는 것이다.\n",
    "\n",
    "# 문자열인덱싱이란?\n",
    "# 인덱스가 양수는 처음부터 시작되고 음수는 끝에서 시작된다. \n",
    "a = \"안녕하세욥\"\n",
    "print(a)\n",
    "print(a[0])\n",
    "print(\"1111\"+a[0:len(a)])\n",
    "# print(a[8]) # 인덱싱 error 범위를 벗어나서\n",
    "print(a[-1])\n",
    "print(a[-5]) "
   ]
  },
  {
   "cell_type": "code",
   "execution_count": null,
   "metadata": {},
   "outputs": [],
   "source": [
    "# 문자열슬라이싱이란?\n",
    "# 문자열에서 특정문자열을 잘라내는 것을 의미한다. 즉, 문자를 추출하는 행위\n",
    "a = \"20191221 python\"\n",
    "print(a[0]+a[1]+a[3]) # 인덱싱\n",
    "\n",
    "#문자열[start,end-1]\n",
    "print(a[0:a.find(' ')])\n",
    "\n",
    "#len(문자열) : 문자열의 길이 확인하는 함수\n",
    "print(len(a))\n",
    "print(a[:len(a)])\n",
    "\n",
    "# python만 출력\n",
    "print(a[a.find('p'):len()])"
   ]
  },
  {
   "cell_type": "code",
   "execution_count": null,
   "metadata": {},
   "outputs": [],
   "source": [
    "#실습 \n",
    "a = \"20191221파이썬\"\n",
    "\n",
    "date = a[:a.find('파')]\n",
    "print(date)\n",
    "p = a[a.find('파'):len(a)]\n",
    "print(p)\n",
    "\n",
    "year = a[:4]\n",
    "print(year)\n",
    "month = a[4:6]\n",
    "print(month)\n",
    "day = a[6:8]\n",
    "print(day)"
   ]
  },
  {
   "cell_type": "code",
   "execution_count": null,
   "metadata": {},
   "outputs": [],
   "source": [
    "# 4) 문자열 바꾸기\n",
    "# 파이썬에서는 문자열과 튜플은 변경할 수 없는 자요형이다. - 이러한 자료형을 immutable 자료형이라 한다. \n",
    "a = \"Pithon\"\n",
    "# a[1]  =  'y'  # 문자열은 변경할 수 없기 때문에 에러\n",
    "a = a[:1]+'y'+a[2:]\n",
    "print(a)"
   ]
  },
  {
   "cell_type": "code",
   "execution_count": null,
   "metadata": {},
   "outputs": [],
   "source": [
    "# 5) 문자열포매팅\n",
    "# '오늘 날씨는 -10도 입니다.'\n",
    "print('오늘 날씨는 -10도 입니다.')\n",
    "print('오늘 날씨는 10도 입니다.')\n",
    "\n",
    "# %d는 숫자형 포맷팅\n",
    "degree = 10\n",
    "print(\"오늘 날씨는 %d도 입니다\" % degree)\n",
    "# print(\"오늘 날씨는 %d도 입니다\" % \"18\") # error발생  \n",
    "\n",
    "# %s는 문자형 포맷팅\n",
    "print(\"오늘 날씨는 %s도 입니다\" % 18) # 숫자형 str로 포맷팅 시 error 발생 안함.\n",
    "print(\"오늘 날씨는 %s도 입니다\" % \"18\")\n",
    "\n",
    "# 두개 이상의 값을 포매팅하기\n",
    "number = 10\n",
    "day = 'three'\n",
    "print(\"제 나이는 %d살 입니다. 공부를 %s일 동안 했습니다.\"%(number,day)) \n",
    "\n",
    "# 문자열 포맷코드\n",
    "# 코드           설명\n",
    "# =================================\n",
    "# %s             문자열(string)\n",
    "# %c             1개의 문자(Character)\n",
    "# %d             정수(Integer)       \n",
    "# %f             소수(float)\n",
    "# %o             8진수\n",
    "# %x             16진수\n",
    "# %%             퍼센트문자(%)\n",
    "# 포맷팅은 타입을 정확히 알아야 사용할 수 있다는 단점이 있다. 타입이 변경되면 error 발생가능성 있음."
   ]
  },
  {
   "cell_type": "code",
   "execution_count": null,
   "metadata": {},
   "outputs": [],
   "source": [
    "# 6) 포맷코드와 숫자를 함께 사용하기\n",
    "# (1) 정렬과 공백\n",
    "a =  '%10s'%'Hi'\n",
    "print(a, len(a)) # %10s : 문자가 10개보다 작을 때 앞에 나머지 공간으로 채워진다. 오른쪽 정렬\n",
    "\n",
    "a = \"%-10s\"%'Hi'\n",
    "print(a,len(a)) # %10s : 문자가 10개보다 작을 때 뒤에 나머지 공간으로 채워진다. 왼쪽 정렬\n",
    "\n",
    "a = \"%s\"%'Hi'\n",
    "print(a,len(a))"
   ]
  },
  {
   "cell_type": "code",
   "execution_count": null,
   "metadata": {},
   "outputs": [],
   "source": [
    "# (2) 소숫점표현하기\n",
    "a = '%0.4f'% 3.141592\n",
    "print(a) # 소수점 4자기까지 나오고 반올림"
   ]
  },
  {
   "cell_type": "code",
   "execution_count": 43,
   "metadata": {},
   "outputs": [
    {
     "name": "stdout",
     "output_type": "stream",
     "text": [
      "현재 온도는 18도 입니다.\n",
      "현재 온도는 18도 입니다.\n"
     ]
    }
   ],
   "source": [
    "# (3) format() 함수 사용하기\n",
    "print(\"현재 온도는 {0}도 입니다.\".format(18))\n",
    "print(\"현재 온도는 {0}도 입니다.\".format(\"18\"))"
   ]
  },
  {
   "cell_type": "code",
   "execution_count": null,
   "metadata": {},
   "outputs": [],
   "source": [
    "# (4) 2개이상 format() 함수 사용하기\n",
    "# number = 10\n",
    "# day = 'three'\n",
    "print(\"제 나이는 {}살 입니다. 공부를 {}일 동안 했습니다.\".format(number,day)) \n",
    "print(\"제 나이는 {1}살 입니다. 공부를 {0}일 동안 했습니다.\".format(number,day)) \n",
    "# {} 속 배열 인덱스를 넣어줘도 됌. default로는 순서대로"
   ]
  },
  {
   "cell_type": "code",
   "execution_count": 72,
   "metadata": {},
   "outputs": [
    {
     "name": "stdout",
     "output_type": "stream",
     "text": [
      "제 나이는 11살입니다. 공부를 10일 동안 했습니다.\n",
      "제 나이는 10살입니다. 공부를 three일 동안 했습니다.\n"
     ]
    }
   ],
   "source": [
    "# (5) 이름으로 format() 함수 사용하기\n",
    "print(\"제 나이는 {number}살입니다. 공부를 {day}일 동안 했습니다.\"\\\n",
    "      .format(number=\"11\",day=\"10\")) \n",
    "print(\"제 나이는 {number}살입니다. 공부를 {day}일 동안 했습니다.\"\\\n",
    "      .format(number=number,day=day)) \n",
    "\n",
    "# 한줄로 써야 error 발생안하지만 (줄바꿈시 들여쓰기 때문에 error 발생) 불가피시 . 앞에 역슬래시 표시로 한줄처럼 인식가능    "
   ]
  },
  {
   "cell_type": "code",
   "execution_count": null,
   "metadata": {},
   "outputs": [],
   "source": [
    "# (6) format() 함수와 정렬하기\n",
    "# a. 왼쪽정렬\n",
    "b = '{0:10}'.format('hi 오른쪽정렬')\n",
    "print(b,len(b))\n",
    "b = '{0:<10}'.format('hi 오른쪽정렬')\n",
    "print(b,len(b))\n",
    "# b. 오른쪽정렬\n",
    "b = '{0:>10}'.format('hi 왼쪽정렬')\n",
    "print(b,len(b))\n",
    "# c. 가운데정렬\n",
    "b = '{0:^10}'.format('hi 가운데정렬')\n",
    "print(b,len(b))"
   ]
  },
  {
   "cell_type": "code",
   "execution_count": 60,
   "metadata": {},
   "outputs": [
    {
     "name": "stdout",
     "output_type": "stream",
     "text": [
      "====hi==== 10\n",
      "========hi 10\n",
      "hi======== 10\n"
     ]
    }
   ],
   "source": [
    "# (7) 공백채우기\n",
    "c = '{0:=^10}'.format('hi')\n",
    "print(c,len(c))\n",
    "c = '{0:=>10}'.format('hi')\n",
    "print(c,len(c))\n",
    "c = '{0:=<10}'.format('hi')\n",
    "print(c,len(c))"
   ]
  },
  {
   "cell_type": "code",
   "execution_count": 65,
   "metadata": {},
   "outputs": [
    {
     "name": "stdout",
     "output_type": "stream",
     "text": [
      "  3.141592\n",
      "    3.1416\n"
     ]
    }
   ],
   "source": [
    "# (8) format()함수로 소수점 표현하기\n",
    "pi = 3.141592\n",
    "d = '{0:10}'.format(pi)\n",
    "e = '{0:10.4f}'.format(pi)\n",
    "print(d)\n",
    "print(e)"
   ]
  },
  {
   "cell_type": "code",
   "execution_count": 95,
   "metadata": {},
   "outputs": [
    {
     "name": "stdout",
     "output_type": "stream",
     "text": [
      "{그리고}\n"
     ]
    }
   ],
   "source": [
    "# 9) { 그리고 } : 중괄호표현하기 {-> {{, } -> }} 연속해서 사용해야 한다. \n",
    "f = f\"{{그리고}}\"\n",
    "print(f)"
   ]
  },
  {
   "cell_type": "code",
   "execution_count": 92,
   "metadata": {},
   "outputs": [
    {
     "name": "stdout",
     "output_type": "stream",
     "text": [
      "내 이름은 {name}입니다. 나이는 {age}입니다.\n",
      "내 이름은 소향입니다. 나이는 40입니다.\n",
      "내 이름은 소향입니다. 나이는 58입니다.\n",
      "hi--------\n",
      "--------hi\n",
      "----hi----\n",
      "3.1416\n",
      "{and}\n",
      "내 이름은 name입니다. 나이는 10입니다.\n"
     ]
    }
   ],
   "source": [
    "# 7) f 문자열 포매팅\n",
    "# python 2.7, python 3.6미만에서는 사용할 수 없는 기능\n",
    "# 사용하는 방법은 문자열 앞에 f접두사를 붙이면 사용할 수 있다. \n",
    "name = '소향'\n",
    "age = 40\n",
    "\n",
    "a = '내 이름은 {name}입니다. 나이는 {age}입니다.'\n",
    "b = f'내 이름은 {name}입니다. 나이는 {age}입니다.'\n",
    "c = f'내 이름은 {name}입니다. 나이는 {age+18}입니다.'\n",
    "\n",
    "print(a)\n",
    "print(b)\n",
    "print(c)\n",
    "\n",
    "# 정렬\n",
    "print(f'{\"hi\":-<10}')\n",
    "print(f'{\"hi\":->10}')\n",
    "print(f'{\"hi\":-^10}')\n",
    "\n",
    "# 소수점\n",
    "pi = 3.141592\n",
    "print(f'{pi:0.4f}')\n",
    "\n",
    "# { and } 문자출력\n",
    "print(f'{{and}}')\n",
    "      \n",
    "# 딕셔너리와 f 문자열 사용하기\n",
    "d = {'nick':'name','value':10}\n",
    "print(f'내 이름은 {d[\"nick\"]}입니다. 나이는 {d[\"value\"]}입니다.')"
   ]
  },
  {
   "cell_type": "markdown",
   "metadata": {},
   "source": [
    "### 3. 문자열 관련 함수\n",
    "#### 1) count()  :  문자열의 문자갯수를 리턴하는 함수\n",
    "#### 2) find()     :  특정문자의 위치를 리턴하는 함수 (찾는 문자가 없을 경우 -1)\n",
    "#### 3) index()  :  특정문자의 위치를 리턴하는 함수 (찾는 문자가 없을 경우 error)\n",
    "#### 4) join()      :  문자열을 삽입\n",
    "#### 5) upper()  :  소문자를 대문자로 삽입.\n",
    "#### 6) lower()   :  대문자를 소문자로 삽입.\n",
    "#### 7) lstrip()   :  왼쪽 공백지우기.\n",
    "#### 8) rstrip()   :  오른쪽 공백지우기.\n",
    "#### 9) strip()   :  양쪽 공백 지우기.\n",
    "#### 10) replace()   :   문자열 바꾸기\n",
    "#### 11) split()   : 문자열 나누기."
   ]
  },
  {
   "cell_type": "code",
   "execution_count": null,
   "metadata": {},
   "outputs": [],
   "source": [
    "# 1. count() :  문자세기\n",
    "a = 'Life is too short'\n",
    "print(a.count('o'))\n",
    "print('Life is too short'.count('o'))\n",
    "print(a.count('life')) # 단어찾기 가능 대소문자 구분함.\n",
    "print(a.count('Life'))"
   ]
  },
  {
   "cell_type": "code",
   "execution_count": null,
   "metadata": {},
   "outputs": [],
   "source": [
    "# 2. find() : 문자열위치를 리턴\n",
    "a = 'Python is best choice'\n",
    "print(a.find('o'))\n",
    "print(a.find('i')) #맨처음 나온 i의 위치를 return\n",
    "print(a.find('x')) #찾는 문자가 없으면 -1 return"
   ]
  },
  {
   "cell_type": "code",
   "execution_count": null,
   "metadata": {},
   "outputs": [],
   "source": [
    "# 3. index() : 문자열위치를 리턴\n",
    "a = 'Python is best choice'\n",
    "print(a.index('o'))\n",
    "print(a.index('i'))\n",
    "# print(a.index('x')) # 찾는 문자가 없으면 error 발생"
   ]
  },
  {
   "cell_type": "code",
   "execution_count": null,
   "metadata": {},
   "outputs": [],
   "source": [
    "# 4. join() : 문자열을 삽입.\n",
    "\n",
    "print('a,b,c,d')\n",
    "a = ','\n",
    "print(a.join('1234'))"
   ]
  },
  {
   "cell_type": "code",
   "execution_count": null,
   "metadata": {},
   "outputs": [],
   "source": [
    "# 5. upper() : 소문자를 대문자로 변환\n",
    "a = 'hi'\n",
    "print(a.upper())"
   ]
  },
  {
   "cell_type": "code",
   "execution_count": null,
   "metadata": {},
   "outputs": [],
   "source": [
    "# 6. lower() : 대문자를 소문자로 변환\n",
    "a = 'HI'\n",
    "print(a.lower())"
   ]
  },
  {
   "cell_type": "code",
   "execution_count": 126,
   "metadata": {},
   "outputs": [
    {
     "name": "stdout",
     "output_type": "stream",
     "text": [
      "'hi'\n",
      "           'hi'\n",
      "'hi'\n"
     ]
    }
   ],
   "source": [
    "# 7. ㅣstrip() : 왼쪽 공백지우기\n",
    "# 8. rstrip() : 오른쪽 공백지우기\n",
    "# 9. strip() : 좌우공백지우기\n",
    "\n",
    "a = '           \\'hi\\''\n",
    "print(a.lstrip())\n",
    "\n",
    "a = '           \\'hi\\'        '\n",
    "print(a.rstrip())\n",
    "print(a.strip())"
   ]
  },
  {
   "cell_type": "code",
   "execution_count": 128,
   "metadata": {},
   "outputs": [
    {
     "name": "stdout",
     "output_type": "stream",
     "text": [
      "Your leg is too short\n"
     ]
    }
   ],
   "source": [
    "# 10. replace() : 문자열 바꾸기\n",
    "a = 'Life is too short'\n",
    "\n",
    "# Life  -> Your leg 로 변경\n",
    "a = a.replace('Life','Your leg')\n",
    "print(a)"
   ]
  },
  {
   "cell_type": "code",
   "execution_count": 135,
   "metadata": {},
   "outputs": [
    {
     "name": "stdout",
     "output_type": "stream",
     "text": [
      "['Life', 'is', 'too', 'short']\n",
      "['a', 'b', 'c', 'd']\n",
      "['a', 'b', 'c', 'd']\n"
     ]
    }
   ],
   "source": [
    "# 11. splite() : 문자열 나누기\n",
    "a = 'Life is too short'\n",
    "a = a.split() #파라메터 없으면 default 공백으로 자름.\n",
    "print(a)\n",
    "# 공백기준으로 나누기\n",
    "\n",
    "# ,기준으로 나누기\n",
    "b = 'a,b,c,d'\n",
    "print(b.split(','))\n",
    "\n",
    "# :기준으로 나누기\n",
    "c = 'a:b:c:d'\n",
    "print(c.split(':'))"
   ]
  },
  {
   "cell_type": "markdown",
   "metadata": {},
   "source": [
    "# 연습문제"
   ]
  },
  {
   "cell_type": "code",
   "execution_count": 137,
   "metadata": {},
   "outputs": [
    {
     "name": "stdout",
     "output_type": "stream",
     "text": [
      "1\n"
     ]
    }
   ],
   "source": [
    "# 1. 주민번호에서 성별을 나타낸는 숫자 출력하기\n",
    "a = '881120-1234567'\n",
    "print(a.split('-')[1][0])"
   ]
  },
  {
   "cell_type": "code",
   "execution_count": 139,
   "metadata": {},
   "outputs": [
    {
     "name": "stdout",
     "output_type": "stream",
     "text": [
      "12\n"
     ]
    }
   ],
   "source": [
    "# 2. 문자열 찾기\n",
    "# 변수 a에서 short가 시작된 위치를 출력하기\n",
    "a = 'Life is too short, you need python'\n",
    "print(a.find('short'))"
   ]
  },
  {
   "cell_type": "code",
   "execution_count": 140,
   "metadata": {},
   "outputs": [
    {
     "name": "stdout",
     "output_type": "stream",
     "text": [
      "a#b#c#d\n"
     ]
    }
   ],
   "source": [
    "# 3. 문자열 바꾸기\n",
    "# a:b:c:d -> a#b#c#d 로 변경\n",
    "a = 'a:b:c:d'\n",
    "print(a.replace(':','#'))"
   ]
  },
  {
   "cell_type": "code",
   "execution_count": 175,
   "metadata": {},
   "outputs": [
    {
     "name": "stdout",
     "output_type": "stream",
     "text": [
      "a\t age\t b\t c\t d\t day\t degree\t e\t f\t \n",
      "lg\t name\t num\t number\t pi\t samsung\t total\t x\t y\t \n",
      "\n",
      "104020000\n"
     ]
    }
   ],
   "source": [
    "# 4. 삼성(samsung)주가 89,000이고, LG 주가가 751,000원일경우\n",
    "# 특정 사람이 삼성주식 1000주와 LG주식 20주를 가지고 있을 경우\n",
    "# 주식의 총액을 계산하기\n",
    "# 변수명은 samsung, LG, total로 하기\n",
    "# %who - jupyter-notebook 명령어 : 현재 세션에 살아 있는 변수를 알려줌.\n",
    "samsung = 89000\n",
    "lg = 751000\n",
    "total = (samsung*1000)+(lg*20)\n",
    "print(total)"
   ]
  },
  {
   "cell_type": "code",
   "execution_count": 178,
   "metadata": {},
   "outputs": [
    {
     "name": "stdout",
     "output_type": "stream",
     "text": [
      "5952000.0\n"
     ]
    }
   ],
   "source": [
    "# 5. 4번문제에서 삼성과 LG 주가가 각가 5%, 10% 하락한 경우 손실액 구하기.\n",
    "samsung = samsung * 0.05\n",
    "lg = lg*0.1\n",
    "total = samsung*1000+lg*20\n",
    "print(total)\n"
   ]
  },
  {
   "cell_type": "code",
   "execution_count": 151,
   "metadata": {},
   "outputs": [
    {
     "name": "stdout",
     "output_type": "stream",
     "text": [
      "python\n",
      "python\n",
      "python\n",
      "python\n",
      "python\n",
      "python\n",
      "python\n",
      "python\n",
      "python\n",
      "python\n",
      "\n"
     ]
    }
   ],
   "source": [
    "# 6. Python이란 문자를 10번 출력하기. 단, 각 줄을 바꿔서 출력(10줄)\n",
    "print((\"python\"+\"\\n\")*10)"
   ]
  },
  {
   "cell_type": "code",
   "execution_count": 152,
   "metadata": {},
   "outputs": [
    {
     "name": "stdout",
     "output_type": "stream",
     "text": [
      "hi python\n"
     ]
    }
   ],
   "source": [
    "# 7. a라는 변수에 'hello python'일 경우 a 값을 hi python' 으로 변경.\n",
    "a = 'hello python'\n",
    "print(a.replace('hello','hi'))"
   ]
  },
  {
   "cell_type": "code",
   "execution_count": 171,
   "metadata": {},
   "outputs": [
    {
     "name": "stdout",
     "output_type": "stream",
     "text": [
      "bcdefa\n"
     ]
    }
   ],
   "source": [
    "# 8. x 라는 변수에 'abcdef'일 경우 'bcdefa'로 변경하기.\n",
    "x = 'abcdef'\n",
    "x = x.replace(x[0:2],x[0]+'-'+x[1]).split('-')\n",
    "x = x[1]+x[0]\n",
    "print(x)"
   ]
  },
  {
   "cell_type": "code",
   "execution_count": 174,
   "metadata": {},
   "outputs": [
    {
     "name": "stdout",
     "output_type": "stream",
     "text": [
      "False\n"
     ]
    }
   ],
   "source": [
    "print(bool(None))"
   ]
  }
 ],
 "metadata": {
  "kernelspec": {
   "display_name": "Python 3",
   "language": "python",
   "name": "python3"
  },
  "language_info": {
   "codemirror_mode": {
    "name": "ipython",
    "version": 3
   },
   "file_extension": ".py",
   "mimetype": "text/x-python",
   "name": "python",
   "nbconvert_exporter": "python",
   "pygments_lexer": "ipython3",
   "version": "3.7.4"
  }
 },
 "nbformat": 4,
 "nbformat_minor": 2
}
