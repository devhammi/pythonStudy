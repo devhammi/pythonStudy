{
 "cells": [
  {
   "cell_type": "code",
   "execution_count": null,
   "metadata": {},
   "outputs": [],
   "source": [
    "# 한줄주석\n",
    "# 파이썬에서는 문자열은 ''  or \"\" 은 구분하지 않는다.(둘다 사용가능)"
   ]
  },
  {
   "cell_type": "markdown",
   "metadata": {},
   "source": [
    "### jupyterNotebook 단축키\n",
    "1. 셀나누기 : ctrl + shift + -\n",
    "2. 셀 실행 : ctrl + enter(실행 후 다음셀로 안넘어감) or shift +enter(실행 후 다음셀로 넘어감)"
   ]
  },
  {
   "cell_type": "markdown",
   "metadata": {},
   "source": [
    "### 1. 숫자형"
   ]
  },
  {
   "cell_type": "code",
   "execution_count": 13,
   "metadata": {},
   "outputs": [
    {
     "name": "stdout",
     "output_type": "stream",
     "text": [
      "1 2 3\n",
      "1.2 -3.44\n",
      "15 23\n",
      "1.2\n"
     ]
    }
   ],
   "source": [
    "# 정수형\n",
    "a = 1 \n",
    "b = 2\n",
    "c = 3\n",
    "print(a,b,c)\n",
    "\n",
    "# 실수형\n",
    "d = 1.2\n",
    "e = -3.44\n",
    "print(d,e)\n",
    "\n",
    "# 8진수와 16진수\n",
    "# 8진수를 위해서는 숫자기 0o  or 0O로 시작\n",
    "# 16진수는 0x로 시작\n",
    "\n",
    "f = 0O17\n",
    "g = 0X17\n",
    "print(f,g)\n",
    "\n",
    "a = 1.2\n",
    "print(a) # 정수 -> 실수 변경 시(type 변경시) error 발생 안함.\n",
    "\n",
    "# print = 100\n",
    "# print(100) ## 에러발생.  현재 세션에서 print가 재정의 됨.\n"
   ]
  },
  {
   "cell_type": "code",
   "execution_count": 16,
   "metadata": {},
   "outputs": [
    {
     "name": "stdout",
     "output_type": "stream",
     "text": [
      "2\n",
      "5.0\n",
      "20\n",
      "8\n",
      "1.75\n",
      "3\n",
      "1\n",
      "1.0\n"
     ]
    }
   ],
   "source": [
    "# 숫자형을 활용하기 위한 연산자\n",
    "# +,- ,/,* 연산자를 통해서 사칙연산을 수행한다. \n",
    "# 제곱연산자 : **\n",
    "# 나눗셈결과 나머지를 리턴 : %\n",
    "# 나눗셈결과 나머지를 버리는 연산자 : // (주의 : 정수형과 실수형 결과가 상이)\n",
    "\n",
    "a = 1+1\n",
    "print(a)\n",
    "print(10/2)\n",
    "print(10*2)\n",
    "print(10-2)\n",
    "\n",
    "print(7/4)\n",
    "print(7%4) #나머지리턴\n",
    "print(7//4) #몫이 리턴\n",
    "print(7.0//4)\n"
   ]
  },
  {
   "cell_type": "markdown",
   "metadata": {},
   "source": [
    "### 2. 문자열"
   ]
  },
  {
   "cell_type": "code",
   "execution_count": null,
   "metadata": {},
   "outputs": [],
   "source": [
    "# 문자열이란? \n",
    "# 문자, 단어등으로 구성된 집합을 말한다. \n",
    "a = 'life is too short.'\n",
    "b = '123'\n",
    "c = \"True\"\n",
    "print(a,b,c)"
   ]
  },
  {
   "cell_type": "code",
   "execution_count": 4,
   "metadata": {},
   "outputs": [
    {
     "data": {
      "text/plain": [
       "'\\nhello python\\n'"
      ]
     },
     "execution_count": 4,
     "metadata": {},
     "output_type": "execute_result"
    }
   ],
   "source": [
    "# 문자열생성과 사용\n",
    "# 작은 따옴표와 큰 따옴표를 사용 \n",
    "# 작은 / 큰 따옴표를 연속 3개을 사용\n",
    "\"\"\"\n",
    "hello python\n",
    "\"\"\"\n",
    "# print 함수 사용 안하면 out 으로 표시"
   ]
  },
  {
   "cell_type": "code",
   "execution_count": null,
   "metadata": {},
   "outputs": [],
   "source": [
    "#문자열에 작은 / 큰 따옴표를 포함\n",
    "a = \"python's python\"\n",
    "b = \"python\\\"s python\"\n",
    "print(a,b)"
   ]
  },
  {
   "cell_type": "code",
   "execution_count": null,
   "metadata": {},
   "outputs": [],
   "source": [
    "# 문자열 연산하기\n",
    "# python에서 문자열을 연산할 때 자료형이 틀리면 에러발생\n",
    "# 1) 문자열 연결하기\n",
    "a = '1'+'a'\n",
    "print(a)\n",
    "# b = 1+'a' # 자료형 틀려서 error\n",
    "head = 'Python'\n",
    "tail = 'is fun!!'\n",
    "print(head+tail)\n",
    "\n",
    "# 2) 문자열 곱하기\n",
    "print(head*10) # 10번 출력\n",
    "print(\"=\"*50)  # 50번 출력"
   ]
  },
  {
   "cell_type": "code",
   "execution_count": 57,
   "metadata": {},
   "outputs": [
    {
     "name": "stdout",
     "output_type": "stream",
     "text": [
      "안녕하세욥\n",
      "안\n",
      "1111안녕하세욥\n",
      "욥\n",
      "안\n"
     ]
    }
   ],
   "source": [
    "# 3)문자열의 인덱싱과 슬라이싱\n",
    "# 인덱싱이라는 것은 문자열의 특정위치의 문자를 가르키는 것이고\n",
    "# 슬라이싱이라는 것은 문자열을 자르는 것이다.\n",
    "\n",
    "# 문자열인덱싱이란?\n",
    "# 인덱스가 양수는 처음부터 시작되고 음수는 끝에서 시작된다. \n",
    "a = \"안녕하세욥\"\n",
    "print(a)\n",
    "print(a[0])\n",
    "print(\"1111\"+a[0:len(a)])\n",
    "# print(a[8]) # 인덱싱 error 범위를 벗어나서\n",
    "print(a[-1])\n",
    "print(a[-5]) "
   ]
  },
  {
   "cell_type": "code",
   "execution_count": null,
   "metadata": {},
   "outputs": [],
   "source": [
    "# 문자열슬라이싱이란?\n",
    "# 문자열에서 특정문자열을 잘라내는 것을 의미한다. 즉, 문자를 추출하는 행위\n",
    "a = \"20191221 python\"\n",
    "print(a[0]+a[1]+a[3]) # 인덱싱\n",
    "\n",
    "#문자열[start,end-1]\n",
    "print(a[0:a.find(' ')])\n",
    "\n",
    "#len(문자열) : 문자열의 길이 확인하는 함수\n",
    "print(len(a))\n",
    "print(a[:len(a)])\n",
    "\n",
    "# python만 출력\n",
    "print(a[a.find('p'):len()])"
   ]
  },
  {
   "cell_type": "code",
   "execution_count": 50,
   "metadata": {},
   "outputs": [
    {
     "name": "stdout",
     "output_type": "stream",
     "text": [
      "20191221\n",
      "파이썬\n",
      "2019\n",
      "12\n",
      "21\n"
     ]
    }
   ],
   "source": [
    "#실습 \n",
    "a = \"20191221파이썬\"\n",
    "\n",
    "date = a[:a.find('파')]\n",
    "print(date)\n",
    "p = a[a.find('파'):len(a)]\n",
    "print(p)\n",
    "\n",
    "year = a[:4]\n",
    "print(year)\n",
    "month = a[4:6]\n",
    "print(month)\n",
    "day = a[6:8]\n",
    "print(day)"
   ]
  },
  {
   "cell_type": "markdown",
   "metadata": {},
   "source": [
    "### 3. 문자열 관련 함수"
   ]
  },
  {
   "cell_type": "code",
   "execution_count": 8,
   "metadata": {},
   "outputs": [
    {
     "name": "stdout",
     "output_type": "stream",
     "text": [
      "1\n"
     ]
    }
   ],
   "source": []
  },
  {
   "cell_type": "code",
   "execution_count": null,
   "metadata": {},
   "outputs": [],
   "source": []
  }
 ],
 "metadata": {
  "kernelspec": {
   "display_name": "Python 3",
   "language": "python",
   "name": "python3"
  },
  "language_info": {
   "codemirror_mode": {
    "name": "ipython",
    "version": 3
   },
   "file_extension": ".py",
   "mimetype": "text/x-python",
   "name": "python",
   "nbconvert_exporter": "python",
   "pygments_lexer": "ipython3",
   "version": "3.7.4"
  }
 },
 "nbformat": 4,
 "nbformat_minor": 2
}
