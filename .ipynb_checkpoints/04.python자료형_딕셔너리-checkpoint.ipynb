{
 "cells": [
  {
   "cell_type": "markdown",
   "metadata": {},
   "source": [
    "#### 딕셔너리(Dictionary) 자료형\n",
    "\n",
    "python 에서의 딕셔너리 자료형이란 키와 값으로 대응관계를 나타낼 수 있는 자료형을 말한다. \n",
    "자바에서의 맵(Map)과 유사한 자료형으로서 이러한 대응관계를 나타내는 것이 연관배열(Associative array) 또는 해시(Hash)라고 한다. \n",
    "\n",
    "python에서는 이러한 자료형을 딕셔너리라고 하는데 key와 value를 한쌍으로 갖는 자료형을 말한다. \n",
    "딕셔너리는 리스트나 튜플처럼 순차적(sequential)으로 해당 요소의 값을 처리하지 않고 key를 통해서 값을 처리한다. 딕셔너리자료형은 중괄호{}로 둘러쌓고 아래와 같이 정의한다. \n",
    "\n",
    ">{key1:value1....keys:values}"
   ]
  },
  {
   "cell_type": "markdown",
   "metadata": {},
   "source": [
    "### 1. 딕셔너리."
   ]
  },
  {
   "cell_type": "code",
   "execution_count": 1,
   "metadata": {},
   "outputs": [
    {
     "name": "stdout",
     "output_type": "stream",
     "text": [
      "<class 'dict'>\n"
     ]
    }
   ],
   "source": [
    "# 기본형태 \n",
    "d1 = {}\n",
    "print(type(d1))\n",
    "# d1?"
   ]
  },
  {
   "cell_type": "code",
   "execution_count": 2,
   "metadata": {},
   "outputs": [
    {
     "name": "stdout",
     "output_type": "stream",
     "text": [
      "ham\n"
     ]
    }
   ],
   "source": [
    "d1 = {'name':'ham','age': 28} # key는 보통 문자열\n",
    "print(d1['name'])"
   ]
  },
  {
   "cell_type": "markdown",
   "metadata": {},
   "source": [
    "### 2. 딕셔너리  추가, 삭제, 수정."
   ]
  },
  {
   "cell_type": "code",
   "execution_count": 12,
   "metadata": {},
   "outputs": [
    {
     "name": "stdout",
     "output_type": "stream",
     "text": [
      "{1: 'a', 2: 'b', 999: 'x'}\n",
      "{1: 'a', 2: 'b', 999: 'x', 'name': '홍길동'}\n",
      "{1: 'a', 2: 'b', 999: 'x', 'name': '함혜진', 'address': ['서울', '종로구', '더조은'], 'ssn': ('123456-425662',)}\n"
     ]
    }
   ],
   "source": [
    "# 1. 추가하기\n",
    "a  = {1:'a'}\n",
    "a[2] = 'b' # 키가 숫자일 경우 지정된 숫자에 해당하는 것이 키가 된다.\n",
    "a[999] = 'x'\n",
    "print(a)\n",
    "\n",
    "a['name'] = '홍길동'\n",
    "print(a)\n",
    "a['name'] = '함혜진'\n",
    "a['address'] = ['서울','종로구','더조은']\n",
    "a['ssn'] = ('123456-425662',)\n",
    "print(a)"
   ]
  },
  {
   "cell_type": "code",
   "execution_count": 13,
   "metadata": {},
   "outputs": [
    {
     "name": "stdout",
     "output_type": "stream",
     "text": [
      "{1: 'a', 2: 'b', 999: 'x', 'name': '함혜진', 'address': ['서울', '종로구', '더조은']}\n"
     ]
    }
   ],
   "source": [
    "# 2. 삭제하기\n",
    "del a['ssn']\n",
    "# del a[333] # key값 없으면 error\n",
    "print(a)"
   ]
  },
  {
   "cell_type": "code",
   "execution_count": 15,
   "metadata": {},
   "outputs": [
    {
     "name": "stdout",
     "output_type": "stream",
     "text": [
      "{1: '33', 2: 'b', 999: 'x', 'name': '함혜진', 'address': ['서울', '종로구', '더조은']}\n"
     ]
    }
   ],
   "source": [
    "# 3. 수정하기\n",
    "a[1] = '33'\n",
    "print(a)"
   ]
  },
  {
   "cell_type": "markdown",
   "metadata": {},
   "source": [
    "### 3. 딕셔너리 사용법."
   ]
  },
  {
   "cell_type": "code",
   "execution_count": null,
   "metadata": {},
   "outputs": [],
   "source": [
    "# 딕셔너리에 접근하기 : key를 이용해서 값을 가져오기\n",
    "grade = {'홍길':90 , '손흥':20, '메시':80, '손흥':50}\n",
    "print(grade) # 딕셔너리 중 중복된 값의 나중에 값 가져옴\n",
    "# 딕셔너리는 중복키값을 허용하지 않는다. \n",
    "\n",
    "# key값으로 접근하기\n",
    "print('손흥민 점수는 ' , grade['손흥'] , '입니다.')\n",
    "print('메시의 점수는 ',grade['메시'],'입니다.')\n",
    "\n",
    "# print(grade['소향']) # key 값이 없을 경우 에러가 발생."
   ]
  },
  {
   "cell_type": "markdown",
   "metadata": {},
   "source": [
    "리스트나 튜플, 문자열은 요소값을 구할 경우에 인덱싱이나 슬라이싱을 이용해서 값을 구했지만 디셔너리는 KEY를 이용해서 값을 구하는 방법 밖에 없다. \n",
    "\n",
    "딕셔너리를 만들 때 주의사항\n",
    "* KEY는 고유한 값이어야 하지만 중복은 허용하지 않는다. 하지만 KEY로 값을 구할 경우에 맨 뒤에 위치한 값만 가져올 수 있다. \n",
    "* KEY에는 리스트를 사용할 수 없다. 하지만 튜플은 사용가능하다."
   ]
  },
  {
   "cell_type": "code",
   "execution_count": 24,
   "metadata": {},
   "outputs": [
    {
     "name": "stdout",
     "output_type": "stream",
     "text": [
      "안녕하세요!\n"
     ]
    }
   ],
   "source": [
    "# a = {[1,2]:'안녕하세요!'} # type error  키에 리스트자료형은 사용불가\n",
    "a = {(1,2):'안녕하세요!'}\n",
    "print(a[(1,2)]) "
   ]
  },
  {
   "cell_type": "markdown",
   "metadata": {},
   "source": [
    "### 4. 딕셔너리 관련 함수.\n",
    "\n",
    "* keys() : key들의 목록을 리턴\n",
    "* values() : 값들의 목록을 리턴\n",
    "* items() : key 와 value를 동시에 반환\n",
    "* clear() : key 와 value를 지루기\n",
    "* get() : key로 value 가져오기\n",
    "* in(), not in() : 해당 키 유무 리턴"
   ]
  },
  {
   "cell_type": "code",
   "execution_count": 28,
   "metadata": {},
   "outputs": [
    {
     "name": "stdout",
     "output_type": "stream",
     "text": [
      "dict_keys(['소향', '손흥', '홍길'])\n"
     ]
    }
   ],
   "source": [
    "#  key()\n",
    "a = {'소향':90,'손흥':72,'홍길':82}\n",
    "print(a.keys())\n",
    "\n",
    "# keys()라는 함수(정확하게는 메서드)는 key만 모아서 dict_key라는 객체를 반환\n",
    "# dict_keys라는 객체는 리스트를 사용하는 것과 유사하게 사용할 수 없지만 \n",
    "# 리스트의 고유함수인 append(),insert(), pop(), sort()등의 함수를 사용할 수 없다. "
   ]
  },
  {
   "cell_type": "code",
   "execution_count": 29,
   "metadata": {},
   "outputs": [
    {
     "name": "stdout",
     "output_type": "stream",
     "text": [
      "dict_values([90, 72, 82])\n"
     ]
    }
   ],
   "source": [
    "# value()\n",
    "print(a.values())"
   ]
  },
  {
   "cell_type": "code",
   "execution_count": 30,
   "metadata": {},
   "outputs": [
    {
     "name": "stdout",
     "output_type": "stream",
     "text": [
      "dict_items([('소향', 90), ('손흥', 72), ('홍길', 82)])\n"
     ]
    }
   ],
   "source": [
    "# item()\n",
    "print(a.items())"
   ]
  },
  {
   "cell_type": "code",
   "execution_count": 31,
   "metadata": {},
   "outputs": [
    {
     "name": "stdout",
     "output_type": "stream",
     "text": [
      "{}\n"
     ]
    }
   ],
   "source": [
    "# clear()\n",
    "a.clear()\n",
    "print(a)"
   ]
  },
  {
   "cell_type": "code",
   "execution_count": 35,
   "metadata": {},
   "outputs": [
    {
     "name": "stdout",
     "output_type": "stream",
     "text": [
      "90\n",
      "키값을 찾지 못했습니다\n"
     ]
    }
   ],
   "source": [
    "# get(key)\n",
    "# get(key)라는 함수는 key라는 key와 대응되느느 value를 리턴한다.\n",
    "# a['key'[와 a.get(key)은 값을 가져온다는 점에서는 동일하지만,  \n",
    "# a[key]는 키가 없을 경우에는  exception 에러를 발생하지만, \n",
    "# get함수는 키가 없을 경우에 None이라는 값을 리턴한다.\n",
    "a = {'소향':90,'손흥':72,'홍길':82}\n",
    "print(a.get('소향'))\n",
    "# 딕셔너리에 찾는 값이 없을 경우에는 기본값을 설정해 두면 편리하다.\n",
    "# a.get? 확인하고 get(key,기본값) 형태로 사용한다.\n",
    "print(a.get('ㅌㅌㅌ','키값을 찾지 못했습니다')) #없을 시 none 리턴 \n"
   ]
  },
  {
   "cell_type": "code",
   "execution_count": 37,
   "metadata": {},
   "outputs": [
    {
     "name": "stdout",
     "output_type": "stream",
     "text": [
      "True\n",
      "False\n"
     ]
    }
   ],
   "source": [
    "# in(), not in()\n",
    "# 값이 있을 경우에는 True, 없을 경우에는 False를 리턴\n",
    "print('소향' in a)\n",
    "print('소향' not in a)"
   ]
  },
  {
   "cell_type": "code",
   "execution_count": 40,
   "metadata": {},
   "outputs": [],
   "source": [
    "# dir() 함수는 특정객체를 인자(매개변수)로 넣어주면 해당 객체가 어떤 변수와 어떤 메스드를 가지고 있는 지 보여준다.\n",
    "# dir(a)\n",
    "# 특정객체의 도움말보기\n",
    "# help(a)"
   ]
  },
  {
   "cell_type": "markdown",
   "metadata": {},
   "source": [
    "### 연습문제"
   ]
  },
  {
   "cell_type": "code",
   "execution_count": 43,
   "metadata": {},
   "outputs": [
    {
     "name": "stdout",
     "output_type": "stream",
     "text": [
      "88\n",
      "{'A': 98, 'C': 78}\n"
     ]
    }
   ],
   "source": [
    "# 1. 딕셔너리에서 B에 해당되는 값을 추출하고 삭제하시오. (함수 사용)\n",
    "a = {'A':98,'B':88,'C':78}\n",
    "print(a.pop('B'))\n",
    "print(a)"
   ]
  },
  {
   "cell_type": "code",
   "execution_count": 63,
   "metadata": {},
   "outputs": [
    {
     "name": "stdout",
     "output_type": "stream",
     "text": [
      "98\n",
      "78\n"
     ]
    }
   ],
   "source": [
    "# 2. 딕셔너리 a 의 값중에서 최소값과 최대값을 출력하세요. \n",
    "a = {'A':98,'B':88,'C':78}\n",
    "print(max(a.values()))\n",
    "print(min(a.values()))"
   ]
  },
  {
   "cell_type": "code",
   "execution_count": 3,
   "metadata": {},
   "outputs": [
    {
     "name": "stdout",
     "output_type": "stream",
     "text": [
      "<class 'dict_items'>\n",
      "[('B', 98), ('C', 88), ('A', 78)]\n",
      "dict_values([98, 88, 78])\n",
      "[78, 88, 98]\n",
      "{'B': 98, 'C': 88, 'A': 78}\n",
      "{'B': 98, 'C': 88, 'A': 78}\n"
     ]
    }
   ],
   "source": [
    "# 3. 딕셔너리 a를 리스트로 변환시켜보세요. :list()\n",
    "# {'A':98,'B':80,'C':'70'} 을 이차배열 형태로\n",
    "a = {'B':98,'C':88,'A':78}\n",
    "# list() 함수는 튜플, 딕셔너리자료형을 리스트 자료형으로 변환\n",
    "b = list(a.items())\n",
    "print(type(a.items()))\n",
    "print(b)\n",
    "\n",
    "# sorted() \n",
    "print(a.values())\n",
    "sorted(a.values())\n",
    "print(sorted(a.values()))\n",
    "print(a)\n",
    "sorted(a.keys())\n",
    "print(a)"
   ]
  },
  {
   "cell_type": "code",
   "execution_count": 67,
   "metadata": {},
   "outputs": [],
   "source": [
    "sorted?"
   ]
  }
 ],
 "metadata": {
  "kernelspec": {
   "display_name": "Python 3",
   "language": "python",
   "name": "python3"
  },
  "language_info": {
   "codemirror_mode": {
    "name": "ipython",
    "version": 3
   },
   "file_extension": ".py",
   "mimetype": "text/x-python",
   "name": "python",
   "nbconvert_exporter": "python",
   "pygments_lexer": "ipython3",
   "version": "3.7.4"
  }
 },
 "nbformat": 4,
 "nbformat_minor": 2
}
