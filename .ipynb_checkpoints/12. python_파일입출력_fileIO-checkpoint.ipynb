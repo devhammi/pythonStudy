{
 "cells": [
  {
   "cell_type": "markdown",
   "metadata": {},
   "source": [
    " ### File의 Input/Output\n",
    " \n",
    " 프로그램에서 중요한 처리중 하나인 파일에 대한 입출력의 처리이다. 파일에서 문자열을 읽고 쓰는 방법고 파이썬 객체를 파일에 읽고 쓰기 위해서는 내장된 함수를 이용해서 처리한다.\n",
    " \n",
    " 1. 파일을 생성하기 위해서는 open() 내장함수를 사용한다.\n",
    " 2. 기본문법\n",
    "```python\n",
    "    변수(파일객체) = open(파일이름,열기모드,인코등)\n",
    "```\n",
    "\n",
    "#### 1.열기모드\n",
    "<table>\n",
    "    <tr>\n",
    "        <th>열기모드</th>\n",
    "        <th>설명</th>\n",
    "    </tr>\n",
    "    <tr>\n",
    "        <td>r</td>\n",
    "        <td>읽기모드 , 파일을 읽기만 허용</td>\n",
    "    </tr>\n",
    "    <tr>\n",
    "        <td>w</td>\n",
    "        <td>쓰기모드 , 파일을 쓰기만 허용</td>\n",
    "    </tr>\n",
    "    <tr>\n",
    "        <td>a</td>\n",
    "        <td>추가모드 , 파일의 마지막에 새로운 내용추가</td>\n",
    "    </tr>\n",
    "    <tr>\n",
    "        <td>t</td>\n",
    "        <td>텍스트모드 , 텍스트 파일로 처리(기본값)</td>\n",
    "    </tr>\n",
    "    <tr>\n",
    "        <td>b</td>\n",
    "        <td>이진모드 , 이진(바이너리)파일 처리</td>\n",
    "    </tr>\n",
    "    <tr>\n",
    "        <td>r+</td>\n",
    "        <td>읽기/쓰기모드</td>\n",
    "    </tr>\n",
    "    <tr>\n",
    "        <td>w+</td>\n",
    "        <td>읽기/쓰기모드(기존 파일 삭제)</td>\n",
    "    </tr>\n",
    "    <tr>\n",
    "        <td>a+</td>\n",
    "        <td>읽기/쓰기모드(읽기도 가능)</td>\n",
    "    </tr>\n",
    "    <tr>\n",
    "        <td>rb+</td>\n",
    "        <td>이진파일 읽고 쓰기</td>\n",
    "    </tr>\n",
    "    <tr>\n",
    "        <td>wb+</td>\n",
    "        <td>이진파일로 읽고 쓰기(기존파일 삭제)</td>\n",
    "    </tr>\n",
    "    <tr>\n",
    "        <td>ab+</td>\n",
    "        <td>이진파일 끝에 추가</td>\n",
    "    </tr>\n",
    "</table>\n",
    "\n",
    "* 열기모드는 조합해서 사용할 수 있다 . \n",
    "ex. rb -> 읽기전용모드 이면서 이진모드로 읽기\n",
    "    w or wt -> 텍스트로 쓰기모드\n",
    "\n",
    "* (주의)\n",
    "파일을 쓰기모드로 열게되면 기존파일의 전체내용이 삭제되고 없다면 새로운 파일이 생성된다.\n",
    "\n",
    "<img src=\"./images/12.파일입출력_fileIO_01.png\" width=\"80%\"/>\n",
    "\n",
    "#### 2. 파일닫기\n",
    "\n",
    "1. 파일열기를 했다면 작업이 끝난 후 close()함수를 호출하여 작업프로세스에 할당된 자원을 해제하여야한다. \n",
    "2. close()를 마지막에 호출하지 않으면 오픈된 파일객체가 다른값으로 치환되거나 프로그램이 종료가 될 때 자동으로 close()가 호출된다.\n",
    "3. 하지만 명시적으로 close()를 호출하는 것이 좋다.\n",
    "\n",
    "#### 3. 파일접근방법\n",
    "\n",
    "1. 순차접근(기본방식): 파일을 맨처음부터 끝까지 순차적으로 읽는 방법\n",
    "2. 임의접근 : 파일내에 임의의 위치에서 읽거나 쓰는 방법\n",
    "    <임의접근을 위한 file객체 포인터(pointer)관련 메서드\n",
    "    1) seek(n) :  파일의 가장 첫번째 위치에서 n번째 바이트로 포인터를 이동\n",
    "    2) tell() : 파일내의 현재 포인터위치를 리턴\n",
    "    \n",
    "#### 4. 파일객체의 메서드\n",
    "\n",
    "* open() : 파일열기\n",
    "* close() : 파일닫기\n",
    "* read() : 원하는 바이트(size)수 만큼 파일에서 읽기, size를 지정하지 않으면 전체파일을 읽어온다.\n",
    "* readline() : 한 라인씩 읽기\n",
    "* readlines() : 전체라인을 readline()을 이용하여 읽어온 후에 리스트 자료형으로 리터\n",
    "* write(String) : 문자열(String)을 파일에 쓰기\n",
    "* writeline(list) : 문자열리스트를 파일에 쓰기, 주의할 점은 줄바꾸기가 자동으로 되지 않기 때문에 줄바꾸기를 원할 경우 \"\\n\"을 라인 끝에 추가해야 한다. \n",
    "* seek(offset[,whense]) :  whense의 기본값 0(0=시작기준, 1: 현재위치, 2: 파일끝),offset만큼 떨어진 위치에서 파일의 포인터를 이동한다.\n",
    "* tell() : 파일의 현재위치(포인터)를 리턴\n",
    "* flush() : 버퍼에 내용이 채워지지 않았어도 내부 버퍼전체내용을 파일에 전달\n",
    "* fileno() : 파일객체의 파일기술자(file Descriptor,정수값)을 리턴"
   ]
  },
  {
   "cell_type": "code",
   "execution_count": 9,
   "metadata": {},
   "outputs": [],
   "source": [
    "# 파일열기\n",
    "# 변수명 = open(파일명,열기모드,인코딩)\n",
    "# open?\n",
    "# %pwd\n",
    "file = open('./images/testFile.txt','w')\n",
    "file.close()"
   ]
  },
  {
   "cell_type": "code",
   "execution_count": 11,
   "metadata": {},
   "outputs": [],
   "source": [
    "# 파일을 쓰기모드로 열고 텍스트를 쓰기 write() 메서드\n",
    "file = open('testFile.txt','w')\n",
    "data = \"\"\n",
    "for i in range(1,11):\n",
    "    data += f'UTF-8 : {i}번째 라인입니다......\\n'\n",
    "file.write(data)\n",
    "file.close()\n",
    "# file.write?"
   ]
  },
  {
   "cell_type": "markdown",
   "metadata": {},
   "source": [
    "#### 1. 파일열기"
   ]
  },
  {
   "cell_type": "code",
   "execution_count": 19,
   "metadata": {},
   "outputs": [
    {
     "name": "stdout",
     "output_type": "stream",
     "text": [
      "UTF-8 : 1번째 라인입니다......\n",
      "\n",
      "<class '_io.TextIOWrapper'>\n",
      "<class 'str'>\n"
     ]
    }
   ],
   "source": [
    "# 1. 외부에서 저장된 파일읽기(1) :readline()\n",
    "# file.readline?\n",
    "file = open('testFile.txt','r',encoding='euc-kr')\n",
    "line = file.readline()\n",
    "file.close()\n",
    "print(line)\n",
    "print(type(file))\n",
    "print(type(line))"
   ]
  },
  {
   "cell_type": "code",
   "execution_count": 3,
   "metadata": {},
   "outputs": [
    {
     "name": "stdout",
     "output_type": "stream",
     "text": [
      "Life is too short!!!\n"
     ]
    }
   ],
   "source": [
    "# 2. 외부에서 저장된 파일읽기(2) : read\n",
    "file = open('testFile.txt','r',encoding='euc-kr')\n",
    "\n",
    "while True:\n",
    "    line = file.readline()\n",
    "    if not line: break\n",
    "    print(line)\n",
    "file.close()"
   ]
  },
  {
   "cell_type": "code",
   "execution_count": 4,
   "metadata": {},
   "outputs": [
    {
     "name": "stdout",
     "output_type": "stream",
     "text": [
      "<class 'list'>\n",
      "Life is too short!!!\n"
     ]
    }
   ],
   "source": [
    "# 3. 외부에서 저장된 파일읽기(3)\n",
    "file = open('testFile.txt','r',encoding='utf-8')\n",
    "lines = file.readlines()\n",
    "file.close()\n",
    "#print(lines)\n",
    "print(type(lines))\n",
    "\n",
    "for line in lines:\n",
    "    print(line)"
   ]
  },
  {
   "cell_type": "code",
   "execution_count": 24,
   "metadata": {},
   "outputs": [
    {
     "name": "stdout",
     "output_type": "stream",
     "text": [
      "UTF-8 : 1번째 라인입니다......\n",
      "UTF-8 : 2번째 라인입니다......\n",
      "UTF-8 : 3번째 라인입니다......\n",
      "UTF-8 : 4번째 라인입니다......\n",
      "UTF-8 : 5번째 라인입니다......\n",
      "UTF-8 : 6번째 라인입니다......\n",
      "UTF-8 : 7번째 라인입니다......\n",
      "UTF-8 : 8번째 라인입니다......\n",
      "UTF-8 : 9번째 라인입니다......\n",
      "UTF-8 : 10번째 라인입니다......\n",
      "\n",
      "<class 'str'>\n"
     ]
    }
   ],
   "source": [
    "# 4. 외부에서 저장된 파일읽기(4) : read()\n",
    "file = open('testFile.txt','r',encoding='euc-kr')\n",
    "data = file.read() # read()함수는 파일 내용 전체를 문자열로 리턴하는 함수\n",
    "file.close()\n",
    "print(data)\n",
    "print(type(data))"
   ]
  },
  {
   "cell_type": "markdown",
   "metadata": {},
   "source": [
    "#### 파일쓰기 "
   ]
  },
  {
   "cell_type": "code",
   "execution_count": 26,
   "metadata": {},
   "outputs": [],
   "source": [
    "# 파일에 새로운 내용 추가(a 모드)\n",
    "file =  open('testFile.txt','a',encoding='euc-kr')\n",
    "for i in range(11,21):\n",
    "    data = f'{i}번째 라인입니다\\n'\n",
    "    file.write(data)\n",
    "file.close()"
   ]
  },
  {
   "cell_type": "code",
   "execution_count": null,
   "metadata": {},
   "outputs": [],
   "source": [
    "# 오픈된 파일을 자동으로 close 하기 : with문 같이쓰기\n",
    "# with문은 python 2.5 부터 지원\n",
    "# 파일을 오픈하면 항상 close 해주는 것이 좋다.\n",
    "# 하지만 매번 열고 닫는 것을 자동으로 처리할 수 있는데 파이썬의 with문이 이런 역할을 한다.\n",
    "filename =  'testFile.txt'\n",
    "with open(filename,'w') as f:\n",
    "    f.write('\\n hello python \\n')"
   ]
  },
  {
   "cell_type": "markdown",
   "metadata": {},
   "source": [
    "#### 3. 파일객체 관련함수"
   ]
  },
  {
   "cell_type": "code",
   "execution_count": 5,
   "metadata": {},
   "outputs": [
    {
     "name": "stdout",
     "output_type": "stream",
     "text": [
      "Life is too short!!!\n",
      "20\n",
      "is too short!!!\n"
     ]
    }
   ],
   "source": [
    "# seek(), tell()함수 사용하기\n",
    "# seek() : 임의접근\n",
    "# f.seek(n) or f.seek(n,0) : 파일의 맨처음 위치에서 n번째 바이트로 이동\n",
    "# f.seek(n,1) \n",
    "# f.seek(n,2)  \n",
    "# f.tell() \n",
    "\n",
    "file = open('testFile.txt','r',encoding='euc-kr')\n",
    "for line in file : \n",
    "    print(line)\n",
    "print(file.tell()) # 파일의 현재 포인터 위치를 리턴\n",
    "\n",
    "file .seek(5,0)\n",
    "line = file.readline()\n",
    "print(line)\n",
    "file.close()"
   ]
  },
  {
   "cell_type": "code",
   "execution_count": 12,
   "metadata": {},
   "outputs": [
    {
     "name": "stdout",
     "output_type": "stream",
     "text": [
      "<class '_io.TextIOWrapper'>\n",
      "<class 'list'>\n",
      "['Life is too short!!!']\n"
     ]
    }
   ],
   "source": [
    "# 파일의 내용을 리스트로 저장하기\n",
    "file = open('testFile.txt','r',encoding='utf-8')\n",
    "print(type(file))\n",
    "f_list = list(file)\n",
    "print(type(f_list))\n",
    "print(f_list)\n",
    "file.close()"
   ]
  },
  {
   "cell_type": "code",
   "execution_count": 16,
   "metadata": {},
   "outputs": [
    {
     "name": "stdout",
     "output_type": "stream",
     "text": [
      "csv 파일 추가완료\n"
     ]
    }
   ],
   "source": [
    "# csv파일 형식으로 저장하기\n",
    "# import sys\n",
    "\n",
    "# 실행할 때마다 텍스트파일에 내용을 추가\n",
    "nums = [0,1,2,3,4,5,6,7,8,9]\n",
    "count = len(nums)\n",
    "\n",
    "outFile = 'result.csv'\n",
    "f = open(outFile,'a')\n",
    "for i in range(count):\n",
    "    if i<(count-1):\n",
    "        f.write(str(nums[i])+',')\n",
    "    else:\n",
    "        f.write(str(nums[i])+'\\n')\n",
    "f.close()\n",
    "print('csv 파일 추가완료')"
   ]
  },
  {
   "cell_type": "markdown",
   "metadata": {},
   "source": [
    "#### 4. 파이썬객체를 파일에 저장하기, 가져오기\n",
    "\n",
    "##### pickle 모듈\n",
    "* 일반 텍스트를 파일로 저장할 때는 파일로 저장한다.\n",
    "* 하지만, 리스트나 클래스 같은 텍스트가 아닌 자료형은 일반적으로 파일 입출력 방법으로는 데이터를 저장하거나 불러 올 수 없다.\n",
    "* python에서는 텍스트 이외의 자료형을 파일로 저장하기 위해서 pickle이라는 모듈을 제공한다.\n",
    "* pickle을 활용하여 데이터 입력 및 로드하기 위해서는 import pickle명령으로 모듈 임포트가 필요하다.\n",
    "* pickle을 이용하면 원하는 데이터를 자료형의 변경없이 파일로 저장하여 그대로 로드할 수 았다.\n",
    "* pickle로 데이처를 저장하거나 불러올 때는 파일을 바이트 형식으로 읽거나 써야한다. 즉 wb 또는 rb모드로 파일을 오픈해야한다.\n",
    "* wb로 데이터를 입력하는 경우에는 확장자를 관례적으로 .bin 확장자를 사용한다. \n",
    "* 모든 파이썬 데이터 객체를 저장하고 읽어 올 수 있다.\n",
    "\n",
    "##### pickle 모듈 사용하기\n",
    "1. 쓰기 : pickle.dump(data,file)\n",
    "2. 읽기 : pickle.load(file), load()함수로 파일내용을 읽어오려면 pickle.dump() 함수를 사용해서 생성된 파일이어야만 한다."
   ]
  },
  {
   "cell_type": "code",
   "execution_count": 20,
   "metadata": {},
   "outputs": [
    {
     "name": "stdout",
     "output_type": "stream",
     "text": [
      "b'\\x01\\x02\\x03\\x04\\x05\\x06'\n",
      "<class 'bytes'>\n",
      "1\n",
      "2\n",
      "3\n",
      "4\n",
      "5\n",
      "6\n"
     ]
    }
   ],
   "source": [
    "# 바이너리파일 쓰기\n",
    "data = [1,2,3,4,5,6]\n",
    "with open('./data/test.bin','wb') as f :\n",
    "    f.write(bytes(data)) # bytes() 함수는 특정자료형을 이진데이터로 변환. \n",
    "    \n",
    "# 바이너리파일 읽기\n",
    "with open('./data/test.bin','rb') as f :\n",
    "    contents = f.read() # 파일전체읽기\n",
    "    print(contents)\n",
    "    print(type(contents))\n",
    "    for cocntent in contents:\n",
    "        print(cocntent)"
   ]
  },
  {
   "cell_type": "code",
   "execution_count": 27,
   "metadata": {},
   "outputs": [],
   "source": [
    "# 파일객체를 저장하기 해서 pickle모듈 import하기\n",
    "import pickle\n",
    "\n",
    "with open('./data/pickle.bin','wb') as f :\n",
    "    pickle.dump('hello world',f) # String객체 덤프\n",
    "    pickle.dump(1234,f)          # int(정수)객체 덤프\n",
    "    pickle.dump(3.141592,f)      # float(실수)객체 덤프\n",
    "    pickle.dump([1,2,3,['x','y']],f) # list 덤프\n",
    "    pickle.dump({'1':'first','2':'second','3':'third'},f) # dict 덤프"
   ]
  },
  {
   "cell_type": "code",
   "execution_count": 29,
   "metadata": {},
   "outputs": [
    {
     "name": "stdout",
     "output_type": "stream",
     "text": [
      "<class 'str'>\n",
      "hello world\n",
      "<class 'int'>\n",
      "1234\n"
     ]
    }
   ],
   "source": [
    "with open('./data/pickle.bin','rb') as f :\n",
    "    data = pickle.load(f)\n",
    "    print(type(data))\n",
    "    print(data)\n",
    "    data = pickle.load(f)\n",
    "    print(type(data))\n",
    "    print(data)"
   ]
  },
  {
   "cell_type": "code",
   "execution_count": 32,
   "metadata": {},
   "outputs": [],
   "source": [
    "import pickle as p\n",
    "\n",
    "name = '함혜'\n",
    "age = 29\n",
    "addr = '서울'\n",
    "scoures={'kor':90,'eng':95,'mat':85,'sci':97}\n",
    "\n",
    "def add(a,b):\n",
    "    return a+b\n",
    "\n",
    "with open('./data/pickle.bin','wb') as f :\n",
    "    p.dump(name,f)\n",
    "    p.dump(age,f)\n",
    "    p.dump(addr,f)\n",
    "    p.dump(scoures,f)\n",
    "    p.dump(add(3,4),f)"
   ]
  },
  {
   "cell_type": "code",
   "execution_count": 33,
   "metadata": {},
   "outputs": [
    {
     "name": "stdout",
     "output_type": "stream",
     "text": [
      "함혜\n",
      "29\n",
      "서울\n",
      "{'kor': 90, 'eng': 95, 'mat': 85, 'sci': 97}\n",
      "7\n"
     ]
    }
   ],
   "source": [
    "with open('./data/pickle.bin','rb') as f :\n",
    "    name = p.load(f)\n",
    "    age = p.load(f)\n",
    "    addr = p.load(f)\n",
    "    scoures = p.load(f)\n",
    "    add = p.load(f)\n",
    "    \n",
    "    print(name)\n",
    "    print(age)\n",
    "    print(addr)\n",
    "    print(scoures)\n",
    "    print(add)\n",
    "        "
   ]
  }
 ],
 "metadata": {
  "kernelspec": {
   "display_name": "Python 3",
   "language": "python",
   "name": "python3"
  },
  "language_info": {
   "codemirror_mode": {
    "name": "ipython",
    "version": 3
   },
   "file_extension": ".py",
   "mimetype": "text/x-python",
   "name": "python",
   "nbconvert_exporter": "python",
   "pygments_lexer": "ipython3",
   "version": "3.7.4"
  }
 },
 "nbformat": 4,
 "nbformat_minor": 2
}
