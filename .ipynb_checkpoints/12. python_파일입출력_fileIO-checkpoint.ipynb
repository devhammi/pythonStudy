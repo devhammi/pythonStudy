{
 "cells": [
  {
   "cell_type": "markdown",
   "metadata": {},
   "source": [
    " ### File의 Input/Output\n",
    " \n",
    " 프로그램에서 중요한 처리중 하나인 파일에 대한 입출력의 처리이다. 파일에서 문자열을 읽고 쓰는 방법고 파이썬 객체를 파일에 읽고 쓰기 위해서는 내장된 함수를 이용해서 처리한다.\n",
    " \n",
    " 1. 파일을 생성하기 위해서는 open() 내장함수를 사용한다.\n",
    " 2. 기본문법\n",
    "```python\n",
    "    변수(파일객체) = open(파일이름,열기모드,인코등)\n",
    "```\n",
    "\n",
    "#### 1.열기모드\n",
    "<table>\n",
    "    <tr>\n",
    "        <th>열기모드</th>\n",
    "        <th>설명</th>\n",
    "    </tr>\n",
    "    <tr>\n",
    "        <td>r</td>\n",
    "        <td>읽기모드 , 파일을 읽기만 허용</td>\n",
    "    </tr>\n",
    "    <tr>\n",
    "        <td>w</td>\n",
    "        <td>쓰기모드 , 파일을 쓰기만 허용</td>\n",
    "    </tr>\n",
    "    <tr>\n",
    "        <td>a</td>\n",
    "        <td>추가모드 , 파일의 마지막에 새로운 내용추가</td>\n",
    "    </tr>\n",
    "    <tr>\n",
    "        <td>t</td>\n",
    "        <td>텍스트모드 , 텍스트 파일로 처리(기본값)</td>\n",
    "    </tr>\n",
    "    <tr>\n",
    "        <td>b</td>\n",
    "        <td>이진모드 , 이진(바이너리)파일 처리</td>\n",
    "    </tr>\n",
    "    <tr>\n",
    "        <td>r+</td>\n",
    "        <td>읽기/쓰기모드</td>\n",
    "    </tr>\n",
    "    <tr>\n",
    "        <td>w+</td>\n",
    "        <td>읽기/쓰기모드(기존 파일 삭제)</td>\n",
    "    </tr>\n",
    "    <tr>\n",
    "        <td>a+</td>\n",
    "        <td>읽기/쓰기모드(읽기도 가능)</td>\n",
    "    </tr>\n",
    "    <tr>\n",
    "        <td>rb+</td>\n",
    "        <td>이진파일 읽고 쓰기</td>\n",
    "    </tr>\n",
    "    <tr>\n",
    "        <td>wb+</td>\n",
    "        <td>이진파일로 읽고 쓰기(기존파일 삭제)</td>\n",
    "    </tr>\n",
    "    <tr>\n",
    "        <td>ab+</td>\n",
    "        <td>이진파일 끝에 추가</td>\n",
    "    </tr>\n",
    "</table>\n",
    "\n",
    "* 열기모드는 조합해서 사용할 수 있다 . \n",
    "ex. rb -> 읽기전용모드 이면서 이진모드로 읽기\n",
    "    w or wt -> 텍스트로 쓰기모드\n",
    "\n",
    "* (주의)\n",
    "파일을 쓰기모드로 열게되면 기존파일의 전체내용이 삭제되고 없다면 새로운 파일이 생성된다.\n",
    "\n",
    "<img src=\"./images/12.파일입출력_fileIO_01.png\" width=\"80%\"/>\n",
    "\n",
    "#### 2. 파일닫기\n",
    "\n",
    "1. 파일열기를 했다면 작업이 끝난 후 close()함수를 호출하여 작업프로세스에 할당된 자원을 해제하여야한다. \n",
    "2. close()를 마지막에 호출하지 않으면 오픈된 파일객체가 다른값으로 치환되거나 프로그램이 종료가 될 때 자동으로 close()가 호출된다.\n",
    "3. 하지만 명시적으로 close()를 호출하는 것이 좋다.\n",
    "\n",
    "#### 3. 파일접근방법\n",
    "\n",
    "1. 순차접근(기본방식): 파일을 맨처음부터 끝까지 순차적으로 읽는 방법\n",
    "2. 임의접근 : 파일내에 임의의 위치에서 읽거나 쓰는 방법\n",
    "    <임의접근을 위한 file객체 포인터(pointer)관련 메서드\n",
    "    1) seek(n) :  파일의 가장 첫번째 위치에서 n번째 바이트로 포인터를 이동\n",
    "    2) tell() : 파일내의 현재 포인터위치를 리턴\n",
    "    \n",
    "#### 4. 파일객체의 메서드\n",
    "\n",
    "* open() : 파일열기\n",
    "* close() : 파일닫기\n",
    "* read() : 원하는 바이트(size)수 만큼 파일에서 읽기, size를 지정하지 않으면 전체파일을 읽어온다.\n",
    "* readline() : 한 라인씩 읽기\n",
    "* readlines() : 전체라인을 readline()을 이용하여 읽어온 후에 리스트 자료형으로 리터\n",
    "* write(String) : 문자열(String)을 파일에 쓰기\n",
    "* writeline(list) : 문자열리스트를 파일에 쓰기, 주의할 점은 줄바꾸기가 자동으로 되지 않기 때문에 줄바꾸기를 원할 경우 \"\\n\"을 라인 끝에 추가해야 한다. \n",
    "* seek(offset[,whense]) :  whense의 기본값 0(0=시작기준, 1: 현재위치, 2: 파일끝),offset만큼 떨어진 위치에서 파일의 포인터를 이동한다.\n",
    "* tell() : 파일의 현재위치(포인터)를 리턴\n",
    "* flush() : 버퍼에 내용이 채워지지 않았어도 내부 버퍼전체내용을 파일에 전달\n",
    "* fileno() : 파일객체의 파일기술자(file Descriptor,정수값)을 리턴"
   ]
  },
  {
   "cell_type": "code",
   "execution_count": 9,
   "metadata": {},
   "outputs": [],
   "source": [
    "# 파일열기\n",
    "# 변수명 = open(파일명,열기모드,인코딩)\n",
    "# open?\n",
    "# %pwd\n",
    "file = open('./images/testFile.txt','w')\n",
    "file.close()"
   ]
  },
  {
   "cell_type": "code",
   "execution_count": 11,
   "metadata": {},
   "outputs": [],
   "source": [
    "# 파일을 쓰기모드로 열고 텍스트를 쓰기 write() 메서드\n",
    "file = open('testFile.txt','w')\n",
    "data = \"\"\n",
    "for i in range(1,11):\n",
    "    data += f'UTF-8 : {i}번째 라인입니다......\\n'\n",
    "file.write(data)\n",
    "file.close()\n",
    "# file.write?"
   ]
  },
  {
   "cell_type": "markdown",
   "metadata": {},
   "source": [
    "#### 1. 파일열기"
   ]
  },
  {
   "cell_type": "code",
   "execution_count": 19,
   "metadata": {},
   "outputs": [
    {
     "name": "stdout",
     "output_type": "stream",
     "text": [
      "UTF-8 : 1번째 라인입니다......\n",
      "\n",
      "<class '_io.TextIOWrapper'>\n",
      "<class 'str'>\n"
     ]
    }
   ],
   "source": [
    "# 1. 외부에서 저장된 파일읽기(1) :readline()\n",
    "# file.readline?\n",
    "file = open('testFile.txt','r',encoding='euc-kr')\n",
    "line = file.readline()\n",
    "file.close()\n",
    "print(line)\n",
    "print(type(file))\n",
    "print(type(line))"
   ]
  },
  {
   "cell_type": "code",
   "execution_count": 22,
   "metadata": {},
   "outputs": [
    {
     "ename": "KeyboardInterrupt",
     "evalue": "",
     "output_type": "error",
     "traceback": [
      "\u001b[1;31m---------------------------------------------------------------------------\u001b[0m",
      "\u001b[1;31mKeyboardInterrupt\u001b[0m                         Traceback (most recent call last)",
      "\u001b[1;32m<ipython-input-22-65230331a949>\u001b[0m in \u001b[0;36m<module>\u001b[1;34m\u001b[0m\n\u001b[0;32m      4\u001b[0m \u001b[1;32mwhile\u001b[0m \u001b[1;32mTrue\u001b[0m\u001b[1;33m:\u001b[0m\u001b[1;33m\u001b[0m\u001b[1;33m\u001b[0m\u001b[0m\n\u001b[0;32m      5\u001b[0m     \u001b[0mline\u001b[0m \u001b[1;33m+=\u001b[0m \u001b[0mfile\u001b[0m\u001b[1;33m.\u001b[0m\u001b[0mreadline\u001b[0m\u001b[1;33m(\u001b[0m\u001b[1;33m)\u001b[0m\u001b[1;33m\u001b[0m\u001b[1;33m\u001b[0m\u001b[0m\n\u001b[1;32m----> 6\u001b[1;33m     \u001b[1;32mif\u001b[0m\u001b[1;33m(\u001b[0m\u001b[0mfile\u001b[0m\u001b[1;33m.\u001b[0m\u001b[0mreadline\u001b[0m\u001b[1;33m(\u001b[0m\u001b[1;33m)\u001b[0m\u001b[1;33m==\u001b[0m \u001b[1;33m-\u001b[0m\u001b[1;36m1\u001b[0m\u001b[1;33m)\u001b[0m\u001b[1;33m:\u001b[0m \u001b[1;32mbreak\u001b[0m\u001b[1;33m\u001b[0m\u001b[1;33m\u001b[0m\u001b[0m\n\u001b[0m\u001b[0;32m      7\u001b[0m \u001b[0mfile\u001b[0m\u001b[1;33m.\u001b[0m\u001b[0mclose\u001b[0m\u001b[1;33m(\u001b[0m\u001b[1;33m)\u001b[0m\u001b[1;33m\u001b[0m\u001b[1;33m\u001b[0m\u001b[0m\n\u001b[0;32m      8\u001b[0m \u001b[0mprint\u001b[0m\u001b[1;33m(\u001b[0m\u001b[0mline\u001b[0m\u001b[1;33m)\u001b[0m\u001b[1;33m\u001b[0m\u001b[1;33m\u001b[0m\u001b[0m\n",
      "\u001b[1;31mKeyboardInterrupt\u001b[0m: "
     ]
    }
   ],
   "source": [
    "# 2. 외부에서 저장된 파일읽기(2) : read\n",
    "file = open('testFile.txt','r',encoding='euc-kr')\n",
    "\n",
    "while True:\n",
    "    line = file.readline()\n",
    "    if not line: break\n",
    "    \n",
    "file.close()\n",
    "print(line)"
   ]
  },
  {
   "cell_type": "code",
   "execution_count": null,
   "metadata": {},
   "outputs": [],
   "source": [
    "# 3. 외부에서 저장된 파일읽기(3)\n"
   ]
  },
  {
   "cell_type": "code",
   "execution_count": 24,
   "metadata": {},
   "outputs": [
    {
     "name": "stdout",
     "output_type": "stream",
     "text": [
      "UTF-8 : 1번째 라인입니다......\n",
      "UTF-8 : 2번째 라인입니다......\n",
      "UTF-8 : 3번째 라인입니다......\n",
      "UTF-8 : 4번째 라인입니다......\n",
      "UTF-8 : 5번째 라인입니다......\n",
      "UTF-8 : 6번째 라인입니다......\n",
      "UTF-8 : 7번째 라인입니다......\n",
      "UTF-8 : 8번째 라인입니다......\n",
      "UTF-8 : 9번째 라인입니다......\n",
      "UTF-8 : 10번째 라인입니다......\n",
      "\n",
      "<class 'str'>\n"
     ]
    }
   ],
   "source": [
    "# 4. 외부에서 저장된 파일읽기(4) : read()\n",
    "file = open('testFile.txt','r',encoding='euc-kr')\n",
    "data = file.read() # read()함수는 파일 내용 전체를 문자열로 리턴하는 함수\n",
    "file.close()\n",
    "print(data)\n",
    "print(type(data))"
   ]
  },
  {
   "cell_type": "markdown",
   "metadata": {},
   "source": [
    "#### 파일쓰기 "
   ]
  },
  {
   "cell_type": "code",
   "execution_count": 26,
   "metadata": {},
   "outputs": [],
   "source": [
    "# 파일에 새로운 내용 추가(a 모드)\n",
    "file =  open('testFile.txt','a',encoding='euc-kr')\n",
    "for i in range(11,21):\n",
    "    data = f'{i}번째 라인입니다\\n'\n",
    "    file.write(data)\n",
    "file.close()"
   ]
  },
  {
   "cell_type": "code",
   "execution_count": null,
   "metadata": {},
   "outputs": [],
   "source": [
    "# 오픈된 파일을 자동으로 close 하기 : with문 같이쓰기\n",
    "# with문은 python 2.5 부터 지원\n",
    "# 파일을 오픈하면 항상 close 해주는 것이 좋다.\n",
    "# 하지만 매번 열고 닫는 것을 자동으로 처리할 수 있는데 파이썬의 with문이 이런 역할을 한다.\n",
    "filename =  'testFile.txt'\n",
    "with open(filename,'w') as f:\n",
    "    f.write('\\n hello python \\n')"
   ]
  },
  {
   "cell_type": "markdown",
   "metadata": {},
   "source": [
    "#### 3. 파일객체 관련함수"
   ]
  },
  {
   "cell_type": "code",
   "execution_count": null,
   "metadata": {},
   "outputs": [],
   "source": [
    "# seek(), tell()함수 사용하기\n",
    "# seek() : 임의접근\n",
    "# f.seek(n) or f.seek(n,0) : 파일의 맨처음 위치에서 n번째 바이트로 이동\n",
    "# f.seel(n,1) : \n",
    "# f.seel(n,2) : \n",
    "# f.tell() : "
   ]
  },
  {
   "cell_type": "code",
   "execution_count": null,
   "metadata": {},
   "outputs": [],
   "source": []
  },
  {
   "cell_type": "code",
   "execution_count": null,
   "metadata": {},
   "outputs": [],
   "source": []
  },
  {
   "cell_type": "code",
   "execution_count": null,
   "metadata": {},
   "outputs": [],
   "source": []
  },
  {
   "cell_type": "code",
   "execution_count": 27,
   "metadata": {},
   "outputs": [],
   "source": []
  }
 ],
 "metadata": {
  "kernelspec": {
   "display_name": "Python 3",
   "language": "python",
   "name": "python3"
  },
  "language_info": {
   "codemirror_mode": {
    "name": "ipython",
    "version": 3
   },
   "file_extension": ".py",
   "mimetype": "text/x-python",
   "name": "python",
   "nbconvert_exporter": "python",
   "pygments_lexer": "ipython3",
   "version": "3.7.4"
  }
 },
 "nbformat": 4,
 "nbformat_minor": 2
}
