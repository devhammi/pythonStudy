{
 "cells": [
  {
   "cell_type": "code",
   "execution_count": null,
   "metadata": {},
   "outputs": [],
   "source": [
    "#한줄주석\n",
    "#파이썬에서는 문자열은 작은 따옴표(')나 큰 따옴표(\")를 구분하지 않는다."
   ]
  },
  {
   "cell_type": "markdown",
   "metadata": {},
   "source": [
    "###jupyterNotebook 단축키\n",
    " 1. 셀 실행하기: (button)Run or ctrl+enter or shift+enter\n",
    " 2. 셀 나누기  : ctrl+shift+-"
   ]
  },
  {
   "cell_type": "markdown",
   "metadata": {},
   "source": [
    "### 1. 숫자형"
   ]
  },
  {
   "cell_type": "code",
   "execution_count": 1,
   "metadata": {},
   "outputs": [
    {
     "name": "stdout",
     "output_type": "stream",
     "text": [
      "1\n",
      "1\n",
      "2\n",
      "3\n",
      "1 2 3\n"
     ]
    }
   ],
   "source": [
    "# 정수형 (Integer)\n",
    "a = 1\n",
    "\n",
    "print(a)\n",
    "\n",
    "b = 2\n",
    "c = 3\n",
    "a\n",
    "b\n",
    "c\n",
    "print (a)\n",
    "print (b)\n",
    "print (c)\n",
    "print (a,b,c)\n"
   ]
  },
  {
   "cell_type": "code",
   "execution_count": 4,
   "metadata": {},
   "outputs": [
    {
     "name": "stdout",
     "output_type": "stream",
     "text": [
      "<class 'float'>\n",
      "<class 'int'>\n",
      "1.2\n",
      "2\n"
     ]
    }
   ],
   "source": [
    "# 실수형 (Float)\n",
    "# type() 함수는 자료형을 출력하는 함수\n",
    "a = 1.2\n",
    "print(type(a))\n",
    "print(type(b))\n",
    "print(a)\n",
    "print(b)"
   ]
  },
  {
   "cell_type": "code",
   "execution_count": 9,
   "metadata": {},
   "outputs": [
    {
     "name": "stdout",
     "output_type": "stream",
     "text": [
      "1.75\n",
      "3\n",
      "1\n",
      "2.0\n",
      "1.0\n"
     ]
    }
   ],
   "source": [
    "# 숫자형을 활용학시 위한 연산자\n",
    "# +,-,/,* 사칙연산을 수행\n",
    "# 제곱연산자 **\n",
    "# 나눗셈결과의 나머지를 리턴 %\n",
    "# 나눗셈결과의 나머지를 버리는 연산자 : //\n",
    "print(7/4)\n",
    "print(7%4)\n",
    "print (7//4)\n",
    "print (4.0/2)\n",
    "print (7.0//4)\n"
   ]
  },
  {
   "cell_type": "markdown",
   "metadata": {},
   "source": [
    "### 2. 문자형\n",
    "\n",
    "문자열이란 문자, 단어등으로 구성된 집합을 말한다."
   ]
  },
  {
   "cell_type": "code",
   "execution_count": 22,
   "metadata": {},
   "outputs": [
    {
     "name": "stdout",
     "output_type": "stream",
     "text": [
      "안녕하세요 반가워요 12345 12334\n",
      "핼로\n",
      "홀로\n",
      "할로\n",
      "홍길동s 여의봉\n",
      "손오공\"s 여의봉\n"
     ]
    }
   ],
   "source": [
    "a = '안녕하세요 반가워요'\n",
    "b = '12345'\n",
    "c = \"12334\"\n",
    "print(a,b,c)\n",
    "# 문자열을 여러줄에 걸쳐 정의하는 법은 연속해서 작은/큰 따옴표 3개를 사용\n",
    "d = '''핼로\n",
    "홀로\n",
    "할로'''\n",
    "print(d)\n",
    "# 문자열안에 작은 따옴표가 있을 경우, 또는\n",
    "# 문자열 안에 큰 따옴표가 있을 경우\n",
    "a = \"홍길동\"\"s 여의봉\"\n",
    "b = '손오공\"s 여의봉'\n",
    "print (a)\n",
    "print (b)"
   ]
  },
  {
   "cell_type": "code",
   "execution_count": null,
   "metadata": {},
   "outputs": [],
   "source": [
    "# 1) 문자열 연산하기"
   ]
  },
  {
   "cell_type": "code",
   "execution_count": 4,
   "metadata": {},
   "outputs": [
    {
     "name": "stdout",
     "output_type": "stream",
     "text": [
      "1a\n",
      "Pythonis fun!!\n"
     ]
    }
   ],
   "source": [
    "# 1) + 문자열 연결하기\n",
    "a = '1' + 'a'\n",
    "print(a)\n",
    "\n",
    "# b = 1 + 'a' # 파이썬에 자료형이 틀리면 에러가 발생\n",
    "head = 'Python'\n",
    "tail = 'is fun!!'\n",
    "print(head + tail)\n",
    "\n",
    "\n",
    "# 2) * 문자열 곱하기"
   ]
  },
  {
   "cell_type": "markdown",
   "metadata": {},
   "source": [
    "2) 문자열의 인덱싱과 슬라이싱"
   ]
  },
  {
   "cell_type": "code",
   "execution_count": 3,
   "metadata": {},
   "outputs": [
    {
     "name": "stdout",
     "output_type": "stream",
     "text": [
      "안녕하세요파이썬\n",
      "안\n",
      "썬\n",
      "썬\n",
      "이\n",
      "안\n",
      "썬\n"
     ]
    }
   ],
   "source": [
    "# 1) 문자열인덱싱\n",
    "# 인덱이란? 문자열의 특정위치의 문자를 가르키는 것이다.\n",
    "# 인덱스는 0부터 시작한다.\n",
    "# 인덱스가 양수면 처음부터 시작되고 음수면 맨 뒤에서 시작된다.\n",
    "str = \"안녕하세요파이썬\"\n",
    "print(str)\n",
    "print(str[0])\n",
    "print(str[7])\n",
    "print(str[-1])\n",
    "print(str[-2])\n",
    "# print(str[-9]) 인덱스범위를 초과 에러\n",
    "# print(str[8]) 인덱스범위를 초과 에러\n",
    "print(\"안녕하세요\"[0])\n",
    "print(\"안녕하세요파이썬\"[7])\n"
   ]
  },
  {
   "cell_type": "code",
   "execution_count": 2,
   "metadata": {},
   "outputs": [
    {
     "name": "stdout",
     "output_type": "stream",
     "text": [
      "안녕썬\n",
      "안녕하세요파이썬\n",
      "파이썬\n",
      "파\n",
      "안녕하세요파이썬\n"
     ]
    }
   ],
   "source": [
    "# 2) 문자열슬라이싱\n",
    " # 슬라이싱이란? 문자열에서 특정문자열을 잘라내는 것. 즉, 문자추출하는 행위\n",
    "a = \"안녕하세요파이썬\"\n",
    "\n",
    "print(a[0]+a[1]+a[7]) #슬라이싱이 아니라 인덱싱\n",
    "\n",
    "# 슬라이싱은 문자열 [start : end-1]\n",
    "print(a[:])\n",
    "print(a[5:])\n",
    "print(a[5:6])\n",
    "print(a[0:8])"
   ]
  },
  {
   "cell_type": "code",
   "execution_count": 12,
   "metadata": {},
   "outputs": [
    {
     "name": "stdout",
     "output_type": "stream",
     "text": [
      "20191224 파이썬 2019 20191224\n"
     ]
    }
   ],
   "source": [
    "# 슬라이싱 실습 \n",
    "a = '20191224파이썬'\n",
    "\n",
    "date = a[:8]\n",
    "p =  a[8:]\n",
    "year = a[:4]\n",
    "day = a[4:8]\n",
    "print (date, p, year, date)\n"
   ]
  },
  {
   "cell_type": "code",
   "execution_count": 18,
   "metadata": {},
   "outputs": [
    {
     "name": "stdout",
     "output_type": "stream",
     "text": [
      "Python\n"
     ]
    }
   ],
   "source": [
    "# 3) 문자열바꾸기\n",
    "# 파이썬에서는 문자열과 튜플은 변경할 수 없는 자료형이다.\n",
    "# 이런 자료형을 immutable자료형이라고 한다.\n",
    "a = 'Pithon'\n",
    "# a[1] = 'y' 문자열은 직접 변경할 수 없기 때문에 에러발생\n",
    "\n",
    "a = a[:1]+'y'+ a[2:]\n",
    "print (a)"
   ]
  },
  {
   "cell_type": "code",
   "execution_count": 27,
   "metadata": {},
   "outputs": [
    {
     "name": "stdout",
     "output_type": "stream",
     "text": [
      "오늘 날씨는 -5도 입니다\n",
      "오늘 날씨는 5도 입니다\n",
      "오늘 날씨는 %d도 입니다\n",
      "오늘 날씨는 -5도 입니다\n",
      "오늘 날씨는 10도 입니다\n",
      "오늘 날씨는 -5도 입니다\n",
      "오늘 날씨는 10도 입니다\n",
      "내 나이는 10살 입니다. 공부를 삼일동안 했습니다!\n"
     ]
    }
   ],
   "source": [
    "# 4) 문자열포매팅 * 플러그인 가능\n",
    "\n",
    "print (\"오늘 날씨는 -5도 입니다\")\n",
    "print (\"오늘 날씨는 5도 입니다\")\n",
    "\n",
    "#%d는 숫자형 포매팅 * 숫자를 그대로 쓰거나 (\"\"없이) 아님 숫자 대입 코드 써줌 (예: degree)\n",
    "degree = -5\n",
    "print (\"오늘 날씨는 %d도 입니다\")\n",
    "print (\"오늘 날씨는 %d도 입니다\" % degree)\n",
    "print (\"오늘 날씨는 %d도 입니다\" % 10)\n",
    "# print (\"오늘 날씨는 %d도 입니다\" % \"10\") 여기서는 문자(\"10\")를 숫자로 대입하면 에러임\n",
    "\n",
    "#%s는 문자열 포매팅 *더 포괄적임\n",
    "print (\"오늘 날씨는 %s도 입니다\" % degree)\n",
    "print (\"오늘 날씨는 %s도 입니다\" % \"10\")\n",
    "\n",
    "# 두개이상의 값을 포매팅하기\n",
    "age = 10\n",
    "day = \"삼\"\n",
    "print (\"내 나이는 %d살 입니다. 공부를 %s일동안 했습니다!\" % (age, day))\n",
    "\n",
    "# 문자열 포맷코드\n",
    "\n",
    "#코드 설명\n",
    "#===========================================\n",
    "#%s 글자\n",
    "#%d 정수\n",
    "#%c 한개의 문자 (character)\n",
    "#%f 실수 (float)\n",
    "#%% 퍼센트 (%)"
   ]
  },
  {
   "cell_type": "code",
   "execution_count": 61,
   "metadata": {},
   "outputs": [
    {
     "name": "stdout",
     "output_type": "stream",
     "text": [
      "Hi\n",
      "        Hi\n",
      "Hi        \n",
      "10 10\n",
      "3.141592\n",
      "3.1416\n",
      "현재온도는 18도 입니다\n",
      "현재온도는 18도 입니다\n",
      "내 나이는 10살 입니다. 공부를 삼일동안 했습니다!\n",
      "내 나이는 삼살 입니다. 공부를 10일동안 했습니다!\n",
      "내 나이는 10살 입니다. 공부를 삼일동안 했습니다!\n",
      "내 나이는 10살 입니다. 공부를 삼일동안 했습니다!\n",
      "------------------------------------------------------------\n",
      "Hi        \n",
      "HI         10\n",
      "        HI 10\n",
      "    HI    \n",
      "****HI****\n",
      "HI********\n",
      "********HI\n",
      "  3.141592\n",
      "    3.1416\n",
      "\n"
     ]
    }
   ],
   "source": [
    "# 5) 문자포맷코드와 숫자를 함께 사용하기\n",
    "\n",
    "# (1) 정렬과 공백\n",
    "a = '%s' % 'Hi'\n",
    "print(a)\n",
    "a = '%10s' % 'Hi'\n",
    "print (a)\n",
    "b = '%-10s' % 'Hi'\n",
    "print(b)\n",
    "print(len(a), len(b))\n",
    "\n",
    "# (2) 소숫점 표현\n",
    "pi = \"%f\" % 3.141592\n",
    "print(pi)\n",
    "pi = \"%0.4f\" % 3.141592\n",
    "print(pi)\n",
    "\n",
    "# (3) format()함수 사용하기\n",
    "# \"문자열\".format() 형태로 사용\n",
    "print (\"현재온도는 {0}도 입니다\".format(18))\n",
    "print (\"현재온도는 {0}도 입니다\".format(\"18\"))\n",
    "\n",
    "# (4) 2개이상의 값을 갖는 format()함수 사용하기\n",
    "age = 10\n",
    "day = \"삼\"\n",
    "print (\"내 나이는 {0}살 입니다. 공부를 {1}일동안 했습니다!\".format(age, day))\n",
    "print (\"내 나이는 {1}살 입니다. 공부를 {0}일동안 했습니다!\".format(age, day))\n",
    "\n",
    "# (5) 이름으로 format()함수 사용하기\n",
    "print (\"내 나이는 {a}살 입니다. 공부를 {d}일동안 했습니다!\".format(a=age, d=day))\n",
    "print (\"내 나이는 {a}살 입니다. 공부를 {d}일동안 했습니다!\".format(d=day, a=age))\n",
    "print (\"-\"*60)\n",
    "\n",
    "# (6) format()함수와 정렬하기\n",
    "# 6-1. 왼쪽정렬\n",
    "b = '{0:10}'.format('Hi')\n",
    "print(b)\n",
    "b = '{0:<10}'.format('HI')\n",
    "print(b, len(b))\n",
    "\n",
    "\n",
    "# 6-2. 오른쪽정렬\n",
    "b = '{0:>10}'.format('HI')\n",
    "print(b, len(b))\n",
    "\n",
    "# 6-3. 가운데 정렬\n",
    "c = '{0:^10}'.format('HI')\n",
    "print(c)\n",
    "\n",
    "\n",
    "# (7) 공백채우기\n",
    "c = '{0:*^10}'.format('HI')\n",
    "print(c)\n",
    "c = '{0:*<10}'.format('HI')\n",
    "print(c)\n",
    "c = '{0:*>10}'.format('HI')\n",
    "print(c)\n",
    "\n",
    "# (8) format()함수로 소수점표현하기\n",
    "pi = 3.141592\n",
    "d = '{0:10}'.format(pi)\n",
    "print (d)\n",
    "d = '{0:10.4f}'.format(pi)\n",
    "print (d)\n",
    "\n",
    "# (9) 왼쪽 또는 오른쪽 중괄호({  }) 출력하기\n",
    "\n"
   ]
  },
  {
   "cell_type": "code",
   "execution_count": 165,
   "metadata": {},
   "outputs": [
    {
     "name": "stdout",
     "output_type": "stream",
     "text": [
      "내이름은 홍길동입니다. 나이는 40입니다\n",
      "내이름은 홍길동입니다. 나이는 50입니다\n",
      "{\"HI\":<10}\n",
      "HI        \n",
      "        HI\n",
      "    HI    \n",
      "****HI****\n",
      "3.1416\n",
      "{ and }\n",
      "{{ and }}\n",
      "{ and }\n",
      "홍길동 40\n",
      "이름 = 홍길동 나이 =  40\n",
      "이름은 홍길동입니다. 나이는 40입니다.\n"
     ]
    }
   ],
   "source": [
    "# 6) f문자열포매팅\n",
    "# 파이썬 2.7, 파이썬 3.6미만버전에서는 사용할 수 없는 기능\n",
    "# 사용방법은 문자열 앞에 f접두사를 붙이면 사용할 수 있다. (f'홍길동')\n",
    "name = '홍길동'\n",
    "age = 40\n",
    "a = '내이름은 {name}입니다. 나이는 {age}입니다'.format(name=name, age=age)\n",
    "b = f'내이름은 {name}입니다. 나이는 {age+10}입니다'\n",
    "print(a)\n",
    "print(b)\n",
    "\n",
    "#정렬\n",
    "print ('{\"HI\":<10}')\n",
    "print (f'{\"HI\":<10}')\n",
    "print (f'{\"HI\":>10}')       \n",
    "print (f'{\"HI\":^10}')       \n",
    "print (f'{\"HI\":*^10}')\n",
    "       \n",
    "#소수점\n",
    "pi = 3.141592\n",
    "print (f'{pi:0.4f}')\n",
    "       \n",
    "# { and } 출력\n",
    "print ('{ and }')\n",
    "print ('{{ and }}')\n",
    "print (f'{{ and }}')\n",
    "       \n",
    "# 딕셔너리와 f문자열 사용하기\n",
    "d = {'name':'홍길동', 'age':40}\n",
    "print(d['name'],d['age'])\n",
    "print('이름 =', d['name'],'나이 = ', d['age'])\n",
    "print (f\"이름은 {d['name']}입니다. 나이는 {d['age']}입니다.\")"
   ]
  },
  {
   "cell_type": "markdown",
   "metadata": {},
   "source": [
    "### 3. 문자열관련함수\n",
    "\n",
    "* count() : 문자열의 문자개수를 리턴\n",
    "* find()  : 특정문자의 위치를 리턴 (찾는 문자가 없으면 -1을 리턴)\n",
    "* index() : 특정문자의 위치를 리턴 (찾는 문자가 없으면 에러발생) 따라서 파인드를 더 많이 씀\n",
    "* join()  : 특정문자를 문자열에 삽입\n",
    "* upper() : 소문자를 대문자로 치환\n",
    "* lower() : 대문자를 소문자로 치환\n",
    "* lstrip(): 왼쪽 공백을 제거\n",
    "* rstrip(): 오른쪽 공백을 제거\n",
    "* strip() : 양쪽 공백을 제거\n",
    "* replace(): 문자열을 변경\n",
    "* split() : 문자열을 분리"
   ]
  },
  {
   "cell_type": "code",
   "execution_count": 68,
   "metadata": {},
   "outputs": [
    {
     "name": "stdout",
     "output_type": "stream",
     "text": [
      "17 0\n",
      "3\n",
      "1\n"
     ]
    }
   ],
   "source": [
    "# 1. count()\n",
    "a = \"Life is too short\"\n",
    "print(len(a), a.count('a'))\n",
    "print(a.count('o'))\n",
    "print(a.count('Life'))"
   ]
  },
  {
   "cell_type": "code",
   "execution_count": 71,
   "metadata": {},
   "outputs": [
    {
     "name": "stdout",
     "output_type": "stream",
     "text": [
      "10\n",
      "7\n",
      "-1\n"
     ]
    }
   ],
   "source": [
    "# 2. find()\n",
    "a='Python is best choice'\n",
    "print(a.find('b'))\n",
    "print(a.find('i')) # 문자열중 맨 처음의 문자를 위치에 리턴\n",
    "print(a.find('x')) \n"
   ]
  },
  {
   "cell_type": "code",
   "execution_count": 73,
   "metadata": {},
   "outputs": [
    {
     "name": "stdout",
     "output_type": "stream",
     "text": [
      "10\n",
      "7\n"
     ]
    }
   ],
   "source": [
    "# 3. index()\n",
    "a='Python is best choice'\n",
    "print(a.index('b'))\n",
    "print(a.index('i')) # 문자열중 맨 처음의 문자를 위치에 리턴\n",
    "# print(a.index('x')) # 이건 안됨\n"
   ]
  },
  {
   "cell_type": "code",
   "execution_count": 76,
   "metadata": {},
   "outputs": [
    {
     "name": "stdout",
     "output_type": "stream",
     "text": [
      "a,b,c,d\n",
      "abcd\n",
      "a,b,c,d\n",
      "a%b%c%d\n"
     ]
    }
   ],
   "source": [
    "# 4. join()\n",
    "print('a,b,c,d')\n",
    "a = 'abcd'\n",
    "print(a)\n",
    "\n",
    "b = ','\n",
    "print(b.join(a))\n",
    "print('%'.join(a))"
   ]
  },
  {
   "cell_type": "code",
   "execution_count": 77,
   "metadata": {},
   "outputs": [
    {
     "name": "stdout",
     "output_type": "stream",
     "text": [
      "HI\n"
     ]
    }
   ],
   "source": [
    "# 5. upper()\n",
    "a = 'hi'\n",
    "print(a.upper())\n"
   ]
  },
  {
   "cell_type": "code",
   "execution_count": 78,
   "metadata": {},
   "outputs": [
    {
     "name": "stdout",
     "output_type": "stream",
     "text": [
      "hi\n"
     ]
    }
   ],
   "source": [
    "# 6. lower()\n",
    "a = 'HI'\n",
    "print(a.lower())"
   ]
  },
  {
   "cell_type": "code",
   "execution_count": 80,
   "metadata": {},
   "outputs": [
    {
     "name": "stdout",
     "output_type": "stream",
     "text": [
      "           HI~~\n",
      "HI~~\n"
     ]
    }
   ],
   "source": [
    "# 7. lstrip()\n",
    "a = '           HI~~'\n",
    "print(a)\n",
    "print(a.lstrip())\n",
    "\n"
   ]
  },
  {
   "cell_type": "code",
   "execution_count": 86,
   "metadata": {},
   "outputs": [
    {
     "name": "stdout",
     "output_type": "stream",
     "text": [
      "HI       ~  ~\n",
      "       HI       ~  ~\n"
     ]
    }
   ],
   "source": [
    "# 8. rstrip()\n",
    "a = '       HI       ~  ~'\n",
    "print(a.lstrip())\n",
    "print(a.rstrip())\n"
   ]
  },
  {
   "cell_type": "code",
   "execution_count": 84,
   "metadata": {},
   "outputs": [
    {
     "name": "stdout",
     "output_type": "stream",
     "text": [
      "       H     I \n",
      "H     I\n"
     ]
    }
   ],
   "source": [
    "# 9. strip()\n",
    "a = '       H     I '\n",
    "print(a)\n",
    "print(a.strip())"
   ]
  },
  {
   "cell_type": "code",
   "execution_count": 87,
   "metadata": {},
   "outputs": [
    {
     "name": "stdout",
     "output_type": "stream",
     "text": [
      "인생 is too short\n"
     ]
    }
   ],
   "source": [
    "# 10. replace()\n",
    "a = 'Life is too short'\n",
    "# Life => 인생\n",
    "a = a.replace('Life', '인생')\n",
    "print(a)"
   ]
  },
  {
   "cell_type": "code",
   "execution_count": 92,
   "metadata": {},
   "outputs": [
    {
     "name": "stdout",
     "output_type": "stream",
     "text": [
      "['Life', 'is', 'too', 'short']\n",
      "['a', 'b', 'c', 'd']\n",
      "['a', 'b', 'c', 'd']\n"
     ]
    }
   ],
   "source": [
    "#11. split()\n",
    "a = 'Life is too short'\n",
    "\n",
    "#공백기준으로 나누기\n",
    "a.split()\n",
    "print(a.split())\n",
    "\n",
    "b = 'a,b,c,d'\n",
    "print(b.split(sep=','))\n",
    "\n",
    "c = 'a:b:c:d'\n",
    "print(c.split(sep=':'))\n"
   ]
  },
  {
   "cell_type": "code",
   "execution_count": 94,
   "metadata": {},
   "outputs": [
    {
     "name": "stdout",
     "output_type": "stream",
     "text": [
      "2\n"
     ]
    }
   ],
   "source": [
    "# 1. 주민번호에서 성별을 나타내는 숫자를 출력하기\n",
    "a = '881107-2233445'\n",
    "# 2를 출력해보세요\n",
    "print (a[7])\n",
    "# 요건 인덱싱 (맞음!)"
   ]
  },
  {
   "cell_type": "code",
   "execution_count": 95,
   "metadata": {},
   "outputs": [
    {
     "name": "stdout",
     "output_type": "stream",
     "text": [
      "12\n"
     ]
    }
   ],
   "source": [
    "# 2. 문자열 위치 찾기\n",
    "# 변수 a에서 short가 시작 된 위치를 출력하다\n",
    "a = 'Life is too short, you need Python'\n",
    "print(a.find('short')) \n",
    "# 요건 find (맞음!)"
   ]
  },
  {
   "cell_type": "code",
   "execution_count": 141,
   "metadata": {},
   "outputs": [
    {
     "name": "stdout",
     "output_type": "stream",
     "text": [
      "a:b:c:d\n",
      "a#b#c#d\n",
      "['a', 'b', 'c', 'd']\n",
      "a#b#c#d\n"
     ]
    }
   ],
   "source": [
    "# 3. 문자열 바꾸기\n",
    "#  \"a:b:c:d\" -> a#b#c#d로 변경\n",
    "a = \"a:b:c:d\"\n",
    "print(a)\n",
    "b = a.replace(':', '#')\n",
    "print(b)\n",
    "\n",
    "# 요건 split(), join() 하면 쉬움\n",
    "c = a.split(':')\n",
    "print(c)\n",
    "d = '#'.join(c)\n",
    "print(d)"
   ]
  },
  {
   "cell_type": "code",
   "execution_count": 142,
   "metadata": {},
   "outputs": [
    {
     "name": "stdout",
     "output_type": "stream",
     "text": [
      "104020000\n",
      "104020000\n"
     ]
    }
   ],
   "source": [
    "# 4. 삼성(samsung)주가 89,000이고 LG주가가 751,000원일경우\n",
    "# 특정 사람이 삼성주식 1000주와 LG주식 20주를 가지고 있을 경우\n",
    "# 주식의 총액을 계산하기\n",
    "#변수명은 samsung, LG, total로 하기\n",
    "samsung = 89000\n",
    "LG = 751000\n",
    "print(samsung*1000 + LG*20)\n",
    "\n",
    "# 선생님 법 (위에 삼성, lg쓰고 토탈까지)\n",
    "total = samsung * 1000 + LG * 20\n",
    "print (total)\n"
   ]
  },
  {
   "cell_type": "code",
   "execution_count": 144,
   "metadata": {},
   "outputs": [
    {
     "name": "stdout",
     "output_type": "stream",
     "text": [
      "7955000.0\n"
     ]
    }
   ],
   "source": [
    "# 5. 4번문제에서 삼성과 LG의 주가각각5%, 10% 하락한 경우에 손실액 구하기\n",
    "#첫번째방법\n",
    "samsung = 89000\n",
    "LG = 751000\n",
    "loss = (samsung * 0.05 * 100) + (LG * 0.10 *100)\n",
    "print(loss)\n"
   ]
  },
  {
   "cell_type": "code",
   "execution_count": 148,
   "metadata": {},
   "outputs": [
    {
     "name": "stdout",
     "output_type": "stream",
     "text": [
      "PythonPythonPythonPythonPythonPythonPythonPythonPythonPython\n",
      "Python\n",
      "Python\n",
      "Python\n",
      "Python\n",
      "Python\n",
      "Python\n",
      "Python\n",
      "Python\n",
      "Python\n",
      "Python\n",
      "\n"
     ]
    }
   ],
   "source": [
    "# 6. Python이란 문자를 10번 출력하기. 단, 각 줄을 바꿔서 출력 (10줄)\n",
    "a = 'Python'\n",
    "print (a*10)\n",
    "print ('Python\\n'*10)\n"
   ]
  },
  {
   "cell_type": "code",
   "execution_count": 118,
   "metadata": {},
   "outputs": [
    {
     "name": "stdout",
     "output_type": "stream",
     "text": [
      "hi python\n"
     ]
    }
   ],
   "source": [
    "# 7. a 라는 변수에 'hello python'일 경우 a값을 'hi python'으로 변경하기\n",
    "a = 'hello python'\n",
    "a = a.replace('hello', 'hi')\n",
    "print(a)"
   ]
  },
  {
   "cell_type": "code",
   "execution_count": null,
   "metadata": {},
   "outputs": [],
   "source": [
    "# 8. x 라는 변수에 'abcdef' 일 경우 x의 값을 'bcdefa'로 바꾸기"
   ]
  },
  {
   "cell_type": "code",
   "execution_count": 2,
   "metadata": {},
   "outputs": [
    {
     "name": "stdout",
     "output_type": "stream",
     "text": [
      "[4, 1, 2, 3]\n"
     ]
    }
   ],
   "source": [
    "a= [1,2,3]\n",
    "a.insert(0,4)\n",
    "print(a)"
   ]
  },
  {
   "cell_type": "code",
   "execution_count": null,
   "metadata": {},
   "outputs": [],
   "source": []
  },
  {
   "cell_type": "code",
   "execution_count": null,
   "metadata": {},
   "outputs": [],
   "source": []
  },
  {
   "cell_type": "code",
   "execution_count": null,
   "metadata": {},
   "outputs": [],
   "source": []
  },
  {
   "cell_type": "code",
   "execution_count": null,
   "metadata": {},
   "outputs": [],
   "source": []
  }
 ],
 "metadata": {
  "kernelspec": {
   "display_name": "Python 3",
   "language": "python",
   "name": "python3"
  },
  "language_info": {
   "codemirror_mode": {
    "name": "ipython",
    "version": 3
   },
   "file_extension": ".py",
   "mimetype": "text/x-python",
   "name": "python",
   "nbconvert_exporter": "python",
   "pygments_lexer": "ipython3",
   "version": "3.7.4"
  }
 },
 "nbformat": 4,
 "nbformat_minor": 2
}
