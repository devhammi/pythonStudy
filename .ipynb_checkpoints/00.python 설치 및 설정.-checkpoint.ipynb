{
 "cells": [
  {
   "cell_type": "markdown",
   "metadata": {},
   "source": [
    "0. 파일공유\n",
    "\n",
    "   1) 파일탐색기열기\n",
    "   2) 주소창 \n",
    "\n",
    "1. Anaconda 설치\n",
    "\n",
    "   1) www.anaconda.com/distribution\n",
    "   2) path설정\n",
    "      (1) winkey + r : sysdm.cpl\n",
    "      (2) 시스템페스에 추가\n",
    "           ... C:\\Anaconda3\n",
    "           ... C:\\Anaconda3\\Scripts\n",
    "   3) 설치확인\n",
    "       (1) winkey + r : cmd\n",
    "       (2) python --version\n",
    "            ... python 3.7.4\n",
    "   4) 자기폴더생성 : d:\\yourname(영문으로 할 것)\n",
    "\n",
    "2. jupyternotebook 설정\n",
    "   1) (menu)jupyternotebook 작업줄에 고정\n",
    "   2) 작업줄메뉴 jupyternotebook 우클릭 > 속성\n",
    "       \"%USERPROFILE%~~~\" 부분을 d:\\yourname으로 변경\n",
    "      "
   ]
  },
  {
   "cell_type": "code",
   "execution_count": 6,
   "metadata": {},
   "outputs": [
    {
     "name": "stdout",
     "output_type": "stream",
     "text": [
      "Hello python\n"
     ]
    },
    {
     "data": {
      "text/plain": [
       "2"
      ]
     },
     "execution_count": 6,
     "metadata": {},
     "output_type": "execute_result"
    }
   ],
   "source": [
    "1+1 \n",
    "print(\"Hello python\")\n",
    "1+1\n",
    "# jupyther-notebook 1+1 print 안해도 결과값을 볼 수 있지만, print 가 있으면 가장 마지막 print만 출력"
   ]
  },
  {
   "cell_type": "markdown",
   "metadata": {},
   "source": [
    "### python 개요\n",
    "1. python 개요 \n",
    "    1) 1989년 12월에 네덜란드 출신 개발자 귀도 반 로섬이 성탄절을 의미있게 보개디 위해 취미로 만든 인터프리터 프로그램 언어이다.\n",
    "    2) python이라는 이름은 자신이 좋아하는 코미디쇼인  '몬티 파이썬의 날아다니는 써커스'에서 따왔다고 한다. \n",
    "    3) python의 사전적의미는 고대 신화에 나오는 파르니소스산의 동굴에 살던 큰뱀이라는 뜻이며 아폴로신이 파이썬을 퇴치했다는 이야기도 있다.\n",
    "    4) python기술이 사용된 대표적인 예 \n",
    "        a. 구글 : c++, Java, Python사용, 구글의 내부시스템과 많은 구글 API들이 Pyyhon\n",
    "        b. 유투브\n",
    "        c. 드롭박스\n",
    "        d. 페이스북\n",
    "        e. 인스타프로그램\n",
    "2. 파이썬의 라이브러리\n",
    "   1) Numpy : 수치계산용 라이브러리(패키지)\n",
    "   2) Pandas : 데이터분석용 라이브러리\n",
    "   3) Matplotlib: 그래프출력용 라이브러리\n",
    "3. 파이썬의 특징\n",
    "   1) 파이썬은 인간다운 언어\n",
    "   2) 파이썬은 문법이 쉬워서 빠르게 배울 수 있는 언어\n",
    "   3) 파이썬은 무료이지만 강력한 언어이다.\n",
    "   4) 파이썬은 간결하다.\n",
    "   5) 파이썬은 개발속도가 빠르다.\n",
    "4. 참고\n",
    "   1) 파이썬의 순위 : https://tiobe.com/tiobe-index\n",
    "   2) 파이썬의 추세 : https://stackoverflow.blog/2017/09/06/incredible-growth-python/"
   ]
  }
 ],
 "metadata": {
  "kernelspec": {
   "display_name": "Python 3",
   "language": "python",
   "name": "python3"
  },
  "language_info": {
   "codemirror_mode": {
    "name": "ipython",
    "version": 3
   },
   "file_extension": ".py",
   "mimetype": "text/x-python",
   "name": "python",
   "nbconvert_exporter": "python",
   "pygments_lexer": "ipython3",
   "version": "3.7.4"
  }
 },
 "nbformat": 4,
 "nbformat_minor": 2
}
