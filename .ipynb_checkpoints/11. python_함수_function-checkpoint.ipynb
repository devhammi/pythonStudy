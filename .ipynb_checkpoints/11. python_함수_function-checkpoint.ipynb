{
 "cells": [
  {
   "cell_type": "markdown",
   "metadata": {},
   "source": [
    "### 함수\n",
    "함수란? 프로그램을 작성하다 보면 동일한 내용을 반복해서 작성하는 경우가 있는데 이러한 반복적인 코드글은 함수로 선언하고 필요할 때마다 재사용할 수 있도록하기 위해서 사용한다.\n",
    "\n",
    "파이썬은 함수(function)라는 기능을 제공하는 데 특정용도의 코드를 한 곳에 모아 놓은 것을 의미하는데 print(), input()등이 모두 파이썬에서 미리 만들어 놓은 함수이다.\n",
    "\n",
    "함수를 사용하면 \n",
    "1. 코드의 용도를 구분할 수 있다.\n",
    "2. 코드를 재사용할 수 있다.\n",
    "3. 실수를 줄일 수 있다. \n",
    "\n",
    "#### 함수의 선언방법\n",
    "```python\n",
    "def 함수명(arg1,...argn):\n",
    "    실행할 코드1\n",
    "    ...\n",
    "    실행할 코드n\n",
    "```\n",
    "* def하는 키워드는 함수를 정의하는 예약어\n",
    "* 함수명은 임의로 부여한다\n",
    "* 함수명() or 함수명(arg1,...,argn)\n",
    "* 매개변수와 인수: 매개변수(parameter)와 인자(인수, argument)는 혼용해서 사용되는데 매개변수는 함수에 입력으로 전달되는 값을 받는 변수이고 인수는 함수를 호출할 때 전달하는 입력값을 의미한다.\n",
    "\n",
    "-javascript에서는\n",
    "```javascript\n",
    "function 함수명(){\n",
    "    \n",
    "}\n",
    "```\n",
    "\n",
    "#### 함수의 호출방법 및 전달방법\n",
    "\"함수명()\"형태로 호출한다.<br>\n",
    "<img src=\"./images/11.함수_function_01.png\" width=\"45%\" style=\"display:inline-block;\"/>\n",
    "<img src=\"./images/11.함수_function_02.png\" width=\"45%\" style=\"display:inline-block;\"/>\n",
    "\n",
    "#### 함수는 반환값이 있는 함수와 없는 함수가 있다. 반환값이 있는 경우는 반드시 값을 반환해주는 명령어인 return 예약어를 사용해야 한다\n"
   ]
  },
  {
   "cell_type": "code",
   "execution_count": 2,
   "metadata": {},
   "outputs": [
    {
     "name": "stdout",
     "output_type": "stream",
     "text": [
      "hello python\n"
     ]
    }
   ],
   "source": [
    "# \"hello python\"이라는 문자를 호출하는 함수 작성\n",
    "def hello():\n",
    "    print(\"hello python\")"
   ]
  },
  {
   "cell_type": "code",
   "execution_count": 3,
   "metadata": {},
   "outputs": [
    {
     "name": "stdout",
     "output_type": "stream",
     "text": [
      "hello python\n"
     ]
    }
   ],
   "source": [
    "# 함수 호출\n",
    "hello()"
   ]
  },
  {
   "cell_type": "code",
   "execution_count": 12,
   "metadata": {},
   "outputs": [
    {
     "name": "stdout",
     "output_type": "stream",
     "text": [
      "4\n",
      "10\n"
     ]
    }
   ],
   "source": [
    "# 인자가 있는 함수선언\n",
    "# 더하기 함수\n",
    "def add(a,b):\n",
    "    print(a+b)\n",
    "\n",
    "add(3,1)\n",
    "\n",
    "def plus(x,y):\n",
    "    return x+y\n",
    "\n",
    "result = plus(3,7) # 리턴이 있는 함수는 결과값을 반환받을 수 있다.\n",
    "print(result)\n"
   ]
  },
  {
   "cell_type": "code",
   "execution_count": 13,
   "metadata": {},
   "outputs": [
    {
     "data": {
      "text/plain": [
       "'Hello'"
      ]
     },
     "execution_count": 13,
     "metadata": {},
     "output_type": "execute_result"
    }
   ],
   "source": [
    "# 인자가 없는 함수\n",
    "def sayHello():\n",
    "    return \"Hello\"\n",
    "\n",
    "sayHello()"
   ]
  },
  {
   "cell_type": "code",
   "execution_count": 16,
   "metadata": {},
   "outputs": [
    {
     "name": "stdout",
     "output_type": "stream",
     "text": [
      "3 + 7 = 10\n",
      "3 + 7 = 10\n",
      "None\n"
     ]
    }
   ],
   "source": [
    "# 결과값(리턴)이 없는 함수\n",
    "def sum(i,j):\n",
    "    print(\"%d + %d = %d\"%(i,j,i+j))\n",
    "sum(3,7)\n",
    "a = sum(3,7)\n",
    "print(a) # sum은 print만 할 뿐 return은 하지않아 a가 None이 됨."
   ]
  },
  {
   "cell_type": "code",
   "execution_count": 17,
   "metadata": {},
   "outputs": [
    {
     "name": "stdout",
     "output_type": "stream",
     "text": [
      "10\n"
     ]
    }
   ],
   "source": [
    "# 결과값(리턴)이 있는 함수 \n",
    "def sumReturn(i,j):\n",
    "    return i+j\n",
    "\n",
    "result = sumReturn(3,7)\n",
    "print(result)"
   ]
  },
  {
   "cell_type": "code",
   "execution_count": 21,
   "metadata": {},
   "outputs": [
    {
     "name": "stdout",
     "output_type": "stream",
     "text": [
      "10\n",
      "4\n"
     ]
    }
   ],
   "source": [
    "# 함수를 사용하는 장점\n",
    "# 매개변수의 순서와 상관없이 자유롭게 호출 가능하다.\n",
    "\n",
    "print(sumReturn(3,7))\n",
    "print(sumReturn(i=3,j=1)) #매개 변수명 다를 시 error "
   ]
  },
  {
   "cell_type": "markdown",
   "metadata": {},
   "source": [
    "#### 여러개의 값을 반환하는 방법\n",
    "\n",
    "<img src=\"./images/11.함수_function_03.png\" width=\"80%\"/>"
   ]
  },
  {
   "cell_type": "code",
   "execution_count": 28,
   "metadata": {},
   "outputs": [
    {
     "name": "stdout",
     "output_type": "stream",
     "text": [
      "(12, 8, 20, 5.0)\n",
      "<class 'tuple'>\n",
      "12 8 20 5.0\n"
     ]
    }
   ],
   "source": [
    "# 함수에서 여러개의 값을 반환하기\n",
    "def multiReturn(a,b):\n",
    "    return a+b,a-b,a*b,a/b\n",
    "print(multiReturn(10,2))\n",
    "print(type(multiReturn(10,2))) #type 튜플\n",
    "\n",
    "x,y,z,a = multiReturn(10,2)\n",
    "print(x,y,z,a)\n",
    "\n",
    "# x,y,z = multiReturn(10,2) return 하는 값과 return 받는 변수는 동일 갯수여야함.\n"
   ]
  },
  {
   "cell_type": "markdown",
   "metadata": {},
   "source": [
    "#### 입력되는 매개변수가 볓개인지 모를 경우\n",
    "```python \n",
    "def 함수명(*args):\n",
    "    실행코드\n",
    "   \n",
    "def 함수명(**args):\n",
    "    실행코드\n",
    "```"
   ]
  },
  {
   "cell_type": "code",
   "execution_count": 38,
   "metadata": {},
   "outputs": [
    {
     "name": "stdout",
     "output_type": "stream",
     "text": [
      "<class 'tuple'>\n",
      "4\n"
     ]
    },
    {
     "data": {
      "text/plain": [
       "10"
      ]
     },
     "execution_count": 38,
     "metadata": {},
     "output_type": "execute_result"
    }
   ],
   "source": [
    "# *args : 입력값이 여러개 일 경우 정의하는 매개변수 이다.\n",
    "def manySum(*args):\n",
    "    print(type(args))\n",
    "    print(len(args))\n",
    "    sum = 0\n",
    "    for i in args:\n",
    "        sum += i\n",
    "    return sum\n",
    "manySum(1,2,3,4)"
   ]
  },
  {
   "cell_type": "code",
   "execution_count": 72,
   "metadata": {},
   "outputs": [
    {
     "name": "stdout",
     "output_type": "stream",
     "text": [
      "16\n",
      "-8\n",
      "10\n",
      "0\n"
     ]
    }
   ],
   "source": [
    "# 유동적으로 실행하는 계산기 : 사칙연산을 실행하는 계산기\n",
    "def calculator(operator,*args):\n",
    "    result = 0\n",
    "    if operator =='+': \n",
    "        for i in args:\n",
    "            result+=i\n",
    "    if operator == '-':\n",
    "        for i in args:\n",
    "            result -= i\n",
    "    if operator == '*':\n",
    "        result = 1\n",
    "        for i in args:\n",
    "            result *= i\n",
    "    if operator == '/': \n",
    "        for i in args:\n",
    "    return result\n",
    "    print(\"sdsdsds\")\n",
    "    \n",
    "print(calculator('+',1,2,5,8))\n",
    "print(calculator('-',1,2,5))\n",
    "print(calculator('*',1,2,5))\n",
    "print(calculator('/',10,2))"
   ]
  },
  {
   "cell_type": "code",
   "execution_count": 52,
   "metadata": {},
   "outputs": [
    {
     "name": "stdout",
     "output_type": "stream",
     "text": [
      "{'a': 1, 'b': 'v'}\n",
      "<class 'dict'>\n",
      "{'name': '홍길동', 'age': '17'}\n",
      "<class 'dict'>\n"
     ]
    }
   ],
   "source": [
    "# 키워드 파라미터 kwargs\n",
    "# kwargs는 keyword argments의 약어이다. **kwargs는 *args와 다르게 별표(*)가 두개 사용된다.\n",
    "# 함수인수로서 **kwargs가 key=value형태로 주어졌을때 입력값 전체가 딕셔너리형태로 반환된다.\n",
    "def func(**kwargs):\n",
    "    print(kwargs)\n",
    "    print(type(kwargs))\n",
    "#func(1,2,5,3) # 에러발생 key=value 형태로 전달되어야 한다.\n",
    "func(a=1,b='v')\n",
    "func(name='홍길동',age='17')"
   ]
  },
  {
   "cell_type": "code",
   "execution_count": 56,
   "metadata": {},
   "outputs": [
    {
     "name": "stdout",
     "output_type": "stream",
     "text": [
      "(1, 2, 3) {'name': 'ham', 'age': '25'}\n",
      "(1, 2, 3) {'name': 'ham', 'age': '25', '개읹정보': 'y'}\n"
     ]
    }
   ],
   "source": [
    "def func1(*args,**kwargs):\n",
    "    print(args,kwargs)\n",
    "\n",
    "    \n",
    "func1(1,2,3,name='ham',age='25')\n",
    "#func1(1,2,3,name='ham',age='25',45,46) # error : flexable 하니까 어떤게 args 인지 kwargs 인지 구별 못함. \n",
    "func1(1,2,3,name='ham',age='25',개인정보=\"y\") # 끝나는 위치에 따라 args인즈 kwargs인지 구별\n"
   ]
  },
  {
   "cell_type": "code",
   "execution_count": 59,
   "metadata": {},
   "outputs": [
    {
     "name": "stdout",
     "output_type": "stream",
     "text": [
      "이름= ham\n",
      "나이= 28\n",
      "주소= 의정부\n",
      "이름= 28\n",
      "나이= ham\n",
      "주소= 의정부\n",
      "이름= han\n",
      "나이= 258\n",
      "주소= 서울\n"
     ]
    }
   ],
   "source": [
    "# 개인정보를 출력하는 함수에서\n",
    "def peraonal_info(name,age,addr):\n",
    "    print(\"이름=\",name)\n",
    "    print(\"나이=\",age)\n",
    "    print(\"주소=\",addr)\n",
    "\n",
    "peraonal_info('ham',28,'의정부')\n",
    "peraonal_info(28,'ham','의정부') # 에러는 아니지만 개발자의 예상과 다르게 동작할 수 있다.\n",
    "peraonal_info(name='han',age=258,addr=\"서울\")"
   ]
  },
  {
   "cell_type": "markdown",
   "metadata": {},
   "source": [
    "#### 딕셔너리언패킹\n",
    "<img src=\"./images/11.함수_function_04.png\" width=\"80%\" />"
   ]
  },
  {
   "cell_type": "code",
   "execution_count": null,
   "metadata": {},
   "outputs": [],
   "source": [
    "x = {'name':'ham','age':28,'addr':'서울'}\n",
    "\n",
    "peraonal_info(**x)\n",
    "# 상기 호출은 peraonal_info(name='han',age=258,addr=\"서울\") 과 동일한 형태\n",
    "\n",
    "peraonal_info(*x)\n",
    "# *x는 키만전달됨.\n",
    "peraonal_info(*x.values())\n",
    "# 값만 전달됨 (파라미터 순서가 맞아야하긴 하지만)\n",
    "\n",
    "# 딕셔너리 언패킹\n",
    "# **를 두번 사용하는 이유는 딕셔너리처럼 key와 value로 한쌍으로 저장되어 있기 때문이고 처음 * 는 key를 두번째 *는 value를 가져오라는 의미이다\n",
    "# *가 하나만 있을 경우에섯 key를 가져오라는 의미이다."
   ]
  },
  {
   "cell_type": "code",
   "execution_count": 68,
   "metadata": {},
   "outputs": [
    {
     "name": "stdout",
     "output_type": "stream",
     "text": [
      "(4, -2)\n",
      "7\n"
     ]
    }
   ],
   "source": [
    "# 함수의 반환값은 허너아더,\n",
    "def sum_and_mull(a,b):\n",
    "    return a+b,a-b\n",
    "result = sum_and_mull(1,3) # 한개의 값 즉, 한개의 튜플로 리턴된다.\n",
    "print(result)\n",
    "\n",
    "def sum_and_minus(a,b):\n",
    "    return a+b # 실행을 중단하라는 의미도 있다.\n",
    "    return a-b # 에러는 나지 않지만 실행은 안된다.\n",
    "\n",
    "print(sum_and_minus(3,4))"
   ]
  },
  {
   "cell_type": "code",
   "execution_count": 75,
   "metadata": {},
   "outputs": [
    {
     "name": "stdout",
     "output_type": "stream",
     "text": [
      "내 이름은 소향입니다. 나이는 40살입니다.\n",
      "여자입니다\n",
      "내 이름은 소향입니다. 나이는 40살입니다.\n",
      "남자\n"
     ]
    }
   ],
   "source": [
    "# 매개변수에서 초기값을 사전에 설정하기\n",
    "def selfIntro(name, age,gender=1):\n",
    "    print(\"내 이름은 %s입니다. 나이는 %d살입니다.\"%(name,age))\n",
    "    if gender:\n",
    "        print(\"여자입니다\")\n",
    "    else:\n",
    "        print(\"남자\")\n",
    "\n",
    "selfIntro('소향',40)\n",
    "selfIntro('소향',40,0)"
   ]
  },
  {
   "cell_type": "code",
   "execution_count": null,
   "metadata": {},
   "outputs": [],
   "source": [
    "# 매개변수 초기값을 설정할 때 주의사항\n",
    "# 초기화시킬 매개변수는 항상 맨 뒤에 위치시켜야 헌다. \n",
    "def selfIntro(name,gender=1, age):\n",
    "    print(\"내 이름은 %s입니다. 나이는 %d살입니다.\"%(name,age))\n",
    "    if gender:\n",
    "        print(\"여자입니다\")\n",
    "    else:\n",
    "        print(\"남자\")\n",
    "#selfIntro('소향',40) # ERROR : 두번재 인자값인지 세번째 인자값인지 구별못함.\n",
    "#selfIntro('소향',1,40) # ERROR : 꼭 디폴트 argument 는 맨 뒤에 위치하여야 함."
   ]
  },
  {
   "cell_type": "markdown",
   "metadata": {},
   "source": [
    "### lambda 함수\n",
    "lambda 함수는 함수를 생성할 때 사용하는 예약어로 def와 동일하지만, def를 생성한 함수는 임의의 이름을 가져야 하지만 lambda 로 생성되는 함수는 이름이 없다. 이름이 없기 때문에 익명함수라고도 한다. \n",
    "\n",
    "lambda함수를 사용하는 가장 큰 이유는 수행할 명령어 하나만 있는 함수와 같이 def로 생성할 정도로 복잡하지 않거나 def를 사용할 수 없는 곳에서 사용한다.\n",
    "\n",
    "#### lambda의 사용법\n",
    "```python\n",
    "lambda 매개변수 1, 매개변수 n :  매개변수를 이용한 실행문\n",
    "```"
   ]
  },
  {
   "cell_type": "code",
   "execution_count": null,
   "metadata": {},
   "outputs": [],
   "source": [
    "def plus(a,b):\n",
    "    return a+b\n",
    "print(plus(1,2))\n",
    "\n",
    "#lambda식으로 표현\n",
    "\n",
    "sumLambda = lambda a,b: a+b\n",
    "print(type(sumLambda))\n",
    "print(type(plus))\n",
    "\n",
    "print(plus(1,2))\n",
    "print(sumLambda(1,2))"
   ]
  },
  {
   "cell_type": "code",
   "execution_count": 120,
   "metadata": {},
   "outputs": [
    {
     "name": "stdout",
     "output_type": "stream",
     "text": [
      "<class 'function'>\n",
      "2\n",
      "<class 'function'>\n",
      "3\n"
     ]
    }
   ],
   "source": [
    "# lambda식이 나오게 된 가장 큰 이유는 def보다 간결하게 사용할 수 있기 때문이다.\n",
    "# 또한 lambda는 def를 사용할 수 없는 곳에서도 사용할 수 있다. \n",
    "# myList =[def sum(x,y): x+y,def mul(x,y):x*y]\n",
    "# 상기문은 에러가 발생하기 때문에 아래와 같이 정의할 수 있다.\n",
    "\n",
    "def sum(x,y): return x+y\n",
    "def mul(x,y): return x*y\n",
    "myList=[sum,mul]\n",
    "print(type(myList[0]))\n",
    "print(myList[0](1,1))\n",
    "\n",
    "#lambda로 리스트 정의\n",
    "myList=[lambda a,b,: a+b, lambda a,b:a*b]\n",
    "print(type(myList[0]))\n",
    "print(myList[0](1,2))"
   ]
  },
  {
   "cell_type": "markdown",
   "metadata": {},
   "source": [
    "## 연습문제"
   ]
  },
  {
   "cell_type": "code",
   "execution_count": 122,
   "metadata": {},
   "outputs": [
    {
     "name": "stdout",
     "output_type": "stream",
     "text": [
      "홀수입니다\n",
      "홀수입니다.\n"
     ]
    }
   ],
   "source": [
    "# 1. 홀수, 짝수를 구분하는 is_odd() 함수 작성\n",
    "# 주어진 숫자가 홀수인지 짝수인지 구별해서 '짝수입니다' or '홀수입니다' 출력\n",
    "# is_odd(number)\n",
    "\n",
    "\n",
    "def is_odd(number):\n",
    "    return '짝수입니다'if number%2==0 else '홀수입니다'\n",
    "\n",
    "print(is_odd(3))\n",
    "\n",
    "\n",
    "# 란다식 풀이 \n",
    "isOddLambda = lambda x: '짝수입니다.' if x%2 == 0 else '홀수입니다.'\n",
    "print(isOddLambda(3))"
   ]
  },
  {
   "cell_type": "code",
   "execution_count": 129,
   "metadata": {},
   "outputs": [
    {
     "name": "stdout",
     "output_type": "stream",
     "text": [
      "5.5\n",
      "5.5\n"
     ]
    }
   ],
   "source": [
    "# 2. 입력된 모든 수의 평균을 계산하는 funcAvg()함수를 작성\n",
    "# 단. 입력매개변수의 갯수는 정해져 있지 않다.\n",
    "# funcAvg()\n",
    "\n",
    "def funcAvg(*args):\n",
    "    sum = 0\n",
    "    for i in args: sum += i \n",
    "    return sum/len(args)\n",
    "print(funcAvg(1,2,3,4,5,6,7,8,9,10))\n",
    "# funcAvg([1,2,3,4,5,6,7,8,9,10]) # error 발생\n",
    "funcAvg(*[1,2,3,4,5,6,7,8,9,10]) \n",
    "print(funcAvg(*(1,2,3,4,5,6,7,8,9,10)))"
   ]
  },
  {
   "cell_type": "code",
   "execution_count": 149,
   "metadata": {},
   "outputs": [
    {
     "name": "stdout",
     "output_type": "stream",
     "text": [
      "8X1=8\n",
      "8X2=16\n",
      "8X3=24\n",
      "8X4=32\n",
      "8X5=40\n",
      "8X6=48\n",
      "8X7=56\n",
      "8X8=64\n",
      "8X9=72\n"
     ]
    }
   ],
   "source": [
    "# 3. 구구단을 출력하는 함수 gugudan()함수를 작성\n",
    "# 입력값은 2~9단까지 한개의 임의의 단을 입력\n",
    "#gugudan(9)\n",
    "def gugudan(dan):\n",
    "    for i in range(1,10):print(f\"{dan}X{i}={dan*i}\")\n",
    "gugudan(8)\n",
    "\n",
    "# lambda\n",
    "# gugudamLambda = lambda x:print(f\"{x}X{i}={x*i}\") for i in range(1,10)\n",
    "# gugudamLambda(8)"
   ]
  },
  {
   "cell_type": "code",
   "execution_count": 133,
   "metadata": {},
   "outputs": [
    {
     "name": "stdout",
     "output_type": "stream",
     "text": [
      "[6, 7, 8]\n",
      "[6, 7, 8]\n"
     ]
    }
   ],
   "source": [
    "# 4. 리스트 [2,3,4,5,6,7,8]에서 5보다 큰 수만 리턴하는 funcReturn()함수 작성\n",
    "def funcReturn(list):\n",
    "    result =[]\n",
    "    for i in list:\n",
    "        if i>5:\n",
    "            result.append(i)\n",
    "    return result\n",
    "\n",
    "print(funcReturn([2,3,4,5,6,7,8]))\n",
    "\n",
    "#lambda \n",
    "lambdaReturn = lambda i : [ val for val in i if val>5]\n",
    "print(lambdaReturn([2,3,4,5,6,7,8]))"
   ]
  },
  {
   "cell_type": "markdown",
   "metadata": {},
   "source": [
    "### Closer(클러저)\n",
    "<img src=\"./images/11.함수_function_05.png\" width=\"70%\" />\n",
    "<img src=\"./images/11.함수_function_06.png\" width=\"70%\" />"
   ]
  },
  {
   "cell_type": "code",
   "execution_count": 139,
   "metadata": {},
   "outputs": [
    {
     "name": "stdout",
     "output_type": "stream",
     "text": [
      "10\n",
      "10\n",
      "1000\n"
     ]
    },
    {
     "ename": "NameError",
     "evalue": "name 'k' is not defined",
     "output_type": "error",
     "traceback": [
      "\u001b[1;31m---------------------------------------------------------------------------\u001b[0m",
      "\u001b[1;31mNameError\u001b[0m                                 Traceback (most recent call last)",
      "\u001b[1;32m<ipython-input-139-c1f943ee7347>\u001b[0m in \u001b[0;36m<module>\u001b[1;34m\u001b[0m\n\u001b[0;32m     12\u001b[0m     \u001b[0mprint\u001b[0m\u001b[1;33m(\u001b[0m\u001b[0mk\u001b[0m\u001b[1;33m)\u001b[0m\u001b[1;33m\u001b[0m\u001b[1;33m\u001b[0m\u001b[0m\n\u001b[0;32m     13\u001b[0m \u001b[0mfoo1\u001b[0m\u001b[1;33m(\u001b[0m\u001b[1;33m)\u001b[0m\u001b[1;33m\u001b[0m\u001b[1;33m\u001b[0m\u001b[0m\n\u001b[1;32m---> 14\u001b[1;33m \u001b[0mprint\u001b[0m\u001b[1;33m(\u001b[0m\u001b[0mk\u001b[0m\u001b[1;33m)\u001b[0m\u001b[1;33m\u001b[0m\u001b[1;33m\u001b[0m\u001b[0m\n\u001b[0m",
      "\u001b[1;31mNameError\u001b[0m: name 'k' is not defined"
     ]
    }
   ],
   "source": [
    "# 1. 변수의 사용범위\n",
    "# 1) 전역변수(Global variable)\n",
    "x = 10 \n",
    "def foo():\n",
    "    print(x)\n",
    "foo()\n",
    "print(x)\n",
    "\n",
    "# 1) 지역변수(local variable)\n",
    "def foo1():\n",
    "    k = 1000\n",
    "    print(k)\n",
    "foo1()\n",
    "#print(k) # error k가 지역변수에서 외부에서 접근 불가"
   ]
  },
  {
   "cell_type": "code",
   "execution_count": null,
   "metadata": {},
   "outputs": [],
   "source": [
    "# 2. 함수안에서 전역변수 변경하기\n",
    "x = 10\n",
    "def foo():\n",
    "    x = 20\n",
    "    print(x)\n",
    "\n",
    "foo()\n",
    "print(x)\n",
    "\n",
    "# 전역변수로  정의하는 방법\n",
    "y= 10 \n",
    "def foo():\n",
    "    global y  # y 전역변수 설정\n",
    "    y = 20\n",
    "    print(y)\n",
    "foo()\n",
    "print(y)\n",
    "# \n",
    "def foo():\n",
    "    global z \n",
    "    z = 30 \n",
    "    print(z)\n",
    "\n",
    "foo()\n",
    "print(z)"
   ]
  },
  {
   "cell_type": "code",
   "execution_count": 148,
   "metadata": {},
   "outputs": [
    {
     "name": "stdout",
     "output_type": "stream",
     "text": [
      "a\t add\t calculator\t foo\t foo1\t func\t func1\t funcAvg\t funcReturn\t \n",
      "gugudan\t hello\t isOddLambda\t is_odd\t lambdaReturn\t manySum\t mul\t multiReturn\t myList\t \n",
      "peraonal_info\t plus\t result\t sayHello\t selfIntro\t sum\t sumLambda\t sumReturn\t sum_and_minus\t \n",
      "sum_and_mull\t x\t y\t z\t \n"
     ]
    },
    {
     "data": {
      "text/plain": [
       "{'__name__': '__main__',\n",
       " '__doc__': 'Automatically created module for IPython interactive environment',\n",
       " '__package__': None,\n",
       " '__loader__': None,\n",
       " '__spec__': None,\n",
       " '__builtin__': <module 'builtins' (built-in)>,\n",
       " '__builtins__': <module 'builtins' (built-in)>,\n",
       " '_ih': ['',\n",
       "  'print(\\'a\\',\\'b\\',\\'c\\',sep=\",\")',\n",
       "  '# \"hello python\"이라는 문자를 호출하는 함수 작성\\ndef hello():\\n    print(\"hello python\")\\nhello()',\n",
       "  '# 함수 호출\\nhello()',\n",
       "  'add(3,7)',\n",
       "  '# 인자가 있는 함수선언\\n# 더하기 함수\\ndef add(a,b):\\n    print(a+b)',\n",
       "  'add(3,7)',\n",
       "  'add(\"z\",\"v\")',\n",
       "  'add(\"z\",1)',\n",
       "  'add(3,1)',\n",
       "  '# 인자가 있는 함수선언\\n# 더하기 함수\\ndef add(a,b):\\n    print(a+b)\\n\\nadd(3,1)\\n\\ndef plus(x,y):\\n    return x+y\\n\\nplus(3,7',\n",
       "  '# 인자가 있는 함수선언\\n# 더하기 함수\\ndef add(a,b):\\n    print(a+b)\\n\\nadd(3,1)\\n\\ndef plus(x,y):\\n    return x+y\\n\\nplus(3,7)',\n",
       "  '# 인자가 있는 함수선언\\n# 더하기 함수\\ndef add(a,b):\\n    print(a+b)\\n\\nadd(3,1)\\n\\ndef plus(x,y):\\n    return x+y\\n\\nresult = plus(3,7) # 리턴이 있는 함수는 결과값을 반환받을 수 있다.\\nprint(result)',\n",
       "  '# 인자가 없는 함수\\ndef sayHello():\\n    return \"Hello\"\\n\\nsayHello()',\n",
       "  '# 결과값(리턴)이 없는 함수\\ndef sum(i,j):\\n    print(\"%d + %d = %d\",%(i,j,i+j)',\n",
       "  '# 결과값(리턴)이 없는 함수\\ndef sum(i,j):\\n    print(\"%d + %d = %d\"%(i,j,i+j))',\n",
       "  '# 결과값(리턴)이 없는 함수\\ndef sum(i,j):\\n    print(\"%d + %d = %d\"%(i,j,i+j))\\nsum(3,7)\\na = sum(3,7)\\nprint(a)',\n",
       "  '# 결과값(리턴)이 있는 함수 \\ndef sumReturn(i,j):\\n    return i+j\\n\\nresult = sumReturn(3,7)\\nprint(result)',\n",
       "  '# 함수를 사용하는 장점\\n# 매개변수의 순서와 상관없이 자유롭게 호출 가능하다.\\n\\nprint(sumReturn(3,7))',\n",
       "  '# 함수를 사용하는 장점\\n# 매개변수의 순서와 상관없이 자유롭게 호출 가능하다.\\n\\nprint(sumReturn(3,7))\\nprint(sumReturn(i=3,j=1))',\n",
       "  '# 함수를 사용하는 장점\\n# 매개변수의 순서와 상관없이 자유롭게 호출 가능하다.\\n\\nprint(sumReturn(3,7))\\nprint(sumReturn(i=3,z=1))',\n",
       "  '# 함수를 사용하는 장점\\n# 매개변수의 순서와 상관없이 자유롭게 호출 가능하다.\\n\\nprint(sumReturn(3,7))\\nprint(sumReturn(i=3,j=1))',\n",
       "  '# 함수에서 여러개의 값을 반환하기\\ndef multiReturn(a,b):\\n    return a+b,a-b,a*b,a/b\\nprint(multiReturn(10,2))',\n",
       "  '# 함수에서 여러개의 값을 반환하기\\ndef multiReturn(a,b):\\n    return a+b,a-b,a*b,a/b\\nprint(type(multiReturn(10,2)))',\n",
       "  '# 함수에서 여러개의 값을 반환하기\\ndef multiReturn(a,b):\\n    return a+b,a-b,a*b,a/b\\nprint(multiReturn(10,2))\\nprint(type(multiReturn(10,2)))',\n",
       "  '# 함수에서 여러개의 값을 반환하기\\ndef multiReturn(a,b):\\n    return a+b,a-b,a*b,a/b\\nprint(multiReturn(10,2))\\nprint(type(multiReturn(10,2))) #type 튜플\\n\\nx,y,z,a = multiReturn(10,2)\\nprint(x)',\n",
       "  '# 함수에서 여러개의 값을 반환하기\\ndef multiReturn(a,b):\\n    return a+b,a-b,a*b,a/b\\nprint(multiReturn(10,2))\\nprint(type(multiReturn(10,2))) #type 튜플\\n\\nx,y,z,a = multiReturn(10,2)\\nprint(x,y,z,a)',\n",
       "  '# 함수에서 여러개의 값을 반환하기\\ndef multiReturn(a,b):\\n    return a+b,a-b,a*b,a/b\\nprint(multiReturn(10,2))\\nprint(type(multiReturn(10,2))) #type 튜플\\n\\nx,y,z,a = multiReturn(10,2)\\nprint(x,y,z,a)\\n\\nx,y,z = multiReturn(10,2)',\n",
       "  '# 함수에서 여러개의 값을 반환하기\\ndef multiReturn(a,b):\\n    return a+b,a-b,a*b,a/b\\nprint(multiReturn(10,2))\\nprint(type(multiReturn(10,2))) #type 튜플\\n\\nx,y,z,a = multiReturn(10,2)\\nprint(x,y,z,a)\\n\\n# x,y,z = multiReturn(10,2) return 하는 값과 return 받는 변수는 동일 갯수여야함.',\n",
       "  '# *args : 입력값이 여러개 일 경우 정의하는 매개변수 이다.\\ndef manySum(a,b):\\n    return a+b\\n\\nmanySum(1,2)\\n        ',\n",
       "  '# *args : 입력값이 여러개 일 경우 정의하는 매개변수 이다.\\ndef manySum(a,b):\\n    return a+b\\n\\nmanySum(1,2,3,4)\\n        ',\n",
       "  '# *args : 입력값이 여러개 일 경우 정의하는 매개변수 이다.\\ndef manySum(*args):\\n    print(type(args))\\n\\nmanySum(1,2,3,4)\\n        ',\n",
       "  '# *args : 입력값이 여러개 일 경우 정의하는 매개변수 이다.\\ndef manySum(*args):\\n    print(type(args[1]))\\n\\nmanySum(1,2,3,4)\\n        ',\n",
       "  '# *args : 입력값이 여러개 일 경우 정의하는 매개변수 이다.\\ndef manySum(*args):\\n    print(type(args))\\n\\nmanySum(1,2,3,4)\\n        ',\n",
       "  '# *args : 입력값이 여러개 일 경우 정의하는 매개변수 이다.\\ndef manySum(*args):\\n    print(type(args))\\n    print(len(args))\\n\\nmanySum(1,2,3,4)\\n        ',\n",
       "  '# *args : 입력값이 여러개 일 경우 정의하는 매개변수 이다.\\ndef manySum(*args):\\n    print(type(args))\\n    print(len(args))\\n    sum = 0\\n    for i in args:\\n        sum += i\\n    \\n    return sum\\nmanySum(1,2,3,4)\\n        ',\n",
       "  '# *args : 입력값이 여러개 일 경우 정의하는 매개변수 이다.\\ndef manySum(*args):\\n    print(type(args))\\n    print(len(args))\\n    sum = 0\\n    sum = sum+=i for i in args\\n    for i in args:\\n        sum += i\\n    \\n    return sum\\nmanySum(1,2,3,4)\\n        ',\n",
       "  '# *args : 입력값이 여러개 일 경우 정의하는 매개변수 이다.\\ndef manySum(*args):\\n    print(type(args))\\n    print(len(args))\\n    sum = 0\\n    for i in args:\\n        sum += i\\n    return sum\\nmanySum(1,2,3,4)\\n        ',\n",
       "  '# *args : 입력값이 여러개 일 경우 정의하는 매개변수 이다.\\ndef manySum(*args):\\n    print(type(args))\\n    print(len(args))\\n    sum = 0\\n    for i in args:\\n        sum += i\\n    return sum\\nmanySum(1,2,3,4)',\n",
       "  '# 유동적으로 실행하는 계산기 : 사칙연산을 실행하는 계산기\\ndef calculator(operator,*args):\\n    result = 0\\n    if operator = \\'+\\': pass\\n    if operator = \\'-\\': pass\\n    if operator = \\'*\\': pass\\n    if operator = \\'/\\': pass\\n    return\\n    print(\"sdsdsds\")\\n    \\nprint(calculator(\\'-\\',1,2,5,8))',\n",
       "  '# 유동적으로 실행하는 계산기 : 사칙연산을 실행하는 계산기\\ndef calculator(operator,*args):\\n    result = 0\\n    if operator ==\\'+\\': pass\\n    if operator == \\'-\\': pass\\n    if operator == \\'*\\': pass\\n    if operator == \\'/\\': pass\\n    return\\n    print(\"sdsdsds\")\\n    \\nprint(calculator(\\'-\\',1,2,5,8))',\n",
       "  '# 유동적으로 실행하는 계산기 : 사칙연산을 실행하는 계산기\\ndef calculator(operator,*args):\\n    result = 0\\n    if operator ==\\'+\\': pass\\n    if operator == \\'-\\': pass\\n    if operator == \\'*\\': pass\\n    if operator == \\'/\\': pass\\n    return result\\n    print(\"sdsdsds\")\\n    \\nprint(calculator(\\'-\\',1,2,5,8))',\n",
       "  '# 유동적으로 실행하는 계산기 : 사칙연산을 실행하는 계산기\\ndef calculator(operator,*args):\\n    result = 0\\n    if operator ==\\'+\\': \\n        result = [result+=i for i in args]\\n    if operator == \\'-\\': pass\\n    if operator == \\'*\\': pass\\n    if operator == \\'/\\': pass\\n    return result\\n    print(\"sdsdsds\")\\n    \\nprint(calculator(\\'+\\',1,2,5,8))\\nprint(calculator(\\'-\\',1,2,5))\\nprint(calculator(\\'*\\',1,2,5,8,8,7))\\nprint(calculator(\\'/\\',1,2,5,8,9,11))',\n",
       "  '# 유동적으로 실행하는 계산기 : 사칙연산을 실행하는 계산기\\ndef calculator(operator,*args):\\n    result = 0\\n    if operator ==\\'+\\': \\n        result = [result=i for i in args]\\n    if operator == \\'-\\': pass\\n    if operator == \\'*\\': pass\\n    if operator == \\'/\\': pass\\n    return result\\n    print(\"sdsdsds\")\\n    \\nprint(calculator(\\'+\\',1,2,5,8))\\nprint(calculator(\\'-\\',1,2,5))\\nprint(calculator(\\'*\\',1,2,5,8,8,7))\\nprint(calculator(\\'/\\',1,2,5,8,9,11))',\n",
       "  '# 유동적으로 실행하는 계산기 : 사칙연산을 실행하는 계산기\\ndef calculator(operator,*args):\\n    result = 0\\n    if operator ==\\'+\\': \\n        result = [i for i in args]\\n    if operator == \\'-\\': pass\\n    if operator == \\'*\\': pass\\n    if operator == \\'/\\': pass\\n    return result\\n    print(\"sdsdsds\")\\n    \\nprint(calculator(\\'+\\',1,2,5,8))\\nprint(calculator(\\'-\\',1,2,5))\\nprint(calculator(\\'*\\',1,2,5,8,8,7))\\nprint(calculator(\\'/\\',1,2,5,8,9,11))',\n",
       "  '# 유동적으로 실행하는 계산기 : 사칙연산을 실행하는 계산기\\ndef calculator(operator,*args):\\n    result = 0\\n    if operator ==\\'+\\': \\n        result = [result+=i for i in args]\\n    if operator == \\'-\\': pass\\n    if operator == \\'*\\': pass\\n    if operator == \\'/\\': pass\\n    return result\\n    print(\"sdsdsds\")\\n    \\nprint(calculator(\\'+\\',1,2,5,8))\\nprint(calculator(\\'-\\',1,2,5))\\nprint(calculator(\\'*\\',1,2,5,8,8,7))\\nprint(calculator(\\'/\\',1,2,5,8,9,11))',\n",
       "  '# 유동적으로 실행하는 계산기 : 사칙연산을 실행하는 계산기\\ndef calculator(operator,*args):\\n    result = 0\\n    if operator ==\\'+\\': \\n        result = [result=result+i for i in args]\\n    if operator == \\'-\\': pass\\n    if operator == \\'*\\': pass\\n    if operator == \\'/\\': pass\\n    return result\\n    print(\"sdsdsds\")\\n    \\nprint(calculator(\\'+\\',1,2,5,8))\\nprint(calculator(\\'-\\',1,2,5))\\nprint(calculator(\\'*\\',1,2,5,8,8,7))\\nprint(calculator(\\'/\\',1,2,5,8,9,11))',\n",
       "  '# 키워드 파라미터 kwargs\\n# kwargs는 keyword argments의 약어이다. **kwargs는 *args와 다르게 별표(*)가 두개 사용된다.\\n# 함수인수로서 **kwargs가 key=value형태로 주어졌을때 입력값 전체가 딕셔너리형태로 반환된다.\\ndef func(**kwargs):\\n    print(kwargs)\\n    print(type(kwargs))\\n    ',\n",
       "  '# 키워드 파라미터 kwargs\\n# kwargs는 keyword argments의 약어이다. **kwargs는 *args와 다르게 별표(*)가 두개 사용된다.\\n# 함수인수로서 **kwargs가 key=value형태로 주어졌을때 입력값 전체가 딕셔너리형태로 반환된다.\\ndef func(**kwargs):\\n    print(kwargs)\\n    print(type(kwargs))\\n    ',\n",
       "  '# 키워드 파라미터 kwargs\\n# kwargs는 keyword argments의 약어이다. **kwargs는 *args와 다르게 별표(*)가 두개 사용된다.\\n# 함수인수로서 **kwargs가 key=value형태로 주어졌을때 입력값 전체가 딕셔너리형태로 반환된다.\\ndef func(**kwargs):\\n    print(kwargs)\\n    print(type(kwargs))\\nfunc(1,2,5,3)',\n",
       "  '# 키워드 파라미터 kwargs\\n# kwargs는 keyword argments의 약어이다. **kwargs는 *args와 다르게 별표(*)가 두개 사용된다.\\n# 함수인수로서 **kwargs가 key=value형태로 주어졌을때 입력값 전체가 딕셔너리형태로 반환된다.\\ndef func(**kwargs):\\n    print(kwargs)\\n    print(type(kwargs))\\n#func(1,2,5,3) # 에러발생 key=value 형태로 전달되어야 한다.\\nfunc(a=1,b=v)',\n",
       "  \"# 키워드 파라미터 kwargs\\n# kwargs는 keyword argments의 약어이다. **kwargs는 *args와 다르게 별표(*)가 두개 사용된다.\\n# 함수인수로서 **kwargs가 key=value형태로 주어졌을때 입력값 전체가 딕셔너리형태로 반환된다.\\ndef func(**kwargs):\\n    print(kwargs)\\n    print(type(kwargs))\\n#func(1,2,5,3) # 에러발생 key=value 형태로 전달되어야 한다.\\nfunc(a=1,b='v')\",\n",
       "  \"# 키워드 파라미터 kwargs\\n# kwargs는 keyword argments의 약어이다. **kwargs는 *args와 다르게 별표(*)가 두개 사용된다.\\n# 함수인수로서 **kwargs가 key=value형태로 주어졌을때 입력값 전체가 딕셔너리형태로 반환된다.\\ndef func(**kwargs):\\n    print(kwargs)\\n    print(type(kwargs))\\n#func(1,2,5,3) # 에러발생 key=value 형태로 전달되어야 한다.\\nfunc(a=1,b='v')\\nfunc(name='홍길동',age='17')\",\n",
       "  \"def func1(*args,**kwargs):\\n    print(args,kwargs)\\n\\n    \\nfunc1(1,2,3,name='ham',age='25')\",\n",
       "  \"def func1(*args,**kwargs):\\n    print(args,kwargs)\\n\\n    \\nfunc1(1,2,3,name='ham',age='25')\\nfunc1(1,2,3,name='ham',age='25',45,46)\",\n",
       "  \"def func1(*args,**kwargs):\\n    print(args,kwargs)\\n\\n    \\nfunc1(1,2,3,name='ham',age='25')\\n#func1(1,2,3,name='ham',age='25',45,46) # error : flexable 하니까 어떤게 args 인지 kwargs 인지 구별 못함. \\nfunc1(1,2,3,name='ham',age='25') # 끝나는 위치에 따라 args인즈 kwargs인지 구별\",\n",
       "  'def func1(*args,**kwargs):\\n    print(args,kwargs)\\n\\n    \\nfunc1(1,2,3,name=\\'ham\\',age=\\'25\\')\\n#func1(1,2,3,name=\\'ham\\',age=\\'25\\',45,46) # error : flexable 하니까 어떤게 args 인지 kwargs 인지 구별 못함. \\nfunc1(1,2,3,name=\\'ham\\',age=\\'25\\',개읹정보=\"y\") # 끝나는 위치에 따라 args인즈 kwargs인지 구별',\n",
       "  '# 개인정보를 출력하는 함수에서\\ndef peraonal_info(name,age,addr):\\n    print(\"이름=\",name)\\n    print(\"나이=\",age)\\n    print(\"주소=\",addr)\\n\\nperaonal_info(\\'ham\\',28,\\'의정부\\')',\n",
       "  '# 개인정보를 출력하는 함수에서\\ndef peraonal_info(name,age,addr):\\n    print(\"이름=\",name)\\n    print(\"나이=\",age)\\n    print(\"주소=\",addr)\\n\\nperaonal_info(\\'ham\\',28,\\'의정부\\')\\nperaonal_info(28,\\'ham\\',\\'의정부\\')',\n",
       "  '# 개인정보를 출력하는 함수에서\\ndef peraonal_info(name,age,addr):\\n    print(\"이름=\",name)\\n    print(\"나이=\",age)\\n    print(\"주소=\",addr)\\n\\nperaonal_info(\\'ham\\',28,\\'의정부\\')\\nperaonal_info(28,\\'ham\\',\\'의정부\\') # 에러는 아니지만 개발자의 예상과 다르게 동작할 수 있다.\\nperaonal_info(name=\\'han\\',age=258,addr=\"서울\")',\n",
       "  \"x = {'name':'ham','age':28,'addr':'서울'}\\n\\nperaonal_info(**x)\",\n",
       "  'x = {\\'name\\':\\'ham\\',\\'age\\':28,\\'addr\\':\\'서울\\'}\\n\\nperaonal_info(**x)\\n# 상기 호출은 peraonal_info(name=\\'han\\',age=258,addr=\"서울\") 과 동일한 형태\\n\\nperaonal_info(*x)',\n",
       "  'x = {\\'name\\':\\'ham\\',\\'age\\':28,\\'addr\\':\\'서울\\'}\\n\\nperaonal_info(**x)\\n# 상기 호출은 peraonal_info(name=\\'han\\',age=258,addr=\"서울\") 과 동일한 형태\\n\\nperaonal_info(*x.values())\\n# *x는 키만전달됨.',\n",
       "  'x = {\\'name\\':\\'ham\\',\\'age\\':28,\\'addr\\':\\'서울\\'}\\n\\nperaonal_info(**x)\\n# 상기 호출은 peraonal_info(name=\\'han\\',age=258,addr=\"서울\") 과 동일한 형태\\n\\nperaonal_info(*x)\\n# *x는 키만전달됨.\\nperaonal_info(*x.values())\\n# 값만 전달됨',\n",
       "  'x = {\\'name\\':\\'ham\\',\\'age\\':28,\\'addr\\':\\'서울\\'}\\n\\nperaonal_info(**x)\\n# 상기 호출은 peraonal_info(name=\\'han\\',age=258,addr=\"서울\") 과 동일한 형태\\n\\nperaonal_info(*x)\\n# *x는 키만전달됨.\\nperaonal_info(*x.values())\\n# 값만 전달됨 (파라미터 순서가 맞아야하긴 하지만)',\n",
       "  '# 함수의 반환값은 허너아더,\\ndef sum_and_mull(a,b):\\n    return a+b,a-b\\nresult = sum_and_mull(1,3)',\n",
       "  '# 함수의 반환값은 허너아더,\\ndef sum_and_mull(a,b):\\n    return a+b,a-b\\nresult = sum_and_mull(1,3)\\nprint(result)',\n",
       "  '# 함수의 반환값은 허너아더,\\ndef sum_and_mull(a,b):\\n    return a+b,a-b\\nresult = sum_and_mull(1,3) # 한개의 값 즉, 한개의 튜플로 리턴된다.\\nprint(result)\\n\\ndef sum_and_minus(a,b):\\n    return a+b\\n    return a-b\\nprint(sum_and_minus(3,4))',\n",
       "  '# 함수의 반환값은 허너아더,\\ndef sum_and_mull(a,b):\\n    return a+b,a-b\\nresult = sum_and_mull(1,3) # 한개의 값 즉, 한개의 튜플로 리턴된다.\\nprint(result)\\n\\ndef sum_and_minus(a,b):\\n    return a+b\\n    return a-b # 에러는 나지 않지만 실행은 안된다.\\n\\nprint(sum_and_minus(3,4))',\n",
       "  '# 유동적으로 실행하는 계산기 : 사칙연산을 실행하는 계산기\\ndef calculator(operator,*args):\\n    result = 0\\n    if operator ==\\'+\\': \\n        for i in args:\\n            result+=i\\n    if operator == \\'-\\': pass\\n    if operator == \\'*\\': pass\\n    if operator == \\'/\\': pass\\n    return result\\n    print(\"sdsdsds\")\\n    \\nprint(calculator(\\'+\\',1,2,5,8))\\nprint(calculator(\\'-\\',1,2,5))\\nprint(calculator(\\'*\\',1,2,5,8,8,7))\\nprint(calculator(\\'/\\',1,2,5,8,9,11))',\n",
       "  '# 유동적으로 실행하는 계산기 : 사칙연산을 실행하는 계산기\\ndef calculator(operator,*args):\\n    result = 0\\n    if operator ==\\'+\\': \\n        for i in args:\\n            result+=i\\n    if operator == \\'-\\':\\n        for i in args:\\n            result -= i\\n            \\n    if operator == \\'*\\': pass\\n    if operator == \\'/\\': pass\\n    return result\\n    print(\"sdsdsds\")\\n    \\nprint(calculator(\\'+\\',1,2,5,8))\\nprint(calculator(\\'-\\',1,2,5))\\nprint(calculator(\\'*\\',1,2,5,8,8,7))\\nprint(calculator(\\'/\\',1,2,5,8,9,11))',\n",
       "  '# 유동적으로 실행하는 계산기 : 사칙연산을 실행하는 계산기\\ndef calculator(operator,*args):\\n    result = 0\\n    if operator ==\\'+\\': \\n        for i in args:\\n            result+=i\\n    if operator == \\'-\\':\\n        for i in args:\\n            result -= i\\n    if operator == \\'*\\':\\n        result = 1\\n        for i in args:\\n            result *= i\\n    if operator == \\'/\\': pass\\n    return result\\n    print(\"sdsdsds\")\\n    \\nprint(calculator(\\'+\\',1,2,5,8))\\nprint(calculator(\\'-\\',1,2,5))\\nprint(calculator(\\'*\\',1,2,5,8,8,7))\\nprint(calculator(\\'/\\',1,2,5,8,9,11))',\n",
       "  '# 유동적으로 실행하는 계산기 : 사칙연산을 실행하는 계산기\\ndef calculator(operator,*args):\\n    result = 0\\n    if operator ==\\'+\\': \\n        for i in args:\\n            result+=i\\n    if operator == \\'-\\':\\n        for i in args:\\n            result -= i\\n    if operator == \\'*\\':\\n        result = 1\\n        for i in args:\\n            result *= i\\n    if operator == \\'/\\': pass\\n    return result\\n    print(\"sdsdsds\")\\n    \\nprint(calculator(\\'+\\',1,2,5,8))\\nprint(calculator(\\'-\\',1,2,5))\\nprint(calculator(\\'*\\',1,2,5))\\nprint(calculator(\\'/\\',1,2,5,8,9,11))',\n",
       "  '# 매개변수에서 초기값을 사전에 설정하기\\ndef selfIntro(name, age,gender=1):\\n    print(\"내 이름은 %s입니다. 나이는 %d살입니다.\"%(name,age))\\n    if gender:\\n        print(\"여자입니다\")\\n    else:\\n        print(\"남자\")\\n\\nselfIntro(\\'소향\\',40)',\n",
       "  '# 매개변수에서 초기값을 사전에 설정하기\\ndef selfIntro(name, age,gender=1):\\n    print(\"내 이름은 %s입니다. 나이는 %d살입니다.\"%(name,age))\\n    if gender:\\n        print(\"여자입니다\")\\n    else:\\n        print(\"남자\")\\n\\nselfIntro(\\'소향\\',40)\\nselfIntro(\\'소향\\',40.0)',\n",
       "  '# 매개변수에서 초기값을 사전에 설정하기\\ndef selfIntro(name, age,gender=1):\\n    print(\"내 이름은 %s입니다. 나이는 %d살입니다.\"%(name,age))\\n    if gender:\\n        print(\"여자입니다\")\\n    else:\\n        print(\"남자\")\\n\\nselfIntro(\\'소향\\',40)\\nselfIntro(\\'소향\\',40,0)',\n",
       "  '# 매개변수 초기값을 설정할 때 주의사항\\n# 초기화시킬 매개변수는 항상 맨 뒤에 위치시켜야 헌다. \\ndef selfIntro(name,gender=1, age):\\n    print(\"내 이름은 %s입니다. 나이는 %d살입니다.\"%(name,age))\\n    if gender:\\n        print(\"여자입니다\")\\n    else:\\n        print(\"남자\")\\nselfIntro(\\'소향\\',40)',\n",
       "  '# 매개변수 초기값을 설정할 때 주의사항\\n# 초기화시킬 매개변수는 항상 맨 뒤에 위치시켜야 헌다. \\ndef selfIntro(name,gender=1, age):\\n    print(\"내 이름은 %s입니다. 나이는 %d살입니다.\"%(name,age))\\n    if gender:\\n        print(\"여자입니다\")\\n    else:\\n        print(\"남자\")\\nselfIntro(\\'소향\\',40) # ERROR : 두번재 인자값인지 세번째 인자값인지 구별못함.\\nselfIntro(\\'소향\\',1,40)',\n",
       "  '# 매개변수 초기값을 설정할 때 주의사항\\n# 초기화시킬 매개변수는 항상 맨 뒤에 위치시켜야 헌다. \\ndef selfIntro(name,gender=1, age):\\n    print(\"내 이름은 %s입니다. 나이는 %d살입니다.\"%(name,age))\\n    if gender:\\n        print(\"여자입니다\")\\n    else:\\n        print(\"남자\")\\n#selfIntro(\\'소향\\',40) # ERROR : 두번재 인자값인지 세번째 인자값인지 구별못함.\\nselfIntro(\\'소향\\',1,40)',\n",
       "  '# 매개변수 초기값을 설정할 때 주의사항\\n# 초기화시킬 매개변수는 항상 맨 뒤에 위치시켜야 헌다. \\ndef selfIntro(name,gender=1, age):\\n    print(\"내 이름은 %s입니다. 나이는 %d살입니다.\"%(name,age))\\n    if gender:\\n        print(\"여자입니다\")\\n    else:\\n        print(\"남자\")\\n#selfIntro(\\'소향\\',40) # ERROR : 두번재 인자값인지 세번째 인자값인지 구별못함.\\n#selfIntro(\\'소향\\',1,40) # ERROR : 꼭 디폴트 argument 는 맨 뒤에 위치하여야 함.',\n",
       "  '# 매개변수 초기값을 설정할 때 주의사항\\n# 초기화시킬 매개변수는 항상 맨 뒤에 위치시켜야 헌다. \\ndef selfIntro(name,gender=1, age):\\n    print(\"내 이름은 %s입니다. 나이는 %d살입니다.\"%(name,age))\\n    if gender:\\n        print(\"여자입니다\")\\n    else:\\n        print(\"남자\")\\n#selfIntro(\\'소향\\',40) # ERROR : 두번재 인자값인지 세번째 인자값인지 구별못함.\\n#selfIntro(\\'소향\\',1,40) # ERROR : 꼭 디폴트 argument 는 맨 뒤에 위치하여야 함.',\n",
       "  '# 매개변수 초기값을 설정할 때 주의사항\\n# 초기화시킬 매개변수는 항상 맨 뒤에 위치시켜야 헌다. \\ndef selfIntro(name,gender=1, age):\\n    print(\"내 이름은 %s입니다. 나이는 %d살입니다.\"%(name,age))\\n    if gender:\\n        print(\"여자입니다\")\\n    else:\\n        print(\"남자\")\\n#selfIntro(\\'소향\\',40) # ERROR : 두번재 인자값인지 세번째 인자값인지 구별못함.\\n#selfIntro(\\'소향\\',1,40) # ERROR : 꼭 디폴트 argument 는 맨 뒤에 위치하여야 함.',\n",
       "  \"# 1. 홀수, 짝수를 구분하는 is_odd() 함수 작성\\n# 주어진 숫자가 홀수인지 짝수인지 구별해서 '짝수입니다' or '홀수입니다' 출력\\n# is_odd(number)\\n\\ndef is_odd(number):\\n    return number%2==0?'짝수입니다':'홀수입니다'\\n\\nprint(is_odd(2))\",\n",
       "  \"# 1. 홀수, 짝수를 구분하는 is_odd() 함수 작성\\n# 주어진 숫자가 홀수인지 짝수인지 구별해서 '짝수입니다' or '홀수입니다' 출력\\n# is_odd(number)\\n\\ndef is_odd(number):\\n    return (number%2==0)?'짝수입니다':'홀수입니다'\\n\\nprint(is_odd(2))\",\n",
       "  \"# 1. 홀수, 짝수를 구분하는 is_odd() 함수 작성\\n# 주어진 숫자가 홀수인지 짝수인지 구별해서 '짝수입니다' or '홀수입니다' 출력\\n# is_odd(number)\\n\\ndef is_odd(number):\\n    return '짝수입니다'if number%2==0 else '홀수입니다'\\n\\nprint(is_odd(2))\",\n",
       "  '# 2. 입력된 모든 수의 평균을 계산하는 funcAvg()함수를 작성\\n# 단. 입력매개변수의 갯수는 정해져 있지 않다.\\n# funcAvg()\\n\\ndef funcAvg(*args):\\n    sum = 0\\n    for i in args: sum += i \\n    return sum/len(args)\\nprint(funcAvg(1,2,3,4,5))',\n",
       "  '# 2. 입력된 모든 수의 평균을 계산하는 funcAvg()함수를 작성\\n# 단. 입력매개변수의 갯수는 정해져 있지 않다.\\n# funcAvg()\\n\\ndef funcAvg(*args):\\n    sum = 0\\n    for i in args: sum += i \\n    return sum/len(args)\\nprint(funcAvg(1,2,3,4,5,6,7,8,9,10))',\n",
       "  '# 3. 구구단을 출력하는 함수 gugudan()함수를 작성\\n# 입력값은 2~9단까지 한개의 임의의 단을 입력\\n#gugudan(9)\\ndef gugudan(dan):\\n    for i in range(2,10):\\n        print(f\"{dan}X{i}={dan*i}\")\\n\\nprint(gugudan(8))',\n",
       "  '# 3. 구구단을 출력하는 함수 gugudan()함수를 작성\\n# 입력값은 2~9단까지 한개의 임의의 단을 입력\\n#gugudan(9)\\ndef gugudan(dan):\\n    for i in range(2,9):\\n        print(f\"{dan}X{i}={dan*i}\")\\n\\nprint(gugudan(8))',\n",
       "  '# 3. 구구단을 출력하는 함수 gugudan()함수를 작성\\n# 입력값은 2~9단까지 한개의 임의의 단을 입력\\n#gugudan(9)\\ndef gugudan(dan):\\n    for i in range(1,10):\\n        print(f\"{dan}X{i}={dan*i}\")\\n\\nprint(gugudan(8))',\n",
       "  '# 3. 구구단을 출력하는 함수 gugudan()함수를 작성\\n# 입력값은 2~9단까지 한개의 임의의 단을 입력\\n#gugudan(9)\\ndef gugudan(dan):\\n    for i in range(1,10):\\n        print(i)\\n        print(f\"{dan}X{i}={dan*i}\")\\n\\nprint(gugudan(8))',\n",
       "  '# 3. 구구단을 출력하는 함수 gugudan()함수를 작성\\n# 입력값은 2~9단까지 한개의 임의의 단을 입력\\n#gugudan(9)\\ndef gugudan(dan):\\n    for i in range(1,9):\\n        print(f\"{dan}X{i}={dan*i}\")\\n\\nprint(gugudan(8))',\n",
       "  '# 3. 구구단을 출력하는 함수 gugudan()함수를 작성\\n# 입력값은 2~9단까지 한개의 임의의 단을 입력\\n#gugudan(9)\\ndef gugudan(dan):\\n    for i in range(1,10):\\n        print(f\"{dan}X{i}={dan*i}\")\\n\\nprint(gugudan(8))',\n",
       "  '# 3. 구구단을 출력하는 함수 gugudan()함수를 작성\\n# 입력값은 2~9단까지 한개의 임의의 단을 입력\\n#gugudan(9)\\ndef gugudan(dan):\\n    for i in range(1,10):print(f\"{dan}X{i}={dan*i}\")\\n\\nprint(gugudan(8))',\n",
       "  '# 3. 구구단을 출력하는 함수 gugudan()함수를 작성\\n# 입력값은 2~9단까지 한개의 임의의 단을 입력\\n#gugudan(9)\\ndef gugudan(dan):\\n    for i in range(1,10):print(f\"{dan}X{i}={dan*i}\")\\ngugudan(8)',\n",
       "  '# 4. 리스트 [2,3,4,5,6,7,8]에서 5보다 큰 수만 리턴하는 funcReturn()함수 작성\\ndef funcReturn(list):\\n    result =[]\\n    for i in list:\\n        if i>5:\\n            result.append(i)\\n    return result\\n\\nprint(funcReturn([2,3,4,5,6,7,8])',\n",
       "  '# 4. 리스트 [2,3,4,5,6,7,8]에서 5보다 큰 수만 리턴하는 funcReturn()함수 작성\\ndef funcReturn(list):\\n    result =[]\\n    for i in list:\\n        if i>5:\\n            result.append(i)\\n    return result\\n\\nprint(funcReturn([2,3,4,5,6,7,8]))',\n",
       "  '# 2. 입력된 모든 수의 평균을 계산하는 funcAvg()함수를 작성\\n# 단. 입력매개변수의 갯수는 정해져 있지 않다.\\n# funcAvg()\\n\\ndef funcAvg(*args):\\n    print(type(args))\\n    sum = 0\\n    for i in args: sum += i \\n    return sum/len(args)\\nprint(funcAvg(1,2,3,4,5,6,7,8,9,10))',\n",
       "  \"# 1. 홀수, 짝수를 구분하는 is_odd() 함수 작성\\n# 주어진 숫자가 홀수인지 짝수인지 구별해서 '짝수입니다' or '홀수입니다' 출력\\n# is_odd(number)\\n\\ndef is_odd(number):\\n    return '짝수입니다'if number%2==0 else '홀수입니다'\\n\\nprint(is_odd(3))\",\n",
       "  'def plus(a,b):\\n    return a+b\\nprint(a)',\n",
       "  'def plus(a,b):\\n    return a+b\\nprint(a+b)',\n",
       "  'def plus(a,b):\\n    return a+b\\nprint(1,2)',\n",
       "  'def plus(a,b):\\n    return a+b\\nprint(plus(1,2))',\n",
       "  'def plus(a,b):\\n    return a+b\\nprint(plus(1,2))\\n\\n#lambda식으로 표현\\n\\nsumLambda = lambda a,b: a+b',\n",
       "  'def plus(a,b):\\n    return a+b\\nprint(plus(1,2))\\n\\n#lambda식으로 표현\\n\\nsumLambda = lambda a,b: a+b\\nprint(sumLambda)',\n",
       "  'def plus(a,b):\\n    return a+b\\nprint(plus(1,2))\\n\\n#lambda식으로 표현\\n\\nsumLambda = lambda a,b: a+b\\nprint(sumLambda(1,2))',\n",
       "  'def plus(a,b):\\n    return a+b\\nprint(plus(1,2))\\n\\n#lambda식으로 표현\\n\\nsumLambda = lambda a,b: a+b\\nprint(sumLambda)',\n",
       "  'def plus(a,b):\\n    return a+b\\nprint(plus(1,2))\\n\\n#lambda식으로 표현\\n\\nsumLambda = lambda a,b: a+b\\nprint(type(sumLambda))',\n",
       "  'def plus(a,b):\\n    return a+b\\nprint(plus(1,2))\\n\\n#lambda식으로 표현\\n\\nsumLambda = lambda a,b: a+b\\nprint(type(sumLambda))\\nprint(type(plus))',\n",
       "  'def plus(a,b):\\n    return a+b\\nprint(plus(1,2))\\n\\n#lambda식으로 표현\\n\\nsumLambda = lambda a,b: a+b\\nprint(type(sumLambda))\\nprint(type(plus))\\n\\nprint(plus(1,2))\\nprint(sumLambda(1,2))',\n",
       "  '# lambda식이 나오게 된 가장 큰 이유는 def보다 간결하게 사용할 수 있기 때문이다.\\n# 또한 lambda는 def를 사용할 수 없는 곳에서도 사용할 수 있다. \\n# myList =[def sum(x,y): x+y,def mul(x,y):x*y]\\n# 상기문은 에러가 발생하기 때문에 아래와 같이 정의할 수 있다.\\n\\ndef sum(x,y): x+y\\ndef mul(x,y): x*y\\nmyList=[sum,mul]\\nprint(type(myList[0]))\\n    ',\n",
       "  '# lambda식이 나오게 된 가장 큰 이유는 def보다 간결하게 사용할 수 있기 때문이다.\\n# 또한 lambda는 def를 사용할 수 없는 곳에서도 사용할 수 있다. \\n# myList =[def sum(x,y): x+y,def mul(x,y):x*y]\\n# 상기문은 에러가 발생하기 때문에 아래와 같이 정의할 수 있다.\\n\\ndef sum(x,y): x+y\\ndef mul(x,y): x*y\\nmyList=[sum,mul]\\nprint(type(myList[0]))\\nprint(type(myList[0](1,1)))',\n",
       "  '# lambda식이 나오게 된 가장 큰 이유는 def보다 간결하게 사용할 수 있기 때문이다.\\n# 또한 lambda는 def를 사용할 수 없는 곳에서도 사용할 수 있다. \\n# myList =[def sum(x,y): x+y,def mul(x,y):x*y]\\n# 상기문은 에러가 발생하기 때문에 아래와 같이 정의할 수 있다.\\n\\ndef sum(x,y): x+y\\ndef mul(x,y): x*y\\nmyList=[sum,mul]\\nprint(type(myList[0]))\\nprint(myList[0](1,1))',\n",
       "  '# lambda식이 나오게 된 가장 큰 이유는 def보다 간결하게 사용할 수 있기 때문이다.\\n# 또한 lambda는 def를 사용할 수 없는 곳에서도 사용할 수 있다. \\n# myList =[def sum(x,y): x+y,def mul(x,y):x*y]\\n# 상기문은 에러가 발생하기 때문에 아래와 같이 정의할 수 있다.\\n\\ndef sum(x,y): x+y\\ndef mul(x,y): x*y\\nmyList=[sum,mul]\\nprint(type(myList[0]))\\nprint(myList[1](1,1))',\n",
       "  '# lambda식이 나오게 된 가장 큰 이유는 def보다 간결하게 사용할 수 있기 때문이다.\\n# 또한 lambda는 def를 사용할 수 없는 곳에서도 사용할 수 있다. \\n# myList =[def sum(x,y): x+y,def mul(x,y):x*y]\\n# 상기문은 에러가 발생하기 때문에 아래와 같이 정의할 수 있다.\\n\\ndef sum(x,y): x+y\\ndef mul(x,y): x*y\\nmyList=[sum,mul]\\nprint(type(myList[0]))\\nprint(myList[1](1,1))',\n",
       "  '# lambda식이 나오게 된 가장 큰 이유는 def보다 간결하게 사용할 수 있기 때문이다.\\n# 또한 lambda는 def를 사용할 수 없는 곳에서도 사용할 수 있다. \\n# myList =[def sum(x,y): x+y,def mul(x,y):x*y]\\n# 상기문은 에러가 발생하기 때문에 아래와 같이 정의할 수 있다.\\n\\ndef sum(x,y): x+y\\ndef mul(x,y): x*y\\nmyList=[sum,mul]\\nprint(type(myList[0]))\\nprint(myList[0](1,1))',\n",
       "  '# lambda식이 나오게 된 가장 큰 이유는 def보다 간결하게 사용할 수 있기 때문이다.\\n# 또한 lambda는 def를 사용할 수 없는 곳에서도 사용할 수 있다. \\n# myList =[def sum(x,y): x+y,def mul(x,y):x*y]\\n# 상기문은 에러가 발생하기 때문에 아래와 같이 정의할 수 있다.\\n\\ndef sum(x,y): return x+y\\ndef mul(x,y): return x*y\\nmyList=[sum,mul]\\nprint(type(myList[0]))\\nprint(myList[0](1,1))',\n",
       "  '# lambda식이 나오게 된 가장 큰 이유는 def보다 간결하게 사용할 수 있기 때문이다.\\n# 또한 lambda는 def를 사용할 수 없는 곳에서도 사용할 수 있다. \\n# myList =[def sum(x,y): x+y,def mul(x,y):x*y]\\n# 상기문은 에러가 발생하기 때문에 아래와 같이 정의할 수 있다.\\n\\ndef sum(x,y): return x+y\\ndef mul(x,y): return x*y\\nmyList=[sum,mul]\\nprint(type(myList[0]))\\nprint(myList[0](1,1))\\n\\n#lambda로 리스트 정의\\nmyList=[lambda a,b,: a+b, lambda a,b:a*b]\\nprint(type(myList[0](1,2)))',\n",
       "  '# lambda식이 나오게 된 가장 큰 이유는 def보다 간결하게 사용할 수 있기 때문이다.\\n# 또한 lambda는 def를 사용할 수 없는 곳에서도 사용할 수 있다. \\n# myList =[def sum(x,y): x+y,def mul(x,y):x*y]\\n# 상기문은 에러가 발생하기 때문에 아래와 같이 정의할 수 있다.\\n\\ndef sum(x,y): return x+y\\ndef mul(x,y): return x*y\\nmyList=[sum,mul]\\nprint(type(myList[0]))\\nprint(myList[0](1,1))\\n\\n#lambda로 리스트 정의\\nmyList=[lambda a,b,: a+b, lambda a,b:a*b]\\nprint(type(myList[0])\\nprint(type(myList[0](1,2)))',\n",
       "  '# lambda식이 나오게 된 가장 큰 이유는 def보다 간결하게 사용할 수 있기 때문이다.\\n# 또한 lambda는 def를 사용할 수 없는 곳에서도 사용할 수 있다. \\n# myList =[def sum(x,y): x+y,def mul(x,y):x*y]\\n# 상기문은 에러가 발생하기 때문에 아래와 같이 정의할 수 있다.\\n\\ndef sum(x,y): return x+y\\ndef mul(x,y): return x*y\\nmyList=[sum,mul]\\nprint(type(myList[0]))\\nprint(myList[0](1,1))\\n\\n#lambda로 리스트 정의\\nmyList=[lambda a,b,: a+b, lambda a,b:a*b]\\nprint(type(myList[0]))\\nprint(type(myList[0](1,2)))',\n",
       "  '# lambda식이 나오게 된 가장 큰 이유는 def보다 간결하게 사용할 수 있기 때문이다.\\n# 또한 lambda는 def를 사용할 수 없는 곳에서도 사용할 수 있다. \\n# myList =[def sum(x,y): x+y,def mul(x,y):x*y]\\n# 상기문은 에러가 발생하기 때문에 아래와 같이 정의할 수 있다.\\n\\ndef sum(x,y): return x+y\\ndef mul(x,y): return x*y\\nmyList=[sum,mul]\\nprint(type(myList[0]))\\nprint(myList[0](1,1))\\n\\n#lambda로 리스트 정의\\nmyList=[lambda a,b,: a+b, lambda a,b:a*b]\\nprint(type(myList[0]))\\nprint(myList[0](1,2))',\n",
       "  \"# 1. 홀수, 짝수를 구분하는 is_odd() 함수 작성\\n# 주어진 숫자가 홀수인지 짝수인지 구별해서 '짝수입니다' or '홀수입니다' 출력\\n# is_odd(number)\\n\\ndef is_odd(number):\\n    return '짝수입니다'if number%2==0 else '홀수입니다'\\n\\nprint(is_odd(3))\\n\\n# 란다식 풀이 \\nisOddLambda = lambda x: '짝수입니다.' if x%2 == 0 else '홀수입니다.'\\nprint(isOddLambda(2))\",\n",
       "  \"# 1. 홀수, 짝수를 구분하는 is_odd() 함수 작성\\n# 주어진 숫자가 홀수인지 짝수인지 구별해서 '짝수입니다' or '홀수입니다' 출력\\n# is_odd(number)\\n\\ndef is_odd(number):\\n    return '짝수입니다'if number%2==0 else '홀수입니다'\\n\\nprint(is_odd(3))\\n\\n# 란다식 풀이 \\nisOddLambda = lambda x: '짝수입니다.' if x%2 == 0 else '홀수입니다.'\\nprint(isOddLambda(3))\",\n",
       "  '# 3. 구구단을 출력하는 함수 gugudan()함수를 작성\\n# 입력값은 2~9단까지 한개의 임의의 단을 입력\\n#gugudan(9)\\ndef gugudan(dan):\\n    for i in range(1,10):print(f\"{dan}X{i}={dan*i}\")\\ngugudan(8)\\n\\ngugudanLambda = lambda x : for i in range(1,10): print(f\")',\n",
       "  '# 3. 구구단을 출력하는 함수 gugudan()함수를 작성\\n# 입력값은 2~9단까지 한개의 임의의 단을 입력\\n#gugudan(9)\\ndef gugudan(dan):\\n    for i in range(1,10):print(f\"{dan}X{i}={dan*i}\")\\ngugudan(8)\\n\\ngugudanLambda = lambda x : for i in range(1,10): print(f\"{x}X{i}={x*i}\")\\ngugudanLambda(5)',\n",
       "  '# 3. 구구단을 출력하는 함수 gugudan()함수를 작성\\n# 입력값은 2~9단까지 한개의 임의의 단을 입력\\n#gugudan(9)\\ndef gugudan(dan):\\n    for i in range(1,10):print(f\"{dan}X{i}={dan*i}\")\\ngugudan(8)',\n",
       "  '# 2. 입력된 모든 수의 평균을 계산하는 funcAvg()함수를 작성\\n# 단. 입력매개변수의 갯수는 정해져 있지 않다.\\n# funcAvg()\\n\\ndef funcAvg(*args):\\n    sum = 0\\n    for i in args: sum += i \\n    return sum/len(args)\\nprint(funcAvg(1,2,3,4,5,6,7,8,9,10))\\n# funcAvg([1,2,3,4,5,6,7,8,9,10]) # error 발생',\n",
       "  '# 2. 입력된 모든 수의 평균을 계산하는 funcAvg()함수를 작성\\n# 단. 입력매개변수의 갯수는 정해져 있지 않다.\\n# funcAvg()\\n\\ndef funcAvg(*args):\\n    sum = 0\\n    for i in args: sum += i \\n    return sum/len(args)\\nprint(funcAvg(1,2,3,4,5,6,7,8,9,10))\\n# funcAvg([1,2,3,4,5,6,7,8,9,10]) # error 발생\\nfuncAvg(*[1,2,3,4,5,6,7,8,9,10]) ',\n",
       "  '# 2. 입력된 모든 수의 평균을 계산하는 funcAvg()함수를 작성\\n# 단. 입력매개변수의 갯수는 정해져 있지 않다.\\n# funcAvg()\\n\\ndef funcAvg(*args):\\n    sum = 0\\n    for i in args: sum += i \\n    return sum/len(args)\\nprint(funcAvg(1,2,3,4,5,6,7,8,9,10))\\n# funcAvg([1,2,3,4,5,6,7,8,9,10]) # error 발생\\nfuncAvg(*[1,2,3,4,5,6,7,8,9,10]) \\nfuncAvg(*(1,2,3,4,5,6,7,8,9,10))',\n",
       "  '# 2. 입력된 모든 수의 평균을 계산하는 funcAvg()함수를 작성\\n# 단. 입력매개변수의 갯수는 정해져 있지 않다.\\n# funcAvg()\\n\\ndef funcAvg(*args):\\n    sum = 0\\n    for i in args: sum += i \\n    return sum/len(args)\\nprint(funcAvg(1,2,3,4,5,6,7,8,9,10))\\n# funcAvg([1,2,3,4,5,6,7,8,9,10]) # error 발생\\nfuncAvg(*[1,2,3,4,5,6,7,8,9,10]) \\nprint(funcAvg(*(1,2,3,4,5,6,7,8,9,10)))',\n",
       "  '# 4. 리스트 [2,3,4,5,6,7,8]에서 5보다 큰 수만 리턴하는 funcReturn()함수 작성\\ndef funcReturn(list):\\n    result =[]\\n    for i in list:\\n        if i>5:\\n            result.append(i)\\n    return result\\n\\nprint(funcReturn([2,3,4,5,6,7,8]))\\n\\n#lambda \\nlambdaReturn = lambda i : [ val for val in i if val>5]\\nprint(lambdaReturn([2,3,4,5,6,7,8]))',\n",
       "  '# 4. 리스트 [2,3,4,5,6,7,8]에서 5보다 큰 수만 리턴하는 funcReturn()함수 작성\\ndef funcReturn(list):\\n    result =[]\\n    for i in list:\\n        if i>5:\\n            result.append(i)\\n    return result\\n\\nprint(funcReturn([2,3,4,5,6,7,8]))\\n\\n#lambda \\nlambdaReturn = lambda i : (val for val in i if val>5)\\nprint(lambdaReturn([2,3,4,5,6,7,8]))',\n",
       "  '# 4. 리스트 [2,3,4,5,6,7,8]에서 5보다 큰 수만 리턴하는 funcReturn()함수 작성\\ndef funcReturn(list):\\n    result =[]\\n    for i in list:\\n        if i>5:\\n            result.append(i)\\n    return result\\n\\nprint(funcReturn([2,3,4,5,6,7,8]))\\n\\n#lambda \\nlambdaReturn = lambda i : (val for val in i if val>5)\\nprint(lambdaReturn([2,3,4,5,6,7,8])[0])',\n",
       "  '# 4. 리스트 [2,3,4,5,6,7,8]에서 5보다 큰 수만 리턴하는 funcReturn()함수 작성\\ndef funcReturn(list):\\n    result =[]\\n    for i in list:\\n        if i>5:\\n            result.append(i)\\n    return result\\n\\nprint(funcReturn([2,3,4,5,6,7,8]))\\n\\n#lambda \\nlambdaReturn = lambda i : [ val for val in i if val>5]\\nprint(lambdaReturn([2,3,4,5,6,7,8]))',\n",
       "  '# 3. 구구단을 출력하는 함수 gugudan()함수를 작성\\n# 입력값은 2~9단까지 한개의 임의의 단을 입력\\n#gugudan(9)\\ndef gugudan(dan):\\n    for i in range(1,10):print(f\"{dan}X{i}={dan*i}\")\\ngugudan(8)\\n\\n# lambda\\ngugudamLambda = lambda x:print(f\"{x}X{i}={x*i}\") for i in range(1,10)\\ngugudamLambda(8)',\n",
       "  '# 1. 변수의 사용범위\\n# 1) 전역변수(Global variable)\\nx = 10 \\ndef foo():\\n    prin(x)\\nfoo()\\nprint(x)',\n",
       "  '# 1. 변수의 사용범위\\n# 1) 전역변수(Global variable)\\nx = 10 \\ndef foo():\\n    print(x)\\nfoo()\\nprint(x)',\n",
       "  '# 1. 변수의 사용범위\\n# 1) 전역변수(Global variable)\\nx = 10 \\ndef foo():\\n    print(x)\\nfoo()\\nprint(x)\\n\\n# 1) 지역변수(local variable)\\ndef foo1():\\n    y = 1000\\n    print(y)\\nfoo1()\\nprint(y)',\n",
       "  '# 1. 변수의 사용범위\\n# 1) 전역변수(Global variable)\\nx = 10 \\ndef foo():\\n    print(x)\\nfoo()\\nprint(x)\\n\\n# 1) 지역변수(local variable)\\ndef foo1():\\n    k = 1000\\n    print(k)\\nfoo1()\\nprint(yk',\n",
       "  '# 1. 변수의 사용범위\\n# 1) 전역변수(Global variable)\\nx = 10 \\ndef foo():\\n    print(x)\\nfoo()\\nprint(x)\\n\\n# 1) 지역변수(local variable)\\ndef foo1():\\n    k = 1000\\n    print(k)\\nfoo1()\\nprint(k)',\n",
       "  '# 2. 함수안에서 전역변수 변경하기\\nx = 10\\ndef foo():\\n    x = 20\\n    print(x)\\n# 3. 함수 안 함수만들기',\n",
       "  '# 2. 함수안에서 전역변수 변경하기\\nx = 10\\ndef foo():\\n    x = 20\\n    print(x)\\n\\nfoo()\\nprint(x)\\n# 3. 함수 안 함수만들기',\n",
       "  '# 2. 함수안에서 전역변수 변경하기\\nx = 10\\ndef foo():\\n    x = 20\\n    print(x)\\n\\nfoo()\\nprint(x)\\n\\n\\ny= 10 \\ndef foo():\\n    global y \\n    y = 20\\n    print(y)\\nfoo()\\nprint(t)\\n# 3. 함수 안 함수만들기',\n",
       "  '# 2. 함수안에서 전역변수 변경하기\\nx = 10\\ndef foo():\\n    x = 20\\n    print(x)\\n\\nfoo()\\nprint(x)\\n\\n\\ny= 10 \\ndef foo():\\n    global y \\n    y = 20\\n    print(y)\\nfoo()\\nprint(y)\\n# 3. 함수 안 함수만들기',\n",
       "  '# 2. 함수안에서 전역변수 변경하기\\nx = 10\\ndef foo():\\n    x = 20\\n    print(x)\\n\\nfoo()\\nprint(x)\\n\\n# 전역변수로  정의하는 방법\\ny= 10 \\ndef foo():\\n    global y  # y 전역변수 설정\\n    y = 20\\n    print(y)\\nfoo()\\nprint(y)\\n# \\ndef foo():\\n    global z \\n    z = 30 \\n    print(z)\\n    \\nprint(z)\\n\\n# 3. 함수 안 함수만들기',\n",
       "  '# 2. 함수안에서 전역변수 변경하기\\nx = 10\\ndef foo():\\n    x = 20\\n    print(x)\\n\\nfoo()\\nprint(x)\\n\\n# 전역변수로  정의하는 방법\\ny= 10 \\ndef foo():\\n    global y  # y 전역변수 설정\\n    y = 20\\n    print(y)\\nfoo()\\nprint(y)\\n# \\ndef foo():\\n    global z \\n    z = 30 \\n    print(z)\\n\\nfoo()\\nprint(z)\\n\\n# 3. 함수 안 함수만들기',\n",
       "  \"# 네임스페이스 \\n# python에서 변수는 네임스페이스(namespace, 이름공간)에 저장된다.\\n# 네임스페이스를 확인하려면 locals()함수를 사용하면 현재 namespace 를 딕셔너리 형태로 출력한다.\\nget_ipython().run_line_magic('who', '')\",\n",
       "  \"# 네임스페이스 \\n# python에서 변수는 네임스페이스(namespace, 이름공간)에 저장된다.\\n# 네임스페이스를 확인하려면 locals()함수를 사용하면 현재 namespace 를 딕셔너리 형태로 출력한다.\\nget_ipython().run_line_magic('who', '')\\nprint(locals())\",\n",
       "  \"# 네임스페이스 \\n# python에서 변수는 네임스페이스(namespace, 이름공간)에 저장된다.\\n# 네임스페이스를 확인하려면 locals()함수를 사용하면 현재 namespace 를 딕셔너리 형태로 출력한다.\\nget_ipython().run_line_magic('who', '')\\n#print(locals())\\nlocals()\"],\n",
       " '_oh': {11: 10,\n",
       "  13: 'Hello',\n",
       "  29: 3,\n",
       "  35: 10,\n",
       "  37: 10,\n",
       "  38: 10,\n",
       "  127: 5.5,\n",
       "  128: 5.5},\n",
       " '_dh': ['d:\\\\hammi'],\n",
       " 'In': ['',\n",
       "  'print(\\'a\\',\\'b\\',\\'c\\',sep=\",\")',\n",
       "  '# \"hello python\"이라는 문자를 호출하는 함수 작성\\ndef hello():\\n    print(\"hello python\")\\nhello()',\n",
       "  '# 함수 호출\\nhello()',\n",
       "  'add(3,7)',\n",
       "  '# 인자가 있는 함수선언\\n# 더하기 함수\\ndef add(a,b):\\n    print(a+b)',\n",
       "  'add(3,7)',\n",
       "  'add(\"z\",\"v\")',\n",
       "  'add(\"z\",1)',\n",
       "  'add(3,1)',\n",
       "  '# 인자가 있는 함수선언\\n# 더하기 함수\\ndef add(a,b):\\n    print(a+b)\\n\\nadd(3,1)\\n\\ndef plus(x,y):\\n    return x+y\\n\\nplus(3,7',\n",
       "  '# 인자가 있는 함수선언\\n# 더하기 함수\\ndef add(a,b):\\n    print(a+b)\\n\\nadd(3,1)\\n\\ndef plus(x,y):\\n    return x+y\\n\\nplus(3,7)',\n",
       "  '# 인자가 있는 함수선언\\n# 더하기 함수\\ndef add(a,b):\\n    print(a+b)\\n\\nadd(3,1)\\n\\ndef plus(x,y):\\n    return x+y\\n\\nresult = plus(3,7) # 리턴이 있는 함수는 결과값을 반환받을 수 있다.\\nprint(result)',\n",
       "  '# 인자가 없는 함수\\ndef sayHello():\\n    return \"Hello\"\\n\\nsayHello()',\n",
       "  '# 결과값(리턴)이 없는 함수\\ndef sum(i,j):\\n    print(\"%d + %d = %d\",%(i,j,i+j)',\n",
       "  '# 결과값(리턴)이 없는 함수\\ndef sum(i,j):\\n    print(\"%d + %d = %d\"%(i,j,i+j))',\n",
       "  '# 결과값(리턴)이 없는 함수\\ndef sum(i,j):\\n    print(\"%d + %d = %d\"%(i,j,i+j))\\nsum(3,7)\\na = sum(3,7)\\nprint(a)',\n",
       "  '# 결과값(리턴)이 있는 함수 \\ndef sumReturn(i,j):\\n    return i+j\\n\\nresult = sumReturn(3,7)\\nprint(result)',\n",
       "  '# 함수를 사용하는 장점\\n# 매개변수의 순서와 상관없이 자유롭게 호출 가능하다.\\n\\nprint(sumReturn(3,7))',\n",
       "  '# 함수를 사용하는 장점\\n# 매개변수의 순서와 상관없이 자유롭게 호출 가능하다.\\n\\nprint(sumReturn(3,7))\\nprint(sumReturn(i=3,j=1))',\n",
       "  '# 함수를 사용하는 장점\\n# 매개변수의 순서와 상관없이 자유롭게 호출 가능하다.\\n\\nprint(sumReturn(3,7))\\nprint(sumReturn(i=3,z=1))',\n",
       "  '# 함수를 사용하는 장점\\n# 매개변수의 순서와 상관없이 자유롭게 호출 가능하다.\\n\\nprint(sumReturn(3,7))\\nprint(sumReturn(i=3,j=1))',\n",
       "  '# 함수에서 여러개의 값을 반환하기\\ndef multiReturn(a,b):\\n    return a+b,a-b,a*b,a/b\\nprint(multiReturn(10,2))',\n",
       "  '# 함수에서 여러개의 값을 반환하기\\ndef multiReturn(a,b):\\n    return a+b,a-b,a*b,a/b\\nprint(type(multiReturn(10,2)))',\n",
       "  '# 함수에서 여러개의 값을 반환하기\\ndef multiReturn(a,b):\\n    return a+b,a-b,a*b,a/b\\nprint(multiReturn(10,2))\\nprint(type(multiReturn(10,2)))',\n",
       "  '# 함수에서 여러개의 값을 반환하기\\ndef multiReturn(a,b):\\n    return a+b,a-b,a*b,a/b\\nprint(multiReturn(10,2))\\nprint(type(multiReturn(10,2))) #type 튜플\\n\\nx,y,z,a = multiReturn(10,2)\\nprint(x)',\n",
       "  '# 함수에서 여러개의 값을 반환하기\\ndef multiReturn(a,b):\\n    return a+b,a-b,a*b,a/b\\nprint(multiReturn(10,2))\\nprint(type(multiReturn(10,2))) #type 튜플\\n\\nx,y,z,a = multiReturn(10,2)\\nprint(x,y,z,a)',\n",
       "  '# 함수에서 여러개의 값을 반환하기\\ndef multiReturn(a,b):\\n    return a+b,a-b,a*b,a/b\\nprint(multiReturn(10,2))\\nprint(type(multiReturn(10,2))) #type 튜플\\n\\nx,y,z,a = multiReturn(10,2)\\nprint(x,y,z,a)\\n\\nx,y,z = multiReturn(10,2)',\n",
       "  '# 함수에서 여러개의 값을 반환하기\\ndef multiReturn(a,b):\\n    return a+b,a-b,a*b,a/b\\nprint(multiReturn(10,2))\\nprint(type(multiReturn(10,2))) #type 튜플\\n\\nx,y,z,a = multiReturn(10,2)\\nprint(x,y,z,a)\\n\\n# x,y,z = multiReturn(10,2) return 하는 값과 return 받는 변수는 동일 갯수여야함.',\n",
       "  '# *args : 입력값이 여러개 일 경우 정의하는 매개변수 이다.\\ndef manySum(a,b):\\n    return a+b\\n\\nmanySum(1,2)\\n        ',\n",
       "  '# *args : 입력값이 여러개 일 경우 정의하는 매개변수 이다.\\ndef manySum(a,b):\\n    return a+b\\n\\nmanySum(1,2,3,4)\\n        ',\n",
       "  '# *args : 입력값이 여러개 일 경우 정의하는 매개변수 이다.\\ndef manySum(*args):\\n    print(type(args))\\n\\nmanySum(1,2,3,4)\\n        ',\n",
       "  '# *args : 입력값이 여러개 일 경우 정의하는 매개변수 이다.\\ndef manySum(*args):\\n    print(type(args[1]))\\n\\nmanySum(1,2,3,4)\\n        ',\n",
       "  '# *args : 입력값이 여러개 일 경우 정의하는 매개변수 이다.\\ndef manySum(*args):\\n    print(type(args))\\n\\nmanySum(1,2,3,4)\\n        ',\n",
       "  '# *args : 입력값이 여러개 일 경우 정의하는 매개변수 이다.\\ndef manySum(*args):\\n    print(type(args))\\n    print(len(args))\\n\\nmanySum(1,2,3,4)\\n        ',\n",
       "  '# *args : 입력값이 여러개 일 경우 정의하는 매개변수 이다.\\ndef manySum(*args):\\n    print(type(args))\\n    print(len(args))\\n    sum = 0\\n    for i in args:\\n        sum += i\\n    \\n    return sum\\nmanySum(1,2,3,4)\\n        ',\n",
       "  '# *args : 입력값이 여러개 일 경우 정의하는 매개변수 이다.\\ndef manySum(*args):\\n    print(type(args))\\n    print(len(args))\\n    sum = 0\\n    sum = sum+=i for i in args\\n    for i in args:\\n        sum += i\\n    \\n    return sum\\nmanySum(1,2,3,4)\\n        ',\n",
       "  '# *args : 입력값이 여러개 일 경우 정의하는 매개변수 이다.\\ndef manySum(*args):\\n    print(type(args))\\n    print(len(args))\\n    sum = 0\\n    for i in args:\\n        sum += i\\n    return sum\\nmanySum(1,2,3,4)\\n        ',\n",
       "  '# *args : 입력값이 여러개 일 경우 정의하는 매개변수 이다.\\ndef manySum(*args):\\n    print(type(args))\\n    print(len(args))\\n    sum = 0\\n    for i in args:\\n        sum += i\\n    return sum\\nmanySum(1,2,3,4)',\n",
       "  '# 유동적으로 실행하는 계산기 : 사칙연산을 실행하는 계산기\\ndef calculator(operator,*args):\\n    result = 0\\n    if operator = \\'+\\': pass\\n    if operator = \\'-\\': pass\\n    if operator = \\'*\\': pass\\n    if operator = \\'/\\': pass\\n    return\\n    print(\"sdsdsds\")\\n    \\nprint(calculator(\\'-\\',1,2,5,8))',\n",
       "  '# 유동적으로 실행하는 계산기 : 사칙연산을 실행하는 계산기\\ndef calculator(operator,*args):\\n    result = 0\\n    if operator ==\\'+\\': pass\\n    if operator == \\'-\\': pass\\n    if operator == \\'*\\': pass\\n    if operator == \\'/\\': pass\\n    return\\n    print(\"sdsdsds\")\\n    \\nprint(calculator(\\'-\\',1,2,5,8))',\n",
       "  '# 유동적으로 실행하는 계산기 : 사칙연산을 실행하는 계산기\\ndef calculator(operator,*args):\\n    result = 0\\n    if operator ==\\'+\\': pass\\n    if operator == \\'-\\': pass\\n    if operator == \\'*\\': pass\\n    if operator == \\'/\\': pass\\n    return result\\n    print(\"sdsdsds\")\\n    \\nprint(calculator(\\'-\\',1,2,5,8))',\n",
       "  '# 유동적으로 실행하는 계산기 : 사칙연산을 실행하는 계산기\\ndef calculator(operator,*args):\\n    result = 0\\n    if operator ==\\'+\\': \\n        result = [result+=i for i in args]\\n    if operator == \\'-\\': pass\\n    if operator == \\'*\\': pass\\n    if operator == \\'/\\': pass\\n    return result\\n    print(\"sdsdsds\")\\n    \\nprint(calculator(\\'+\\',1,2,5,8))\\nprint(calculator(\\'-\\',1,2,5))\\nprint(calculator(\\'*\\',1,2,5,8,8,7))\\nprint(calculator(\\'/\\',1,2,5,8,9,11))',\n",
       "  '# 유동적으로 실행하는 계산기 : 사칙연산을 실행하는 계산기\\ndef calculator(operator,*args):\\n    result = 0\\n    if operator ==\\'+\\': \\n        result = [result=i for i in args]\\n    if operator == \\'-\\': pass\\n    if operator == \\'*\\': pass\\n    if operator == \\'/\\': pass\\n    return result\\n    print(\"sdsdsds\")\\n    \\nprint(calculator(\\'+\\',1,2,5,8))\\nprint(calculator(\\'-\\',1,2,5))\\nprint(calculator(\\'*\\',1,2,5,8,8,7))\\nprint(calculator(\\'/\\',1,2,5,8,9,11))',\n",
       "  '# 유동적으로 실행하는 계산기 : 사칙연산을 실행하는 계산기\\ndef calculator(operator,*args):\\n    result = 0\\n    if operator ==\\'+\\': \\n        result = [i for i in args]\\n    if operator == \\'-\\': pass\\n    if operator == \\'*\\': pass\\n    if operator == \\'/\\': pass\\n    return result\\n    print(\"sdsdsds\")\\n    \\nprint(calculator(\\'+\\',1,2,5,8))\\nprint(calculator(\\'-\\',1,2,5))\\nprint(calculator(\\'*\\',1,2,5,8,8,7))\\nprint(calculator(\\'/\\',1,2,5,8,9,11))',\n",
       "  '# 유동적으로 실행하는 계산기 : 사칙연산을 실행하는 계산기\\ndef calculator(operator,*args):\\n    result = 0\\n    if operator ==\\'+\\': \\n        result = [result+=i for i in args]\\n    if operator == \\'-\\': pass\\n    if operator == \\'*\\': pass\\n    if operator == \\'/\\': pass\\n    return result\\n    print(\"sdsdsds\")\\n    \\nprint(calculator(\\'+\\',1,2,5,8))\\nprint(calculator(\\'-\\',1,2,5))\\nprint(calculator(\\'*\\',1,2,5,8,8,7))\\nprint(calculator(\\'/\\',1,2,5,8,9,11))',\n",
       "  '# 유동적으로 실행하는 계산기 : 사칙연산을 실행하는 계산기\\ndef calculator(operator,*args):\\n    result = 0\\n    if operator ==\\'+\\': \\n        result = [result=result+i for i in args]\\n    if operator == \\'-\\': pass\\n    if operator == \\'*\\': pass\\n    if operator == \\'/\\': pass\\n    return result\\n    print(\"sdsdsds\")\\n    \\nprint(calculator(\\'+\\',1,2,5,8))\\nprint(calculator(\\'-\\',1,2,5))\\nprint(calculator(\\'*\\',1,2,5,8,8,7))\\nprint(calculator(\\'/\\',1,2,5,8,9,11))',\n",
       "  '# 키워드 파라미터 kwargs\\n# kwargs는 keyword argments의 약어이다. **kwargs는 *args와 다르게 별표(*)가 두개 사용된다.\\n# 함수인수로서 **kwargs가 key=value형태로 주어졌을때 입력값 전체가 딕셔너리형태로 반환된다.\\ndef func(**kwargs):\\n    print(kwargs)\\n    print(type(kwargs))\\n    ',\n",
       "  '# 키워드 파라미터 kwargs\\n# kwargs는 keyword argments의 약어이다. **kwargs는 *args와 다르게 별표(*)가 두개 사용된다.\\n# 함수인수로서 **kwargs가 key=value형태로 주어졌을때 입력값 전체가 딕셔너리형태로 반환된다.\\ndef func(**kwargs):\\n    print(kwargs)\\n    print(type(kwargs))\\n    ',\n",
       "  '# 키워드 파라미터 kwargs\\n# kwargs는 keyword argments의 약어이다. **kwargs는 *args와 다르게 별표(*)가 두개 사용된다.\\n# 함수인수로서 **kwargs가 key=value형태로 주어졌을때 입력값 전체가 딕셔너리형태로 반환된다.\\ndef func(**kwargs):\\n    print(kwargs)\\n    print(type(kwargs))\\nfunc(1,2,5,3)',\n",
       "  '# 키워드 파라미터 kwargs\\n# kwargs는 keyword argments의 약어이다. **kwargs는 *args와 다르게 별표(*)가 두개 사용된다.\\n# 함수인수로서 **kwargs가 key=value형태로 주어졌을때 입력값 전체가 딕셔너리형태로 반환된다.\\ndef func(**kwargs):\\n    print(kwargs)\\n    print(type(kwargs))\\n#func(1,2,5,3) # 에러발생 key=value 형태로 전달되어야 한다.\\nfunc(a=1,b=v)',\n",
       "  \"# 키워드 파라미터 kwargs\\n# kwargs는 keyword argments의 약어이다. **kwargs는 *args와 다르게 별표(*)가 두개 사용된다.\\n# 함수인수로서 **kwargs가 key=value형태로 주어졌을때 입력값 전체가 딕셔너리형태로 반환된다.\\ndef func(**kwargs):\\n    print(kwargs)\\n    print(type(kwargs))\\n#func(1,2,5,3) # 에러발생 key=value 형태로 전달되어야 한다.\\nfunc(a=1,b='v')\",\n",
       "  \"# 키워드 파라미터 kwargs\\n# kwargs는 keyword argments의 약어이다. **kwargs는 *args와 다르게 별표(*)가 두개 사용된다.\\n# 함수인수로서 **kwargs가 key=value형태로 주어졌을때 입력값 전체가 딕셔너리형태로 반환된다.\\ndef func(**kwargs):\\n    print(kwargs)\\n    print(type(kwargs))\\n#func(1,2,5,3) # 에러발생 key=value 형태로 전달되어야 한다.\\nfunc(a=1,b='v')\\nfunc(name='홍길동',age='17')\",\n",
       "  \"def func1(*args,**kwargs):\\n    print(args,kwargs)\\n\\n    \\nfunc1(1,2,3,name='ham',age='25')\",\n",
       "  \"def func1(*args,**kwargs):\\n    print(args,kwargs)\\n\\n    \\nfunc1(1,2,3,name='ham',age='25')\\nfunc1(1,2,3,name='ham',age='25',45,46)\",\n",
       "  \"def func1(*args,**kwargs):\\n    print(args,kwargs)\\n\\n    \\nfunc1(1,2,3,name='ham',age='25')\\n#func1(1,2,3,name='ham',age='25',45,46) # error : flexable 하니까 어떤게 args 인지 kwargs 인지 구별 못함. \\nfunc1(1,2,3,name='ham',age='25') # 끝나는 위치에 따라 args인즈 kwargs인지 구별\",\n",
       "  'def func1(*args,**kwargs):\\n    print(args,kwargs)\\n\\n    \\nfunc1(1,2,3,name=\\'ham\\',age=\\'25\\')\\n#func1(1,2,3,name=\\'ham\\',age=\\'25\\',45,46) # error : flexable 하니까 어떤게 args 인지 kwargs 인지 구별 못함. \\nfunc1(1,2,3,name=\\'ham\\',age=\\'25\\',개읹정보=\"y\") # 끝나는 위치에 따라 args인즈 kwargs인지 구별',\n",
       "  '# 개인정보를 출력하는 함수에서\\ndef peraonal_info(name,age,addr):\\n    print(\"이름=\",name)\\n    print(\"나이=\",age)\\n    print(\"주소=\",addr)\\n\\nperaonal_info(\\'ham\\',28,\\'의정부\\')',\n",
       "  '# 개인정보를 출력하는 함수에서\\ndef peraonal_info(name,age,addr):\\n    print(\"이름=\",name)\\n    print(\"나이=\",age)\\n    print(\"주소=\",addr)\\n\\nperaonal_info(\\'ham\\',28,\\'의정부\\')\\nperaonal_info(28,\\'ham\\',\\'의정부\\')',\n",
       "  '# 개인정보를 출력하는 함수에서\\ndef peraonal_info(name,age,addr):\\n    print(\"이름=\",name)\\n    print(\"나이=\",age)\\n    print(\"주소=\",addr)\\n\\nperaonal_info(\\'ham\\',28,\\'의정부\\')\\nperaonal_info(28,\\'ham\\',\\'의정부\\') # 에러는 아니지만 개발자의 예상과 다르게 동작할 수 있다.\\nperaonal_info(name=\\'han\\',age=258,addr=\"서울\")',\n",
       "  \"x = {'name':'ham','age':28,'addr':'서울'}\\n\\nperaonal_info(**x)\",\n",
       "  'x = {\\'name\\':\\'ham\\',\\'age\\':28,\\'addr\\':\\'서울\\'}\\n\\nperaonal_info(**x)\\n# 상기 호출은 peraonal_info(name=\\'han\\',age=258,addr=\"서울\") 과 동일한 형태\\n\\nperaonal_info(*x)',\n",
       "  'x = {\\'name\\':\\'ham\\',\\'age\\':28,\\'addr\\':\\'서울\\'}\\n\\nperaonal_info(**x)\\n# 상기 호출은 peraonal_info(name=\\'han\\',age=258,addr=\"서울\") 과 동일한 형태\\n\\nperaonal_info(*x.values())\\n# *x는 키만전달됨.',\n",
       "  'x = {\\'name\\':\\'ham\\',\\'age\\':28,\\'addr\\':\\'서울\\'}\\n\\nperaonal_info(**x)\\n# 상기 호출은 peraonal_info(name=\\'han\\',age=258,addr=\"서울\") 과 동일한 형태\\n\\nperaonal_info(*x)\\n# *x는 키만전달됨.\\nperaonal_info(*x.values())\\n# 값만 전달됨',\n",
       "  'x = {\\'name\\':\\'ham\\',\\'age\\':28,\\'addr\\':\\'서울\\'}\\n\\nperaonal_info(**x)\\n# 상기 호출은 peraonal_info(name=\\'han\\',age=258,addr=\"서울\") 과 동일한 형태\\n\\nperaonal_info(*x)\\n# *x는 키만전달됨.\\nperaonal_info(*x.values())\\n# 값만 전달됨 (파라미터 순서가 맞아야하긴 하지만)',\n",
       "  '# 함수의 반환값은 허너아더,\\ndef sum_and_mull(a,b):\\n    return a+b,a-b\\nresult = sum_and_mull(1,3)',\n",
       "  '# 함수의 반환값은 허너아더,\\ndef sum_and_mull(a,b):\\n    return a+b,a-b\\nresult = sum_and_mull(1,3)\\nprint(result)',\n",
       "  '# 함수의 반환값은 허너아더,\\ndef sum_and_mull(a,b):\\n    return a+b,a-b\\nresult = sum_and_mull(1,3) # 한개의 값 즉, 한개의 튜플로 리턴된다.\\nprint(result)\\n\\ndef sum_and_minus(a,b):\\n    return a+b\\n    return a-b\\nprint(sum_and_minus(3,4))',\n",
       "  '# 함수의 반환값은 허너아더,\\ndef sum_and_mull(a,b):\\n    return a+b,a-b\\nresult = sum_and_mull(1,3) # 한개의 값 즉, 한개의 튜플로 리턴된다.\\nprint(result)\\n\\ndef sum_and_minus(a,b):\\n    return a+b\\n    return a-b # 에러는 나지 않지만 실행은 안된다.\\n\\nprint(sum_and_minus(3,4))',\n",
       "  '# 유동적으로 실행하는 계산기 : 사칙연산을 실행하는 계산기\\ndef calculator(operator,*args):\\n    result = 0\\n    if operator ==\\'+\\': \\n        for i in args:\\n            result+=i\\n    if operator == \\'-\\': pass\\n    if operator == \\'*\\': pass\\n    if operator == \\'/\\': pass\\n    return result\\n    print(\"sdsdsds\")\\n    \\nprint(calculator(\\'+\\',1,2,5,8))\\nprint(calculator(\\'-\\',1,2,5))\\nprint(calculator(\\'*\\',1,2,5,8,8,7))\\nprint(calculator(\\'/\\',1,2,5,8,9,11))',\n",
       "  '# 유동적으로 실행하는 계산기 : 사칙연산을 실행하는 계산기\\ndef calculator(operator,*args):\\n    result = 0\\n    if operator ==\\'+\\': \\n        for i in args:\\n            result+=i\\n    if operator == \\'-\\':\\n        for i in args:\\n            result -= i\\n            \\n    if operator == \\'*\\': pass\\n    if operator == \\'/\\': pass\\n    return result\\n    print(\"sdsdsds\")\\n    \\nprint(calculator(\\'+\\',1,2,5,8))\\nprint(calculator(\\'-\\',1,2,5))\\nprint(calculator(\\'*\\',1,2,5,8,8,7))\\nprint(calculator(\\'/\\',1,2,5,8,9,11))',\n",
       "  '# 유동적으로 실행하는 계산기 : 사칙연산을 실행하는 계산기\\ndef calculator(operator,*args):\\n    result = 0\\n    if operator ==\\'+\\': \\n        for i in args:\\n            result+=i\\n    if operator == \\'-\\':\\n        for i in args:\\n            result -= i\\n    if operator == \\'*\\':\\n        result = 1\\n        for i in args:\\n            result *= i\\n    if operator == \\'/\\': pass\\n    return result\\n    print(\"sdsdsds\")\\n    \\nprint(calculator(\\'+\\',1,2,5,8))\\nprint(calculator(\\'-\\',1,2,5))\\nprint(calculator(\\'*\\',1,2,5,8,8,7))\\nprint(calculator(\\'/\\',1,2,5,8,9,11))',\n",
       "  '# 유동적으로 실행하는 계산기 : 사칙연산을 실행하는 계산기\\ndef calculator(operator,*args):\\n    result = 0\\n    if operator ==\\'+\\': \\n        for i in args:\\n            result+=i\\n    if operator == \\'-\\':\\n        for i in args:\\n            result -= i\\n    if operator == \\'*\\':\\n        result = 1\\n        for i in args:\\n            result *= i\\n    if operator == \\'/\\': pass\\n    return result\\n    print(\"sdsdsds\")\\n    \\nprint(calculator(\\'+\\',1,2,5,8))\\nprint(calculator(\\'-\\',1,2,5))\\nprint(calculator(\\'*\\',1,2,5))\\nprint(calculator(\\'/\\',1,2,5,8,9,11))',\n",
       "  '# 매개변수에서 초기값을 사전에 설정하기\\ndef selfIntro(name, age,gender=1):\\n    print(\"내 이름은 %s입니다. 나이는 %d살입니다.\"%(name,age))\\n    if gender:\\n        print(\"여자입니다\")\\n    else:\\n        print(\"남자\")\\n\\nselfIntro(\\'소향\\',40)',\n",
       "  '# 매개변수에서 초기값을 사전에 설정하기\\ndef selfIntro(name, age,gender=1):\\n    print(\"내 이름은 %s입니다. 나이는 %d살입니다.\"%(name,age))\\n    if gender:\\n        print(\"여자입니다\")\\n    else:\\n        print(\"남자\")\\n\\nselfIntro(\\'소향\\',40)\\nselfIntro(\\'소향\\',40.0)',\n",
       "  '# 매개변수에서 초기값을 사전에 설정하기\\ndef selfIntro(name, age,gender=1):\\n    print(\"내 이름은 %s입니다. 나이는 %d살입니다.\"%(name,age))\\n    if gender:\\n        print(\"여자입니다\")\\n    else:\\n        print(\"남자\")\\n\\nselfIntro(\\'소향\\',40)\\nselfIntro(\\'소향\\',40,0)',\n",
       "  '# 매개변수 초기값을 설정할 때 주의사항\\n# 초기화시킬 매개변수는 항상 맨 뒤에 위치시켜야 헌다. \\ndef selfIntro(name,gender=1, age):\\n    print(\"내 이름은 %s입니다. 나이는 %d살입니다.\"%(name,age))\\n    if gender:\\n        print(\"여자입니다\")\\n    else:\\n        print(\"남자\")\\nselfIntro(\\'소향\\',40)',\n",
       "  '# 매개변수 초기값을 설정할 때 주의사항\\n# 초기화시킬 매개변수는 항상 맨 뒤에 위치시켜야 헌다. \\ndef selfIntro(name,gender=1, age):\\n    print(\"내 이름은 %s입니다. 나이는 %d살입니다.\"%(name,age))\\n    if gender:\\n        print(\"여자입니다\")\\n    else:\\n        print(\"남자\")\\nselfIntro(\\'소향\\',40) # ERROR : 두번재 인자값인지 세번째 인자값인지 구별못함.\\nselfIntro(\\'소향\\',1,40)',\n",
       "  '# 매개변수 초기값을 설정할 때 주의사항\\n# 초기화시킬 매개변수는 항상 맨 뒤에 위치시켜야 헌다. \\ndef selfIntro(name,gender=1, age):\\n    print(\"내 이름은 %s입니다. 나이는 %d살입니다.\"%(name,age))\\n    if gender:\\n        print(\"여자입니다\")\\n    else:\\n        print(\"남자\")\\n#selfIntro(\\'소향\\',40) # ERROR : 두번재 인자값인지 세번째 인자값인지 구별못함.\\nselfIntro(\\'소향\\',1,40)',\n",
       "  '# 매개변수 초기값을 설정할 때 주의사항\\n# 초기화시킬 매개변수는 항상 맨 뒤에 위치시켜야 헌다. \\ndef selfIntro(name,gender=1, age):\\n    print(\"내 이름은 %s입니다. 나이는 %d살입니다.\"%(name,age))\\n    if gender:\\n        print(\"여자입니다\")\\n    else:\\n        print(\"남자\")\\n#selfIntro(\\'소향\\',40) # ERROR : 두번재 인자값인지 세번째 인자값인지 구별못함.\\n#selfIntro(\\'소향\\',1,40) # ERROR : 꼭 디폴트 argument 는 맨 뒤에 위치하여야 함.',\n",
       "  '# 매개변수 초기값을 설정할 때 주의사항\\n# 초기화시킬 매개변수는 항상 맨 뒤에 위치시켜야 헌다. \\ndef selfIntro(name,gender=1, age):\\n    print(\"내 이름은 %s입니다. 나이는 %d살입니다.\"%(name,age))\\n    if gender:\\n        print(\"여자입니다\")\\n    else:\\n        print(\"남자\")\\n#selfIntro(\\'소향\\',40) # ERROR : 두번재 인자값인지 세번째 인자값인지 구별못함.\\n#selfIntro(\\'소향\\',1,40) # ERROR : 꼭 디폴트 argument 는 맨 뒤에 위치하여야 함.',\n",
       "  '# 매개변수 초기값을 설정할 때 주의사항\\n# 초기화시킬 매개변수는 항상 맨 뒤에 위치시켜야 헌다. \\ndef selfIntro(name,gender=1, age):\\n    print(\"내 이름은 %s입니다. 나이는 %d살입니다.\"%(name,age))\\n    if gender:\\n        print(\"여자입니다\")\\n    else:\\n        print(\"남자\")\\n#selfIntro(\\'소향\\',40) # ERROR : 두번재 인자값인지 세번째 인자값인지 구별못함.\\n#selfIntro(\\'소향\\',1,40) # ERROR : 꼭 디폴트 argument 는 맨 뒤에 위치하여야 함.',\n",
       "  \"# 1. 홀수, 짝수를 구분하는 is_odd() 함수 작성\\n# 주어진 숫자가 홀수인지 짝수인지 구별해서 '짝수입니다' or '홀수입니다' 출력\\n# is_odd(number)\\n\\ndef is_odd(number):\\n    return number%2==0?'짝수입니다':'홀수입니다'\\n\\nprint(is_odd(2))\",\n",
       "  \"# 1. 홀수, 짝수를 구분하는 is_odd() 함수 작성\\n# 주어진 숫자가 홀수인지 짝수인지 구별해서 '짝수입니다' or '홀수입니다' 출력\\n# is_odd(number)\\n\\ndef is_odd(number):\\n    return (number%2==0)?'짝수입니다':'홀수입니다'\\n\\nprint(is_odd(2))\",\n",
       "  \"# 1. 홀수, 짝수를 구분하는 is_odd() 함수 작성\\n# 주어진 숫자가 홀수인지 짝수인지 구별해서 '짝수입니다' or '홀수입니다' 출력\\n# is_odd(number)\\n\\ndef is_odd(number):\\n    return '짝수입니다'if number%2==0 else '홀수입니다'\\n\\nprint(is_odd(2))\",\n",
       "  '# 2. 입력된 모든 수의 평균을 계산하는 funcAvg()함수를 작성\\n# 단. 입력매개변수의 갯수는 정해져 있지 않다.\\n# funcAvg()\\n\\ndef funcAvg(*args):\\n    sum = 0\\n    for i in args: sum += i \\n    return sum/len(args)\\nprint(funcAvg(1,2,3,4,5))',\n",
       "  '# 2. 입력된 모든 수의 평균을 계산하는 funcAvg()함수를 작성\\n# 단. 입력매개변수의 갯수는 정해져 있지 않다.\\n# funcAvg()\\n\\ndef funcAvg(*args):\\n    sum = 0\\n    for i in args: sum += i \\n    return sum/len(args)\\nprint(funcAvg(1,2,3,4,5,6,7,8,9,10))',\n",
       "  '# 3. 구구단을 출력하는 함수 gugudan()함수를 작성\\n# 입력값은 2~9단까지 한개의 임의의 단을 입력\\n#gugudan(9)\\ndef gugudan(dan):\\n    for i in range(2,10):\\n        print(f\"{dan}X{i}={dan*i}\")\\n\\nprint(gugudan(8))',\n",
       "  '# 3. 구구단을 출력하는 함수 gugudan()함수를 작성\\n# 입력값은 2~9단까지 한개의 임의의 단을 입력\\n#gugudan(9)\\ndef gugudan(dan):\\n    for i in range(2,9):\\n        print(f\"{dan}X{i}={dan*i}\")\\n\\nprint(gugudan(8))',\n",
       "  '# 3. 구구단을 출력하는 함수 gugudan()함수를 작성\\n# 입력값은 2~9단까지 한개의 임의의 단을 입력\\n#gugudan(9)\\ndef gugudan(dan):\\n    for i in range(1,10):\\n        print(f\"{dan}X{i}={dan*i}\")\\n\\nprint(gugudan(8))',\n",
       "  '# 3. 구구단을 출력하는 함수 gugudan()함수를 작성\\n# 입력값은 2~9단까지 한개의 임의의 단을 입력\\n#gugudan(9)\\ndef gugudan(dan):\\n    for i in range(1,10):\\n        print(i)\\n        print(f\"{dan}X{i}={dan*i}\")\\n\\nprint(gugudan(8))',\n",
       "  '# 3. 구구단을 출력하는 함수 gugudan()함수를 작성\\n# 입력값은 2~9단까지 한개의 임의의 단을 입력\\n#gugudan(9)\\ndef gugudan(dan):\\n    for i in range(1,9):\\n        print(f\"{dan}X{i}={dan*i}\")\\n\\nprint(gugudan(8))',\n",
       "  '# 3. 구구단을 출력하는 함수 gugudan()함수를 작성\\n# 입력값은 2~9단까지 한개의 임의의 단을 입력\\n#gugudan(9)\\ndef gugudan(dan):\\n    for i in range(1,10):\\n        print(f\"{dan}X{i}={dan*i}\")\\n\\nprint(gugudan(8))',\n",
       "  '# 3. 구구단을 출력하는 함수 gugudan()함수를 작성\\n# 입력값은 2~9단까지 한개의 임의의 단을 입력\\n#gugudan(9)\\ndef gugudan(dan):\\n    for i in range(1,10):print(f\"{dan}X{i}={dan*i}\")\\n\\nprint(gugudan(8))',\n",
       "  '# 3. 구구단을 출력하는 함수 gugudan()함수를 작성\\n# 입력값은 2~9단까지 한개의 임의의 단을 입력\\n#gugudan(9)\\ndef gugudan(dan):\\n    for i in range(1,10):print(f\"{dan}X{i}={dan*i}\")\\ngugudan(8)',\n",
       "  '# 4. 리스트 [2,3,4,5,6,7,8]에서 5보다 큰 수만 리턴하는 funcReturn()함수 작성\\ndef funcReturn(list):\\n    result =[]\\n    for i in list:\\n        if i>5:\\n            result.append(i)\\n    return result\\n\\nprint(funcReturn([2,3,4,5,6,7,8])',\n",
       "  '# 4. 리스트 [2,3,4,5,6,7,8]에서 5보다 큰 수만 리턴하는 funcReturn()함수 작성\\ndef funcReturn(list):\\n    result =[]\\n    for i in list:\\n        if i>5:\\n            result.append(i)\\n    return result\\n\\nprint(funcReturn([2,3,4,5,6,7,8]))',\n",
       "  '# 2. 입력된 모든 수의 평균을 계산하는 funcAvg()함수를 작성\\n# 단. 입력매개변수의 갯수는 정해져 있지 않다.\\n# funcAvg()\\n\\ndef funcAvg(*args):\\n    print(type(args))\\n    sum = 0\\n    for i in args: sum += i \\n    return sum/len(args)\\nprint(funcAvg(1,2,3,4,5,6,7,8,9,10))',\n",
       "  \"# 1. 홀수, 짝수를 구분하는 is_odd() 함수 작성\\n# 주어진 숫자가 홀수인지 짝수인지 구별해서 '짝수입니다' or '홀수입니다' 출력\\n# is_odd(number)\\n\\ndef is_odd(number):\\n    return '짝수입니다'if number%2==0 else '홀수입니다'\\n\\nprint(is_odd(3))\",\n",
       "  'def plus(a,b):\\n    return a+b\\nprint(a)',\n",
       "  'def plus(a,b):\\n    return a+b\\nprint(a+b)',\n",
       "  'def plus(a,b):\\n    return a+b\\nprint(1,2)',\n",
       "  'def plus(a,b):\\n    return a+b\\nprint(plus(1,2))',\n",
       "  'def plus(a,b):\\n    return a+b\\nprint(plus(1,2))\\n\\n#lambda식으로 표현\\n\\nsumLambda = lambda a,b: a+b',\n",
       "  'def plus(a,b):\\n    return a+b\\nprint(plus(1,2))\\n\\n#lambda식으로 표현\\n\\nsumLambda = lambda a,b: a+b\\nprint(sumLambda)',\n",
       "  'def plus(a,b):\\n    return a+b\\nprint(plus(1,2))\\n\\n#lambda식으로 표현\\n\\nsumLambda = lambda a,b: a+b\\nprint(sumLambda(1,2))',\n",
       "  'def plus(a,b):\\n    return a+b\\nprint(plus(1,2))\\n\\n#lambda식으로 표현\\n\\nsumLambda = lambda a,b: a+b\\nprint(sumLambda)',\n",
       "  'def plus(a,b):\\n    return a+b\\nprint(plus(1,2))\\n\\n#lambda식으로 표현\\n\\nsumLambda = lambda a,b: a+b\\nprint(type(sumLambda))',\n",
       "  'def plus(a,b):\\n    return a+b\\nprint(plus(1,2))\\n\\n#lambda식으로 표현\\n\\nsumLambda = lambda a,b: a+b\\nprint(type(sumLambda))\\nprint(type(plus))',\n",
       "  'def plus(a,b):\\n    return a+b\\nprint(plus(1,2))\\n\\n#lambda식으로 표현\\n\\nsumLambda = lambda a,b: a+b\\nprint(type(sumLambda))\\nprint(type(plus))\\n\\nprint(plus(1,2))\\nprint(sumLambda(1,2))',\n",
       "  '# lambda식이 나오게 된 가장 큰 이유는 def보다 간결하게 사용할 수 있기 때문이다.\\n# 또한 lambda는 def를 사용할 수 없는 곳에서도 사용할 수 있다. \\n# myList =[def sum(x,y): x+y,def mul(x,y):x*y]\\n# 상기문은 에러가 발생하기 때문에 아래와 같이 정의할 수 있다.\\n\\ndef sum(x,y): x+y\\ndef mul(x,y): x*y\\nmyList=[sum,mul]\\nprint(type(myList[0]))\\n    ',\n",
       "  '# lambda식이 나오게 된 가장 큰 이유는 def보다 간결하게 사용할 수 있기 때문이다.\\n# 또한 lambda는 def를 사용할 수 없는 곳에서도 사용할 수 있다. \\n# myList =[def sum(x,y): x+y,def mul(x,y):x*y]\\n# 상기문은 에러가 발생하기 때문에 아래와 같이 정의할 수 있다.\\n\\ndef sum(x,y): x+y\\ndef mul(x,y): x*y\\nmyList=[sum,mul]\\nprint(type(myList[0]))\\nprint(type(myList[0](1,1)))',\n",
       "  '# lambda식이 나오게 된 가장 큰 이유는 def보다 간결하게 사용할 수 있기 때문이다.\\n# 또한 lambda는 def를 사용할 수 없는 곳에서도 사용할 수 있다. \\n# myList =[def sum(x,y): x+y,def mul(x,y):x*y]\\n# 상기문은 에러가 발생하기 때문에 아래와 같이 정의할 수 있다.\\n\\ndef sum(x,y): x+y\\ndef mul(x,y): x*y\\nmyList=[sum,mul]\\nprint(type(myList[0]))\\nprint(myList[0](1,1))',\n",
       "  '# lambda식이 나오게 된 가장 큰 이유는 def보다 간결하게 사용할 수 있기 때문이다.\\n# 또한 lambda는 def를 사용할 수 없는 곳에서도 사용할 수 있다. \\n# myList =[def sum(x,y): x+y,def mul(x,y):x*y]\\n# 상기문은 에러가 발생하기 때문에 아래와 같이 정의할 수 있다.\\n\\ndef sum(x,y): x+y\\ndef mul(x,y): x*y\\nmyList=[sum,mul]\\nprint(type(myList[0]))\\nprint(myList[1](1,1))',\n",
       "  '# lambda식이 나오게 된 가장 큰 이유는 def보다 간결하게 사용할 수 있기 때문이다.\\n# 또한 lambda는 def를 사용할 수 없는 곳에서도 사용할 수 있다. \\n# myList =[def sum(x,y): x+y,def mul(x,y):x*y]\\n# 상기문은 에러가 발생하기 때문에 아래와 같이 정의할 수 있다.\\n\\ndef sum(x,y): x+y\\ndef mul(x,y): x*y\\nmyList=[sum,mul]\\nprint(type(myList[0]))\\nprint(myList[1](1,1))',\n",
       "  '# lambda식이 나오게 된 가장 큰 이유는 def보다 간결하게 사용할 수 있기 때문이다.\\n# 또한 lambda는 def를 사용할 수 없는 곳에서도 사용할 수 있다. \\n# myList =[def sum(x,y): x+y,def mul(x,y):x*y]\\n# 상기문은 에러가 발생하기 때문에 아래와 같이 정의할 수 있다.\\n\\ndef sum(x,y): x+y\\ndef mul(x,y): x*y\\nmyList=[sum,mul]\\nprint(type(myList[0]))\\nprint(myList[0](1,1))',\n",
       "  '# lambda식이 나오게 된 가장 큰 이유는 def보다 간결하게 사용할 수 있기 때문이다.\\n# 또한 lambda는 def를 사용할 수 없는 곳에서도 사용할 수 있다. \\n# myList =[def sum(x,y): x+y,def mul(x,y):x*y]\\n# 상기문은 에러가 발생하기 때문에 아래와 같이 정의할 수 있다.\\n\\ndef sum(x,y): return x+y\\ndef mul(x,y): return x*y\\nmyList=[sum,mul]\\nprint(type(myList[0]))\\nprint(myList[0](1,1))',\n",
       "  '# lambda식이 나오게 된 가장 큰 이유는 def보다 간결하게 사용할 수 있기 때문이다.\\n# 또한 lambda는 def를 사용할 수 없는 곳에서도 사용할 수 있다. \\n# myList =[def sum(x,y): x+y,def mul(x,y):x*y]\\n# 상기문은 에러가 발생하기 때문에 아래와 같이 정의할 수 있다.\\n\\ndef sum(x,y): return x+y\\ndef mul(x,y): return x*y\\nmyList=[sum,mul]\\nprint(type(myList[0]))\\nprint(myList[0](1,1))\\n\\n#lambda로 리스트 정의\\nmyList=[lambda a,b,: a+b, lambda a,b:a*b]\\nprint(type(myList[0](1,2)))',\n",
       "  '# lambda식이 나오게 된 가장 큰 이유는 def보다 간결하게 사용할 수 있기 때문이다.\\n# 또한 lambda는 def를 사용할 수 없는 곳에서도 사용할 수 있다. \\n# myList =[def sum(x,y): x+y,def mul(x,y):x*y]\\n# 상기문은 에러가 발생하기 때문에 아래와 같이 정의할 수 있다.\\n\\ndef sum(x,y): return x+y\\ndef mul(x,y): return x*y\\nmyList=[sum,mul]\\nprint(type(myList[0]))\\nprint(myList[0](1,1))\\n\\n#lambda로 리스트 정의\\nmyList=[lambda a,b,: a+b, lambda a,b:a*b]\\nprint(type(myList[0])\\nprint(type(myList[0](1,2)))',\n",
       "  '# lambda식이 나오게 된 가장 큰 이유는 def보다 간결하게 사용할 수 있기 때문이다.\\n# 또한 lambda는 def를 사용할 수 없는 곳에서도 사용할 수 있다. \\n# myList =[def sum(x,y): x+y,def mul(x,y):x*y]\\n# 상기문은 에러가 발생하기 때문에 아래와 같이 정의할 수 있다.\\n\\ndef sum(x,y): return x+y\\ndef mul(x,y): return x*y\\nmyList=[sum,mul]\\nprint(type(myList[0]))\\nprint(myList[0](1,1))\\n\\n#lambda로 리스트 정의\\nmyList=[lambda a,b,: a+b, lambda a,b:a*b]\\nprint(type(myList[0]))\\nprint(type(myList[0](1,2)))',\n",
       "  '# lambda식이 나오게 된 가장 큰 이유는 def보다 간결하게 사용할 수 있기 때문이다.\\n# 또한 lambda는 def를 사용할 수 없는 곳에서도 사용할 수 있다. \\n# myList =[def sum(x,y): x+y,def mul(x,y):x*y]\\n# 상기문은 에러가 발생하기 때문에 아래와 같이 정의할 수 있다.\\n\\ndef sum(x,y): return x+y\\ndef mul(x,y): return x*y\\nmyList=[sum,mul]\\nprint(type(myList[0]))\\nprint(myList[0](1,1))\\n\\n#lambda로 리스트 정의\\nmyList=[lambda a,b,: a+b, lambda a,b:a*b]\\nprint(type(myList[0]))\\nprint(myList[0](1,2))',\n",
       "  \"# 1. 홀수, 짝수를 구분하는 is_odd() 함수 작성\\n# 주어진 숫자가 홀수인지 짝수인지 구별해서 '짝수입니다' or '홀수입니다' 출력\\n# is_odd(number)\\n\\ndef is_odd(number):\\n    return '짝수입니다'if number%2==0 else '홀수입니다'\\n\\nprint(is_odd(3))\\n\\n# 란다식 풀이 \\nisOddLambda = lambda x: '짝수입니다.' if x%2 == 0 else '홀수입니다.'\\nprint(isOddLambda(2))\",\n",
       "  \"# 1. 홀수, 짝수를 구분하는 is_odd() 함수 작성\\n# 주어진 숫자가 홀수인지 짝수인지 구별해서 '짝수입니다' or '홀수입니다' 출력\\n# is_odd(number)\\n\\ndef is_odd(number):\\n    return '짝수입니다'if number%2==0 else '홀수입니다'\\n\\nprint(is_odd(3))\\n\\n# 란다식 풀이 \\nisOddLambda = lambda x: '짝수입니다.' if x%2 == 0 else '홀수입니다.'\\nprint(isOddLambda(3))\",\n",
       "  '# 3. 구구단을 출력하는 함수 gugudan()함수를 작성\\n# 입력값은 2~9단까지 한개의 임의의 단을 입력\\n#gugudan(9)\\ndef gugudan(dan):\\n    for i in range(1,10):print(f\"{dan}X{i}={dan*i}\")\\ngugudan(8)\\n\\ngugudanLambda = lambda x : for i in range(1,10): print(f\")',\n",
       "  '# 3. 구구단을 출력하는 함수 gugudan()함수를 작성\\n# 입력값은 2~9단까지 한개의 임의의 단을 입력\\n#gugudan(9)\\ndef gugudan(dan):\\n    for i in range(1,10):print(f\"{dan}X{i}={dan*i}\")\\ngugudan(8)\\n\\ngugudanLambda = lambda x : for i in range(1,10): print(f\"{x}X{i}={x*i}\")\\ngugudanLambda(5)',\n",
       "  '# 3. 구구단을 출력하는 함수 gugudan()함수를 작성\\n# 입력값은 2~9단까지 한개의 임의의 단을 입력\\n#gugudan(9)\\ndef gugudan(dan):\\n    for i in range(1,10):print(f\"{dan}X{i}={dan*i}\")\\ngugudan(8)',\n",
       "  '# 2. 입력된 모든 수의 평균을 계산하는 funcAvg()함수를 작성\\n# 단. 입력매개변수의 갯수는 정해져 있지 않다.\\n# funcAvg()\\n\\ndef funcAvg(*args):\\n    sum = 0\\n    for i in args: sum += i \\n    return sum/len(args)\\nprint(funcAvg(1,2,3,4,5,6,7,8,9,10))\\n# funcAvg([1,2,3,4,5,6,7,8,9,10]) # error 발생',\n",
       "  '# 2. 입력된 모든 수의 평균을 계산하는 funcAvg()함수를 작성\\n# 단. 입력매개변수의 갯수는 정해져 있지 않다.\\n# funcAvg()\\n\\ndef funcAvg(*args):\\n    sum = 0\\n    for i in args: sum += i \\n    return sum/len(args)\\nprint(funcAvg(1,2,3,4,5,6,7,8,9,10))\\n# funcAvg([1,2,3,4,5,6,7,8,9,10]) # error 발생\\nfuncAvg(*[1,2,3,4,5,6,7,8,9,10]) ',\n",
       "  '# 2. 입력된 모든 수의 평균을 계산하는 funcAvg()함수를 작성\\n# 단. 입력매개변수의 갯수는 정해져 있지 않다.\\n# funcAvg()\\n\\ndef funcAvg(*args):\\n    sum = 0\\n    for i in args: sum += i \\n    return sum/len(args)\\nprint(funcAvg(1,2,3,4,5,6,7,8,9,10))\\n# funcAvg([1,2,3,4,5,6,7,8,9,10]) # error 발생\\nfuncAvg(*[1,2,3,4,5,6,7,8,9,10]) \\nfuncAvg(*(1,2,3,4,5,6,7,8,9,10))',\n",
       "  '# 2. 입력된 모든 수의 평균을 계산하는 funcAvg()함수를 작성\\n# 단. 입력매개변수의 갯수는 정해져 있지 않다.\\n# funcAvg()\\n\\ndef funcAvg(*args):\\n    sum = 0\\n    for i in args: sum += i \\n    return sum/len(args)\\nprint(funcAvg(1,2,3,4,5,6,7,8,9,10))\\n# funcAvg([1,2,3,4,5,6,7,8,9,10]) # error 발생\\nfuncAvg(*[1,2,3,4,5,6,7,8,9,10]) \\nprint(funcAvg(*(1,2,3,4,5,6,7,8,9,10)))',\n",
       "  '# 4. 리스트 [2,3,4,5,6,7,8]에서 5보다 큰 수만 리턴하는 funcReturn()함수 작성\\ndef funcReturn(list):\\n    result =[]\\n    for i in list:\\n        if i>5:\\n            result.append(i)\\n    return result\\n\\nprint(funcReturn([2,3,4,5,6,7,8]))\\n\\n#lambda \\nlambdaReturn = lambda i : [ val for val in i if val>5]\\nprint(lambdaReturn([2,3,4,5,6,7,8]))',\n",
       "  '# 4. 리스트 [2,3,4,5,6,7,8]에서 5보다 큰 수만 리턴하는 funcReturn()함수 작성\\ndef funcReturn(list):\\n    result =[]\\n    for i in list:\\n        if i>5:\\n            result.append(i)\\n    return result\\n\\nprint(funcReturn([2,3,4,5,6,7,8]))\\n\\n#lambda \\nlambdaReturn = lambda i : (val for val in i if val>5)\\nprint(lambdaReturn([2,3,4,5,6,7,8]))',\n",
       "  '# 4. 리스트 [2,3,4,5,6,7,8]에서 5보다 큰 수만 리턴하는 funcReturn()함수 작성\\ndef funcReturn(list):\\n    result =[]\\n    for i in list:\\n        if i>5:\\n            result.append(i)\\n    return result\\n\\nprint(funcReturn([2,3,4,5,6,7,8]))\\n\\n#lambda \\nlambdaReturn = lambda i : (val for val in i if val>5)\\nprint(lambdaReturn([2,3,4,5,6,7,8])[0])',\n",
       "  '# 4. 리스트 [2,3,4,5,6,7,8]에서 5보다 큰 수만 리턴하는 funcReturn()함수 작성\\ndef funcReturn(list):\\n    result =[]\\n    for i in list:\\n        if i>5:\\n            result.append(i)\\n    return result\\n\\nprint(funcReturn([2,3,4,5,6,7,8]))\\n\\n#lambda \\nlambdaReturn = lambda i : [ val for val in i if val>5]\\nprint(lambdaReturn([2,3,4,5,6,7,8]))',\n",
       "  '# 3. 구구단을 출력하는 함수 gugudan()함수를 작성\\n# 입력값은 2~9단까지 한개의 임의의 단을 입력\\n#gugudan(9)\\ndef gugudan(dan):\\n    for i in range(1,10):print(f\"{dan}X{i}={dan*i}\")\\ngugudan(8)\\n\\n# lambda\\ngugudamLambda = lambda x:print(f\"{x}X{i}={x*i}\") for i in range(1,10)\\ngugudamLambda(8)',\n",
       "  '# 1. 변수의 사용범위\\n# 1) 전역변수(Global variable)\\nx = 10 \\ndef foo():\\n    prin(x)\\nfoo()\\nprint(x)',\n",
       "  '# 1. 변수의 사용범위\\n# 1) 전역변수(Global variable)\\nx = 10 \\ndef foo():\\n    print(x)\\nfoo()\\nprint(x)',\n",
       "  '# 1. 변수의 사용범위\\n# 1) 전역변수(Global variable)\\nx = 10 \\ndef foo():\\n    print(x)\\nfoo()\\nprint(x)\\n\\n# 1) 지역변수(local variable)\\ndef foo1():\\n    y = 1000\\n    print(y)\\nfoo1()\\nprint(y)',\n",
       "  '# 1. 변수의 사용범위\\n# 1) 전역변수(Global variable)\\nx = 10 \\ndef foo():\\n    print(x)\\nfoo()\\nprint(x)\\n\\n# 1) 지역변수(local variable)\\ndef foo1():\\n    k = 1000\\n    print(k)\\nfoo1()\\nprint(yk',\n",
       "  '# 1. 변수의 사용범위\\n# 1) 전역변수(Global variable)\\nx = 10 \\ndef foo():\\n    print(x)\\nfoo()\\nprint(x)\\n\\n# 1) 지역변수(local variable)\\ndef foo1():\\n    k = 1000\\n    print(k)\\nfoo1()\\nprint(k)',\n",
       "  '# 2. 함수안에서 전역변수 변경하기\\nx = 10\\ndef foo():\\n    x = 20\\n    print(x)\\n# 3. 함수 안 함수만들기',\n",
       "  '# 2. 함수안에서 전역변수 변경하기\\nx = 10\\ndef foo():\\n    x = 20\\n    print(x)\\n\\nfoo()\\nprint(x)\\n# 3. 함수 안 함수만들기',\n",
       "  '# 2. 함수안에서 전역변수 변경하기\\nx = 10\\ndef foo():\\n    x = 20\\n    print(x)\\n\\nfoo()\\nprint(x)\\n\\n\\ny= 10 \\ndef foo():\\n    global y \\n    y = 20\\n    print(y)\\nfoo()\\nprint(t)\\n# 3. 함수 안 함수만들기',\n",
       "  '# 2. 함수안에서 전역변수 변경하기\\nx = 10\\ndef foo():\\n    x = 20\\n    print(x)\\n\\nfoo()\\nprint(x)\\n\\n\\ny= 10 \\ndef foo():\\n    global y \\n    y = 20\\n    print(y)\\nfoo()\\nprint(y)\\n# 3. 함수 안 함수만들기',\n",
       "  '# 2. 함수안에서 전역변수 변경하기\\nx = 10\\ndef foo():\\n    x = 20\\n    print(x)\\n\\nfoo()\\nprint(x)\\n\\n# 전역변수로  정의하는 방법\\ny= 10 \\ndef foo():\\n    global y  # y 전역변수 설정\\n    y = 20\\n    print(y)\\nfoo()\\nprint(y)\\n# \\ndef foo():\\n    global z \\n    z = 30 \\n    print(z)\\n    \\nprint(z)\\n\\n# 3. 함수 안 함수만들기',\n",
       "  '# 2. 함수안에서 전역변수 변경하기\\nx = 10\\ndef foo():\\n    x = 20\\n    print(x)\\n\\nfoo()\\nprint(x)\\n\\n# 전역변수로  정의하는 방법\\ny= 10 \\ndef foo():\\n    global y  # y 전역변수 설정\\n    y = 20\\n    print(y)\\nfoo()\\nprint(y)\\n# \\ndef foo():\\n    global z \\n    z = 30 \\n    print(z)\\n\\nfoo()\\nprint(z)\\n\\n# 3. 함수 안 함수만들기',\n",
       "  \"# 네임스페이스 \\n# python에서 변수는 네임스페이스(namespace, 이름공간)에 저장된다.\\n# 네임스페이스를 확인하려면 locals()함수를 사용하면 현재 namespace 를 딕셔너리 형태로 출력한다.\\nget_ipython().run_line_magic('who', '')\",\n",
       "  \"# 네임스페이스 \\n# python에서 변수는 네임스페이스(namespace, 이름공간)에 저장된다.\\n# 네임스페이스를 확인하려면 locals()함수를 사용하면 현재 namespace 를 딕셔너리 형태로 출력한다.\\nget_ipython().run_line_magic('who', '')\\nprint(locals())\",\n",
       "  \"# 네임스페이스 \\n# python에서 변수는 네임스페이스(namespace, 이름공간)에 저장된다.\\n# 네임스페이스를 확인하려면 locals()함수를 사용하면 현재 namespace 를 딕셔너리 형태로 출력한다.\\nget_ipython().run_line_magic('who', '')\\n#print(locals())\\nlocals()\"],\n",
       " 'Out': {11: 10,\n",
       "  13: 'Hello',\n",
       "  29: 3,\n",
       "  35: 10,\n",
       "  37: 10,\n",
       "  38: 10,\n",
       "  127: 5.5,\n",
       "  128: 5.5},\n",
       " 'get_ipython': <bound method InteractiveShell.get_ipython of <ipykernel.zmqshell.ZMQInteractiveShell object at 0x000002599A0FAFC8>>,\n",
       " 'exit': <IPython.core.autocall.ZMQExitAutocall at 0x2599a124ec8>,\n",
       " 'quit': <IPython.core.autocall.ZMQExitAutocall at 0x2599a124ec8>,\n",
       " '_': 5.5,\n",
       " '__': 5.5,\n",
       " '___': 10,\n",
       " '_i': '# 네임스페이스 \\n# python에서 변수는 네임스페이스(namespace, 이름공간)에 저장된다.\\n# 네임스페이스를 확인하려면 locals()함수를 사용하면 현재 namespace 를 딕셔너리 형태로 출력한다.\\n%who\\nprint(locals())',\n",
       " '_ii': '# 네임스페이스 \\n# python에서 변수는 네임스페이스(namespace, 이름공간)에 저장된다.\\n# 네임스페이스를 확인하려면 locals()함수를 사용하면 현재 namespace 를 딕셔너리 형태로 출력한다.\\n%who',\n",
       " '_iii': '# 2. 함수안에서 전역변수 변경하기\\nx = 10\\ndef foo():\\n    x = 20\\n    print(x)\\n\\nfoo()\\nprint(x)\\n\\n# 전역변수로  정의하는 방법\\ny= 10 \\ndef foo():\\n    global y  # y 전역변수 설정\\n    y = 20\\n    print(y)\\nfoo()\\nprint(y)\\n# \\ndef foo():\\n    global z \\n    z = 30 \\n    print(z)\\n\\nfoo()\\nprint(z)\\n\\n# 3. 함수 안 함수만들기',\n",
       " '_i1': 'print(\\'a\\',\\'b\\',\\'c\\',sep=\",\")',\n",
       " '_i2': '# \"hello python\"이라는 문자를 호출하는 함수 작성\\ndef hello():\\n    print(\"hello python\")\\nhello()',\n",
       " 'hello': <function __main__.hello()>,\n",
       " '_i3': '# 함수 호출\\nhello()',\n",
       " '_i4': 'add(3,7)',\n",
       " '_i5': '# 인자가 있는 함수선언\\n# 더하기 함수\\ndef add(a,b):\\n    print(a+b)',\n",
       " 'add': <function __main__.add(a, b)>,\n",
       " '_i6': 'add(3,7)',\n",
       " '_i7': 'add(\"z\",\"v\")',\n",
       " '_i8': 'add(\"z\",1)',\n",
       " '_i9': 'add(3,1)',\n",
       " '_i10': '# 인자가 있는 함수선언\\n# 더하기 함수\\ndef add(a,b):\\n    print(a+b)\\n\\nadd(3,1)\\n\\ndef plus(x,y):\\n    return x+y\\n\\nplus(3,7',\n",
       " '_i11': '# 인자가 있는 함수선언\\n# 더하기 함수\\ndef add(a,b):\\n    print(a+b)\\n\\nadd(3,1)\\n\\ndef plus(x,y):\\n    return x+y\\n\\nplus(3,7)',\n",
       " 'plus': <function __main__.plus(a, b)>,\n",
       " '_11': 10,\n",
       " '_i12': '# 인자가 있는 함수선언\\n# 더하기 함수\\ndef add(a,b):\\n    print(a+b)\\n\\nadd(3,1)\\n\\ndef plus(x,y):\\n    return x+y\\n\\nresult = plus(3,7) # 리턴이 있는 함수는 결과값을 반환받을 수 있다.\\nprint(result)',\n",
       " 'result': (4, -2),\n",
       " '_i13': '# 인자가 없는 함수\\ndef sayHello():\\n    return \"Hello\"\\n\\nsayHello()',\n",
       " 'sayHello': <function __main__.sayHello()>,\n",
       " '_13': 'Hello',\n",
       " '_i14': '# 결과값(리턴)이 없는 함수\\ndef sum(i,j):\\n    print(\"%d + %d = %d\",%(i,j,i+j)',\n",
       " '_i15': '# 결과값(리턴)이 없는 함수\\ndef sum(i,j):\\n    print(\"%d + %d = %d\"%(i,j,i+j))',\n",
       " 'sum': <function __main__.sum(x, y)>,\n",
       " '_i16': '# 결과값(리턴)이 없는 함수\\ndef sum(i,j):\\n    print(\"%d + %d = %d\"%(i,j,i+j))\\nsum(3,7)\\na = sum(3,7)\\nprint(a)',\n",
       " 'a': 5.0,\n",
       " '_i17': '# 결과값(리턴)이 있는 함수 \\ndef sumReturn(i,j):\\n    return i+j\\n\\nresult = sumReturn(3,7)\\nprint(result)',\n",
       " 'sumReturn': <function __main__.sumReturn(i, j)>,\n",
       " '_i18': '# 함수를 사용하는 장점\\n# 매개변수의 순서와 상관없이 자유롭게 호출 가능하다.\\n\\nprint(sumReturn(3,7))',\n",
       " '_i19': '# 함수를 사용하는 장점\\n# 매개변수의 순서와 상관없이 자유롭게 호출 가능하다.\\n\\nprint(sumReturn(3,7))\\nprint(sumReturn(i=3,j=1))',\n",
       " '_i20': '# 함수를 사용하는 장점\\n# 매개변수의 순서와 상관없이 자유롭게 호출 가능하다.\\n\\nprint(sumReturn(3,7))\\nprint(sumReturn(i=3,z=1))',\n",
       " '_i21': '# 함수를 사용하는 장점\\n# 매개변수의 순서와 상관없이 자유롭게 호출 가능하다.\\n\\nprint(sumReturn(3,7))\\nprint(sumReturn(i=3,j=1))',\n",
       " '_i22': '# 함수에서 여러개의 값을 반환하기\\ndef multiReturn(a,b):\\n    return a+b,a-b,a*b,a/b\\nprint(multiReturn(10,2))',\n",
       " 'multiReturn': <function __main__.multiReturn(a, b)>,\n",
       " '_i23': '# 함수에서 여러개의 값을 반환하기\\ndef multiReturn(a,b):\\n    return a+b,a-b,a*b,a/b\\nprint(type(multiReturn(10,2)))',\n",
       " '_i24': '# 함수에서 여러개의 값을 반환하기\\ndef multiReturn(a,b):\\n    return a+b,a-b,a*b,a/b\\nprint(multiReturn(10,2))\\nprint(type(multiReturn(10,2)))',\n",
       " '_i25': '# 함수에서 여러개의 값을 반환하기\\ndef multiReturn(a,b):\\n    return a+b,a-b,a*b,a/b\\nprint(multiReturn(10,2))\\nprint(type(multiReturn(10,2))) #type 튜플\\n\\nx,y,z,a = multiReturn(10,2)\\nprint(x)',\n",
       " 'x': 10,\n",
       " 'y': 20,\n",
       " 'z': 30,\n",
       " '_i26': '# 함수에서 여러개의 값을 반환하기\\ndef multiReturn(a,b):\\n    return a+b,a-b,a*b,a/b\\nprint(multiReturn(10,2))\\nprint(type(multiReturn(10,2))) #type 튜플\\n\\nx,y,z,a = multiReturn(10,2)\\nprint(x,y,z,a)',\n",
       " '_i27': '# 함수에서 여러개의 값을 반환하기\\ndef multiReturn(a,b):\\n    return a+b,a-b,a*b,a/b\\nprint(multiReturn(10,2))\\nprint(type(multiReturn(10,2))) #type 튜플\\n\\nx,y,z,a = multiReturn(10,2)\\nprint(x,y,z,a)\\n\\nx,y,z = multiReturn(10,2)',\n",
       " '_i28': '# 함수에서 여러개의 값을 반환하기\\ndef multiReturn(a,b):\\n    return a+b,a-b,a*b,a/b\\nprint(multiReturn(10,2))\\nprint(type(multiReturn(10,2))) #type 튜플\\n\\nx,y,z,a = multiReturn(10,2)\\nprint(x,y,z,a)\\n\\n# x,y,z = multiReturn(10,2) return 하는 값과 return 받는 변수는 동일 갯수여야함.',\n",
       " '_i29': '# *args : 입력값이 여러개 일 경우 정의하는 매개변수 이다.\\ndef manySum(a,b):\\n    return a+b\\n\\nmanySum(1,2)\\n        ',\n",
       " 'manySum': <function __main__.manySum(*args)>,\n",
       " '_29': 3,\n",
       " '_i30': '# *args : 입력값이 여러개 일 경우 정의하는 매개변수 이다.\\ndef manySum(a,b):\\n    return a+b\\n\\nmanySum(1,2,3,4)\\n        ',\n",
       " '_i31': '# *args : 입력값이 여러개 일 경우 정의하는 매개변수 이다.\\ndef manySum(*args):\\n    print(type(args))\\n\\nmanySum(1,2,3,4)\\n        ',\n",
       " '_i32': '# *args : 입력값이 여러개 일 경우 정의하는 매개변수 이다.\\ndef manySum(*args):\\n    print(type(args[1]))\\n\\nmanySum(1,2,3,4)\\n        ',\n",
       " '_i33': '# *args : 입력값이 여러개 일 경우 정의하는 매개변수 이다.\\ndef manySum(*args):\\n    print(type(args))\\n\\nmanySum(1,2,3,4)\\n        ',\n",
       " '_i34': '# *args : 입력값이 여러개 일 경우 정의하는 매개변수 이다.\\ndef manySum(*args):\\n    print(type(args))\\n    print(len(args))\\n\\nmanySum(1,2,3,4)\\n        ',\n",
       " '_i35': '# *args : 입력값이 여러개 일 경우 정의하는 매개변수 이다.\\ndef manySum(*args):\\n    print(type(args))\\n    print(len(args))\\n    sum = 0\\n    for i in args:\\n        sum += i\\n    \\n    return sum\\nmanySum(1,2,3,4)\\n        ',\n",
       " '_35': 10,\n",
       " '_i36': '# *args : 입력값이 여러개 일 경우 정의하는 매개변수 이다.\\ndef manySum(*args):\\n    print(type(args))\\n    print(len(args))\\n    sum = 0\\n    sum = sum+=i for i in args\\n    for i in args:\\n        sum += i\\n    \\n    return sum\\nmanySum(1,2,3,4)\\n        ',\n",
       " '_i37': '# *args : 입력값이 여러개 일 경우 정의하는 매개변수 이다.\\ndef manySum(*args):\\n    print(type(args))\\n    print(len(args))\\n    sum = 0\\n    for i in args:\\n        sum += i\\n    return sum\\nmanySum(1,2,3,4)\\n        ',\n",
       " '_37': 10,\n",
       " '_i38': '# *args : 입력값이 여러개 일 경우 정의하는 매개변수 이다.\\ndef manySum(*args):\\n    print(type(args))\\n    print(len(args))\\n    sum = 0\\n    for i in args:\\n        sum += i\\n    return sum\\nmanySum(1,2,3,4)',\n",
       " '_38': 10,\n",
       " '_i39': '# 유동적으로 실행하는 계산기 : 사칙연산을 실행하는 계산기\\ndef calculator(operator,*args):\\n    result = 0\\n    if operator = \\'+\\': pass\\n    if operator = \\'-\\': pass\\n    if operator = \\'*\\': pass\\n    if operator = \\'/\\': pass\\n    return\\n    print(\"sdsdsds\")\\n    \\nprint(calculator(\\'-\\',1,2,5,8))',\n",
       " '_i40': '# 유동적으로 실행하는 계산기 : 사칙연산을 실행하는 계산기\\ndef calculator(operator,*args):\\n    result = 0\\n    if operator ==\\'+\\': pass\\n    if operator == \\'-\\': pass\\n    if operator == \\'*\\': pass\\n    if operator == \\'/\\': pass\\n    return\\n    print(\"sdsdsds\")\\n    \\nprint(calculator(\\'-\\',1,2,5,8))',\n",
       " 'calculator': <function __main__.calculator(operator, *args)>,\n",
       " '_i41': '# 유동적으로 실행하는 계산기 : 사칙연산을 실행하는 계산기\\ndef calculator(operator,*args):\\n    result = 0\\n    if operator ==\\'+\\': pass\\n    if operator == \\'-\\': pass\\n    if operator == \\'*\\': pass\\n    if operator == \\'/\\': pass\\n    return result\\n    print(\"sdsdsds\")\\n    \\nprint(calculator(\\'-\\',1,2,5,8))',\n",
       " '_i42': '# 유동적으로 실행하는 계산기 : 사칙연산을 실행하는 계산기\\ndef calculator(operator,*args):\\n    result = 0\\n    if operator ==\\'+\\': \\n        result = [result+=i for i in args]\\n    if operator == \\'-\\': pass\\n    if operator == \\'*\\': pass\\n    if operator == \\'/\\': pass\\n    return result\\n    print(\"sdsdsds\")\\n    \\nprint(calculator(\\'+\\',1,2,5,8))\\nprint(calculator(\\'-\\',1,2,5))\\nprint(calculator(\\'*\\',1,2,5,8,8,7))\\nprint(calculator(\\'/\\',1,2,5,8,9,11))',\n",
       " '_i43': '# 유동적으로 실행하는 계산기 : 사칙연산을 실행하는 계산기\\ndef calculator(operator,*args):\\n    result = 0\\n    if operator ==\\'+\\': \\n        result = [result=i for i in args]\\n    if operator == \\'-\\': pass\\n    if operator == \\'*\\': pass\\n    if operator == \\'/\\': pass\\n    return result\\n    print(\"sdsdsds\")\\n    \\nprint(calculator(\\'+\\',1,2,5,8))\\nprint(calculator(\\'-\\',1,2,5))\\nprint(calculator(\\'*\\',1,2,5,8,8,7))\\nprint(calculator(\\'/\\',1,2,5,8,9,11))',\n",
       " '_i44': '# 유동적으로 실행하는 계산기 : 사칙연산을 실행하는 계산기\\ndef calculator(operator,*args):\\n    result = 0\\n    if operator ==\\'+\\': \\n        result = [i for i in args]\\n    if operator == \\'-\\': pass\\n    if operator == \\'*\\': pass\\n    if operator == \\'/\\': pass\\n    return result\\n    print(\"sdsdsds\")\\n    \\nprint(calculator(\\'+\\',1,2,5,8))\\nprint(calculator(\\'-\\',1,2,5))\\nprint(calculator(\\'*\\',1,2,5,8,8,7))\\nprint(calculator(\\'/\\',1,2,5,8,9,11))',\n",
       " '_i45': '# 유동적으로 실행하는 계산기 : 사칙연산을 실행하는 계산기\\ndef calculator(operator,*args):\\n    result = 0\\n    if operator ==\\'+\\': \\n        result = [result+=i for i in args]\\n    if operator == \\'-\\': pass\\n    if operator == \\'*\\': pass\\n    if operator == \\'/\\': pass\\n    return result\\n    print(\"sdsdsds\")\\n    \\nprint(calculator(\\'+\\',1,2,5,8))\\nprint(calculator(\\'-\\',1,2,5))\\nprint(calculator(\\'*\\',1,2,5,8,8,7))\\nprint(calculator(\\'/\\',1,2,5,8,9,11))',\n",
       " '_i46': '# 유동적으로 실행하는 계산기 : 사칙연산을 실행하는 계산기\\ndef calculator(operator,*args):\\n    result = 0\\n    if operator ==\\'+\\': \\n        result = [result=result+i for i in args]\\n    if operator == \\'-\\': pass\\n    if operator == \\'*\\': pass\\n    if operator == \\'/\\': pass\\n    return result\\n    print(\"sdsdsds\")\\n    \\nprint(calculator(\\'+\\',1,2,5,8))\\nprint(calculator(\\'-\\',1,2,5))\\nprint(calculator(\\'*\\',1,2,5,8,8,7))\\nprint(calculator(\\'/\\',1,2,5,8,9,11))',\n",
       " '_i47': '# 키워드 파라미터 kwargs\\n# kwargs는 keyword argments의 약어이다. **kwargs는 *args와 다르게 별표(*)가 두개 사용된다.\\n# 함수인수로서 **kwargs가 key=value형태로 주어졌을때 입력값 전체가 딕셔너리형태로 반환된다.\\ndef func(**kwargs):\\n    print(kwargs)\\n    print(type(kwargs))\\n    ',\n",
       " 'func': <function __main__.func(**kwargs)>,\n",
       " '_i48': '# 키워드 파라미터 kwargs\\n# kwargs는 keyword argments의 약어이다. **kwargs는 *args와 다르게 별표(*)가 두개 사용된다.\\n# 함수인수로서 **kwargs가 key=value형태로 주어졌을때 입력값 전체가 딕셔너리형태로 반환된다.\\ndef func(**kwargs):\\n    print(kwargs)\\n    print(type(kwargs))\\n    ',\n",
       " '_i49': '# 키워드 파라미터 kwargs\\n# kwargs는 keyword argments의 약어이다. **kwargs는 *args와 다르게 별표(*)가 두개 사용된다.\\n# 함수인수로서 **kwargs가 key=value형태로 주어졌을때 입력값 전체가 딕셔너리형태로 반환된다.\\ndef func(**kwargs):\\n    print(kwargs)\\n    print(type(kwargs))\\nfunc(1,2,5,3)',\n",
       " '_i50': '# 키워드 파라미터 kwargs\\n# kwargs는 keyword argments의 약어이다. **kwargs는 *args와 다르게 별표(*)가 두개 사용된다.\\n# 함수인수로서 **kwargs가 key=value형태로 주어졌을때 입력값 전체가 딕셔너리형태로 반환된다.\\ndef func(**kwargs):\\n    print(kwargs)\\n    print(type(kwargs))\\n#func(1,2,5,3) # 에러발생 key=value 형태로 전달되어야 한다.\\nfunc(a=1,b=v)',\n",
       " '_i51': \"# 키워드 파라미터 kwargs\\n# kwargs는 keyword argments의 약어이다. **kwargs는 *args와 다르게 별표(*)가 두개 사용된다.\\n# 함수인수로서 **kwargs가 key=value형태로 주어졌을때 입력값 전체가 딕셔너리형태로 반환된다.\\ndef func(**kwargs):\\n    print(kwargs)\\n    print(type(kwargs))\\n#func(1,2,5,3) # 에러발생 key=value 형태로 전달되어야 한다.\\nfunc(a=1,b='v')\",\n",
       " '_i52': \"# 키워드 파라미터 kwargs\\n# kwargs는 keyword argments의 약어이다. **kwargs는 *args와 다르게 별표(*)가 두개 사용된다.\\n# 함수인수로서 **kwargs가 key=value형태로 주어졌을때 입력값 전체가 딕셔너리형태로 반환된다.\\ndef func(**kwargs):\\n    print(kwargs)\\n    print(type(kwargs))\\n#func(1,2,5,3) # 에러발생 key=value 형태로 전달되어야 한다.\\nfunc(a=1,b='v')\\nfunc(name='홍길동',age='17')\",\n",
       " '_i53': \"def func1(*args,**kwargs):\\n    print(args,kwargs)\\n\\n    \\nfunc1(1,2,3,name='ham',age='25')\",\n",
       " 'func1': <function __main__.func1(*args, **kwargs)>,\n",
       " '_i54': \"def func1(*args,**kwargs):\\n    print(args,kwargs)\\n\\n    \\nfunc1(1,2,3,name='ham',age='25')\\nfunc1(1,2,3,name='ham',age='25',45,46)\",\n",
       " '_i55': \"def func1(*args,**kwargs):\\n    print(args,kwargs)\\n\\n    \\nfunc1(1,2,3,name='ham',age='25')\\n#func1(1,2,3,name='ham',age='25',45,46) # error : flexable 하니까 어떤게 args 인지 kwargs 인지 구별 못함. \\nfunc1(1,2,3,name='ham',age='25') # 끝나는 위치에 따라 args인즈 kwargs인지 구별\",\n",
       " '_i56': 'def func1(*args,**kwargs):\\n    print(args,kwargs)\\n\\n    \\nfunc1(1,2,3,name=\\'ham\\',age=\\'25\\')\\n#func1(1,2,3,name=\\'ham\\',age=\\'25\\',45,46) # error : flexable 하니까 어떤게 args 인지 kwargs 인지 구별 못함. \\nfunc1(1,2,3,name=\\'ham\\',age=\\'25\\',개읹정보=\"y\") # 끝나는 위치에 따라 args인즈 kwargs인지 구별',\n",
       " '_i57': '# 개인정보를 출력하는 함수에서\\ndef peraonal_info(name,age,addr):\\n    print(\"이름=\",name)\\n    print(\"나이=\",age)\\n    print(\"주소=\",addr)\\n\\nperaonal_info(\\'ham\\',28,\\'의정부\\')',\n",
       " 'peraonal_info': <function __main__.peraonal_info(name, age, addr)>,\n",
       " '_i58': '# 개인정보를 출력하는 함수에서\\ndef peraonal_info(name,age,addr):\\n    print(\"이름=\",name)\\n    print(\"나이=\",age)\\n    print(\"주소=\",addr)\\n\\nperaonal_info(\\'ham\\',28,\\'의정부\\')\\nperaonal_info(28,\\'ham\\',\\'의정부\\')',\n",
       " '_i59': '# 개인정보를 출력하는 함수에서\\ndef peraonal_info(name,age,addr):\\n    print(\"이름=\",name)\\n    print(\"나이=\",age)\\n    print(\"주소=\",addr)\\n\\nperaonal_info(\\'ham\\',28,\\'의정부\\')\\nperaonal_info(28,\\'ham\\',\\'의정부\\') # 에러는 아니지만 개발자의 예상과 다르게 동작할 수 있다.\\nperaonal_info(name=\\'han\\',age=258,addr=\"서울\")',\n",
       " '_i60': \"x = {'name':'ham','age':28,'addr':'서울'}\\n\\nperaonal_info(**x)\",\n",
       " '_i61': 'x = {\\'name\\':\\'ham\\',\\'age\\':28,\\'addr\\':\\'서울\\'}\\n\\nperaonal_info(**x)\\n# 상기 호출은 peraonal_info(name=\\'han\\',age=258,addr=\"서울\") 과 동일한 형태\\n\\nperaonal_info(*x)',\n",
       " '_i62': 'x = {\\'name\\':\\'ham\\',\\'age\\':28,\\'addr\\':\\'서울\\'}\\n\\nperaonal_info(**x)\\n# 상기 호출은 peraonal_info(name=\\'han\\',age=258,addr=\"서울\") 과 동일한 형태\\n\\nperaonal_info(*x.values())\\n# *x는 키만전달됨.',\n",
       " '_i63': 'x = {\\'name\\':\\'ham\\',\\'age\\':28,\\'addr\\':\\'서울\\'}\\n\\nperaonal_info(**x)\\n# 상기 호출은 peraonal_info(name=\\'han\\',age=258,addr=\"서울\") 과 동일한 형태\\n\\nperaonal_info(*x)\\n# *x는 키만전달됨.\\nperaonal_info(*x.values())\\n# 값만 전달됨',\n",
       " '_i64': 'x = {\\'name\\':\\'ham\\',\\'age\\':28,\\'addr\\':\\'서울\\'}\\n\\nperaonal_info(**x)\\n# 상기 호출은 peraonal_info(name=\\'han\\',age=258,addr=\"서울\") 과 동일한 형태\\n\\nperaonal_info(*x)\\n# *x는 키만전달됨.\\nperaonal_info(*x.values())\\n# 값만 전달됨 (파라미터 순서가 맞아야하긴 하지만)',\n",
       " '_i65': '# 함수의 반환값은 허너아더,\\ndef sum_and_mull(a,b):\\n    return a+b,a-b\\nresult = sum_and_mull(1,3)',\n",
       " 'sum_and_mull': <function __main__.sum_and_mull(a, b)>,\n",
       " '_i66': '# 함수의 반환값은 허너아더,\\ndef sum_and_mull(a,b):\\n    return a+b,a-b\\nresult = sum_and_mull(1,3)\\nprint(result)',\n",
       " '_i67': '# 함수의 반환값은 허너아더,\\ndef sum_and_mull(a,b):\\n    return a+b,a-b\\nresult = sum_and_mull(1,3) # 한개의 값 즉, 한개의 튜플로 리턴된다.\\nprint(result)\\n\\ndef sum_and_minus(a,b):\\n    return a+b\\n    return a-b\\nprint(sum_and_minus(3,4))',\n",
       " 'sum_and_minus': <function __main__.sum_and_minus(a, b)>,\n",
       " '_i68': '# 함수의 반환값은 허너아더,\\ndef sum_and_mull(a,b):\\n    return a+b,a-b\\nresult = sum_and_mull(1,3) # 한개의 값 즉, 한개의 튜플로 리턴된다.\\nprint(result)\\n\\ndef sum_and_minus(a,b):\\n    return a+b\\n    return a-b # 에러는 나지 않지만 실행은 안된다.\\n\\nprint(sum_and_minus(3,4))',\n",
       " '_i69': '# 유동적으로 실행하는 계산기 : 사칙연산을 실행하는 계산기\\ndef calculator(operator,*args):\\n    result = 0\\n    if operator ==\\'+\\': \\n        for i in args:\\n            result+=i\\n    if operator == \\'-\\': pass\\n    if operator == \\'*\\': pass\\n    if operator == \\'/\\': pass\\n    return result\\n    print(\"sdsdsds\")\\n    \\nprint(calculator(\\'+\\',1,2,5,8))\\nprint(calculator(\\'-\\',1,2,5))\\nprint(calculator(\\'*\\',1,2,5,8,8,7))\\nprint(calculator(\\'/\\',1,2,5,8,9,11))',\n",
       " '_i70': '# 유동적으로 실행하는 계산기 : 사칙연산을 실행하는 계산기\\ndef calculator(operator,*args):\\n    result = 0\\n    if operator ==\\'+\\': \\n        for i in args:\\n            result+=i\\n    if operator == \\'-\\':\\n        for i in args:\\n            result -= i\\n            \\n    if operator == \\'*\\': pass\\n    if operator == \\'/\\': pass\\n    return result\\n    print(\"sdsdsds\")\\n    \\nprint(calculator(\\'+\\',1,2,5,8))\\nprint(calculator(\\'-\\',1,2,5))\\nprint(calculator(\\'*\\',1,2,5,8,8,7))\\nprint(calculator(\\'/\\',1,2,5,8,9,11))',\n",
       " '_i71': '# 유동적으로 실행하는 계산기 : 사칙연산을 실행하는 계산기\\ndef calculator(operator,*args):\\n    result = 0\\n    if operator ==\\'+\\': \\n        for i in args:\\n            result+=i\\n    if operator == \\'-\\':\\n        for i in args:\\n            result -= i\\n    if operator == \\'*\\':\\n        result = 1\\n        for i in args:\\n            result *= i\\n    if operator == \\'/\\': pass\\n    return result\\n    print(\"sdsdsds\")\\n    \\nprint(calculator(\\'+\\',1,2,5,8))\\nprint(calculator(\\'-\\',1,2,5))\\nprint(calculator(\\'*\\',1,2,5,8,8,7))\\nprint(calculator(\\'/\\',1,2,5,8,9,11))',\n",
       " '_i72': '# 유동적으로 실행하는 계산기 : 사칙연산을 실행하는 계산기\\ndef calculator(operator,*args):\\n    result = 0\\n    if operator ==\\'+\\': \\n        for i in args:\\n            result+=i\\n    if operator == \\'-\\':\\n        for i in args:\\n            result -= i\\n    if operator == \\'*\\':\\n        result = 1\\n        for i in args:\\n            result *= i\\n    if operator == \\'/\\': pass\\n    return result\\n    print(\"sdsdsds\")\\n    \\nprint(calculator(\\'+\\',1,2,5,8))\\nprint(calculator(\\'-\\',1,2,5))\\nprint(calculator(\\'*\\',1,2,5))\\nprint(calculator(\\'/\\',1,2,5,8,9,11))',\n",
       " '_i73': '# 매개변수에서 초기값을 사전에 설정하기\\ndef selfIntro(name, age,gender=1):\\n    print(\"내 이름은 %s입니다. 나이는 %d살입니다.\"%(name,age))\\n    if gender:\\n        print(\"여자입니다\")\\n    else:\\n        print(\"남자\")\\n\\nselfIntro(\\'소향\\',40)',\n",
       " 'selfIntro': <function __main__.selfIntro(name, age, gender=1)>,\n",
       " '_i74': '# 매개변수에서 초기값을 사전에 설정하기\\ndef selfIntro(name, age,gender=1):\\n    print(\"내 이름은 %s입니다. 나이는 %d살입니다.\"%(name,age))\\n    if gender:\\n        print(\"여자입니다\")\\n    else:\\n        print(\"남자\")\\n\\nselfIntro(\\'소향\\',40)\\nselfIntro(\\'소향\\',40.0)',\n",
       " '_i75': '# 매개변수에서 초기값을 사전에 설정하기\\ndef selfIntro(name, age,gender=1):\\n    print(\"내 이름은 %s입니다. 나이는 %d살입니다.\"%(name,age))\\n    if gender:\\n        print(\"여자입니다\")\\n    else:\\n        print(\"남자\")\\n\\nselfIntro(\\'소향\\',40)\\nselfIntro(\\'소향\\',40,0)',\n",
       " '_i76': '# 매개변수 초기값을 설정할 때 주의사항\\n# 초기화시킬 매개변수는 항상 맨 뒤에 위치시켜야 헌다. \\ndef selfIntro(name,gender=1, age):\\n    print(\"내 이름은 %s입니다. 나이는 %d살입니다.\"%(name,age))\\n    if gender:\\n        print(\"여자입니다\")\\n    else:\\n        print(\"남자\")\\nselfIntro(\\'소향\\',40)',\n",
       " '_i77': '# 매개변수 초기값을 설정할 때 주의사항\\n# 초기화시킬 매개변수는 항상 맨 뒤에 위치시켜야 헌다. \\ndef selfIntro(name,gender=1, age):\\n    print(\"내 이름은 %s입니다. 나이는 %d살입니다.\"%(name,age))\\n    if gender:\\n        print(\"여자입니다\")\\n    else:\\n        print(\"남자\")\\nselfIntro(\\'소향\\',40) # ERROR : 두번재 인자값인지 세번째 인자값인지 구별못함.\\nselfIntro(\\'소향\\',1,40)',\n",
       " '_i78': '# 매개변수 초기값을 설정할 때 주의사항\\n# 초기화시킬 매개변수는 항상 맨 뒤에 위치시켜야 헌다. \\ndef selfIntro(name,gender=1, age):\\n    print(\"내 이름은 %s입니다. 나이는 %d살입니다.\"%(name,age))\\n    if gender:\\n        print(\"여자입니다\")\\n    else:\\n        print(\"남자\")\\n#selfIntro(\\'소향\\',40) # ERROR : 두번재 인자값인지 세번째 인자값인지 구별못함.\\nselfIntro(\\'소향\\',1,40)',\n",
       " '_i79': '# 매개변수 초기값을 설정할 때 주의사항\\n# 초기화시킬 매개변수는 항상 맨 뒤에 위치시켜야 헌다. \\ndef selfIntro(name,gender=1, age):\\n    print(\"내 이름은 %s입니다. 나이는 %d살입니다.\"%(name,age))\\n    if gender:\\n        print(\"여자입니다\")\\n    else:\\n        print(\"남자\")\\n#selfIntro(\\'소향\\',40) # ERROR : 두번재 인자값인지 세번째 인자값인지 구별못함.\\n#selfIntro(\\'소향\\',1,40) # ERROR : 꼭 디폴트 argument 는 맨 뒤에 위치하여야 함.',\n",
       " '_i80': '# 매개변수 초기값을 설정할 때 주의사항\\n# 초기화시킬 매개변수는 항상 맨 뒤에 위치시켜야 헌다. \\ndef selfIntro(name,gender=1, age):\\n    print(\"내 이름은 %s입니다. 나이는 %d살입니다.\"%(name,age))\\n    if gender:\\n        print(\"여자입니다\")\\n    else:\\n        print(\"남자\")\\n#selfIntro(\\'소향\\',40) # ERROR : 두번재 인자값인지 세번째 인자값인지 구별못함.\\n#selfIntro(\\'소향\\',1,40) # ERROR : 꼭 디폴트 argument 는 맨 뒤에 위치하여야 함.',\n",
       " '_i81': '# 매개변수 초기값을 설정할 때 주의사항\\n# 초기화시킬 매개변수는 항상 맨 뒤에 위치시켜야 헌다. \\ndef selfIntro(name,gender=1, age):\\n    print(\"내 이름은 %s입니다. 나이는 %d살입니다.\"%(name,age))\\n    if gender:\\n        print(\"여자입니다\")\\n    else:\\n        print(\"남자\")\\n#selfIntro(\\'소향\\',40) # ERROR : 두번재 인자값인지 세번째 인자값인지 구별못함.\\n#selfIntro(\\'소향\\',1,40) # ERROR : 꼭 디폴트 argument 는 맨 뒤에 위치하여야 함.',\n",
       " '_i82': \"# 1. 홀수, 짝수를 구분하는 is_odd() 함수 작성\\n# 주어진 숫자가 홀수인지 짝수인지 구별해서 '짝수입니다' or '홀수입니다' 출력\\n# is_odd(number)\\n\\ndef is_odd(number):\\n    return number%2==0?'짝수입니다':'홀수입니다'\\n\\nprint(is_odd(2))\",\n",
       " '_i83': \"# 1. 홀수, 짝수를 구분하는 is_odd() 함수 작성\\n# 주어진 숫자가 홀수인지 짝수인지 구별해서 '짝수입니다' or '홀수입니다' 출력\\n# is_odd(number)\\n\\ndef is_odd(number):\\n    return (number%2==0)?'짝수입니다':'홀수입니다'\\n\\nprint(is_odd(2))\",\n",
       " '_i84': \"# 1. 홀수, 짝수를 구분하는 is_odd() 함수 작성\\n# 주어진 숫자가 홀수인지 짝수인지 구별해서 '짝수입니다' or '홀수입니다' 출력\\n# is_odd(number)\\n\\ndef is_odd(number):\\n    return '짝수입니다'if number%2==0 else '홀수입니다'\\n\\nprint(is_odd(2))\",\n",
       " 'is_odd': <function __main__.is_odd(number)>,\n",
       " '_i85': '# 2. 입력된 모든 수의 평균을 계산하는 funcAvg()함수를 작성\\n# 단. 입력매개변수의 갯수는 정해져 있지 않다.\\n# funcAvg()\\n\\ndef funcAvg(*args):\\n    sum = 0\\n    for i in args: sum += i \\n    return sum/len(args)\\nprint(funcAvg(1,2,3,4,5))',\n",
       " 'funcAvg': <function __main__.funcAvg(*args)>,\n",
       " '_i86': '# 2. 입력된 모든 수의 평균을 계산하는 funcAvg()함수를 작성\\n# 단. 입력매개변수의 갯수는 정해져 있지 않다.\\n# funcAvg()\\n\\ndef funcAvg(*args):\\n    sum = 0\\n    for i in args: sum += i \\n    return sum/len(args)\\nprint(funcAvg(1,2,3,4,5,6,7,8,9,10))',\n",
       " '_i87': '# 3. 구구단을 출력하는 함수 gugudan()함수를 작성\\n# 입력값은 2~9단까지 한개의 임의의 단을 입력\\n#gugudan(9)\\ndef gugudan(dan):\\n    for i in range(2,10):\\n        print(f\"{dan}X{i}={dan*i}\")\\n\\nprint(gugudan(8))',\n",
       " 'gugudan': <function __main__.gugudan(dan)>,\n",
       " '_i88': '# 3. 구구단을 출력하는 함수 gugudan()함수를 작성\\n# 입력값은 2~9단까지 한개의 임의의 단을 입력\\n#gugudan(9)\\ndef gugudan(dan):\\n    for i in range(2,9):\\n        print(f\"{dan}X{i}={dan*i}\")\\n\\nprint(gugudan(8))',\n",
       " '_i89': '# 3. 구구단을 출력하는 함수 gugudan()함수를 작성\\n# 입력값은 2~9단까지 한개의 임의의 단을 입력\\n#gugudan(9)\\ndef gugudan(dan):\\n    for i in range(1,10):\\n        print(f\"{dan}X{i}={dan*i}\")\\n\\nprint(gugudan(8))',\n",
       " '_i90': '# 3. 구구단을 출력하는 함수 gugudan()함수를 작성\\n# 입력값은 2~9단까지 한개의 임의의 단을 입력\\n#gugudan(9)\\ndef gugudan(dan):\\n    for i in range(1,10):\\n        print(i)\\n        print(f\"{dan}X{i}={dan*i}\")\\n\\nprint(gugudan(8))',\n",
       " '_i91': '# 3. 구구단을 출력하는 함수 gugudan()함수를 작성\\n# 입력값은 2~9단까지 한개의 임의의 단을 입력\\n#gugudan(9)\\ndef gugudan(dan):\\n    for i in range(1,9):\\n        print(f\"{dan}X{i}={dan*i}\")\\n\\nprint(gugudan(8))',\n",
       " '_i92': '# 3. 구구단을 출력하는 함수 gugudan()함수를 작성\\n# 입력값은 2~9단까지 한개의 임의의 단을 입력\\n#gugudan(9)\\ndef gugudan(dan):\\n    for i in range(1,10):\\n        print(f\"{dan}X{i}={dan*i}\")\\n\\nprint(gugudan(8))',\n",
       " '_i93': '# 3. 구구단을 출력하는 함수 gugudan()함수를 작성\\n# 입력값은 2~9단까지 한개의 임의의 단을 입력\\n#gugudan(9)\\ndef gugudan(dan):\\n    for i in range(1,10):print(f\"{dan}X{i}={dan*i}\")\\n\\nprint(gugudan(8))',\n",
       " '_i94': '# 3. 구구단을 출력하는 함수 gugudan()함수를 작성\\n# 입력값은 2~9단까지 한개의 임의의 단을 입력\\n#gugudan(9)\\ndef gugudan(dan):\\n    for i in range(1,10):print(f\"{dan}X{i}={dan*i}\")\\ngugudan(8)',\n",
       " '_i95': '# 4. 리스트 [2,3,4,5,6,7,8]에서 5보다 큰 수만 리턴하는 funcReturn()함수 작성\\ndef funcReturn(list):\\n    result =[]\\n    for i in list:\\n        if i>5:\\n            result.append(i)\\n    return result\\n\\nprint(funcReturn([2,3,4,5,6,7,8])',\n",
       " '_i96': '# 4. 리스트 [2,3,4,5,6,7,8]에서 5보다 큰 수만 리턴하는 funcReturn()함수 작성\\ndef funcReturn(list):\\n    result =[]\\n    for i in list:\\n        if i>5:\\n            result.append(i)\\n    return result\\n\\nprint(funcReturn([2,3,4,5,6,7,8]))',\n",
       " 'funcReturn': <function __main__.funcReturn(list)>,\n",
       " '_i97': '# 2. 입력된 모든 수의 평균을 계산하는 funcAvg()함수를 작성\\n# 단. 입력매개변수의 갯수는 정해져 있지 않다.\\n# funcAvg()\\n\\ndef funcAvg(*args):\\n    print(type(args))\\n    sum = 0\\n    for i in args: sum += i \\n    return sum/len(args)\\nprint(funcAvg(1,2,3,4,5,6,7,8,9,10))',\n",
       " '_i98': \"# 1. 홀수, 짝수를 구분하는 is_odd() 함수 작성\\n# 주어진 숫자가 홀수인지 짝수인지 구별해서 '짝수입니다' or '홀수입니다' 출력\\n# is_odd(number)\\n\\ndef is_odd(number):\\n    return '짝수입니다'if number%2==0 else '홀수입니다'\\n\\nprint(is_odd(3))\",\n",
       " '_i99': 'def plus(a,b):\\n    return a+b\\nprint(a)',\n",
       " '_i100': 'def plus(a,b):\\n    return a+b\\nprint(a+b)',\n",
       " '_i101': 'def plus(a,b):\\n    return a+b\\nprint(1,2)',\n",
       " '_i102': 'def plus(a,b):\\n    return a+b\\nprint(plus(1,2))',\n",
       " '_i103': 'def plus(a,b):\\n    return a+b\\nprint(plus(1,2))\\n\\n#lambda식으로 표현\\n\\nsumLambda = lambda a,b: a+b',\n",
       " 'sumLambda': <function __main__.<lambda>(a, b)>,\n",
       " '_i104': 'def plus(a,b):\\n    return a+b\\nprint(plus(1,2))\\n\\n#lambda식으로 표현\\n\\nsumLambda = lambda a,b: a+b\\nprint(sumLambda)',\n",
       " '_i105': 'def plus(a,b):\\n    return a+b\\nprint(plus(1,2))\\n\\n#lambda식으로 표현\\n\\nsumLambda = lambda a,b: a+b\\nprint(sumLambda(1,2))',\n",
       " '_i106': 'def plus(a,b):\\n    return a+b\\nprint(plus(1,2))\\n\\n#lambda식으로 표현\\n\\nsumLambda = lambda a,b: a+b\\nprint(sumLambda)',\n",
       " '_i107': 'def plus(a,b):\\n    return a+b\\nprint(plus(1,2))\\n\\n#lambda식으로 표현\\n\\nsumLambda = lambda a,b: a+b\\nprint(type(sumLambda))',\n",
       " '_i108': 'def plus(a,b):\\n    return a+b\\nprint(plus(1,2))\\n\\n#lambda식으로 표현\\n\\nsumLambda = lambda a,b: a+b\\nprint(type(sumLambda))\\nprint(type(plus))',\n",
       " '_i109': 'def plus(a,b):\\n    return a+b\\nprint(plus(1,2))\\n\\n#lambda식으로 표현\\n\\nsumLambda = lambda a,b: a+b\\nprint(type(sumLambda))\\nprint(type(plus))\\n\\nprint(plus(1,2))\\nprint(sumLambda(1,2))',\n",
       " '_i110': '# lambda식이 나오게 된 가장 큰 이유는 def보다 간결하게 사용할 수 있기 때문이다.\\n# 또한 lambda는 def를 사용할 수 없는 곳에서도 사용할 수 있다. \\n# myList =[def sum(x,y): x+y,def mul(x,y):x*y]\\n# 상기문은 에러가 발생하기 때문에 아래와 같이 정의할 수 있다.\\n\\ndef sum(x,y): x+y\\ndef mul(x,y): x*y\\nmyList=[sum,mul]\\nprint(type(myList[0]))\\n    ',\n",
       " 'mul': <function __main__.mul(x, y)>,\n",
       " 'myList': [<function __main__.<lambda>(a, b)>,\n",
       "  <function __main__.<lambda>(a, b)>],\n",
       " '_i111': '# lambda식이 나오게 된 가장 큰 이유는 def보다 간결하게 사용할 수 있기 때문이다.\\n# 또한 lambda는 def를 사용할 수 없는 곳에서도 사용할 수 있다. \\n# myList =[def sum(x,y): x+y,def mul(x,y):x*y]\\n# 상기문은 에러가 발생하기 때문에 아래와 같이 정의할 수 있다.\\n\\ndef sum(x,y): x+y\\ndef mul(x,y): x*y\\nmyList=[sum,mul]\\nprint(type(myList[0]))\\nprint(type(myList[0](1,1)))',\n",
       " '_i112': '# lambda식이 나오게 된 가장 큰 이유는 def보다 간결하게 사용할 수 있기 때문이다.\\n# 또한 lambda는 def를 사용할 수 없는 곳에서도 사용할 수 있다. \\n# myList =[def sum(x,y): x+y,def mul(x,y):x*y]\\n# 상기문은 에러가 발생하기 때문에 아래와 같이 정의할 수 있다.\\n\\ndef sum(x,y): x+y\\ndef mul(x,y): x*y\\nmyList=[sum,mul]\\nprint(type(myList[0]))\\nprint(myList[0](1,1))',\n",
       " '_i113': '# lambda식이 나오게 된 가장 큰 이유는 def보다 간결하게 사용할 수 있기 때문이다.\\n# 또한 lambda는 def를 사용할 수 없는 곳에서도 사용할 수 있다. \\n# myList =[def sum(x,y): x+y,def mul(x,y):x*y]\\n# 상기문은 에러가 발생하기 때문에 아래와 같이 정의할 수 있다.\\n\\ndef sum(x,y): x+y\\ndef mul(x,y): x*y\\nmyList=[sum,mul]\\nprint(type(myList[0]))\\nprint(myList[1](1,1))',\n",
       " '_i114': '# lambda식이 나오게 된 가장 큰 이유는 def보다 간결하게 사용할 수 있기 때문이다.\\n# 또한 lambda는 def를 사용할 수 없는 곳에서도 사용할 수 있다. \\n# myList =[def sum(x,y): x+y,def mul(x,y):x*y]\\n# 상기문은 에러가 발생하기 때문에 아래와 같이 정의할 수 있다.\\n\\ndef sum(x,y): x+y\\ndef mul(x,y): x*y\\nmyList=[sum,mul]\\nprint(type(myList[0]))\\nprint(myList[1](1,1))',\n",
       " '_i115': '# lambda식이 나오게 된 가장 큰 이유는 def보다 간결하게 사용할 수 있기 때문이다.\\n# 또한 lambda는 def를 사용할 수 없는 곳에서도 사용할 수 있다. \\n# myList =[def sum(x,y): x+y,def mul(x,y):x*y]\\n# 상기문은 에러가 발생하기 때문에 아래와 같이 정의할 수 있다.\\n\\ndef sum(x,y): x+y\\ndef mul(x,y): x*y\\nmyList=[sum,mul]\\nprint(type(myList[0]))\\nprint(myList[0](1,1))',\n",
       " '_i116': '# lambda식이 나오게 된 가장 큰 이유는 def보다 간결하게 사용할 수 있기 때문이다.\\n# 또한 lambda는 def를 사용할 수 없는 곳에서도 사용할 수 있다. \\n# myList =[def sum(x,y): x+y,def mul(x,y):x*y]\\n# 상기문은 에러가 발생하기 때문에 아래와 같이 정의할 수 있다.\\n\\ndef sum(x,y): return x+y\\ndef mul(x,y): return x*y\\nmyList=[sum,mul]\\nprint(type(myList[0]))\\nprint(myList[0](1,1))',\n",
       " '_i117': '# lambda식이 나오게 된 가장 큰 이유는 def보다 간결하게 사용할 수 있기 때문이다.\\n# 또한 lambda는 def를 사용할 수 없는 곳에서도 사용할 수 있다. \\n# myList =[def sum(x,y): x+y,def mul(x,y):x*y]\\n# 상기문은 에러가 발생하기 때문에 아래와 같이 정의할 수 있다.\\n\\ndef sum(x,y): return x+y\\ndef mul(x,y): return x*y\\nmyList=[sum,mul]\\nprint(type(myList[0]))\\nprint(myList[0](1,1))\\n\\n#lambda로 리스트 정의\\nmyList=[lambda a,b,: a+b, lambda a,b:a*b]\\nprint(type(myList[0](1,2)))',\n",
       " '_i118': '# lambda식이 나오게 된 가장 큰 이유는 def보다 간결하게 사용할 수 있기 때문이다.\\n# 또한 lambda는 def를 사용할 수 없는 곳에서도 사용할 수 있다. \\n# myList =[def sum(x,y): x+y,def mul(x,y):x*y]\\n# 상기문은 에러가 발생하기 때문에 아래와 같이 정의할 수 있다.\\n\\ndef sum(x,y): return x+y\\ndef mul(x,y): return x*y\\nmyList=[sum,mul]\\nprint(type(myList[0]))\\nprint(myList[0](1,1))\\n\\n#lambda로 리스트 정의\\nmyList=[lambda a,b,: a+b, lambda a,b:a*b]\\nprint(type(myList[0])\\nprint(type(myList[0](1,2)))',\n",
       " '_i119': '# lambda식이 나오게 된 가장 큰 이유는 def보다 간결하게 사용할 수 있기 때문이다.\\n# 또한 lambda는 def를 사용할 수 없는 곳에서도 사용할 수 있다. \\n# myList =[def sum(x,y): x+y,def mul(x,y):x*y]\\n# 상기문은 에러가 발생하기 때문에 아래와 같이 정의할 수 있다.\\n\\ndef sum(x,y): return x+y\\ndef mul(x,y): return x*y\\nmyList=[sum,mul]\\nprint(type(myList[0]))\\nprint(myList[0](1,1))\\n\\n#lambda로 리스트 정의\\nmyList=[lambda a,b,: a+b, lambda a,b:a*b]\\nprint(type(myList[0]))\\nprint(type(myList[0](1,2)))',\n",
       " '_i120': '# lambda식이 나오게 된 가장 큰 이유는 def보다 간결하게 사용할 수 있기 때문이다.\\n# 또한 lambda는 def를 사용할 수 없는 곳에서도 사용할 수 있다. \\n# myList =[def sum(x,y): x+y,def mul(x,y):x*y]\\n# 상기문은 에러가 발생하기 때문에 아래와 같이 정의할 수 있다.\\n\\ndef sum(x,y): return x+y\\ndef mul(x,y): return x*y\\nmyList=[sum,mul]\\nprint(type(myList[0]))\\nprint(myList[0](1,1))\\n\\n#lambda로 리스트 정의\\nmyList=[lambda a,b,: a+b, lambda a,b:a*b]\\nprint(type(myList[0]))\\nprint(myList[0](1,2))',\n",
       " '_i121': \"# 1. 홀수, 짝수를 구분하는 is_odd() 함수 작성\\n# 주어진 숫자가 홀수인지 짝수인지 구별해서 '짝수입니다' or '홀수입니다' 출력\\n# is_odd(number)\\n\\ndef is_odd(number):\\n    return '짝수입니다'if number%2==0 else '홀수입니다'\\n\\nprint(is_odd(3))\\n\\n# 란다식 풀이 \\nisOddLambda = lambda x: '짝수입니다.' if x%2 == 0 else '홀수입니다.'\\nprint(isOddLambda(2))\",\n",
       " 'isOddLambda': <function __main__.<lambda>(x)>,\n",
       " '_i122': \"# 1. 홀수, 짝수를 구분하는 is_odd() 함수 작성\\n# 주어진 숫자가 홀수인지 짝수인지 구별해서 '짝수입니다' or '홀수입니다' 출력\\n# is_odd(number)\\n\\ndef is_odd(number):\\n    return '짝수입니다'if number%2==0 else '홀수입니다'\\n\\nprint(is_odd(3))\\n\\n# 란다식 풀이 \\nisOddLambda = lambda x: '짝수입니다.' if x%2 == 0 else '홀수입니다.'\\nprint(isOddLambda(3))\",\n",
       " '_i123': '# 3. 구구단을 출력하는 함수 gugudan()함수를 작성\\n# 입력값은 2~9단까지 한개의 임의의 단을 입력\\n#gugudan(9)\\ndef gugudan(dan):\\n    for i in range(1,10):print(f\"{dan}X{i}={dan*i}\")\\ngugudan(8)\\n\\ngugudanLambda = lambda x : for i in range(1,10): print(f\")',\n",
       " '_i124': '# 3. 구구단을 출력하는 함수 gugudan()함수를 작성\\n# 입력값은 2~9단까지 한개의 임의의 단을 입력\\n#gugudan(9)\\ndef gugudan(dan):\\n    for i in range(1,10):print(f\"{dan}X{i}={dan*i}\")\\ngugudan(8)\\n\\ngugudanLambda = lambda x : for i in range(1,10): print(f\"{x}X{i}={x*i}\")\\ngugudanLambda(5)',\n",
       " '_i125': '# 3. 구구단을 출력하는 함수 gugudan()함수를 작성\\n# 입력값은 2~9단까지 한개의 임의의 단을 입력\\n#gugudan(9)\\ndef gugudan(dan):\\n    for i in range(1,10):print(f\"{dan}X{i}={dan*i}\")\\ngugudan(8)',\n",
       " '_i126': '# 2. 입력된 모든 수의 평균을 계산하는 funcAvg()함수를 작성\\n# 단. 입력매개변수의 갯수는 정해져 있지 않다.\\n# funcAvg()\\n\\ndef funcAvg(*args):\\n    sum = 0\\n    for i in args: sum += i \\n    return sum/len(args)\\nprint(funcAvg(1,2,3,4,5,6,7,8,9,10))\\n# funcAvg([1,2,3,4,5,6,7,8,9,10]) # error 발생',\n",
       " '_i127': '# 2. 입력된 모든 수의 평균을 계산하는 funcAvg()함수를 작성\\n# 단. 입력매개변수의 갯수는 정해져 있지 않다.\\n# funcAvg()\\n\\ndef funcAvg(*args):\\n    sum = 0\\n    for i in args: sum += i \\n    return sum/len(args)\\nprint(funcAvg(1,2,3,4,5,6,7,8,9,10))\\n# funcAvg([1,2,3,4,5,6,7,8,9,10]) # error 발생\\nfuncAvg(*[1,2,3,4,5,6,7,8,9,10]) ',\n",
       " '_127': 5.5,\n",
       " '_i128': '# 2. 입력된 모든 수의 평균을 계산하는 funcAvg()함수를 작성\\n# 단. 입력매개변수의 갯수는 정해져 있지 않다.\\n# funcAvg()\\n\\ndef funcAvg(*args):\\n    sum = 0\\n    for i in args: sum += i \\n    return sum/len(args)\\nprint(funcAvg(1,2,3,4,5,6,7,8,9,10))\\n# funcAvg([1,2,3,4,5,6,7,8,9,10]) # error 발생\\nfuncAvg(*[1,2,3,4,5,6,7,8,9,10]) \\nfuncAvg(*(1,2,3,4,5,6,7,8,9,10))',\n",
       " '_128': 5.5,\n",
       " '_i129': '# 2. 입력된 모든 수의 평균을 계산하는 funcAvg()함수를 작성\\n# 단. 입력매개변수의 갯수는 정해져 있지 않다.\\n# funcAvg()\\n\\ndef funcAvg(*args):\\n    sum = 0\\n    for i in args: sum += i \\n    return sum/len(args)\\nprint(funcAvg(1,2,3,4,5,6,7,8,9,10))\\n# funcAvg([1,2,3,4,5,6,7,8,9,10]) # error 발생\\nfuncAvg(*[1,2,3,4,5,6,7,8,9,10]) \\nprint(funcAvg(*(1,2,3,4,5,6,7,8,9,10)))',\n",
       " '_i130': '# 4. 리스트 [2,3,4,5,6,7,8]에서 5보다 큰 수만 리턴하는 funcReturn()함수 작성\\ndef funcReturn(list):\\n    result =[]\\n    for i in list:\\n        if i>5:\\n            result.append(i)\\n    return result\\n\\nprint(funcReturn([2,3,4,5,6,7,8]))\\n\\n#lambda \\nlambdaReturn = lambda i : [ val for val in i if val>5]\\nprint(lambdaReturn([2,3,4,5,6,7,8]))',\n",
       " 'lambdaReturn': <function __main__.<lambda>(i)>,\n",
       " '_i131': '# 4. 리스트 [2,3,4,5,6,7,8]에서 5보다 큰 수만 리턴하는 funcReturn()함수 작성\\ndef funcReturn(list):\\n    result =[]\\n    for i in list:\\n        if i>5:\\n            result.append(i)\\n    return result\\n\\nprint(funcReturn([2,3,4,5,6,7,8]))\\n\\n#lambda \\nlambdaReturn = lambda i : (val for val in i if val>5)\\nprint(lambdaReturn([2,3,4,5,6,7,8]))',\n",
       " '_i132': '# 4. 리스트 [2,3,4,5,6,7,8]에서 5보다 큰 수만 리턴하는 funcReturn()함수 작성\\ndef funcReturn(list):\\n    result =[]\\n    for i in list:\\n        if i>5:\\n            result.append(i)\\n    return result\\n\\nprint(funcReturn([2,3,4,5,6,7,8]))\\n\\n#lambda \\nlambdaReturn = lambda i : (val for val in i if val>5)\\nprint(lambdaReturn([2,3,4,5,6,7,8])[0])',\n",
       " '_i133': '# 4. 리스트 [2,3,4,5,6,7,8]에서 5보다 큰 수만 리턴하는 funcReturn()함수 작성\\ndef funcReturn(list):\\n    result =[]\\n    for i in list:\\n        if i>5:\\n            result.append(i)\\n    return result\\n\\nprint(funcReturn([2,3,4,5,6,7,8]))\\n\\n#lambda \\nlambdaReturn = lambda i : [ val for val in i if val>5]\\nprint(lambdaReturn([2,3,4,5,6,7,8]))',\n",
       " '_i134': '# 3. 구구단을 출력하는 함수 gugudan()함수를 작성\\n# 입력값은 2~9단까지 한개의 임의의 단을 입력\\n#gugudan(9)\\ndef gugudan(dan):\\n    for i in range(1,10):print(f\"{dan}X{i}={dan*i}\")\\ngugudan(8)\\n\\n# lambda\\ngugudamLambda = lambda x:print(f\"{x}X{i}={x*i}\") for i in range(1,10)\\ngugudamLambda(8)',\n",
       " '_i135': '# 1. 변수의 사용범위\\n# 1) 전역변수(Global variable)\\nx = 10 \\ndef foo():\\n    prin(x)\\nfoo()\\nprint(x)',\n",
       " 'foo': <function __main__.foo()>,\n",
       " '_i136': '# 1. 변수의 사용범위\\n# 1) 전역변수(Global variable)\\nx = 10 \\ndef foo():\\n    print(x)\\nfoo()\\nprint(x)',\n",
       " '_i137': '# 1. 변수의 사용범위\\n# 1) 전역변수(Global variable)\\nx = 10 \\ndef foo():\\n    print(x)\\nfoo()\\nprint(x)\\n\\n# 1) 지역변수(local variable)\\ndef foo1():\\n    y = 1000\\n    print(y)\\nfoo1()\\nprint(y)',\n",
       " 'foo1': <function __main__.foo1()>,\n",
       " '_i138': '# 1. 변수의 사용범위\\n# 1) 전역변수(Global variable)\\nx = 10 \\ndef foo():\\n    print(x)\\nfoo()\\nprint(x)\\n\\n# 1) 지역변수(local variable)\\ndef foo1():\\n    k = 1000\\n    print(k)\\nfoo1()\\nprint(yk',\n",
       " '_i139': '# 1. 변수의 사용범위\\n# 1) 전역변수(Global variable)\\nx = 10 \\ndef foo():\\n    print(x)\\nfoo()\\nprint(x)\\n\\n# 1) 지역변수(local variable)\\ndef foo1():\\n    k = 1000\\n    print(k)\\nfoo1()\\nprint(k)',\n",
       " '_i140': '# 2. 함수안에서 전역변수 변경하기\\nx = 10\\ndef foo():\\n    x = 20\\n    print(x)\\n# 3. 함수 안 함수만들기',\n",
       " '_i141': '# 2. 함수안에서 전역변수 변경하기\\nx = 10\\ndef foo():\\n    x = 20\\n    print(x)\\n\\nfoo()\\nprint(x)\\n# 3. 함수 안 함수만들기',\n",
       " '_i142': '# 2. 함수안에서 전역변수 변경하기\\nx = 10\\ndef foo():\\n    x = 20\\n    print(x)\\n\\nfoo()\\nprint(x)\\n\\n\\ny= 10 \\ndef foo():\\n    global y \\n    y = 20\\n    print(y)\\nfoo()\\nprint(t)\\n# 3. 함수 안 함수만들기',\n",
       " '_i143': '# 2. 함수안에서 전역변수 변경하기\\nx = 10\\ndef foo():\\n    x = 20\\n    print(x)\\n\\nfoo()\\nprint(x)\\n\\n\\ny= 10 \\ndef foo():\\n    global y \\n    y = 20\\n    print(y)\\nfoo()\\nprint(y)\\n# 3. 함수 안 함수만들기',\n",
       " '_i144': '# 2. 함수안에서 전역변수 변경하기\\nx = 10\\ndef foo():\\n    x = 20\\n    print(x)\\n\\nfoo()\\nprint(x)\\n\\n# 전역변수로  정의하는 방법\\ny= 10 \\ndef foo():\\n    global y  # y 전역변수 설정\\n    y = 20\\n    print(y)\\nfoo()\\nprint(y)\\n# \\ndef foo():\\n    global z \\n    z = 30 \\n    print(z)\\n    \\nprint(z)\\n\\n# 3. 함수 안 함수만들기',\n",
       " '_i145': '# 2. 함수안에서 전역변수 변경하기\\nx = 10\\ndef foo():\\n    x = 20\\n    print(x)\\n\\nfoo()\\nprint(x)\\n\\n# 전역변수로  정의하는 방법\\ny= 10 \\ndef foo():\\n    global y  # y 전역변수 설정\\n    y = 20\\n    print(y)\\nfoo()\\nprint(y)\\n# \\ndef foo():\\n    global z \\n    z = 30 \\n    print(z)\\n\\nfoo()\\nprint(z)\\n\\n# 3. 함수 안 함수만들기',\n",
       " '_i146': '# 네임스페이스 \\n# python에서 변수는 네임스페이스(namespace, 이름공간)에 저장된다.\\n# 네임스페이스를 확인하려면 locals()함수를 사용하면 현재 namespace 를 딕셔너리 형태로 출력한다.\\n%who',\n",
       " '_i147': '# 네임스페이스 \\n# python에서 변수는 네임스페이스(namespace, 이름공간)에 저장된다.\\n# 네임스페이스를 확인하려면 locals()함수를 사용하면 현재 namespace 를 딕셔너리 형태로 출력한다.\\n%who\\nprint(locals())',\n",
       " '_i148': '# 네임스페이스 \\n# python에서 변수는 네임스페이스(namespace, 이름공간)에 저장된다.\\n# 네임스페이스를 확인하려면 locals()함수를 사용하면 현재 namespace 를 딕셔너리 형태로 출력한다.\\n%who\\n#print(locals())\\nlocals()'}"
      ]
     },
     "execution_count": 148,
     "metadata": {},
     "output_type": "execute_result"
    }
   ],
   "source": [
    "# 네임스페이스 \n",
    "# python에서 변수는 네임스페이스(namespace, 이름공간)에 저장된다.\n",
    "# 네임스페이스를 확인하려면 locals()함수를 사용하면 현재 namespace 를 딕셔너리 형태로 출력한다.\n",
    "%who\n",
    "#print(locals())\n",
    "locals()"
   ]
  },
  {
   "cell_type": "code",
   "execution_count": 153,
   "metadata": {},
   "outputs": [
    {
     "name": "stdout",
     "output_type": "stream",
     "text": [
      "hello python\n"
     ]
    }
   ],
   "source": [
    "# 3. 함수 안 함수만들기\n",
    "def printHello():\n",
    "    hello =\"hello python\"\n",
    "    def printMessage():\n",
    "        print(hello)\n",
    "    printMessage()\n",
    "    \n",
    "printHello()\n",
    "\n",
    "# 함수 printHello()안에서 다시 def로 함수 printMessage()를 만들었다.\n",
    "# 그리고 printHello()에서 printMessage()함수를 호출했다. \n",
    "# 이 두함수가 실제로 작동하려면 외부함수인 printHello()를 호출해야 한다. \n",
    "# 즉, printHello() > printMessage() 순으로 실행된다."
   ]
  },
  {
   "cell_type": "markdown",
   "metadata": {},
   "source": [
    "#### 지역변수의 접근범위는 아래와 같다.\n",
    "<img src=\"./images/11.함수_function_07.png\" width=\"80%\"/>"
   ]
  },
  {
   "cell_type": "markdown",
   "metadata": {},
   "source": [
    "#### 클로저 사용하기\n",
    "\n",
    "함수를 클로저 형태로 만드는 방법은 함수 바깥쪽에 있는 지역변수를 사용하여 내부함수에서 사용하는 방법을 알아보자."
   ]
  },
  {
   "cell_type": "code",
   "execution_count": 160,
   "metadata": {},
   "outputs": [
    {
     "name": "stdout",
     "output_type": "stream",
     "text": [
      "5\n",
      "11\n"
     ]
    }
   ],
   "source": [
    "def calc():\n",
    "    a = 3 \n",
    "    b =5\n",
    "    def add(x):\n",
    "        return a*x+b # 외부함수 변수 a,b 를 이용한 계산\n",
    "    # 함수 add()를 만들 뒤에는 이 함수를 바로 호출하지 않고 return으로 \n",
    "    # 함수 자체를 반환한다. 함수를 반환할 때는 함수 이름만 해야 하며 \n",
    "    # 소괄호를 붙이면 안된다.\n",
    "    return add # add() 함수를 반환\n",
    "\n",
    "# 클로저 사용하기\n",
    "# 아래와 같이 calc()를 호출된 반환값을 c에 저장한다. calc() 호출결과가 내부함수인 add를 리턴했기 때문에 \n",
    "# return add 에는 add 함수 자체가 return 된다. 그래서 return add(x)로 호출하면 내부 add() 함수가 호출된 것과 동일한 결과가 된다.\n",
    "cal = calc()\n",
    "print(cal(1))\n",
    "print(cal(2))\n",
    "# 상기와 같이 함수를 둘러싼 환경(지역변수, 지역함수)릏 계속 유지하다가 함수를 호출할 때 다시 꺼내서 사용하는 함수를 클로저(closure)\n",
    "# 라고한다. 여기서 returnAdd에 저장된 함수가 클로저이다."
   ]
  },
  {
   "cell_type": "markdown",
   "metadata": {},
   "source": [
    "#### 클로저개념도\n",
    "<img src=\"./images/11.함수_function_08.png\" width=\"80%\" />"
   ]
  },
  {
   "cell_type": "code",
   "execution_count": null,
   "metadata": {},
   "outputs": [],
   "source": []
  }
 ],
 "metadata": {
  "kernelspec": {
   "display_name": "Python 3",
   "language": "python",
   "name": "python3"
  },
  "language_info": {
   "codemirror_mode": {
    "name": "ipython",
    "version": 3
   },
   "file_extension": ".py",
   "mimetype": "text/x-python",
   "name": "python",
   "nbconvert_exporter": "python",
   "pygments_lexer": "ipython3",
   "version": "3.7.4"
  }
 },
 "nbformat": 4,
 "nbformat_minor": 2
}
