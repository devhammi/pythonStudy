{
 "cells": [
  {
   "cell_type": "markdown",
   "metadata": {},
   "source": [
    "### 반복문 : for \n",
    "\n",
    "### for문의 기본구조\n",
    "\n",
    "```Python\n",
    "for 변수 in [list/tuple/문자열]:\n",
    "    수행할 코드\n",
    "```\n",
    "<img src = \"./images/09.반복문_for_01.png\" width=\"50%\"/>\n",
    "<img src = \"./images/09.반복문_for_02.png\" width=\"50%\"/>"
   ]
  },
  {
   "cell_type": "code",
   "execution_count": 1,
   "metadata": {},
   "outputs": [
    {
     "name": "stdout",
     "output_type": "stream",
     "text": [
      "hello python\n",
      "hello python\n",
      "hello python\n",
      "hello python\n",
      "hello python\n",
      "hello python\n",
      "hello python\n",
      "hello python\n",
      "hello python\n",
      "hello python\n",
      "hello python\n"
     ]
    }
   ],
   "source": [
    "print(\"hello python\")# 해당코드를 10번 반복하고 싶을 때 \n",
    "\n",
    "\n",
    "for i in range(10):\n",
    "    print(\"hello python\")"
   ]
  },
  {
   "cell_type": "code",
   "execution_count": 2,
   "metadata": {},
   "outputs": [
    {
     "name": "stdout",
     "output_type": "stream",
     "text": [
      "hello python\n",
      "hello python\n",
      "hello python\n",
      "hello python\n",
      "hello python\n",
      "hello python\n",
      "hello python\n",
      "hello python\n",
      "hello python\n",
      "hello python\n",
      "------------------------\n",
      "hello python\n",
      "hello python\n",
      "hello python\n",
      "hello python\n",
      "hello python\n",
      "hello python\n",
      "hello python\n",
      "hello python\n",
      "hello python\n",
      "hello python\n",
      "------------------------\n",
      "hello python\n",
      "hello python\n",
      "hello python\n",
      "hello python\n",
      "hello python\n",
      "hello python\n",
      "hello python\n",
      "hello python\n",
      "hello python\n",
      "hello python\n"
     ]
    }
   ],
   "source": [
    "for i in range(10):\n",
    "    print(\"hello python\")\n",
    "print(\"------------------------\")\n",
    "for i in range(0,10):\n",
    "    print(\"hello python\")\n",
    "print(\"------------------------\")\n",
    "for i in range(0,10,1):\n",
    "    print(\"hello python\")\n",
    "# 3개의 코드가 동일한 코드"
   ]
  },
  {
   "cell_type": "code",
   "execution_count": 3,
   "metadata": {},
   "outputs": [
    {
     "name": "stdout",
     "output_type": "stream",
     "text": [
      "홍길\n",
      "손흥\n",
      "함혜\n",
      "이강\n",
      "------------------------------\n",
      "홍길 손흥 함혜 이강 \n",
      "\n",
      "------------------------------\n",
      "1 2 3 4 5 \n",
      "\n",
      "------------------------------\n",
      "x y z \n",
      "\n",
      "------------------------------\n",
      "h e l l o   p y t h o n "
     ]
    }
   ],
   "source": [
    "# 1. 전형적인 for(2) : iterable(list,tuple,문자열)\n",
    "tempList = ['홍길','손흥','함혜','이강']\n",
    "print(tempList[0])\n",
    "print(tempList[1])\n",
    "print(tempList[2])\n",
    "print(tempList[3])\n",
    "\n",
    "print(\"-\"*30)\n",
    "# i에 index가 넘어오는게 아니라 하나씩 걍 값을 i에 가져옴.\n",
    "for i in tempList:\n",
    "    print(i, end=\" \")\n",
    "print(\"\\n\")    \n",
    "print(\"-\"*30)\n",
    "for value in [1,2,3,4,5]:\n",
    "    print(value, end=\" \")\n",
    "print(\"\\n\")\n",
    "print(\"-\"*30)\n",
    "for value in ('x','y','z'):\n",
    "    print(value, end=\" \")\n",
    "print(\"\\n\")\n",
    "print(\"-\"*30)\n",
    "for value in \"hello python\":\n",
    "    print(value, end=\" \")"
   ]
  },
  {
   "cell_type": "code",
   "execution_count": 4,
   "metadata": {},
   "outputs": [
    {
     "name": "stdout",
     "output_type": "stream",
     "text": [
      "(1, 2)\n",
      "(3, 4)\n",
      "(5, 6)\n",
      "3,7,11,3,7,11,"
     ]
    }
   ],
   "source": [
    "# 1. 전형적인 for(3) : 쌍으로 구성된 iterable :\n",
    "sample  = [(1,2),(3,4),(5,6)]\n",
    "for var in sample: \n",
    "    print(var)\n",
    "    \n",
    "for (first,second) in sample:\n",
    "    print(first+second, end=\",\")\n",
    "    \n",
    "for [first,second] in sample:\n",
    "    print(first+second, end=\",\")\n",
    "\n",
    "# 상기 예제는 sample리스트의 요소값이 튜플이기 때문에 가각  요소들이 자동적으로 튜플형태로 \n",
    "# (first,second)라는 변수에 대입되고 [first,second]하는 변수로 정의 되었을 때는 튜플자료형이 리스트 자료형으로 대입된다."
   ]
  },
  {
   "cell_type": "code",
   "execution_count": 5,
   "metadata": {},
   "outputs": [
    {
     "name": "stdout",
     "output_type": "stream",
     "text": [
      "1번 학생은 합격입니다\n",
      "2번 학생은 불합격입니다\n",
      "3번 학생은 불합격입니다\n",
      "4번 학생은 합격입니다\n"
     ]
    }
   ],
   "source": [
    "scoures = [90,25,40,88]\n",
    "studenNos = 0\n",
    "result = \"\"\n",
    "\n",
    "#python 증감연산자(++/--) 없음을 명심\n",
    "for i in scoures:\n",
    "    studenNos+=1\n",
    "    result = \"\" if i>60 else \"불\" \n",
    "    print(\"%d번 학생은 %s합격입니다\"%(studenNos,result))"
   ]
  },
  {
   "cell_type": "code",
   "execution_count": 6,
   "metadata": {},
   "outputs": [
    {
     "name": "stdout",
     "output_type": "stream",
     "text": [
      "<continue>\n",
      "1번 학생은 합격입니다\n",
      "4번 학생은 합격입니다\n",
      "<break>\n",
      "[90, 25, 40, 88]\n",
      "1번 학생은 합격입니다\n"
     ]
    }
   ],
   "source": [
    "# for문과 continue \n",
    "# 합격만 출력 \n",
    "studenNos = 0\n",
    "print(\"<continue>\")\n",
    "for score in scoures:\n",
    "    studenNos += 1 \n",
    "    if score  < 60: continue\n",
    "    print(\"%d번 학생은 합격입니다\"%studenNos)\n",
    "\n",
    "studenNos = 0\n",
    "print(\"<break>\")\n",
    "print(scoures)\n",
    "for score in scoures:\n",
    "    studenNos += 1 \n",
    "    if score  < 60: break\n",
    "    print(\"%d번 학생은 합격입니다\"%studenNos)\n"
   ]
  },
  {
   "cell_type": "markdown",
   "metadata": {},
   "source": [
    "#### for문과 range() 함수\n",
    "\n",
    "* range() : 숫자리스트를 자동으로 만들어주는 함수\n",
    "* range(stop) ; 0- stop - 1까지의 숫자리스트를 자동생성\n",
    "* range(start,stop) : start - stop - 1 까지의 숫자리스트 자동 생성\n",
    "* range(start,stop,step) : start - stop - step 까지의 숫자리스트 자동 생성"
   ]
  },
  {
   "cell_type": "code",
   "execution_count": 7,
   "metadata": {},
   "outputs": [
    {
     "name": "stdout",
     "output_type": "stream",
     "text": [
      "range(0, 10)\n",
      "range(1, 11)\n",
      "1부터 10까지의 합은 55입니다.\n"
     ]
    }
   ],
   "source": [
    "a = range(10)\n",
    "print(a)\n",
    "b = range(1,11)\n",
    "print(b)\n",
    "\n",
    "sum = 0\n",
    "for i in b:\n",
    "    sum += i\n",
    "print(\"1부터 10까지의 합은 %d입니다.\"% sum)"
   ]
  },
  {
   "cell_type": "code",
   "execution_count": 17,
   "metadata": {},
   "outputs": [
    {
     "name": "stdout",
     "output_type": "stream",
     "text": [
      "더할 값 : 112\n",
      "112\n",
      "<class 'int'>\n",
      "1부터 10까지의 합은 6328입니다.\n"
     ]
    }
   ],
   "source": [
    "# input(): 외부(키보드)에서 값을 입력하기\n",
    "# input 함수는 문자열만 리턴헤 준다.\n",
    "# 문자열을 숫자로 변환해주는 함수가 있다. int() \n",
    "in_val = int(input(\"더할 값 : \"))\n",
    "print(in_val)\n",
    "print(type(in_val)) # 숫자 입력해도 문자열로 리턴\n",
    "\n",
    "sum = 0\n",
    "for i in range(1,in_val+1):\n",
    "    sum += i\n",
    "print(\"1부터 10까지의 합은 %d입니다.\"% sum)"
   ]
  },
  {
   "cell_type": "code",
   "execution_count": 31,
   "metadata": {},
   "outputs": [
    {
     "name": "stdout",
     "output_type": "stream",
     "text": [
      "cat = 3\n",
      "dog = 3\n",
      "windows = 7\n",
      "python = 6\n",
      "==================================================\n",
      "windows = 7\n",
      "python = 6\n",
      "==================================================\n",
      "['python', 'windows']\n"
     ]
    }
   ],
   "source": [
    "# for문과 슬라이싱\n",
    "words = ['cat', 'dog','windows','python']\n",
    "for word in words:\n",
    "    print(word.strip(),'=',len(word.strip()))\n",
    "    \n",
    "# 단어길이가 6자이상인 단어만 출력\n",
    "print(\"=\"*50)\n",
    "for word in words[:]:\n",
    "    if len(word) >= 6:\n",
    "        print(word.strip(),'=',len(word.strip()))\n",
    "print(\"=\"*50)\n",
    "more6 = []\n",
    "for word in words [:]:\n",
    "    if len(word) >= 6:\n",
    "        more6.insert(0,word)\n",
    "print(more6)"
   ]
  },
  {
   "cell_type": "code",
   "execution_count": 35,
   "metadata": {},
   "outputs": [
    {
     "name": "stdout",
     "output_type": "stream",
     "text": [
      "0 Marry\n",
      "1 little\n",
      "2 love\n",
      "3 peace\n",
      "==================================================\n",
      "1 e\n",
      "2 l\n",
      "3 l\n",
      "4 o\n",
      "5  \n",
      "6 p\n",
      "7 y\n",
      "8 t\n",
      "10 o\n",
      "11 n\n"
     ]
    }
   ],
   "source": [
    "# len()와 range() 같이 사용\n",
    "a = [\"Marry\",\"little\",\"love\",\"peace\"]\n",
    "len(a)\n",
    "\n",
    "for i in range(len(a)):\n",
    "    print(i,a[i])\n",
    "    \n",
    "print(\"=\"*50)\n",
    "a = \"hello python\"\n",
    "for i in range(len(a)):\n",
    "    if a[i] != 'h':\n",
    "        print(i,a[i])"
   ]
  },
  {
   "cell_type": "code",
   "execution_count": 41,
   "metadata": {},
   "outputs": [
    {
     "name": "stdout",
     "output_type": "stream",
     "text": [
      "2 - 9  사이 수를 입력하세요9\n",
      "9 X 1 = 9\n",
      "9 X 2 = 18\n",
      "9 X 3 = 27\n",
      "9 X 4 = 36\n",
      "9 X 5 = 45\n",
      "9 X 6 = 54\n",
      "9 X 7 = 63\n",
      "9 X 8 = 72\n",
      "9 X 9 = 81\n"
     ]
    }
   ],
   "source": [
    "# for문을 이용한 구구단 만들기\n",
    "# 사용자가 구구단 중 특정 단을 입력받아서 해당 되는 단을 출력하기\n",
    "level = int(input(\"2 - 9  사이 수를 입력하세요\"))\n",
    "if level > 2 and  level < 10:    \n",
    "    for i in range(1,10):\n",
    "        print(level,\"X\",i,'=',level*i)\n",
    "else : \n",
    "    print('입력 값을 확인해 주세요.')"
   ]
  },
  {
   "cell_type": "code",
   "execution_count": 48,
   "metadata": {},
   "outputs": [
    {
     "name": "stdout",
     "output_type": "stream",
     "text": [
      "2X1=2\n",
      "2X2=4\n",
      "2X3=6\n",
      "2X4=8\n",
      "2X5=10\n",
      "2X6=12\n",
      "2X7=14\n",
      "2X8=16\n",
      "2X9=18\n",
      "==================================================\n",
      "3X1=3\n",
      "3X2=6\n",
      "3X3=9\n",
      "3X4=12\n",
      "3X5=15\n",
      "3X6=18\n",
      "3X7=21\n",
      "3X8=24\n",
      "3X9=27\n",
      "==================================================\n",
      "4X1=4\n",
      "4X2=8\n",
      "4X3=12\n",
      "4X4=16\n",
      "4X5=20\n",
      "4X6=24\n",
      "4X7=28\n",
      "4X8=32\n",
      "4X9=36\n",
      "==================================================\n",
      "5X1=5\n",
      "5X2=10\n",
      "5X3=15\n",
      "5X4=20\n",
      "5X5=25\n",
      "5X6=30\n",
      "5X7=35\n",
      "5X8=40\n",
      "5X9=45\n",
      "==================================================\n",
      "6X1=6\n",
      "6X2=12\n",
      "6X3=18\n",
      "6X4=24\n",
      "6X5=30\n",
      "6X6=36\n",
      "6X7=42\n",
      "6X8=48\n",
      "6X9=54\n",
      "==================================================\n",
      "7X1=7\n",
      "7X2=14\n",
      "7X3=21\n",
      "7X4=28\n",
      "7X5=35\n",
      "7X6=42\n",
      "7X7=49\n",
      "7X8=56\n",
      "7X9=63\n",
      "==================================================\n",
      "8X1=8\n",
      "8X2=16\n",
      "8X3=24\n",
      "8X4=32\n",
      "8X5=40\n",
      "8X6=48\n",
      "8X7=56\n",
      "8X8=64\n",
      "8X9=72\n",
      "==================================================\n",
      "9X1=9\n",
      "9X2=18\n",
      "9X3=27\n",
      "9X4=36\n",
      "9X5=45\n",
      "9X6=54\n",
      "9X7=63\n",
      "9X8=72\n",
      "9X9=81\n",
      "==================================================\n"
     ]
    }
   ],
   "source": [
    "# 중첩구구단\n",
    "for i in range(2,10):\n",
    "    for j in range(1,10):\n",
    "        print(f'{i}X{j}={i*j}')\n",
    "    print('='*50)"
   ]
  },
  {
   "cell_type": "markdown",
   "metadata": {},
   "source": [
    "<img src =\"./images/09.반복문_for_ex01_구구단.png\"/>"
   ]
  },
  {
   "cell_type": "code",
   "execution_count": null,
   "metadata": {},
   "outputs": [],
   "source": [
    "for i in range(0,10):\n",
    "    for j in range(2,10):\n",
    "        if i == 0  :\n",
    "            print(f\"# {j}단 # \",end=\" \")\n",
    "            continue\n",
    "        print(f'{j}X{i}={j*i}',end=\"\\t\")\n",
    "    print(\"\\n\")"
   ]
  },
  {
   "cell_type": "markdown",
   "metadata": {},
   "source": [
    "### list 안에 for문 허용하기 \n",
    "1. 간단히 list 안에 for 문 \n",
    "> 표현식 for 항목 in iterable if 조건\n",
    "2. list 안에  2개이상의 for문 의 구조\n",
    "> [표현식 for 항목 in iterable if 조건1\n",
    "          for 항목 in iterable if 조건2\n",
    "          ...\n",
    "          for 항목 in iterable if 조건n\n",
    "]"
   ]
  },
  {
   "cell_type": "code",
   "execution_count": null,
   "metadata": {},
   "outputs": [],
   "source": [
    "# 1. 리스트안에 for문을 포함하기(1)\n",
    "nums = [1,2,3,4]\n",
    "result = [] #[3,6,9,12]\n",
    "for num in nums:\n",
    "    result.append(num*3)\n",
    "print(result)\n",
    "\n",
    "result = [num*3 for num in nums]\n",
    "print(result)\n",
    "\n",
    "#짝수만 출력\n",
    "result = [num*3 for num in nums if num %2 == 0] #python 에서만 사용\n",
    "print(result)"
   ]
  },
  {
   "cell_type": "code",
   "execution_count": 98,
   "metadata": {},
   "outputs": [
    {
     "name": "stdout",
     "output_type": "stream",
     "text": [
      "[2, 4, 6, 8, 10, 12, 14, 16, 18, 3, 6, 9, 12, 15, 18, 21, 24, 27, 4, 8, 12, 16, 20, 24, 28, 32, 36, 5, 10, 15, 20, 25, 30, 35, 40, 45, 6, 12, 18, 24, 30, 36, 42, 48, 54, 7, 14, 21, 28, 35, 42, 49, 56, 63, 8, 16, 24, 32, 40, 48, 56, 64, 72, 9, 18, 27, 36, 45, 54, 63, 72, 81]\n",
      "[4, 8, 12, 16, 8, 16, 24, 32, 12, 24, 36, 48, 16, 32, 48, 64]\n"
     ]
    }
   ],
   "source": [
    "# 2. 리스트안에 for문을 포함하기(2)\n",
    "# 구구단의 결과를 한개의 리스트에 저장하기\n",
    "result = [\n",
    "    i *j  for i in range(2,10)\n",
    "          for j in range(1,10)\n",
    "]\n",
    "print(result)\n",
    "\n",
    "# if조건 추가하기(짝수)\n",
    "result = [\n",
    "    i *j  for i in range(2,10) if i % 2 == 0\n",
    "          for j in range(1,10) if j % 2 == 0\n",
    "]\n",
    "print(result)"
   ]
  }
 ],
 "metadata": {
  "kernelspec": {
   "display_name": "Python 3",
   "language": "python",
   "name": "python3"
  },
  "language_info": {
   "codemirror_mode": {
    "name": "ipython",
    "version": 3
   },
   "file_extension": ".py",
   "mimetype": "text/x-python",
   "name": "python",
   "nbconvert_exporter": "python",
   "pygments_lexer": "ipython3",
   "version": "3.7.4"
  }
 },
 "nbformat": 4,
 "nbformat_minor": 2
}
