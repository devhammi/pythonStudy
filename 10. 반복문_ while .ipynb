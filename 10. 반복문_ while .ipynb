{
 "cells": [
  {
   "cell_type": "markdown",
   "metadata": {},
   "source": [
    "### while 문 \n",
    "```python\n",
    "while 조건문 :\n",
    "    실행할 문장1\n",
    "    ...\n",
    "    실행할 문장n\n",
    "    \n",
    "```"
   ]
  },
  {
   "cell_type": "code",
   "execution_count": 1,
   "metadata": {},
   "outputs": [
    {
     "name": "stdout",
     "output_type": "stream",
     "text": [
      "55\n",
      "55\n"
     ]
    }
   ],
   "source": [
    "# 1-10까지 합계\n",
    "sum = 0\n",
    "for x in range(1,11):\n",
    "    sum += x\n",
    "print(sum)\n",
    "\n",
    "i = 0 \n",
    "sum = 0\n",
    "while(i<11):\n",
    "    sum += i \n",
    "    i += 1\n",
    "print(sum)\n",
    "# 반복문 사용 시 무한루프 돌 가능성을 조심해야 한다.\n",
    "# 조건식 걸때 반드시 빠져나갈 수 있도록 조심."
   ]
  },
  {
   "cell_type": "code",
   "execution_count": 2,
   "metadata": {},
   "outputs": [
    {
     "name": "stdout",
     "output_type": "stream",
     "text": [
      " \n",
      "1. 추가\n",
      "2. 삭제\n",
      "3. 목록\n",
      "9. 종료\n",
      "\n",
      "번호를 입력하세요.\n",
      "\n",
      "메뉴번호9\n"
     ]
    }
   ],
   "source": [
    "menu = ''' \n",
    "1. 추가\n",
    "2. 삭제\n",
    "3. 목록\n",
    "9. 종료\n",
    "\n",
    "번호를 입력하세요.\n",
    "'''\n",
    "number = 0\n",
    "while number != 9:\n",
    "    print(menu)\n",
    "    number = int(input('메뉴번호'))"
   ]
  },
  {
   "cell_type": "code",
   "execution_count": 3,
   "metadata": {},
   "outputs": [
    {
     "name": "stdout",
     "output_type": "stream",
     "text": [
      "커피제공\n",
      "남은 커피는 9잔 입니다.\n",
      "커피제공\n",
      "남은 커피는 8잔 입니다.\n",
      "커피제공\n",
      "남은 커피는 7잔 입니다.\n",
      "커피제공\n",
      "남은 커피는 6잔 입니다.\n",
      "커피제공\n",
      "남은 커피는 5잔 입니다.\n",
      "커피제공\n",
      "남은 커피는 4잔 입니다.\n",
      "커피제공\n",
      "남은 커피는 3잔 입니다.\n",
      "커피제공\n",
      "남은 커피는 2잔 입니다.\n",
      "커피제공\n",
      "남은 커피는 1잔 입니다.\n",
      "커피제공\n",
      "남은 커피는 0잔 입니다.\n",
      "커피 재고가 없습니다.판매를 중지합니다.\n"
     ]
    }
   ],
   "source": [
    "# while 문과 break \n",
    "coffee =10 \n",
    "money = 300\n",
    "\n",
    "while money: \n",
    "    print(\"커피제공\")\n",
    "    coffee -= 1\n",
    "    print(f\"남은 커피는 {coffee}잔 입니다.\")\n",
    "    if not coffee: \n",
    "        print(\"커피 재고가 없습니다.판매를 중지합니다.\")\n",
    "        break"
   ]
  },
  {
   "cell_type": "code",
   "execution_count": 4,
   "metadata": {},
   "outputs": [
    {
     "name": "stdout",
     "output_type": "stream",
     "text": [
      "1\n",
      "3\n",
      "5\n",
      "7\n",
      "9\n"
     ]
    }
   ],
   "source": [
    "# while 과 continue\n",
    "a = 0 \n",
    "while a< 10:\n",
    "    a += 1 \n",
    "    if (a % 2) == 0:\n",
    "        continue\n",
    "    print(a)"
   ]
  },
  {
   "cell_type": "markdown",
   "metadata": {},
   "source": [
    "#### 연습문제"
   ]
  },
  {
   "cell_type": "code",
   "execution_count": 5,
   "metadata": {},
   "outputs": [
    {
     "name": "stdout",
     "output_type": "stream",
     "text": [
      "166833\n"
     ]
    }
   ],
   "source": [
    "# 1. 1-1000 까지 3의 배수의 총합계 출력\n",
    "sum = 0\n",
    "a = 1\n",
    "while a < 1001:\n",
    "    if (a % 3) == 0:\n",
    "        sum += a\n",
    "    a += 1\n",
    "print(sum)"
   ]
  },
  {
   "cell_type": "code",
   "execution_count": 6,
   "metadata": {},
   "outputs": [
    {
     "name": "stdout",
     "output_type": "stream",
     "text": [
      "399\n"
     ]
    }
   ],
   "source": [
    "# 2. l1에서 50점 이상의 총 합을 구하시오\n",
    "l1 = [20,55,67,33,90,87,100,25] \n",
    "\n",
    "i = 0\n",
    "sum = 0\n",
    "while i <len(l1):\n",
    "    if l1[i] > 50:\n",
    "        sum += l1[i] \n",
    "    i += 1\n",
    "print(sum)"
   ]
  },
  {
   "cell_type": "code",
   "execution_count": 20,
   "metadata": {},
   "outputs": [
    {
     "name": "stdout",
     "output_type": "stream",
     "text": [
      "*    \n",
      "**   \n",
      "***  \n",
      "**** \n",
      "*****\n",
      "*\n",
      "**\n",
      "***\n",
      "****\n",
      "*****\n"
     ]
    }
   ],
   "source": [
    "# 3. 별표 표시하기(1)\n",
    "#*\n",
    "#**\n",
    "#***\n",
    "#****\n",
    "#*****\n",
    "i = 0\n",
    "while i < 5:\n",
    "    i += 1\n",
    "    print(\"%-5s\"%(\"*\"*i))\n",
    "\n",
    "# teacher \n",
    "i = 0 \n",
    "while True: \n",
    "    i += 1  # while 수행 시 마다 1씩 증가.\n",
    "    if i > 5 : break\n",
    "    print('*'*i) # i값이 5보다 크면 while 문을 벗어난다."
   ]
  },
  {
   "cell_type": "code",
   "execution_count": 27,
   "metadata": {},
   "outputs": [
    {
     "name": "stdout",
     "output_type": "stream",
     "text": [
      "    *    \n",
      "   ***   \n",
      "  *****  \n",
      " ******* \n",
      "*********\n",
      "\n",
      "   *\n",
      "  ***\n",
      " *****\n",
      "*******\n"
     ]
    }
   ],
   "source": [
    "# 4. 별표 표시하기(2)\n",
    "#    *\n",
    "#   ***\n",
    "#  *****\n",
    "# *******\n",
    "#*********\n",
    "\n",
    "i = 0 \n",
    "while i<9:\n",
    "    i += 1 \n",
    "    if((i%2) != 0):\n",
    "        print(\"{:^9}\".format(\"*\"*i))\n",
    "print()\n",
    "# teacher\n",
    "star = 0\n",
    "space = 4\n",
    "i = 0\n",
    "while i < 4:\n",
    "    i += 1\n",
    "    print(' '*(space-i)+\"*\"*(star+i*2-1))"
   ]
  },
  {
   "cell_type": "code",
   "execution_count": 9,
   "metadata": {},
   "outputs": [
    {
     "name": "stdout",
     "output_type": "stream",
     "text": [
      "★\n"
     ]
    }
   ],
   "source": [
    "print(\"\\u2605\")"
   ]
  },
  {
   "cell_type": "markdown",
   "metadata": {},
   "source": [
    "<img src =\"./images/09.반복문_for_ex02_마름모별.png\"/>"
   ]
  },
  {
   "cell_type": "code",
   "execution_count": 37,
   "metadata": {},
   "outputs": [
    {
     "name": "stdout",
     "output_type": "stream",
     "text": [
      "    *    \n",
      "   ***   \n",
      "  *****  \n",
      " ******* \n",
      "*********\n",
      " ******* \n",
      "  *****  \n",
      "   ***   \n",
      "    *    \n",
      "         \n",
      "\n",
      "        ★\n",
      "      ★★★\n",
      "    ★★★★★\n",
      "  ★★★★★★★\n",
      "★★★★★★★★★\n",
      "  ★★★★★★★\n",
      "    ★★★★★\n",
      "      ★★★\n",
      "        ★\n"
     ]
    }
   ],
   "source": [
    "i = 0\n",
    "j = 0\n",
    "while i < 10:\n",
    "    print(\"{:^9}\".format(\"*\"*((j*2)+1)))\n",
    "    if i < 4: j += 1\n",
    "    else: j -= 1\n",
    "    i += 1\n",
    "print()\n",
    "# teacher\n",
    "# 전역변수\n",
    "i, k = 0,0\n",
    "while i < 9:\n",
    "    if i < 5 :\n",
    "        k = 0\n",
    "        while k <(4-i):\n",
    "            print('  ',end='')\n",
    "            k += 1\n",
    "        k = 0\n",
    "        while k < i*2+1:\n",
    "            print('\\u2605',end='')\n",
    "            k += 1\n",
    "    else:\n",
    "        k= 0\n",
    "        while k < i-4:\n",
    "            print(\"  \",end='')\n",
    "            k += 1\n",
    "        k = 0\n",
    "        while k < (9-i)*2-1:\n",
    "            print('\\u2605',end='')\n",
    "            k+=1\n",
    "    print()\n",
    "    i += 1"
   ]
  },
  {
   "cell_type": "code",
   "execution_count": null,
   "metadata": {},
   "outputs": [],
   "source": []
  }
 ],
 "metadata": {
  "kernelspec": {
   "display_name": "Python 3",
   "language": "python",
   "name": "python3"
  },
  "language_info": {
   "codemirror_mode": {
    "name": "ipython",
    "version": 3
   },
   "file_extension": ".py",
   "mimetype": "text/x-python",
   "name": "python",
   "nbconvert_exporter": "python",
   "pygments_lexer": "ipython3",
   "version": "3.7.4"
  }
 },
 "nbformat": 4,
 "nbformat_minor": 2
}
