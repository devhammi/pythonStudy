{
 "cells": [
  {
   "cell_type": "markdown",
   "metadata": {},
   "source": [
    "### 클래스(Class)\n",
    "\n",
    "#### 1. module vs class vs instance\n",
    "1. module : 확장자가 py로 끝나는 파일(클래스, 속성, 메서드등이 포함된 파일)\n",
    "2. class : 새로운 객체(자료형)를 만드는 방법(설계도, 틀)\n",
    "3. instance : 클래스로 부터 생성된 객체를 의미\n",
    "<img src= \"./images/13.클래스_class_01.png\" width=\"70%\"/>\n",
    "\n",
    "\n",
    "#### 2. 클래스 내부의 메서드(함수)를 선언\n",
    "메서드는 일반함수(def 함수명()) 일반함수와 동일하게 정의하지만 틀린 점은 반드시 첫번째 인수로 self(java의 this)를 사용해야 한다. \n",
    "즉 def 함수명(self)의 형태로 정의해야한다. self는 인스턴스 자기 자신을 가리킨다. 정확하게는 자신의 참조주소를 가리킨다. 각  인스턴스는 self를 이용해서 자신에게 접근한다.\n",
    "\n",
    "#### 3. class method\n",
    "클래스 메서드는 인스턴스(객체)와 무관하게 클래스 이름공간에 존재하는 메서드이다. 클래스메서드는 클래스명, 메서드() 형태로 접근한다. 첫번째 인자로 클래스 인스턴스를 자동으로 받는 메서드를 말한다.\n",
    "\n",
    "#### 4. 생성자 __init__\n",
    "python에서는 객체(인스턴스)가 생성될 때 자동으로 실행되는 특수한 메서드를 생성자 메서드라고 한다. 생성자 메서드는 객체가 생성될 때 맨 처음에 자동으로 실행한다. python에서는 자바와는 다르게 생성자메서드는 오전 한개의 생성자메서드만 존재할 수 있다.\n",
    "\n",
    "#### 5. 소멸자 __del__\n",
    "python에서 메모리나 기타 자원들을 자동으로 해제해 주는데 객체(인스턴스)가 소멸될 때 자동으로 해제한다. 객체가 소멸될 때 수행할 로직이 있을 경우에는 소멸자 메서드에서 코딩을 해주면 된다.\n",
    "\n",
    "#### 6. 상속(inheritance)\n",
    "1. 파이썬에서는 다중상속이 가능하다 . \n",
    "2. 상속의 이점은 코드의 재사용이 가능하다.\n",
    "3. 자식클래스는 상속을 해준 부모클래스의 코든 기능을 사용할 수 있다. 자식 클래스에서 필요한 기능을 정의(추가)하거나 부모의 기능을 재정의해서 사용할 수 있다.\n",
    "\n",
    "#### 7. 오버라이드(Override)\n",
    "\n",
    "서브(자식)클래스에서 수퍼(부모)킄래스에 정의된 메서드를 자식클래스의 기능에 맞게 재정의하는 것을 오버라이드라고 한다.\n",
    "#### 8. 다형성(Polymorphism)"
   ]
  },
  {
   "cell_type": "code",
   "execution_count": 1,
   "metadata": {},
   "outputs": [
    {
     "name": "stdout",
     "output_type": "stream",
     "text": [
      "['__class__', '__delattr__', '__dict__', '__dir__', '__doc__', '__eq__', '__format__', '__ge__', '__getattribute__', '__gt__', '__hash__', '__init__', '__init_subclass__', '__le__', '__lt__', '__module__', '__ne__', '__new__', '__reduce__', '__reduce_ex__', '__repr__', '__setattr__', '__sizeof__', '__str__', '__subclasshook__', '__weakref__', 'name', 'nation']\n"
     ]
    }
   ],
   "source": [
    "# class 만드는 방법 \n",
    "class Person: \n",
    "    # 속성(properties) -> 변수 멤버변수 or 인스턴스 변수\n",
    "    name = '홍길동'\n",
    "    nation = 'kr'\n",
    "print(dir(Person)) # name and nation 이외에는 object에서 상속받은 것들, 별도로 정의하지 않아도 모든 객체는 object에서 상속받음"
   ]
  },
  {
   "cell_type": "code",
   "execution_count": 2,
   "metadata": {},
   "outputs": [
    {
     "name": "stdout",
     "output_type": "stream",
     "text": [
      "['__class__', '__delattr__', '__dict__', '__dir__', '__doc__', '__eq__', '__format__', '__ge__', '__getattribute__', '__gt__', '__hash__', '__init__', '__init_subclass__', '__le__', '__lt__', '__module__', '__ne__', '__new__', '__reduce__', '__reduce_ex__', '__repr__', '__setattr__', '__sizeof__', '__str__', '__subclasshook__', '__weakref__', 'name', 'nation']\n",
      "<class '__main__.Person'>\n",
      "2723229360648\n"
     ]
    }
   ],
   "source": [
    "# 객체를 만드는 방법\n",
    "# 클래스를 가지고 객체(인스턴스)를 생성\n",
    "# 문법 : 변수(참조변수) = 클래스명() -> 객체를 생성하는 방법\n",
    "\n",
    "#Person()생성자라고 하는데 실제로는 생성자 __init__를 호출\n",
    "adam = Person() # 생성자\n",
    "print(dir(adam)) # Person 클래스와 adam 은 같다 why? person에서 상속받아서\n",
    "print(type(adam)) # __붙은 함수는 시스템 내장함수\n",
    "print(id(adam))"
   ]
  },
  {
   "cell_type": "code",
   "execution_count": 3,
   "metadata": {},
   "outputs": [
    {
     "name": "stdout",
     "output_type": "stream",
     "text": [
      "홍길동\n",
      "kr\n"
     ]
    }
   ],
   "source": [
    "#객체의 속성(변수,멤버변수,인스턴스변수) \n",
    "print(adam.name)\n",
    "print(adam.nation)"
   ]
  },
  {
   "cell_type": "code",
   "execution_count": 4,
   "metadata": {},
   "outputs": [
    {
     "name": "stdout",
     "output_type": "stream",
     "text": [
      "ham\n",
      "germany\n",
      "korea\n"
     ]
    }
   ],
   "source": [
    "class Person2():\n",
    "    name =\"ham\"\n",
    "    nation = \"germany\"\n",
    "p2 = Person2()\n",
    "print(p2.name)\n",
    "print(p2.nation)\n",
    "p2.nation =\"korea\"\n",
    "print(p2.nation)"
   ]
  },
  {
   "cell_type": "code",
   "execution_count": 5,
   "metadata": {},
   "outputs": [
    {
     "name": "stdout",
     "output_type": "stream",
     "text": [
      "\n",
      "한국\n",
      "박지\n",
      "한국\n"
     ]
    }
   ],
   "source": [
    "class Person3():\n",
    "    nation =  \"한국\"\n",
    "    name =''\n",
    "\n",
    "p3 = Person3()\n",
    "print(p3.name)\n",
    "print(p3.nation)\n",
    "p3.name =\"박지\"\n",
    "print(p3.name)\n",
    "print(p3.nation)"
   ]
  },
  {
   "cell_type": "code",
   "execution_count": 6,
   "metadata": {},
   "outputs": [
    {
     "name": "stdout",
     "output_type": "stream",
     "text": [
      "한국 한국\n",
      "손흥 박지\n",
      "2723229205384\n",
      "2723229205320\n"
     ]
    }
   ],
   "source": [
    "# 객체의 속성을 외부에서 정의하는 방법\n",
    "class Korean:\n",
    "    nation = '한국'\n",
    "    name = str()\n",
    "    age = int()\n",
    "    height = float()\n",
    "    weight = float()\n",
    "\n",
    "kor1 = Korean()\n",
    "kor2 = Korean()\n",
    "print(kor1.nation,kor2.nation)\n",
    "kor1.name = '손흥'\n",
    "kor2.name = '박지'\n",
    "print(kor1.name,kor2.name)\n",
    "\n",
    "print(id(kor1))\n",
    "print(id(kor2))"
   ]
  },
  {
   "cell_type": "markdown",
   "metadata": {},
   "source": [
    "#### 1. 클래스와 메서드를 정의하는 방법\n",
    "<img src= \"./images/13.클래스_class_02.png\" width=\"70%\"/>"
   ]
  },
  {
   "cell_type": "code",
   "execution_count": 7,
   "metadata": {},
   "outputs": [
    {
     "name": "stdout",
     "output_type": "stream",
     "text": [
      "hello Constructor\n",
      "hello python\n"
     ]
    }
   ],
   "source": [
    "class Korean():\n",
    "    def __init__(self): \n",
    "        print('hello Constructor')\n",
    "    def greeting(self):\n",
    "        print(\"hello python\")\n",
    "\n",
    "kor3 = Korean()\n",
    "kor3.greeting()"
   ]
  },
  {
   "cell_type": "code",
   "execution_count": 8,
   "metadata": {},
   "outputs": [
    {
     "name": "stdout",
     "output_type": "stream",
     "text": [
      "안녕하세요\n"
     ]
    }
   ],
   "source": [
    "class Korean():\n",
    "    def __init__(self):\n",
    "        self.hello = '안녕하세요'\n",
    "    def greeting(self):\n",
    "        print(self.hello)\n",
    "kor4 = Korean() # 생성될 때 hello값 설정\n",
    "kor4.greeting()\n"
   ]
  },
  {
   "cell_type": "code",
   "execution_count": 9,
   "metadata": {},
   "outputs": [],
   "source": [
    "class Person:\n",
    "    name = str()\n",
    "    nation = '한국'\n",
    "    age = int()\n",
    "    height = float()\n",
    "    weight =  float()\n",
    "    def display(self):\n",
    "        print('국적 = ',self.nation, end=',')\n",
    "        print('나이 = ',self.age, end=',')\n",
    "        print('이름 = ',self.name, end=',')\n",
    "        print('키 = ',self.height, end=',')\n",
    "        print('무게 = ',self.weight)"
   ]
  },
  {
   "cell_type": "code",
   "execution_count": 10,
   "metadata": {},
   "outputs": [
    {
     "name": "stdout",
     "output_type": "stream",
     "text": [
      "국적 =  한국,나이 =  0,이름 =  ,키 =  0.0,무게 =  0.0\n",
      "국적 =  한국,나이 =  10100,이름 =  eve,키 =  16000,무게 =  10000\n",
      "국적 =  한국,나이 =  0,이름 =  ,키 =  0.0,무게 =  0.0\n",
      "국적 =  한국,나이 =  10100,이름 =  eve,키 =  16000,무게 =  10000\n",
      "2723229413320\n",
      "2723229450696\n"
     ]
    }
   ],
   "source": [
    "# 객체를 생성하고 속성을 설정\n",
    "person = Person()\n",
    "person.display()\n",
    "person.name = 'eve'\n",
    "person.age = 10100\n",
    "person.height = 16000\n",
    "person.weight = 10000\n",
    "person.display()\n",
    "\n",
    "person2 = Person()\n",
    "person2.display()\n",
    "person2.name = 'eve'\n",
    "person2.age = 10100\n",
    "person2.height = 16000\n",
    "person2.weight = 10000\n",
    "person2.display()\n",
    "\n",
    "print(id(person))\n",
    "print(id(person2))\n"
   ]
  },
  {
   "cell_type": "markdown",
   "metadata": {},
   "source": [
    "#### 2. 생성자와 소멸자\n",
    "##### 생성자\n",
    "생성자는 __init__()는 파이썬에서 개발자가 정의하지 않았다 하더라도 기본적으로 __init__()메서드를 가지고 있는데 이 메서드를 생성자라고 한다. \n",
    "\n",
    "python은 모든 객체가 생성될 때 자동적으로 호출된다. __init__()메서드가 정의가 되엉 있지 않더라도 컴파일시에 자동으로 생성된다. 다만, python에서는 생성자중복을 허용하지 않는다. 즉, 생성자는 하나만 정의 해야 한다. 중복정의 했더라도 에러는 발생하지않지만 통상적으로 맨 마지막에 정의된 생성자가 실행된다.\n",
    "\n",
    "<img src= \"./images/13.클래스_class_03.png\" width=\"70%\"/>"
   ]
  },
  {
   "cell_type": "code",
   "execution_count": 11,
   "metadata": {},
   "outputs": [],
   "source": [
    "class Human:\n",
    "#  자바에선 이렇게 하지만 python에서 이렇게 하지 않는다    \n",
    "#     name = str()\n",
    "#     gender = str()\n",
    "#     age = int()\n",
    "#     height = float()\n",
    "#     weight = float()\n",
    "    \n",
    "    # 기본생성자. 생성자 중복정의 되었기 때문에 이 기본생성자는 호출이 되지 않는다. \n",
    "    # 중복정의되었다더라도 문법에러는 발생하지 않는다. 대신에 맨 뒤의 생성자가 호출이 된다\n",
    "    def __init__(self):\n",
    "        print('생성자 1 호출...')\n",
    "    \n",
    "    # 생성자는 중복불가\n",
    "    def __init__(self,name,gender,age,height,weight):\n",
    "        self.name = name\n",
    "        self.gender = gender\n",
    "        self.age =age\n",
    "        self.height = height\n",
    "        self.weight = weight\n",
    "        # 전역변수로 설정\n",
    "    def display(self):\n",
    "        print('성별 =',self.gender, end=',')\n",
    "        print('나이 =',self.age, end=',')\n",
    "        print('이름 =',self.name, end=',')\n",
    "        print('키 =',self.height, end=',')\n",
    "        print('무게 =',self.weight)"
   ]
  },
  {
   "cell_type": "code",
   "execution_count": 12,
   "metadata": {},
   "outputs": [
    {
     "name": "stdout",
     "output_type": "stream",
     "text": [
      "성별 = f,나이 = 10000,이름 = eve,키 = 161.1,무게 = 55\n",
      "성별 = m,나이 = 999,이름 = adam,키 = 150,무게 = 54\n"
     ]
    }
   ],
   "source": [
    "eve = Human('eve','f','10000',161.1,55)\n",
    "eve.display()\n",
    "adam = Human('adam','m','999',150,54)\n",
    "adam.display()"
   ]
  },
  {
   "cell_type": "code",
   "execution_count": 13,
   "metadata": {},
   "outputs": [
    {
     "name": "stdout",
     "output_type": "stream",
     "text": [
      "손흥민\n",
      "미국\n"
     ]
    }
   ],
   "source": [
    "class Person: \n",
    "    def  __init__(self,nation='한국',name=None,age=None,height=None,weight=None):\n",
    "        self.name = name\n",
    "        self.nation = nation\n",
    "        self.age = age\n",
    "        self.height = height\n",
    "        self.weight = weight\n",
    "    def display(self):\n",
    "        print('국적 =',self.nation,end=',')\n",
    "        print('나이 =',self.age, end=',')\n",
    "        print('이름 =',self.name, end=',')\n",
    "        print('키 =',self.height, end=',')\n",
    "        print('무게 =',self.weight)\n",
    "\n",
    "        \n",
    "sonny = Person('미국','손흥민')\n",
    "print(sonny.name)\n",
    "print(sonny.nation)"
   ]
  },
  {
   "cell_type": "code",
   "execution_count": 14,
   "metadata": {},
   "outputs": [],
   "source": [
    "class Calculator:\n",
    "   #def __init__(self): pass\n",
    "    def setData(self,a,b):\n",
    "        self.a = a\n",
    "        self.b = b\n",
    "        \n",
    "    def add(self): return self.a+self.b\n",
    "    def sub(self): return self.a-self.b\n",
    "    def mul(self): return self.a*self.b\n",
    "    def div(self): return self.a/self.b\n",
    "    def __del__(self):\n",
    "        print('소멸자 함수가 호출되었습니다.')"
   ]
  },
  {
   "cell_type": "code",
   "execution_count": 15,
   "metadata": {},
   "outputs": [
    {
     "name": "stdout",
     "output_type": "stream",
     "text": [
      "Calculator\t Human\t Korean\t Person\t Person2\t Person3\t adam\t cal\t eve\t \n",
      "kor1\t kor2\t kor3\t kor4\t p2\t p3\t person\t person2\t sonny\t \n",
      "\n",
      "소멸자 함수가 호출되었습니다.\n",
      "Calculator\t Human\t Korean\t Person\t Person2\t Person3\t adam\t eve\t kor1\t \n",
      "kor2\t kor3\t kor4\t p2\t p3\t person\t person2\t sonny\t \n"
     ]
    }
   ],
   "source": [
    "cal = Calculator()\n",
    "%who\n",
    "del cal\n",
    "%who"
   ]
  },
  {
   "cell_type": "code",
   "execution_count": 20,
   "metadata": {},
   "outputs": [
    {
     "name": "stdout",
     "output_type": "stream",
     "text": [
      "2723229900168\n",
      "소멸자 함수가 호출되었습니다.\n",
      "15\n",
      "5\n",
      "50\n",
      "2.0\n"
     ]
    }
   ],
   "source": [
    "cal = Calculator()\n",
    "cal.setData(10,5)\n",
    "print(cal.add())\n",
    "print(cal.sub())\n",
    "print(cal.mul())\n",
    "print(cal.div())\n",
    "# 두번째 실행부터 __del__ 이 왜 실행되는가?\n",
    "# 기존 객체를 소멸하고 다시 생성하기 때문엔"
   ]
  },
  {
   "cell_type": "markdown",
   "metadata": {},
   "source": [
    "#### 3. static \n",
    "python에서는 기본적으로 모든 변수와 메서드에 접근할 수 있다. 하지만 캠슐화 [은닉화]를 통해서 특정변수와 메서드에 접근할 수 있다. 완벽한 캡슐화 하기에는 어렵다."
   ]
  },
  {
   "cell_type": "code",
   "execution_count": 51,
   "metadata": {},
   "outputs": [],
   "source": [
    "class Person:\n",
    "    # static 변수 즉 클래스 멤버\n",
    "    nation ='kor'\n",
    "    name = str()\n",
    "    age = int()\n",
    "    height = float()\n",
    "    weight = float()\n",
    "    \n",
    "    def display(self):# 메서드\n",
    "        print('메서드 호출')\n",
    "    \n",
    "    #self가 없을 경우 이러한 메서드를 static메서드라 한다. \n",
    "    # static 메서드는 클래스명.메서드() 형태로 호출한다.\n",
    "    def toString (): # static 메서드\n",
    "        print('static 메서드 호출')\n",
    "       # print(self.nation) # toString은 클래스 멤버이기 때문에 self사용불가\n",
    "        print(Person.nation)"
   ]
  },
  {
   "cell_type": "code",
   "execution_count": 30,
   "metadata": {},
   "outputs": [
    {
     "name": "stdout",
     "output_type": "stream",
     "text": [
      "메서드 호출\n",
      "static 메서드 호출\n",
      "kor\n"
     ]
    }
   ],
   "source": [
    "a = Person()\n",
    "a.display()\n",
    "# a.toString() static 메서드이기 때문에 객체로 접근 불가\n",
    "Person.toString()"
   ]
  },
  {
   "cell_type": "code",
   "execution_count": null,
   "metadata": {},
   "outputs": [],
   "source": [
    "print(dir(a)) # static 메서드인 toString은 여기 없음."
   ]
  },
  {
   "cell_type": "markdown",
   "metadata": {},
   "source": [
    "#### 4. 클래스상속\n",
    "싱속(Inheritence)이란  특정의 클래스를 만들 때 해당 클래스의 기능을 물려 받을 수 있도록 하는 기능이다. 부모클래스를 상속할 경우에 부모생성자도 상속이 된다. 파이썬에서 클래스의 상속은 다중상속이 가능하다.\n",
    "\n",
    "##### 클래스상속방법\n",
    "```python\n",
    "class 클래스명(부모클래스1.... 부모클래스n)\n",
    "```\n",
    "##### object 클래스 \n",
    "python에 최상위부모클래스는 object 클래스이다."
   ]
  },
  {
   "cell_type": "code",
   "execution_count": 39,
   "metadata": {},
   "outputs": [],
   "source": [
    "class Calculator:\n",
    "    def __init__(self,first=None, second=None):\n",
    "        self.first = 0 if first is None else first\n",
    "        self.second = 0 if second is None else second\n",
    "    def add(self): return self.first+self.second\n",
    "    def sub(self): return self.first-self.second\n",
    "    def mul(self): return self.first*self.second\n",
    "    def div(self): return self.first/self.second"
   ]
  },
  {
   "cell_type": "code",
   "execution_count": 43,
   "metadata": {},
   "outputs": [
    {
     "name": "stdout",
     "output_type": "stream",
     "text": [
      "15\n",
      "5\n",
      "50\n",
      "2.0\n"
     ]
    }
   ],
   "source": [
    "cacl = Calculator(10,2)\n",
    "print(cal.add())\n",
    "print(cal.sub())\n",
    "print(cal.mul())\n",
    "print(cal.div())"
   ]
  },
  {
   "cell_type": "code",
   "execution_count": 44,
   "metadata": {},
   "outputs": [],
   "source": [
    "class CalculatorA(Calculator):\n",
    "    def pow(self): return self.first ** self.second\n",
    "    "
   ]
  },
  {
   "cell_type": "code",
   "execution_count": 46,
   "metadata": {},
   "outputs": [
    {
     "data": {
      "text/plain": [
       "8"
      ]
     },
     "execution_count": 46,
     "metadata": {},
     "output_type": "execute_result"
    }
   ],
   "source": [
    "b = CalculatorA(3,5)\n",
    "b.add()"
   ]
  },
  {
   "cell_type": "code",
   "execution_count": null,
   "metadata": {},
   "outputs": [],
   "source": [
    "c = CalculatorA(4)\n",
    "c.div() # 부모 메서드가 호출"
   ]
  },
  {
   "cell_type": "code",
   "execution_count": 49,
   "metadata": {},
   "outputs": [],
   "source": [
    "class CalculatorB(Calculator):\n",
    "    def pow(self): return self.first ** self.second\n",
    "    def div(self): \n",
    "        if self.second == 0:\n",
    "            print('분모에 0이 올 수 없습니다.')\n",
    "            return 0\n",
    "        else:\n",
    "            return self.first/self.second"
   ]
  },
  {
   "cell_type": "code",
   "execution_count": 50,
   "metadata": {},
   "outputs": [
    {
     "name": "stdout",
     "output_type": "stream",
     "text": [
      "분모에 0이 올 수 없습니다.\n",
      "0\n"
     ]
    }
   ],
   "source": [
    "calb = CalculatorB(5)\n",
    "print(calb.div())"
   ]
  },
  {
   "cell_type": "markdown",
   "metadata": {},
   "source": [
    "#### 클래스 다중상속\n",
    "python에서는 다중상속이 가능하고 부모클래스를 상속할 경우 부모생성자가 상속이 된다. \n",
    "\n",
    "##### 클래스 다중상속 문법\n",
    "```python\n",
    "class 클래스명(부모1,...,부모n)\n",
    "```"
   ]
  },
  {
   "cell_type": "code",
   "execution_count": 52,
   "metadata": {},
   "outputs": [],
   "source": [
    "# 전화기 : 통화 > 카메라 > 영상통화\n",
    "class Phone:\n",
    "    def call(self): print(\"통화기능\")\n",
    "\n",
    "class Camera: \n",
    "    def photo(self): print('촬영기능')\n",
    "\n",
    "class CameraPhone(Phone,Camera):\n",
    "    def movieCall(self): print('영상통화가능')\n",
    "        \n",
    "#메서드 탐색 순서(MRO) "
   ]
  },
  {
   "cell_type": "code",
   "execution_count": 53,
   "metadata": {},
   "outputs": [
    {
     "name": "stdout",
     "output_type": "stream",
     "text": [
      "통화기능\n",
      "촬영기능\n",
      "영상통화가능\n"
     ]
    }
   ],
   "source": [
    "phone = CameraPhone()\n",
    "phone.call()\n",
    "phone.photo()\n",
    "phone.movieCall()"
   ]
  },
  {
   "cell_type": "code",
   "execution_count": 66,
   "metadata": {},
   "outputs": [],
   "source": [
    "# 다중 상속 시 발생되는 다이아몬드상속의 문제해결\n",
    "class A:\n",
    "    def greeting(self): print('안녕 A')\n",
    "class B: \n",
    "    def greeting(self): print('안녕 B')\n",
    "class C: \n",
    "    def greeting(self): print('안녕 C')\n",
    "class D(B,C):pass\n",
    "class E(C,B):pass"
   ]
  },
  {
   "cell_type": "code",
   "execution_count": 67,
   "metadata": {},
   "outputs": [
    {
     "name": "stdout",
     "output_type": "stream",
     "text": [
      "안녕 B\n",
      "안녕 C\n"
     ]
    }
   ],
   "source": [
    "x = D()\n",
    "x.greeting()\n",
    "\n",
    "y = E()\n",
    "y.greeting()"
   ]
  },
  {
   "cell_type": "code",
   "execution_count": 68,
   "metadata": {},
   "outputs": [
    {
     "name": "stdout",
     "output_type": "stream",
     "text": [
      "[<class '__main__.D'>, <class '__main__.B'>, <class '__main__.C'>, <class 'object'>]\n",
      "[<class '__main__.E'>, <class '__main__.C'>, <class '__main__.B'>, <class 'object'>]\n"
     ]
    }
   ],
   "source": [
    "# 다중상속에 대한 해결책으로서 파이썬에서는 메서드탐색순서(Method Resolution Order,MRO)를 따른다. MRO를 확인하기 위해서는 \n",
    "# \"클래스명.mro()\" 함수를 이용하면 탐색순서를 확인할 수 있다.\n",
    "print(D.mro())\n",
    "print(E.mro())"
   ]
  },
  {
   "cell_type": "markdown",
   "metadata": {},
   "source": [
    "#### 클래스 변수\n",
    "클래스변수는 클래스에 의해 생성 된 모든 객체에 공유가 된다. 공통으로 사용되는 변수이다. "
   ]
  },
  {
   "cell_type": "code",
   "execution_count": 80,
   "metadata": {},
   "outputs": [],
   "source": [
    "class ClassVar:\n",
    "    # name 은 클래스 변수\n",
    "    name = \"ham\"\n",
    "    def __init__(self):\n",
    "        # hello는 객체변수\n",
    "        self.hello=\"hi\""
   ]
  },
  {
   "cell_type": "code",
   "execution_count": 82,
   "metadata": {},
   "outputs": [
    {
     "name": "stdout",
     "output_type": "stream",
     "text": [
      "hong 하이\n",
      "hong hi\n",
      "hong\n",
      "hong\n",
      "him 하이\n",
      "hong hi\n"
     ]
    }
   ],
   "source": [
    "obj1 = ClassVar()\n",
    "obj2 = ClassVar()\n",
    "obj1.hello ='하이'\n",
    "obj2.hello ='hi'\n",
    "print(obj1.name,obj1.hello)\n",
    "print(obj2.name,obj2.hello)\n",
    "\n",
    "print(obj1.name)\n",
    "# print(ClassVar.hello) # 객체변수여서 접근불기\n",
    "ClassVar.name = \"hong\" # classVar를 상속하는 클래스의 값 전체가 바뀜\n",
    "print(obj1.name)\n",
    "\n",
    "obj1.name ='him'\n",
    "print(obj1.name,obj1.hello)\n",
    "print(obj2.name,obj2.hello)"
   ]
  }
 ],
 "metadata": {
  "kernelspec": {
   "display_name": "Python 3",
   "language": "python",
   "name": "python3"
  },
  "language_info": {
   "codemirror_mode": {
    "name": "ipython",
    "version": 3
   },
   "file_extension": ".py",
   "mimetype": "text/x-python",
   "name": "python",
   "nbconvert_exporter": "python",
   "pygments_lexer": "ipython3",
   "version": "3.7.4"
  }
 },
 "nbformat": 4,
 "nbformat_minor": 2
}
