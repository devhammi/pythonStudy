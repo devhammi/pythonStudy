{
 "cells": [
  {
   "cell_type": "markdown",
   "metadata": {},
   "source": [
    "### Pandas (Python Data Anlysis Library)\n",
    "\n",
    "pandas는 파이썬에서 사용하는 데이터분석 라이브러리로 행과 열로 이루어진 데이터 객체를 다룰 수 있게되어 보다 안정적인 대용량의 데이터를 처리하는데 매우 유용한 도구이다. \n",
    "\n",
    "pandas에서는 기본적으로 정의 되어 있는 1차원 배열인 'Series'와 2차원 배열인 'DataFrame'을 사용한다.\n",
    "이 자료구조들은 빅데이터분석에 있어 높은 수준의 성능을 보여준다. \n",
    "\n",
    "http://pandas.pydata.org/pandas-docs/stable/index.html\n"
   ]
  },
  {
   "cell_type": "code",
   "execution_count": 1,
   "metadata": {},
   "outputs": [],
   "source": [
    "# 데이터 분석 주요 라이브러리\n",
    "%matplotlib inline\n",
    "import numpy as np\n",
    "import pandas as pd\n",
    "import matplotlib.pyplot as plt\n",
    "\n",
    "# 한글깨짐 설정\n",
    "#from matplotlib import rc, font_manager\n",
    "#font_name = font_manager.FontProperties(fname='C:/Windows/Fonts/').get_name()\n",
    "#rc('font',family=font_name)"
   ]
  },
  {
   "cell_type": "code",
   "execution_count": 2,
   "metadata": {},
   "outputs": [
    {
     "name": "stdout",
     "output_type": "stream",
     "text": [
      "\n",
      "INSTALLED VERSIONS\n",
      "------------------\n",
      "commit           : None\n",
      "python           : 3.7.4.final.0\n",
      "python-bits      : 64\n",
      "OS               : Windows\n",
      "OS-release       : 10\n",
      "machine          : AMD64\n",
      "processor        : Intel64 Family 6 Model 94 Stepping 3, GenuineIntel\n",
      "byteorder        : little\n",
      "LC_ALL           : None\n",
      "LANG             : None\n",
      "LOCALE           : None.None\n",
      "\n",
      "pandas           : 0.25.1\n",
      "numpy            : 1.16.5\n",
      "pytz             : 2019.3\n",
      "dateutil         : 2.8.0\n",
      "pip              : 19.2.3\n",
      "setuptools       : 41.4.0\n",
      "Cython           : 0.29.13\n",
      "pytest           : 5.2.1\n",
      "hypothesis       : None\n",
      "sphinx           : 2.2.0\n",
      "blosc            : None\n",
      "feather          : None\n",
      "xlsxwriter       : 1.2.1\n",
      "lxml.etree       : 4.4.1\n",
      "html5lib         : 1.0.1\n",
      "pymysql          : None\n",
      "psycopg2         : None\n",
      "jinja2           : 2.10.3\n",
      "IPython          : 7.8.0\n",
      "pandas_datareader: None\n",
      "bs4              : 4.8.0\n",
      "bottleneck       : 1.2.1\n",
      "fastparquet      : None\n",
      "gcsfs            : None\n",
      "lxml.etree       : 4.4.1\n",
      "matplotlib       : 3.1.1\n",
      "numexpr          : 2.7.0\n",
      "odfpy            : None\n",
      "openpyxl         : 3.0.0\n",
      "pandas_gbq       : None\n",
      "pyarrow          : None\n",
      "pytables         : None\n",
      "s3fs             : None\n",
      "scipy            : 1.3.1\n",
      "sqlalchemy       : 1.3.9\n",
      "tables           : 3.5.2\n",
      "xarray           : None\n",
      "xlrd             : 1.2.0\n",
      "xlwt             : 1.3.0\n",
      "xlsxwriter       : 1.2.1\n"
     ]
    },
    {
     "data": {
      "text/plain": [
       "'0.25.1'"
      ]
     },
     "execution_count": 2,
     "metadata": {},
     "output_type": "execute_result"
    }
   ],
   "source": [
    "pd.show_versions()\n",
    "pd.__version__"
   ]
  },
  {
   "cell_type": "markdown",
   "metadata": {},
   "source": [
    "### 1. Series "
   ]
  },
  {
   "cell_type": "code",
   "execution_count": 3,
   "metadata": {},
   "outputs": [
    {
     "name": "stdout",
     "output_type": "stream",
     "text": [
      "0    1.0\n",
      "1    3.0\n",
      "2    5.0\n",
      "3    NaN\n",
      "4    6.0\n",
      "5    7.0\n",
      "dtype: float64\n",
      "<class 'pandas.core.series.Series'>\n"
     ]
    }
   ],
   "source": [
    "# 1. Series 자료생성(1) - 기본\n",
    "# 인덱스와 값을 가지는 1차원 배열\n",
    "# 값들의 리스트를 전달해서 생성한다. 인덱스는 자동적으로 기본적으로 정의되는 정수 인덱스를 사용한다. \n",
    "# 단, 인덱스를 정의하지 않으면 0부터 순번부여된다.\n",
    "\n",
    "ser = pd.Series([1,3,5,np.nan,6,7])\n",
    "print(ser)\n",
    "print(type(ser))"
   ]
  },
  {
   "cell_type": "code",
   "execution_count": 4,
   "metadata": {},
   "outputs": [
    {
     "data": {
      "text/plain": [
       "2019     3\n",
       "2018     6\n",
       "2017     9\n",
       "2016    12\n",
       "dtype: int64"
      ]
     },
     "execution_count": 4,
     "metadata": {},
     "output_type": "execute_result"
    }
   ],
   "source": [
    "# 2. Series 자료생성(2)\n",
    "# 기본숫자인덱스와 문자 인덱스\n",
    "ser2 = pd.Series([3,6,9,12],index=['2019','2018','2017','2016'])\n",
    "ser2"
   ]
  },
  {
   "cell_type": "code",
   "execution_count": 5,
   "metadata": {},
   "outputs": [
    {
     "data": {
      "image/png": "[encoded data removed]",
      "text/plain": [
       "<Figure size 432x288 with 1 Axes>"
      ]
     },
     "metadata": {
      "needs_background": "light"
     },
     "output_type": "display_data"
    }
   ],
   "source": [
    "ser2.plot()\n",
    "ser2.plot(kind='bar')\n",
    "plt.show()"
   ]
  },
  {
   "cell_type": "code",
   "execution_count": 6,
   "metadata": {},
   "outputs": [
    {
     "name": "stdout",
     "output_type": "stream",
     "text": [
      "<class 'dict'>\n",
      "소향    5000\n",
      "손흥    7000\n",
      "홍길    6500\n",
      "홍순    8000\n",
      "dtype: int64\n"
     ]
    },
    {
     "name": "stderr",
     "output_type": "stream",
     "text": [
      "C:\\Anaconda3\\lib\\site-packages\\matplotlib\\backends\\backend_agg.py:211: RuntimeWarning: Glyph 49548 missing from current font.\n",
      "  font.set_text(s, 0.0, flags=flags)\n",
      "C:\\Anaconda3\\lib\\site-packages\\matplotlib\\backends\\backend_agg.py:211: RuntimeWarning: Glyph 54693 missing from current font.\n",
      "  font.set_text(s, 0.0, flags=flags)\n",
      "C:\\Anaconda3\\lib\\site-packages\\matplotlib\\backends\\backend_agg.py:211: RuntimeWarning: Glyph 49552 missing from current font.\n",
      "  font.set_text(s, 0.0, flags=flags)\n",
      "C:\\Anaconda3\\lib\\site-packages\\matplotlib\\backends\\backend_agg.py:211: RuntimeWarning: Glyph 55141 missing from current font.\n",
      "  font.set_text(s, 0.0, flags=flags)\n",
      "C:\\Anaconda3\\lib\\site-packages\\matplotlib\\backends\\backend_agg.py:211: RuntimeWarning: Glyph 54861 missing from current font.\n",
      "  font.set_text(s, 0.0, flags=flags)\n",
      "C:\\Anaconda3\\lib\\site-packages\\matplotlib\\backends\\backend_agg.py:211: RuntimeWarning: Glyph 44600 missing from current font.\n",
      "  font.set_text(s, 0.0, flags=flags)\n",
      "C:\\Anaconda3\\lib\\site-packages\\matplotlib\\backends\\backend_agg.py:211: RuntimeWarning: Glyph 49692 missing from current font.\n",
      "  font.set_text(s, 0.0, flags=flags)\n",
      "C:\\Anaconda3\\lib\\site-packages\\matplotlib\\backends\\backend_agg.py:180: RuntimeWarning: Glyph 49548 missing from current font.\n",
      "  font.set_text(s, 0, flags=flags)\n",
      "C:\\Anaconda3\\lib\\site-packages\\matplotlib\\backends\\backend_agg.py:180: RuntimeWarning: Glyph 54693 missing from current font.\n",
      "  font.set_text(s, 0, flags=flags)\n",
      "C:\\Anaconda3\\lib\\site-packages\\matplotlib\\backends\\backend_agg.py:180: RuntimeWarning: Glyph 49552 missing from current font.\n",
      "  font.set_text(s, 0, flags=flags)\n",
      "C:\\Anaconda3\\lib\\site-packages\\matplotlib\\backends\\backend_agg.py:180: RuntimeWarning: Glyph 55141 missing from current font.\n",
      "  font.set_text(s, 0, flags=flags)\n",
      "C:\\Anaconda3\\lib\\site-packages\\matplotlib\\backends\\backend_agg.py:180: RuntimeWarning: Glyph 54861 missing from current font.\n",
      "  font.set_text(s, 0, flags=flags)\n",
      "C:\\Anaconda3\\lib\\site-packages\\matplotlib\\backends\\backend_agg.py:180: RuntimeWarning: Glyph 44600 missing from current font.\n",
      "  font.set_text(s, 0, flags=flags)\n",
      "C:\\Anaconda3\\lib\\site-packages\\matplotlib\\backends\\backend_agg.py:180: RuntimeWarning: Glyph 49692 missing from current font.\n",
      "  font.set_text(s, 0, flags=flags)\n"
     ]
    },
    {
     "data": {
      "image/png": "[encoded data removed]",
      "text/plain": [
       "<Figure size 432x288 with 1 Axes>"
      ]
     },
     "metadata": {
      "needs_background": "light"
     },
     "output_type": "display_data"
    }
   ],
   "source": [
    "# 3.Series 자료생성(3) - key와 인덱스정의\n",
    "# dictonary 지료형으로 키 = 인덱스, 값 = 요소\n",
    "emp = {'소향':5000,'손흥':7000,'홍길':6500,'홍순':8000}\n",
    "print(type(emp))\n",
    "\n",
    "ser3 = pd.Series(emp)\n",
    "print(ser3)\n",
    "ser3.plot()\n",
    "plt.show()"
   ]
  },
  {
   "cell_type": "code",
   "execution_count": 7,
   "metadata": {},
   "outputs": [
    {
     "name": "stderr",
     "output_type": "stream",
     "text": [
      "C:\\Anaconda3\\lib\\site-packages\\matplotlib\\backends\\backend_agg.py:211: RuntimeWarning: Glyph 52629 missing from current font.\n",
      "  font.set_text(s, 0.0, flags=flags)\n",
      "C:\\Anaconda3\\lib\\site-packages\\matplotlib\\backends\\backend_agg.py:211: RuntimeWarning: Glyph 50948 missing from current font.\n",
      "  font.set_text(s, 0.0, flags=flags)\n",
      "C:\\Anaconda3\\lib\\site-packages\\matplotlib\\backends\\backend_agg.py:211: RuntimeWarning: Glyph 52824 missing from current font.\n",
      "  font.set_text(s, 0.0, flags=flags)\n",
      "C:\\Anaconda3\\lib\\site-packages\\matplotlib\\backends\\backend_agg.py:211: RuntimeWarning: Glyph 54364 missing from current font.\n",
      "  font.set_text(s, 0.0, flags=flags)\n",
      "C:\\Anaconda3\\lib\\site-packages\\matplotlib\\backends\\backend_agg.py:211: RuntimeWarning: Glyph 49884 missing from current font.\n",
      "  font.set_text(s, 0.0, flags=flags)\n",
      "C:\\Anaconda3\\lib\\site-packages\\matplotlib\\backends\\backend_agg.py:180: RuntimeWarning: Glyph 52629 missing from current font.\n",
      "  font.set_text(s, 0, flags=flags)\n",
      "C:\\Anaconda3\\lib\\site-packages\\matplotlib\\backends\\backend_agg.py:180: RuntimeWarning: Glyph 50948 missing from current font.\n",
      "  font.set_text(s, 0, flags=flags)\n",
      "C:\\Anaconda3\\lib\\site-packages\\matplotlib\\backends\\backend_agg.py:180: RuntimeWarning: Glyph 52824 missing from current font.\n",
      "  font.set_text(s, 0, flags=flags)\n",
      "C:\\Anaconda3\\lib\\site-packages\\matplotlib\\backends\\backend_agg.py:180: RuntimeWarning: Glyph 54364 missing from current font.\n",
      "  font.set_text(s, 0, flags=flags)\n",
      "C:\\Anaconda3\\lib\\site-packages\\matplotlib\\backends\\backend_agg.py:180: RuntimeWarning: Glyph 49884 missing from current font.\n",
      "  font.set_text(s, 0, flags=flags)\n"
     ]
    },
    {
     "data": {
      "image/png": "[encoded data removed]",
      "text/plain": [
       "<Figure size 432x288 with 1 Axes>"
      ]
     },
     "metadata": {
      "needs_background": "light"
     },
     "output_type": "display_data"
    }
   ],
   "source": [
    "plt.title(\"x축 위치표시\")\n",
    "plt.plot([[10,20,30,40,],[20,40,50,60]])\n",
    "plt.show()\n",
    "\n",
    "#show()명령은 시각화 명령을 실제로 차트로 렌더링하고 마우스의 동작을 기다리라는 명령이다. jupyter notebook "
   ]
  },
  {
   "cell_type": "markdown",
   "metadata": {},
   "source": [
    "### 그래프 범위지정\n",
    "그래프를 보면 몇몇점들을 그래프 범위 경계서내에 잇어 잘 보이지 않는 경우가 있을 수 잇다. 이럴 경우 그래프의 범위를 수동으로 지정할 경우 xlim(), ylim() 함수를 사용한다. \n",
    "\n",
    "이 명령은 그래프의 범위가 되는 x축, y축의 최솟값가 최대값을 지정한다. "
   ]
  },
  {
   "cell_type": "code",
   "execution_count": 8,
   "metadata": {},
   "outputs": [
    {
     "data": {
      "image/png": "[encoded data removed]",
      "text/plain": [
       "<Figure size 432x288 with 1 Axes>"
      ]
     },
     "metadata": {
      "needs_background": "light"
     },
     "output_type": "display_data"
    }
   ],
   "source": [
    "# 스타일 지정(fmt 옵션)\n",
    "# 스타일 문자열은 색상, 마커, 선종료 순서로 지정\n",
    "# 만약에 이중에 일부값이 생략되면 기본값이 적용된다. \n",
    "#plt.plot?\n",
    "\n",
    "plt.title(\"rs -- : style\")\n",
    "plt.plot([10,11,9,5,4,20],'ys--',lw=1,ls=\"--\",marker='o',ms=15, mec=\"g\",mew=5,mfc=\"r\")\n",
    "plt.grid(True)\n",
    "#plt.xlim(0,50)\n",
    "plt.ylim(-10,30)\n",
    "plt.show()"
   ]
  },
  {
   "cell_type": "markdown",
   "metadata": {},
   "source": [
    "### 틱(tick) 설정\n",
    "\n",
    "그래프에서 축상의 위치표시지점을 tick이라고 한다. 이 틱에 쓰여진 숫자 혹은 글자를 틱라벨(tick Label)이라고 한다.  틱의 위치나 틱라벨은 Matplotlibㅇ에서 자동으로 정해주지만 수동으로 설정하고자 할 경우에는 xticks, yticks함수를 사용한다. "
   ]
  },
  {
   "cell_type": "code",
   "execution_count": 9,
   "metadata": {},
   "outputs": [
    {
     "ename": "TypeError",
     "evalue": "linspace() missing 2 required positional arguments: 'start' and 'stop'",
     "output_type": "error",
     "traceback": [
      "\u001b[1;31m---------------------------------------------------------------------------\u001b[0m",
      "\u001b[1;31mTypeError\u001b[0m                                 Traceback (most recent call last)",
      "\u001b[1;32m<ipython-input-9-4768d9ebb961>\u001b[0m in \u001b[0;36m<module>\u001b[1;34m\u001b[0m\n\u001b[0;32m      1\u001b[0m \u001b[1;31m# x, y 틱라벨 설정하기\u001b[0m\u001b[1;33m\u001b[0m\u001b[1;33m\u001b[0m\u001b[1;33m\u001b[0m\u001b[0m\n\u001b[1;32m----> 2\u001b[1;33m \u001b[0mx\u001b[0m \u001b[1;33m=\u001b[0m \u001b[0mnp\u001b[0m\u001b[1;33m.\u001b[0m\u001b[0mlinspace\u001b[0m\u001b[1;33m(\u001b[0m\u001b[1;33m)\u001b[0m\u001b[1;33m\u001b[0m\u001b[1;33m\u001b[0m\u001b[0m\n\u001b[0m",
      "\u001b[1;31mTypeError\u001b[0m: linspace() missing 2 required positional arguments: 'start' and 'stop'"
     ]
    }
   ],
   "source": [
    "# x, y 틱라벨 설정하기\n",
    "x = np.linspace()"
   ]
  },
  {
   "cell_type": "markdown",
   "metadata": {},
   "source": [
    "### DataFrame"
   ]
  },
  {
   "cell_type": "code",
   "execution_count": 19,
   "metadata": {},
   "outputs": [
    {
     "name": "stdout",
     "output_type": "stream",
     "text": [
      "   0  1  2\n",
      "0  1  2  3\n",
      "1  4  5  6\n",
      "2  7  8  9\n",
      "<class 'pandas.core.frame.DataFrame'>\n",
      "[[10, 20, 30], [40, 50, 60], [70, 80, 90]]\n"
     ]
    },
    {
     "data": {
      "text/plain": [
       "<matplotlib.axes._subplots.AxesSubplot at 0x234c48eae88>"
      ]
     },
     "execution_count": 19,
     "metadata": {},
     "output_type": "execute_result"
    },
    {
     "data": {
      "image/png": "[encoded data removed]",
      "text/plain": [
       "<Figure size 432x288 with 1 Axes>"
      ]
     },
     "metadata": {
      "needs_background": "light"
     },
     "output_type": "display_data"
    }
   ],
   "source": [
    "# 1. DataFrame생성(1) - 리스트자료형으로 DataFrame을 생성\n",
    "# 테이블형식의 2차원배열(정확하게는 행렬(Martix))\n",
    "a = pd.DataFrame([[1,2,3],[4,5,6],[7,8,9]])\n",
    "print(a) #DataFrame 으로써 인덱스와 컬럼이 있음 / 그래프 그릴 수 있음\n",
    "print(type(a))\n",
    "# print(dir(a))\n",
    "\n",
    "b = [[10,20,30],[40,50,60],[70,80,90]]\n",
    "print(b) # 2차원 배열로 값만 있음\n",
    "\n",
    "a.plot()\n",
    "#b.plot() #list로는 그래프를 그릴 수 없다.\n",
    "#print(dir(a))"
   ]
  },
  {
   "cell_type": "code",
   "execution_count": 27,
   "metadata": {},
   "outputs": [
    {
     "name": "stdout",
     "output_type": "stream",
     "text": [
      "60\n",
      "60\n"
     ]
    }
   ],
   "source": [
    "# 2. DataFrame생성(2) - 딕셔너리 자료형으로 DataFrame을 생성\n",
    "#pd.DataFrame?\n",
    "\n",
    "tbl = pd.DataFrame({\n",
    "    'weight':[60,60,60,60,60], # weight / high / gender가 칼럼이 됨\n",
    "    'high':[161,160,168,183,158],\n",
    "    'gender':['F','F','M','F','M'],\n",
    "},index=['hamjin','hamsun','hamsang','hamho','kwonyoung']) \n",
    "\n",
    "# hamjin 체중 접근\n",
    "print(tbl['weight']['hamjin']) # tbl[칼럼명][인덱스] 로 접근\n",
    "print(tbl.weight.hamjin)"
   ]
  },
  {
   "cell_type": "code",
   "execution_count": 31,
   "metadata": {},
   "outputs": [
    {
     "name": "stdout",
     "output_type": "stream",
     "text": [
      "hamjin       False\n",
      "hamsun       False\n",
      "hamsang       True\n",
      "hamho        False\n",
      "kwonyoung     True\n",
      "Name: gender, dtype: bool\n",
      "==================================================\n",
      "           weight  high gender\n",
      "hamsang        60   168      M\n",
      "kwonyoung      60   158      M\n"
     ]
    }
   ],
   "source": [
    "#성별이 남자인 사람만 출력\n",
    "print(tbl.gender == 'M')\n",
    "print('='*50)\n",
    "print(tbl[tbl.gender == 'M'])"
   ]
  },
  {
   "cell_type": "code",
   "execution_count": 38,
   "metadata": {},
   "outputs": [
    {
     "data": {
      "text/plain": [
       "<matplotlib.axes._subplots.AxesSubplot at 0x234c467fec8>"
      ]
     },
     "execution_count": 38,
     "metadata": {},
     "output_type": "execute_result"
    },
    {
     "data": {
      "image/png": "[encoded data removed]",
      "text/plain": [
       "<Figure size 432x288 with 1 Axes>"
      ]
     },
     "metadata": {
      "needs_background": "light"
     },
     "output_type": "display_data"
    }
   ],
   "source": [
    "#신장이 165 이상인 사람만 추출\n",
    "tall = tbl[tbl.high > 165]\n",
    "tall.plot(kind=\"barh\")"
   ]
  },
  {
   "cell_type": "code",
   "execution_count": null,
   "metadata": {},
   "outputs": [],
   "source": [
    "# 3. DataFrame 생성(3) - Numpy Array 로 전달 받아서 생성\n",
    "dates = pd.date_range('20190101',periods=6, freq='D')\n",
    "print(dates)\n",
    "\n",
    "df = pd.DataFrame(np.random.randn(6,4),index=dates, columns=list('ABCD'))\n",
    "df\n",
    "\n",
    "data = {'names':['hamjin','hamsun','hamsang','hamho','kwonyoung'],\n",
    "       'year':[2015,2016,2017,2018,2019],\n",
    "        'points':[1.5,4.5,5,3.6,5]\n",
    "       }\n",
    "data"
   ]
  },
  {
   "cell_type": "code",
   "execution_count": 57,
   "metadata": {},
   "outputs": [
    {
     "name": "stdout",
     "output_type": "stream",
     "text": [
      "DatetimeIndex(['2019-01-01', '2019-01-02', '2019-01-03', '2019-01-04',\n",
      "               '2019-01-05', '2019-01-06'],\n",
      "              dtype='datetime64[ns]', freq='D')\n",
      "<bound method NDFrame.describe of                                    names  year  points\n",
      "1970-01-01 00:00:00.020191201     hamjin  2015     1.5\n",
      "1970-01-02 00:00:00.020191201     hamsun  2016     4.5\n",
      "1970-01-03 00:00:00.020191201    hamsang  2017     5.0\n",
      "1970-01-04 00:00:00.020191201      hamho  2018     3.6\n",
      "1970-01-05 00:00:00.020191201  kwonyoung  2019     5.0>\n",
      "              year    points\n",
      "count     5.000000  5.000000\n",
      "mean   2017.000000  3.920000\n",
      "std       1.581139  1.468673\n",
      "min    2015.000000  1.500000\n",
      "25%    2016.000000  3.600000\n",
      "50%    2017.000000  4.500000\n",
      "75%    2018.000000  5.000000\n",
      "max    2019.000000  5.000000\n"
     ]
    }
   ],
   "source": [
    "df = pd.DataFrame(data,pd.date_range(20191201, periods=5))  #date_range 가 인덱스 / name ,year, point 가 컬럼\n",
    "# df.shape  # df 크기 알려줌\n",
    "print(df.describe) # 기존 입력한 자료 출력\n",
    "print(df.describe())  # 입력 자료에 대한 통계가 나옴\n",
    "# describe() : 기초통계정보를 출력\n",
    "# count : 자료갯수\n",
    "# mean : 평균\n",
    "# srd : 표준편차\n",
    "# min\n",
    "# max\n",
    "# 25%-75% : 4분위 수 "
   ]
  },
  {
   "cell_type": "code",
   "execution_count": null,
   "metadata": {},
   "outputs": [],
   "source": [
    "# 데이터프레임의 값만 출력 \n",
    "df.values"
   ]
  },
  {
   "cell_type": "code",
   "execution_count": 74,
   "metadata": {},
   "outputs": [
    {
     "name": "stdout",
     "output_type": "stream",
     "text": [
      "{'names': ['hamjin', 'hamsun', 'hamsang', 'hamho', 'kwonyoung'], 'year': [2015, 2016, 2017, 2018, 2019], 'points': [1.5, 4.5, 5, 3.6, 5]}\n"
     ]
    },
    {
     "data": {
      "text/html": [
       "<div>\n",
       "<style scoped>\n",
       "    .dataframe tbody tr th:only-of-type {\n",
       "        vertical-align: middle;\n",
       "    }\n",
       "\n",
       "    .dataframe tbody tr th {\n",
       "        vertical-align: top;\n",
       "    }\n",
       "\n",
       "    .dataframe thead th {\n",
       "        text-align: right;\n",
       "    }\n",
       "</style>\n",
       "<table border=\"1\" class=\"dataframe\">\n",
       "  <thead>\n",
       "    <tr style=\"text-align: right;\">\n",
       "      <th></th>\n",
       "      <th>names</th>\n",
       "      <th>year</th>\n",
       "      <th>points</th>\n",
       "      <th>penalty</th>\n",
       "    </tr>\n",
       "  </thead>\n",
       "  <tbody>\n",
       "    <tr>\n",
       "      <td>JEN</td>\n",
       "      <td>hamjin</td>\n",
       "      <td>2015</td>\n",
       "      <td>1.5</td>\n",
       "      <td>NaN</td>\n",
       "    </tr>\n",
       "    <tr>\n",
       "      <td>FEB</td>\n",
       "      <td>hamsun</td>\n",
       "      <td>2016</td>\n",
       "      <td>4.5</td>\n",
       "      <td>NaN</td>\n",
       "    </tr>\n",
       "    <tr>\n",
       "      <td>MAR</td>\n",
       "      <td>hamsang</td>\n",
       "      <td>2017</td>\n",
       "      <td>5.0</td>\n",
       "      <td>NaN</td>\n",
       "    </tr>\n",
       "    <tr>\n",
       "      <td>APR</td>\n",
       "      <td>hamho</td>\n",
       "      <td>2018</td>\n",
       "      <td>3.6</td>\n",
       "      <td>NaN</td>\n",
       "    </tr>\n",
       "    <tr>\n",
       "      <td>MAY</td>\n",
       "      <td>kwonyoung</td>\n",
       "      <td>2019</td>\n",
       "      <td>5.0</td>\n",
       "      <td>NaN</td>\n",
       "    </tr>\n",
       "  </tbody>\n",
       "</table>\n",
       "</div>"
      ],
      "text/plain": [
       "         names  year  points penalty\n",
       "JEN     hamjin  2015     1.5     NaN\n",
       "FEB     hamsun  2016     4.5     NaN\n",
       "MAR    hamsang  2017     5.0     NaN\n",
       "APR      hamho  2018     3.6     NaN\n",
       "MAY  kwonyoung  2019     5.0     NaN"
      ]
     },
     "execution_count": 74,
     "metadata": {},
     "output_type": "execute_result"
    }
   ],
   "source": [
    "# 4. DataFrame생성(4) - index와 columns를 직접 설정\n",
    "print(data)\n",
    "df = pd.DataFrame(data,\n",
    "                 columns=['names','year','points','penalty'], #컬럼추가 컬럼은 추가 가능하나 NaN으로 추가됨.\n",
    "                 index=['JEN','FEB','MAR','APR','MAY'])    #index는 추가불가 -error\n",
    "df"
   ]
  },
  {
   "cell_type": "code",
   "execution_count": null,
   "metadata": {},
   "outputs": [],
   "source": [
    "# 인덱스, 컬럼, 값을 출력\n",
    "print(df.index)\n",
    "print(df.columns)\n",
    "print(df.values)"
   ]
  },
  {
   "cell_type": "code",
   "execution_count": 68,
   "metadata": {},
   "outputs": [
    {
     "name": "stdout",
     "output_type": "stream",
     "text": [
      "JEN       hamjin\n",
      "FEB       hamsun\n",
      "MAR      hamsang\n",
      "APR        hamho\n",
      "MAY    kwonyoung\n",
      "Name: names, dtype: object\n",
      "JEN    2015\n",
      "FEB    2016\n",
      "MAR    2017\n",
      "APR    2018\n",
      "MAY    2019\n",
      "Name: year, dtype: int64\n"
     ]
    }
   ],
   "source": [
    "# 특정컬럼만 출력\n",
    "print(df.names)\n",
    "print(df.year)"
   ]
  },
  {
   "cell_type": "code",
   "execution_count": 69,
   "metadata": {},
   "outputs": [
    {
     "data": {
      "text/html": [
       "<div>\n",
       "<style scoped>\n",
       "    .dataframe tbody tr th:only-of-type {\n",
       "        vertical-align: middle;\n",
       "    }\n",
       "\n",
       "    .dataframe tbody tr th {\n",
       "        vertical-align: top;\n",
       "    }\n",
       "\n",
       "    .dataframe thead th {\n",
       "        text-align: right;\n",
       "    }\n",
       "</style>\n",
       "<table border=\"1\" class=\"dataframe\">\n",
       "  <thead>\n",
       "    <tr style=\"text-align: right;\">\n",
       "      <th></th>\n",
       "      <th>year</th>\n",
       "      <th>names</th>\n",
       "    </tr>\n",
       "  </thead>\n",
       "  <tbody>\n",
       "    <tr>\n",
       "      <td>JEN</td>\n",
       "      <td>2015</td>\n",
       "      <td>hamjin</td>\n",
       "    </tr>\n",
       "    <tr>\n",
       "      <td>FEB</td>\n",
       "      <td>2016</td>\n",
       "      <td>hamsun</td>\n",
       "    </tr>\n",
       "    <tr>\n",
       "      <td>MAR</td>\n",
       "      <td>2017</td>\n",
       "      <td>hamsang</td>\n",
       "    </tr>\n",
       "    <tr>\n",
       "      <td>APR</td>\n",
       "      <td>2018</td>\n",
       "      <td>hamho</td>\n",
       "    </tr>\n",
       "    <tr>\n",
       "      <td>MAY</td>\n",
       "      <td>2019</td>\n",
       "      <td>kwonyoung</td>\n",
       "    </tr>\n",
       "  </tbody>\n",
       "</table>\n",
       "</div>"
      ],
      "text/plain": [
       "     year      names\n",
       "JEN  2015     hamjin\n",
       "FEB  2016     hamsun\n",
       "MAR  2017    hamsang\n",
       "APR  2018      hamho\n",
       "MAY  2019  kwonyoung"
      ]
     },
     "execution_count": 69,
     "metadata": {},
     "output_type": "execute_result"
    }
   ],
   "source": [
    "# 년도 , 이름만 출력 : 2개이상의 값을 출력 대괄호를 2개 [[col1,....coln]]\n",
    "#즉, 리스트안에 리스트형태 wjddml \n",
    "df[['year','names']]"
   ]
  },
  {
   "cell_type": "code",
   "execution_count": 76,
   "metadata": {},
   "outputs": [
    {
     "data": {
      "text/html": [
       "<div>\n",
       "<style scoped>\n",
       "    .dataframe tbody tr th:only-of-type {\n",
       "        vertical-align: middle;\n",
       "    }\n",
       "\n",
       "    .dataframe tbody tr th {\n",
       "        vertical-align: top;\n",
       "    }\n",
       "\n",
       "    .dataframe thead th {\n",
       "        text-align: right;\n",
       "    }\n",
       "</style>\n",
       "<table border=\"1\" class=\"dataframe\">\n",
       "  <thead>\n",
       "    <tr style=\"text-align: right;\">\n",
       "      <th></th>\n",
       "      <th>names</th>\n",
       "      <th>year</th>\n",
       "      <th>points</th>\n",
       "      <th>penalty</th>\n",
       "    </tr>\n",
       "  </thead>\n",
       "  <tbody>\n",
       "    <tr>\n",
       "      <td>JEN</td>\n",
       "      <td>hamjin</td>\n",
       "      <td>2015</td>\n",
       "      <td>1.5</td>\n",
       "      <td>0.7</td>\n",
       "    </tr>\n",
       "    <tr>\n",
       "      <td>FEB</td>\n",
       "      <td>hamsun</td>\n",
       "      <td>2016</td>\n",
       "      <td>4.5</td>\n",
       "      <td>0.7</td>\n",
       "    </tr>\n",
       "    <tr>\n",
       "      <td>MAR</td>\n",
       "      <td>hamsang</td>\n",
       "      <td>2017</td>\n",
       "      <td>5.0</td>\n",
       "      <td>0.7</td>\n",
       "    </tr>\n",
       "    <tr>\n",
       "      <td>APR</td>\n",
       "      <td>hamho</td>\n",
       "      <td>2018</td>\n",
       "      <td>3.6</td>\n",
       "      <td>0.7</td>\n",
       "    </tr>\n",
       "    <tr>\n",
       "      <td>MAY</td>\n",
       "      <td>kwonyoung</td>\n",
       "      <td>2019</td>\n",
       "      <td>5.0</td>\n",
       "      <td>0.7</td>\n",
       "    </tr>\n",
       "  </tbody>\n",
       "</table>\n",
       "</div>"
      ],
      "text/plain": [
       "         names  year  points  penalty\n",
       "JEN     hamjin  2015     1.5      0.7\n",
       "FEB     hamsun  2016     4.5      0.7\n",
       "MAR    hamsang  2017     5.0      0.7\n",
       "APR      hamho  2018     3.6      0.7\n",
       "MAY  kwonyoung  2019     5.0      0.7"
      ]
     },
     "execution_count": 76,
     "metadata": {},
     "output_type": "execute_result"
    }
   ],
   "source": [
    "# NaN(결측치)인 값을 특정 값으로 지정.\n",
    "# df['컬럼명'] = value or df.컬럼명 = value\n",
    "df.penalty = 1.7\n",
    "df\n",
    "df.penalty = 0.7\n",
    "df"
   ]
  },
  {
   "cell_type": "code",
   "execution_count": 78,
   "metadata": {},
   "outputs": [
    {
     "data": {
      "text/html": [
       "<div>\n",
       "<style scoped>\n",
       "    .dataframe tbody tr th:only-of-type {\n",
       "        vertical-align: middle;\n",
       "    }\n",
       "\n",
       "    .dataframe tbody tr th {\n",
       "        vertical-align: top;\n",
       "    }\n",
       "\n",
       "    .dataframe thead th {\n",
       "        text-align: right;\n",
       "    }\n",
       "</style>\n",
       "<table border=\"1\" class=\"dataframe\">\n",
       "  <thead>\n",
       "    <tr style=\"text-align: right;\">\n",
       "      <th></th>\n",
       "      <th>names</th>\n",
       "      <th>year</th>\n",
       "      <th>points</th>\n",
       "      <th>penalty</th>\n",
       "      <th>addValue</th>\n",
       "    </tr>\n",
       "  </thead>\n",
       "  <tbody>\n",
       "    <tr>\n",
       "      <td>JEN</td>\n",
       "      <td>hamjin</td>\n",
       "      <td>2015</td>\n",
       "      <td>1.5</td>\n",
       "      <td>0.7</td>\n",
       "      <td>2.7</td>\n",
       "    </tr>\n",
       "    <tr>\n",
       "      <td>FEB</td>\n",
       "      <td>hamsun</td>\n",
       "      <td>2016</td>\n",
       "      <td>4.5</td>\n",
       "      <td>0.7</td>\n",
       "      <td>2.7</td>\n",
       "    </tr>\n",
       "    <tr>\n",
       "      <td>MAR</td>\n",
       "      <td>hamsang</td>\n",
       "      <td>2017</td>\n",
       "      <td>5.0</td>\n",
       "      <td>0.7</td>\n",
       "      <td>2.7</td>\n",
       "    </tr>\n",
       "    <tr>\n",
       "      <td>APR</td>\n",
       "      <td>hamho</td>\n",
       "      <td>2018</td>\n",
       "      <td>3.6</td>\n",
       "      <td>0.7</td>\n",
       "      <td>2.7</td>\n",
       "    </tr>\n",
       "    <tr>\n",
       "      <td>MAY</td>\n",
       "      <td>kwonyoung</td>\n",
       "      <td>2019</td>\n",
       "      <td>5.0</td>\n",
       "      <td>0.7</td>\n",
       "      <td>2.7</td>\n",
       "    </tr>\n",
       "  </tbody>\n",
       "</table>\n",
       "</div>"
      ],
      "text/plain": [
       "         names  year  points  penalty  addValue\n",
       "JEN     hamjin  2015     1.5      0.7       2.7\n",
       "FEB     hamsun  2016     4.5      0.7       2.7\n",
       "MAR    hamsang  2017     5.0      0.7       2.7\n",
       "APR      hamho  2018     3.6      0.7       2.7\n",
       "MAY  kwonyoung  2019     5.0      0.7       2.7"
      ]
     },
     "execution_count": 78,
     "metadata": {},
     "output_type": "execute_result"
    }
   ],
   "source": [
    "# 1. 컬럼이 없을 경우 자동으로 추가하기\n",
    "df['addValue']=2.7\n",
    "df"
   ]
  },
  {
   "cell_type": "code",
   "execution_count": 79,
   "metadata": {},
   "outputs": [
    {
     "data": {
      "text/html": [
       "<div>\n",
       "<style scoped>\n",
       "    .dataframe tbody tr th:only-of-type {\n",
       "        vertical-align: middle;\n",
       "    }\n",
       "\n",
       "    .dataframe tbody tr th {\n",
       "        vertical-align: top;\n",
       "    }\n",
       "\n",
       "    .dataframe thead th {\n",
       "        text-align: right;\n",
       "    }\n",
       "</style>\n",
       "<table border=\"1\" class=\"dataframe\">\n",
       "  <thead>\n",
       "    <tr style=\"text-align: right;\">\n",
       "      <th></th>\n",
       "      <th>names</th>\n",
       "      <th>year</th>\n",
       "      <th>points</th>\n",
       "      <th>penalty</th>\n",
       "      <th>addValue</th>\n",
       "      <th>age</th>\n",
       "    </tr>\n",
       "  </thead>\n",
       "  <tbody>\n",
       "    <tr>\n",
       "      <td>JEN</td>\n",
       "      <td>hamjin</td>\n",
       "      <td>2015</td>\n",
       "      <td>1.5</td>\n",
       "      <td>0.7</td>\n",
       "      <td>2.7</td>\n",
       "      <td>10</td>\n",
       "    </tr>\n",
       "    <tr>\n",
       "      <td>FEB</td>\n",
       "      <td>hamsun</td>\n",
       "      <td>2016</td>\n",
       "      <td>4.5</td>\n",
       "      <td>0.7</td>\n",
       "      <td>2.7</td>\n",
       "      <td>11</td>\n",
       "    </tr>\n",
       "    <tr>\n",
       "      <td>MAR</td>\n",
       "      <td>hamsang</td>\n",
       "      <td>2017</td>\n",
       "      <td>5.0</td>\n",
       "      <td>0.7</td>\n",
       "      <td>2.7</td>\n",
       "      <td>12</td>\n",
       "    </tr>\n",
       "    <tr>\n",
       "      <td>APR</td>\n",
       "      <td>hamho</td>\n",
       "      <td>2018</td>\n",
       "      <td>3.6</td>\n",
       "      <td>0.7</td>\n",
       "      <td>2.7</td>\n",
       "      <td>13</td>\n",
       "    </tr>\n",
       "    <tr>\n",
       "      <td>MAY</td>\n",
       "      <td>kwonyoung</td>\n",
       "      <td>2019</td>\n",
       "      <td>5.0</td>\n",
       "      <td>0.7</td>\n",
       "      <td>2.7</td>\n",
       "      <td>14</td>\n",
       "    </tr>\n",
       "  </tbody>\n",
       "</table>\n",
       "</div>"
      ],
      "text/plain": [
       "         names  year  points  penalty  addValue  age\n",
       "JEN     hamjin  2015     1.5      0.7       2.7   10\n",
       "FEB     hamsun  2016     4.5      0.7       2.7   11\n",
       "MAR    hamsang  2017     5.0      0.7       2.7   12\n",
       "APR      hamho  2018     3.6      0.7       2.7   13\n",
       "MAY  kwonyoung  2019     5.0      0.7       2.7   14"
      ]
     },
     "execution_count": 79,
     "metadata": {},
     "output_type": "execute_result"
    }
   ],
   "source": [
    "# 2. 컬럼추가(2)\n",
    "# np.arrange(start, end, stop)\n",
    "df['age'] = np.arange(10,15)\n",
    "df"
   ]
  },
  {
   "cell_type": "code",
   "execution_count": 81,
   "metadata": {},
   "outputs": [
    {
     "data": {
      "text/html": [
       "<div>\n",
       "<style scoped>\n",
       "    .dataframe tbody tr th:only-of-type {\n",
       "        vertical-align: middle;\n",
       "    }\n",
       "\n",
       "    .dataframe tbody tr th {\n",
       "        vertical-align: top;\n",
       "    }\n",
       "\n",
       "    .dataframe thead th {\n",
       "        text-align: right;\n",
       "    }\n",
       "</style>\n",
       "<table border=\"1\" class=\"dataframe\">\n",
       "  <thead>\n",
       "    <tr style=\"text-align: right;\">\n",
       "      <th></th>\n",
       "      <th>names</th>\n",
       "      <th>year</th>\n",
       "      <th>points</th>\n",
       "      <th>addValue</th>\n",
       "      <th>age</th>\n",
       "    </tr>\n",
       "  </thead>\n",
       "  <tbody>\n",
       "    <tr>\n",
       "      <td>JEN</td>\n",
       "      <td>hamjin</td>\n",
       "      <td>2015</td>\n",
       "      <td>1.5</td>\n",
       "      <td>2.7</td>\n",
       "      <td>10</td>\n",
       "    </tr>\n",
       "    <tr>\n",
       "      <td>FEB</td>\n",
       "      <td>hamsun</td>\n",
       "      <td>2016</td>\n",
       "      <td>4.5</td>\n",
       "      <td>2.7</td>\n",
       "      <td>11</td>\n",
       "    </tr>\n",
       "    <tr>\n",
       "      <td>MAR</td>\n",
       "      <td>hamsang</td>\n",
       "      <td>2017</td>\n",
       "      <td>5.0</td>\n",
       "      <td>2.7</td>\n",
       "      <td>12</td>\n",
       "    </tr>\n",
       "    <tr>\n",
       "      <td>APR</td>\n",
       "      <td>hamho</td>\n",
       "      <td>2018</td>\n",
       "      <td>3.6</td>\n",
       "      <td>2.7</td>\n",
       "      <td>13</td>\n",
       "    </tr>\n",
       "    <tr>\n",
       "      <td>MAY</td>\n",
       "      <td>kwonyoung</td>\n",
       "      <td>2019</td>\n",
       "      <td>5.0</td>\n",
       "      <td>2.7</td>\n",
       "      <td>14</td>\n",
       "    </tr>\n",
       "  </tbody>\n",
       "</table>\n",
       "</div>"
      ],
      "text/plain": [
       "         names  year  points  addValue  age\n",
       "JEN     hamjin  2015     1.5       2.7   10\n",
       "FEB     hamsun  2016     4.5       2.7   11\n",
       "MAR    hamsang  2017     5.0       2.7   12\n",
       "APR      hamho  2018     3.6       2.7   13\n",
       "MAY  kwonyoung  2019     5.0       2.7   14"
      ]
     },
     "execution_count": 81,
     "metadata": {},
     "output_type": "execute_result"
    }
   ],
   "source": [
    "# 3. 컬럼 삭제하기\n",
    "# df.drop([col1....coln],axis) : axis = 0(행) / axis = 1(열)\n",
    "df = df.drop(['penalty'],1)\n",
    "df"
   ]
  },
  {
   "cell_type": "code",
   "execution_count": 82,
   "metadata": {},
   "outputs": [
    {
     "data": {
      "text/html": [
       "<div>\n",
       "<style scoped>\n",
       "    .dataframe tbody tr th:only-of-type {\n",
       "        vertical-align: middle;\n",
       "    }\n",
       "\n",
       "    .dataframe tbody tr th {\n",
       "        vertical-align: top;\n",
       "    }\n",
       "\n",
       "    .dataframe thead th {\n",
       "        text-align: right;\n",
       "    }\n",
       "</style>\n",
       "<table border=\"1\" class=\"dataframe\">\n",
       "  <thead>\n",
       "    <tr style=\"text-align: right;\">\n",
       "      <th></th>\n",
       "      <th>names</th>\n",
       "      <th>year</th>\n",
       "      <th>points</th>\n",
       "      <th>addValue</th>\n",
       "    </tr>\n",
       "  </thead>\n",
       "  <tbody>\n",
       "    <tr>\n",
       "      <td>JEN</td>\n",
       "      <td>hamjin</td>\n",
       "      <td>2015</td>\n",
       "      <td>1.5</td>\n",
       "      <td>2.7</td>\n",
       "    </tr>\n",
       "    <tr>\n",
       "      <td>FEB</td>\n",
       "      <td>hamsun</td>\n",
       "      <td>2016</td>\n",
       "      <td>4.5</td>\n",
       "      <td>2.7</td>\n",
       "    </tr>\n",
       "    <tr>\n",
       "      <td>MAR</td>\n",
       "      <td>hamsang</td>\n",
       "      <td>2017</td>\n",
       "      <td>5.0</td>\n",
       "      <td>2.7</td>\n",
       "    </tr>\n",
       "    <tr>\n",
       "      <td>APR</td>\n",
       "      <td>hamho</td>\n",
       "      <td>2018</td>\n",
       "      <td>3.6</td>\n",
       "      <td>2.7</td>\n",
       "    </tr>\n",
       "    <tr>\n",
       "      <td>MAY</td>\n",
       "      <td>kwonyoung</td>\n",
       "      <td>2019</td>\n",
       "      <td>5.0</td>\n",
       "      <td>2.7</td>\n",
       "    </tr>\n",
       "  </tbody>\n",
       "</table>\n",
       "</div>"
      ],
      "text/plain": [
       "         names  year  points  addValue\n",
       "JEN     hamjin  2015     1.5       2.7\n",
       "FEB     hamsun  2016     4.5       2.7\n",
       "MAR    hamsang  2017     5.0       2.7\n",
       "APR      hamho  2018     3.6       2.7\n",
       "MAY  kwonyoung  2019     5.0       2.7"
      ]
     },
     "execution_count": 82,
     "metadata": {},
     "output_type": "execute_result"
    }
   ],
   "source": [
    "# 4. 컬럼삭제하기(2) - del 명령어 사용하기\n",
    "del df['age'] # del df.age 컬럼으로 불가\n",
    "df"
   ]
  },
  {
   "cell_type": "code",
   "execution_count": 84,
   "metadata": {},
   "outputs": [
    {
     "data": {
      "text/html": [
       "<div>\n",
       "<style scoped>\n",
       "    .dataframe tbody tr th:only-of-type {\n",
       "        vertical-align: middle;\n",
       "    }\n",
       "\n",
       "    .dataframe tbody tr th {\n",
       "        vertical-align: top;\n",
       "    }\n",
       "\n",
       "    .dataframe thead th {\n",
       "        text-align: right;\n",
       "    }\n",
       "</style>\n",
       "<table border=\"1\" class=\"dataframe\">\n",
       "  <thead>\n",
       "    <tr style=\"text-align: right;\">\n",
       "      <th></th>\n",
       "      <th>names</th>\n",
       "      <th>year</th>\n",
       "      <th>points</th>\n",
       "    </tr>\n",
       "  </thead>\n",
       "  <tbody>\n",
       "    <tr>\n",
       "      <td>MON</td>\n",
       "      <td>hamjin</td>\n",
       "      <td>2015</td>\n",
       "      <td>1.5</td>\n",
       "    </tr>\n",
       "    <tr>\n",
       "      <td>TUS</td>\n",
       "      <td>hamsun</td>\n",
       "      <td>2016</td>\n",
       "      <td>4.5</td>\n",
       "    </tr>\n",
       "    <tr>\n",
       "      <td>WED</td>\n",
       "      <td>hamsang</td>\n",
       "      <td>2017</td>\n",
       "      <td>5.0</td>\n",
       "    </tr>\n",
       "    <tr>\n",
       "      <td>TUR</td>\n",
       "      <td>hamho</td>\n",
       "      <td>2018</td>\n",
       "      <td>3.6</td>\n",
       "    </tr>\n",
       "    <tr>\n",
       "      <td>FRI</td>\n",
       "      <td>kwonyoung</td>\n",
       "      <td>2019</td>\n",
       "      <td>5.0</td>\n",
       "    </tr>\n",
       "  </tbody>\n",
       "</table>\n",
       "</div>"
      ],
      "text/plain": [
       "         names  year  points\n",
       "MON     hamjin  2015     1.5\n",
       "TUS     hamsun  2016     4.5\n",
       "WED    hamsang  2017     5.0\n",
       "TUR      hamho  2018     3.6\n",
       "FRI  kwonyoung  2019     5.0"
      ]
     },
     "execution_count": 84,
     "metadata": {},
     "output_type": "execute_result"
    }
   ],
   "source": [
    "# 인덱스를 변경\n",
    "df = pd.DataFrame(data, index=['MON','TUS','WED','TUR','FRI'])\n",
    "df"
   ]
  },
  {
   "cell_type": "code",
   "execution_count": 86,
   "metadata": {},
   "outputs": [
    {
     "data": {
      "text/html": [
       "<div>\n",
       "<style scoped>\n",
       "    .dataframe tbody tr th:only-of-type {\n",
       "        vertical-align: middle;\n",
       "    }\n",
       "\n",
       "    .dataframe tbody tr th {\n",
       "        vertical-align: top;\n",
       "    }\n",
       "\n",
       "    .dataframe thead th {\n",
       "        text-align: right;\n",
       "    }\n",
       "</style>\n",
       "<table border=\"1\" class=\"dataframe\">\n",
       "  <thead>\n",
       "    <tr style=\"text-align: right;\">\n",
       "      <th></th>\n",
       "      <th>names</th>\n",
       "      <th>year</th>\n",
       "      <th>points</th>\n",
       "    </tr>\n",
       "  </thead>\n",
       "  <tbody>\n",
       "    <tr>\n",
       "      <td>MON</td>\n",
       "      <td>hamjin</td>\n",
       "      <td>2015</td>\n",
       "      <td>1.5</td>\n",
       "    </tr>\n",
       "    <tr>\n",
       "      <td>TUS</td>\n",
       "      <td>hamsun</td>\n",
       "      <td>2016</td>\n",
       "      <td>4.5</td>\n",
       "    </tr>\n",
       "  </tbody>\n",
       "</table>\n",
       "</div>"
      ],
      "text/plain": [
       "      names  year  points\n",
       "MON  hamjin  2015     1.5\n",
       "TUS  hamsun  2016     4.5"
      ]
     },
     "execution_count": 86,
     "metadata": {},
     "output_type": "execute_result"
    }
   ],
   "source": [
    "#DF에서 슬라이싱과 인덱싱\n",
    "# 인덱스명으로도 접근할 수 있고, 숫자인덱스로도 접근 가능\n",
    "df[0:2]"
   ]
  },
  {
   "cell_type": "markdown",
   "metadata": {},
   "source": [
    "### Pandas 기본함수\n",
    "\n",
    "* csv load /save\n",
    "- df = pd.read.csv('./data/filename.csv')\n",
    "- df.to_csv('filename',index=false)\n",
    "\n",
    "* DataFrame 데이터 확인\n",
    "- df.shape()\n",
    "- df.info()\n",
    "- df.colums\n",
    "- df.dtypes\n",
    "- df.head()\n",
    "- df.tail()\n",
    "\n",
    "* 각 열마다 Null갯수 확인\n",
    "- df.isnull(),sum()\n",
    "\n",
    "* 컬럼의 unique한 값 확인\n",
    "- df.컬럼명.unique()\n",
    "\n",
    "* 특정 컬럼 / 행 삭제\n",
    "- df = df.drop([컬럼명],axis=1)\n",
    "- df = df.drop([행])\n",
    "\n",
    "* 특정컬럼이름 변경\n",
    "- df = df.rename(columns=['A':'B'])\n",
    "\n",
    "* 특정컬럼의 값을 새로운 컬럼 만들기\n",
    "- df['A'] = df['B'].str[:5] : 왼쪽에서 5글자 문자추출\n",
    "- df['A'] = df['B'].str[-5:] : 오른쪽에서 5글자 문자추출\n",
    "\n",
    "* DF의 컬럼순서병경\n",
    "-  df = pd.DataFrame(df,columns['C','B','A']): ABC -> CBA순으로 변경\n",
    "\n",
    "* DF 합치기 \n",
    "- df_result = pd.concat([df1,df2] ,ignore_index=True)\n",
    "\n",
    "* DF 중복\n",
    "- df.duplicated() : 중복확인\n",
    "- df.\n",
    "\n",
    "* \n"
   ]
  },
  {
   "cell_type": "code",
   "execution_count": 91,
   "metadata": {},
   "outputs": [
    {
     "data": {
      "text/html": [
       "<div>\n",
       "<style scoped>\n",
       "    .dataframe tbody tr th:only-of-type {\n",
       "        vertical-align: middle;\n",
       "    }\n",
       "\n",
       "    .dataframe tbody tr th {\n",
       "        vertical-align: top;\n",
       "    }\n",
       "\n",
       "    .dataframe thead th {\n",
       "        text-align: right;\n",
       "    }\n",
       "</style>\n",
       "<table border=\"1\" class=\"dataframe\">\n",
       "  <thead>\n",
       "    <tr style=\"text-align: right;\">\n",
       "      <th></th>\n",
       "      <th>names</th>\n",
       "      <th>year</th>\n",
       "      <th>points</th>\n",
       "    </tr>\n",
       "  </thead>\n",
       "  <tbody>\n",
       "    <tr>\n",
       "      <td>FRI</td>\n",
       "      <td>kwonyoung</td>\n",
       "      <td>2019</td>\n",
       "      <td>5.0</td>\n",
       "    </tr>\n",
       "  </tbody>\n",
       "</table>\n",
       "</div>"
      ],
      "text/plain": [
       "         names  year  points\n",
       "FRI  kwonyoung  2019     5.0"
      ]
     },
     "execution_count": 91,
     "metadata": {},
     "output_type": "execute_result"
    }
   ],
   "source": [
    "# head()는 앞에서 5개, tail()은 뒤에서 5행  출력\n",
    "df.head(1) # 앞에서 행 1개\n",
    "df.tail(1) # 뒤에서 행 1개"
   ]
  },
  {
   "cell_type": "code",
   "execution_count": 94,
   "metadata": {},
   "outputs": [
    {
     "data": {
      "text/html": [
       "<div>\n",
       "<style scoped>\n",
       "    .dataframe tbody tr th:only-of-type {\n",
       "        vertical-align: middle;\n",
       "    }\n",
       "\n",
       "    .dataframe tbody tr th {\n",
       "        vertical-align: top;\n",
       "    }\n",
       "\n",
       "    .dataframe thead th {\n",
       "        text-align: right;\n",
       "    }\n",
       "</style>\n",
       "<table border=\"1\" class=\"dataframe\">\n",
       "  <thead>\n",
       "    <tr style=\"text-align: right;\">\n",
       "      <th></th>\n",
       "      <th>names</th>\n",
       "      <th>year</th>\n",
       "      <th>points</th>\n",
       "    </tr>\n",
       "  </thead>\n",
       "  <tbody>\n",
       "    <tr>\n",
       "      <td>two</td>\n",
       "      <td>hamsun</td>\n",
       "      <td>2016</td>\n",
       "      <td>4.5</td>\n",
       "    </tr>\n",
       "    <tr>\n",
       "      <td>three</td>\n",
       "      <td>hamsang</td>\n",
       "      <td>2017</td>\n",
       "      <td>5.0</td>\n",
       "    </tr>\n",
       "    <tr>\n",
       "      <td>four</td>\n",
       "      <td>hamho</td>\n",
       "      <td>2018</td>\n",
       "      <td>3.6</td>\n",
       "    </tr>\n",
       "  </tbody>\n",
       "</table>\n",
       "</div>"
      ],
      "text/plain": [
       "         names  year  points\n",
       "two     hamsun  2016     4.5\n",
       "three  hamsang  2017     5.0\n",
       "four     hamho  2018     3.6"
      ]
     },
     "execution_count": 94,
     "metadata": {},
     "output_type": "execute_result"
    }
   ],
   "source": [
    "# loc() : DF에서 열이나 행을 선택할 수 있는 함수\n",
    "# 숫자인덱스 사용은 불가, 행 or 열 이름으로 접근가능\n",
    "# 힌행만 선택했을 경우에는 text 형태로 2개 이상일 경우는 table 형태로 출력\n",
    "df = pd.DataFrame(data, index=['one','two','three','four','five'])\n",
    "df\n",
    "\n",
    "df.loc['two' ] # 인덱스가 'two'인 행을 텍스트 형태로 출력\n",
    "df.loc['two':'four'] # 인덱스가 'two'-'four'인 행을 텍스트 형태로 출력\n"
   ]
  },
  {
   "cell_type": "code",
   "execution_count": 98,
   "metadata": {},
   "outputs": [
    {
     "data": {
      "text/html": [
       "<div>\n",
       "<style scoped>\n",
       "    .dataframe tbody tr th:only-of-type {\n",
       "        vertical-align: middle;\n",
       "    }\n",
       "\n",
       "    .dataframe tbody tr th {\n",
       "        vertical-align: top;\n",
       "    }\n",
       "\n",
       "    .dataframe thead th {\n",
       "        text-align: right;\n",
       "    }\n",
       "</style>\n",
       "<table border=\"1\" class=\"dataframe\">\n",
       "  <thead>\n",
       "    <tr style=\"text-align: right;\">\n",
       "      <th></th>\n",
       "      <th>year</th>\n",
       "      <th>names</th>\n",
       "    </tr>\n",
       "  </thead>\n",
       "  <tbody>\n",
       "    <tr>\n",
       "      <td>one</td>\n",
       "      <td>2015</td>\n",
       "      <td>hamjin</td>\n",
       "    </tr>\n",
       "    <tr>\n",
       "      <td>two</td>\n",
       "      <td>2016</td>\n",
       "      <td>hamsun</td>\n",
       "    </tr>\n",
       "    <tr>\n",
       "      <td>three</td>\n",
       "      <td>2017</td>\n",
       "      <td>hamsang</td>\n",
       "    </tr>\n",
       "    <tr>\n",
       "      <td>four</td>\n",
       "      <td>2018</td>\n",
       "      <td>hamho</td>\n",
       "    </tr>\n",
       "    <tr>\n",
       "      <td>five</td>\n",
       "      <td>2019</td>\n",
       "      <td>kwonyoung</td>\n",
       "    </tr>\n",
       "  </tbody>\n",
       "</table>\n",
       "</div>"
      ],
      "text/plain": [
       "       year      names\n",
       "one    2015     hamjin\n",
       "two    2016     hamsun\n",
       "three  2017    hamsang\n",
       "four   2018      hamho\n",
       "five   2019  kwonyoung"
      ]
     },
     "execution_count": 98,
     "metadata": {},
     "output_type": "execute_result"
    }
   ],
   "source": [
    "# 좀더 복잡한 loc()함수를 사용\n",
    "df.loc[:,['year','names']] # 전체 행중에서 year와 names열만 선택"
   ]
  },
  {
   "cell_type": "code",
   "execution_count": null,
   "metadata": {},
   "outputs": [],
   "source": [
    "# iloc() : 숫자인덱스로 접근\n",
    "df.iloc[3] # 3번째 행만 출력"
   ]
  },
  {
   "cell_type": "code",
   "execution_count": null,
   "metadata": {},
   "outputs": [],
   "source": []
  },
  {
   "cell_type": "code",
   "execution_count": null,
   "metadata": {},
   "outputs": [],
   "source": []
  },
  {
   "cell_type": "code",
   "execution_count": null,
   "metadata": {},
   "outputs": [],
   "source": []
  },
  {
   "cell_type": "code",
   "execution_count": null,
   "metadata": {},
   "outputs": [],
   "source": []
  },
  {
   "cell_type": "code",
   "execution_count": null,
   "metadata": {},
   "outputs": [],
   "source": []
  },
  {
   "cell_type": "code",
   "execution_count": null,
   "metadata": {},
   "outputs": [],
   "source": []
  },
  {
   "cell_type": "code",
   "execution_count": null,
   "metadata": {},
   "outputs": [],
   "source": []
  },
  {
   "cell_type": "code",
   "execution_count": null,
   "metadata": {},
   "outputs": [],
   "source": []
  },
  {
   "cell_type": "code",
   "execution_count": null,
   "metadata": {},
   "outputs": [],
   "source": []
  },
  {
   "cell_type": "code",
   "execution_count": null,
   "metadata": {},
   "outputs": [],
   "source": []
  },
  {
   "cell_type": "code",
   "execution_count": null,
   "metadata": {},
   "outputs": [],
   "source": []
  }
 ],
 "metadata": {
  "kernelspec": {
   "display_name": "Python 3",
   "language": "python",
   "name": "python3"
  },
  "language_info": {
   "codemirror_mode": {
    "name": "ipython",
    "version": 3
   },
   "file_extension": ".py",
   "mimetype": "text/x-python",
   "name": "python",
   "nbconvert_exporter": "python",
   "pygments_lexer": "ipython3",
   "version": "3.7.4"
  }
 },
 "nbformat": 4,
 "nbformat_minor": 2
}
