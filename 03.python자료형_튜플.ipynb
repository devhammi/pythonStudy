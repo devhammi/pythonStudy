{
 "cells": [
  {
   "cell_type": "markdown",
   "metadata": {},
   "source": [
    "### 튜플 (tuple) 자료형\n",
    "튜플은 몇가지를 제외하고는 리스트 자료혀과 거의 비슷하다. \n",
    "\n",
    "다른 점은 \n",
    "\n",
    "1. 리스트는 대괄호[]로 둘러싸지만 튜플은 소괄호()로 둘러싼다.\n",
    "2. 리스트는 값의 생성, 삭제, 수정이 가능하지만, 튜플은 그 값을 변경할 수 없다."
   ]
  },
  {
   "cell_type": "code",
   "execution_count": null,
   "metadata": {},
   "outputs": [],
   "source": [
    "t1 = () # 빈 튜플객체를 선언과 초기화\n",
    "print(type(t1))\n",
    "\n",
    "t1  = (1) #튜플 안에 하나만 있다면 꼭 객체 뒤에 , 필요\n",
    "print(type(t1))\n",
    "\n",
    "t1 =  (1,)\n",
    "print(type(t1))\n",
    "\n",
    "t1 =  (1,2)\n",
    "print(type(t1))\n",
    "\n",
    "l1 =  []\n",
    "print(type(l1))\n",
    "\n",
    "l1 =  [1]\n",
    "print(type(l1))"
   ]
  },
  {
   "cell_type": "code",
   "execution_count": null,
   "metadata": {},
   "outputs": [],
   "source": [
    "t2 = (1,2,3)\n",
    "t3 = 1,2,3 # 소괄호를 생략한 컴마로 구분된 연속된 값을 정의할 경우에는 기본 자료형 튜플임.\n",
    "print(type(t2))\n",
    "print(type(t3))"
   ]
  },
  {
   "cell_type": "code",
   "execution_count": null,
   "metadata": {},
   "outputs": [],
   "source": [
    "t4 = (1,1.2,'a',(1,2,3,('x','t','z')),[1,2,3],print)\n",
    "print(type(t4))\n",
    "#t4?  # 문자열과 튜플은 수정불가."
   ]
  },
  {
   "cell_type": "markdown",
   "metadata": {},
   "source": [
    "#### 2. 튜플연산자"
   ]
  },
  {
   "cell_type": "code",
   "execution_count": 13,
   "metadata": {},
   "outputs": [
    {
     "name": "stdout",
     "output_type": "stream",
     "text": [
      "(1, 2, 3, 'x', 'y', 'z')\n"
     ]
    }
   ],
   "source": [
    "# 1. 튜풀연결하기(+)  2개의 튜플을 합치는 것과 같다. \n",
    "a = (1,2,3)\n",
    "b = ('x','y','z')\n",
    "c = a+b \n",
    "print(c)"
   ]
  },
  {
   "cell_type": "code",
   "execution_count": 14,
   "metadata": {},
   "outputs": [
    {
     "name": "stdout",
     "output_type": "stream",
     "text": [
      "(1, 2, 3, 1, 2, 3, 1, 2, 3)\n"
     ]
    }
   ],
   "source": [
    "# 2. 튜플 반복하기 (*)\n",
    "print(a*3)"
   ]
  },
  {
   "cell_type": "markdown",
   "metadata": {},
   "source": [
    "#### 3. 튜플수정(튜플은 Immytable 자료형이다!)"
   ]
  },
  {
   "cell_type": "code",
   "execution_count": null,
   "metadata": {},
   "outputs": [],
   "source": [
    "# 1. 삭제오류 \n",
    "t1 = (1,2,'a')\n",
    "# del t1[0] # error 삭제불가"
   ]
  },
  {
   "cell_type": "code",
   "execution_count": null,
   "metadata": {},
   "outputs": [],
   "source": [
    "# 2. 수정오류 \n",
    "# t1[2] = 3  # 수정도 안됨.\n",
    "#t1[4] = 0  # 삽입도 안됨\n",
    "print(t1)"
   ]
  },
  {
   "cell_type": "markdown",
   "metadata": {},
   "source": [
    "#### 4. 튜플은 인덱싱과 슬라이싱"
   ]
  },
  {
   "cell_type": "code",
   "execution_count": null,
   "metadata": {},
   "outputs": [],
   "source": [
    "# 1. 인덱싱\n",
    "t1 = (1,2,'a','b')\n",
    "print(t1[3])\n",
    "print(t1[0])"
   ]
  },
  {
   "cell_type": "code",
   "execution_count": 27,
   "metadata": {},
   "outputs": [
    {
     "name": "stdout",
     "output_type": "stream",
     "text": [
      "(1, 2, 'a', 'b')\n",
      "(2, 'a', 'b')\n",
      "(1, 2)\n"
     ]
    }
   ],
   "source": [
    "# 2. 슬래이싱\n",
    "t1 = (1,2,'a','b')\n",
    "print(t1[:])\n",
    "print(t1[1:])\n",
    "print(t1[:2])\n",
    "\n",
    "# 튜플은 한번 정의해두고 바뀔 일 없고, 수정하면 안되는 자료를 정의할 때 쓴다."
   ]
  },
  {
   "cell_type": "code",
   "execution_count": null,
   "metadata": {},
   "outputs": [],
   "source": []
  },
  {
   "cell_type": "code",
   "execution_count": null,
   "metadata": {},
   "outputs": [],
   "source": []
  }
 ],
 "metadata": {
  "kernelspec": {
   "display_name": "Python 3",
   "language": "python",
   "name": "python3"
  },
  "language_info": {
   "codemirror_mode": {
    "name": "ipython",
    "version": 3
   },
   "file_extension": ".py",
   "mimetype": "text/x-python",
   "name": "python",
   "nbconvert_exporter": "python",
   "pygments_lexer": "ipython3",
   "version": "3.7.4"
  }
 },
 "nbformat": 4,
 "nbformat_minor": 2
}
