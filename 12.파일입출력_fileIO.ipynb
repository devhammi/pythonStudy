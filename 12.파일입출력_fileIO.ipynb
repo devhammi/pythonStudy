{
 "cells": [
  {
   "cell_type": "markdown",
   "metadata": {},
   "source": [
    "### File의 Input/Output\n",
    "\n",
    "프로그램에서 중요한 처리중 하나인 파일에 대한 입출력 처리이다. 파일에서 무자열을 읽고 쓰는 방법과 파이썬 객체를 파일에 읽고 쓰기 위해서는 내장된 함수를 이용해서 처리한다.\n",
    "\n",
    "1. 파일을 생성하기 위해서는 open() 내장함수를 사용한다.\n",
    "2. 기본문법\n",
    "   변수(파일객체) = open(파일이름, 열기모드, 인코딩)\n",
    "   \n",
    "   \n",
    "#### 1. 열기모드\n",
    "\n",
    "모드  설명<br>\n",
    "----- --------------------------------------<br>\n",
    "* r   읽기모드, 파일을 읽기만 허용\n",
    "* w   쓰기모드, 파일을 쓰기만 허용\n",
    "* a   추가모드, 파일의 마지막에 새로운 내용추가\n",
    "* t   텍스트모드, 텍스트파일로 처리(기본값)\n",
    "* b   이진모드, 이진(바이너리)파일 처리\n",
    "\n",
    "* r+  읽기/쓰기모드\n",
    "* w+  읽기/쓰기모드(기존파일삭제)\n",
    "* a+  파일끝에 추가(읽기도 가능\n",
    "\n",
    "* rb+ 이진파일로 읽고 쓰기\n",
    "* wb+ 이진파일로 읽고 쓰기(기존파일삭제)\n",
    "* ab+ 이진파일 끝에 추가(읽기도 가능)\n",
    "\n",
    "* 열기모드는 조합해서 사용할 수 있다.\n",
    "(예) rb -> 읽기전용모드 이면서 이진모드로 읽기\n",
    "     w or wt : 텍스트로 쓰기모드\n",
    "     \n",
    "* (주의)\n",
    "파일를 쓰기모드로 열게 되면 기존파일의 전체내용이 삭제가 되고 없다면 새로운파일이 생성이 된다.\n",
    "\n",
    "<img src=\"./images/12.파일입출력_fileIO_01.png\" width=\"600\" height=\"400\">\n",
    "\n",
    "\n",
    "#### 2. 파일닫기\n",
    "\n",
    "1. 파일을 열기를 했다면 작업이 끝난 후에 close()함수를 호출하여 작업 프로세스에 할당된 자원을 해제하여야 한다.\n",
    "2. close()를 마지막에 호출하지 않으면 오픈된 파일객체가 다른 값으로 치환되거나 프로그램이 종료가 될 때 자동으로 close()가 호출된다.\n",
    "3. 하지만 명시적으로 close()를 호출하는 것이 좋다.\n",
    "\n",
    "#### 3. 파일접근방법\n",
    "\n",
    "1. 순차접근(기본방식) : 파일을 맨처음부터 끝까지 순차적으로 읽는 방법\n",
    "2. 임의접근 : 파일내에 임의의 위치에서 읽거나 쓰는 방법\n",
    "   <임의접근을 위한 file객체 포인터(pointer)관련 메서드\n",
    "   1) seek(n) : 파일의 가장 첫번째위치에서 n번째 바이트로 포인터를 이동\n",
    "   2) tell() : 파일내에 현재 포인터위치를 리턴\n",
    "\n",
    "\n",
    "#### 4. 파일객체의 메서드\n",
    "* open() : 파일 열기\n",
    "* close(): 파일 닫기\n",
    "* read(<size>) : 원하는 바이트(size)수 만큼 파일에서 읽기, size를 지정하지 않으면 전체파일을 읽어 온다.\n",
    "* readline() : 한 라인씩 읽기\n",
    "* readlines() : 전체라인을 readline()를 이용하여 읽어온 후에 리스트자료형으로 리턴\n",
    "* write(string) : 문자열(string)을 파일에 쓰기 \n",
    "* writeline(list)  :문자열리스트를 파일에 쓰기, 주의할 점은 줄바꾸기가 자동으로 되지 않기 때문에 줄바꾸기를 원할 경우 \"\\n\"을 라인 끝에 추가해야 한다.\n",
    "* seek(offset[,whense]) : whense의 기본값 0(0=시작기준, 1:현재위치, 2:파일끝), offest만큼 떨어진 위치에서 파일의 포인터를 이동한다.\n",
    "* tell() : 파일의 현재위치(포인터)를 리턴\n",
    "* flush() : 버퍼에 내용이 채워지지 않았어도 내부 버퍼전체내용을 파일에 전달\n",
    "* fileno(): 파일객체의 파일기술자(File Descriptor, 정수값)를 리턴"
   ]
  },
  {
   "cell_type": "code",
   "execution_count": 3,
   "metadata": {},
   "outputs": [],
   "source": [
    "# 파일열기 \n",
    "# 변수명 = open(파일명, 열기모드, 인코딩)\n",
    "#open?\n",
    "%pwd\n",
    "f = open('newfile.txt', 'w')\n",
    "f.close()"
   ]
  },
  {
   "cell_type": "code",
   "execution_count": 6,
   "metadata": {},
   "outputs": [],
   "source": [
    "# 파일을 쓰기모드로 열고 텍스트를 쓰기:write()메서드\n",
    "#f = open('./newfile.txt', 'w')\n",
    "f = open('./newfile.txt', 'w', encoding='utf-8')\n",
    "for i in range(1,11):\n",
    "    data = 'UTF-8: %2d번째 라인입니다....\\n' % i\n",
    "    f.write(data)\n",
    "f.close()\n",
    "# f.write?"
   ]
  },
  {
   "cell_type": "markdown",
   "metadata": {},
   "source": [
    "#### 1. 파일열기"
   ]
  },
  {
   "cell_type": "code",
   "execution_count": 11,
   "metadata": {},
   "outputs": [
    {
     "name": "stdout",
     "output_type": "stream",
     "text": [
      "UTF-8:  1번째 라인입니다....\n",
      "\n",
      "<class '_io.TextIOWrapper'>\n",
      "<class 'str'>\n"
     ]
    }
   ],
   "source": [
    "# 1. 외부에서 저장된 파일읽기(1) : readline()\n",
    "#f.readline?\n",
    "f = open('newfile.txt', 'r', encoding='utf-8')\n",
    "line = f.readline()\n",
    "f.close\n",
    "print(line)\n",
    "print(type(f))\n",
    "print(type(line))"
   ]
  },
  {
   "cell_type": "code",
   "execution_count": 12,
   "metadata": {},
   "outputs": [
    {
     "name": "stdout",
     "output_type": "stream",
     "text": [
      "UTF-8:  1번째 라인입니다....\n",
      "\n",
      "UTF-8:  2번째 라인입니다....\n",
      "\n",
      "UTF-8:  3번째 라인입니다....\n",
      "\n",
      "UTF-8:  4번째 라인입니다....\n",
      "\n",
      "UTF-8:  5번째 라인입니다....\n",
      "\n",
      "UTF-8:  6번째 라인입니다....\n",
      "\n",
      "UTF-8:  7번째 라인입니다....\n",
      "\n",
      "UTF-8:  8번째 라인입니다....\n",
      "\n",
      "UTF-8:  9번째 라인입니다....\n",
      "\n",
      "UTF-8: 10번째 라인입니다....\n",
      "\n"
     ]
    }
   ],
   "source": [
    "# 2. 외부에서 저장된 파일읽기(2) :\n",
    "f = open('newfile.txt', 'r', encoding='utf-8')\n",
    "while True:\n",
    "    line = f.readline()\n",
    "    if not line: break\n",
    "    print(line)\n",
    "f.close()"
   ]
  },
  {
   "cell_type": "code",
   "execution_count": 15,
   "metadata": {},
   "outputs": [
    {
     "name": "stdout",
     "output_type": "stream",
     "text": [
      "<class 'list'>\n",
      "UTF-8:  1번째 라인입니다....\n",
      "\n",
      "UTF-8:  2번째 라인입니다....\n",
      "\n",
      "UTF-8:  3번째 라인입니다....\n",
      "\n",
      "UTF-8:  4번째 라인입니다....\n",
      "\n",
      "UTF-8:  5번째 라인입니다....\n",
      "\n",
      "UTF-8:  6번째 라인입니다....\n",
      "\n",
      "UTF-8:  7번째 라인입니다....\n",
      "\n",
      "UTF-8:  8번째 라인입니다....\n",
      "\n",
      "UTF-8:  9번째 라인입니다....\n",
      "\n",
      "UTF-8: 10번째 라인입니다....\n",
      "\n"
     ]
    }
   ],
   "source": [
    "# 3. 외부에서 저장된 파일읽기(3) : readlines()\n",
    "f = open('newfile.txt', 'r', encoding='utf-8')\n",
    "lines = f.readlines()\n",
    "f.close()\n",
    "#print(lines)\n",
    "print(type(lines))\n",
    "\n",
    "for line in lines:\n",
    "    print(line)"
   ]
  },
  {
   "cell_type": "code",
   "execution_count": 19,
   "metadata": {},
   "outputs": [
    {
     "name": "stdout",
     "output_type": "stream",
     "text": [
      "UTF-8:  1번째 라인입니다....\n",
      "UTF-8:  2번째 라인입니다....\n",
      "UTF-8:  3번째 라인입니다....\n",
      "UTF-8:  4번째 라인입니다....\n",
      "UTF-8:  5번째 라인입니다....\n",
      "UTF-8:  6번째 라인입니다....\n",
      "UTF-8:  7번째 라인입니다....\n",
      "UTF-8:  8번째 라인입니다....\n",
      "UTF-8:  9번째 라인입니다....\n",
      "UTF-8: 10번째 라인입니다....\n",
      "\n",
      "<class 'str'>\n"
     ]
    }
   ],
   "source": [
    "# 4. 외부에서 저장된 파일읽기(4) : read()\n",
    "f = open('newfile.txt', 'r', encoding='utf-8')\n",
    "data = f.read() # read()함수는 파일 내용전체를 문자열로 리턴하는 함수\n",
    "f.close()\n",
    "print(data)\n",
    "print(type(data))"
   ]
  },
  {
   "cell_type": "markdown",
   "metadata": {},
   "source": [
    "#### 2. 파일쓰기"
   ]
  },
  {
   "cell_type": "code",
   "execution_count": 22,
   "metadata": {},
   "outputs": [],
   "source": [
    "# 파일에 새로운 내용 추가(a모드)\n",
    "f = open('newfile.txt', 'a', encoding='utf-8')\n",
    "for i in range(11, 21):\n",
    "    data = '%2d 번째 라인입니다!\\n' % i\n",
    "    f.write(data)\n",
    "f.close()"
   ]
  },
  {
   "cell_type": "code",
   "execution_count": 24,
   "metadata": {},
   "outputs": [],
   "source": [
    "# 오픈된 파일을 자동으로 close하기 : with문과 같이 쓰기\n",
    "# with문은 python v2.5부터 지원\n",
    "# 파일을 오픈하면 항상 close해주는 것이 좋다. 하지만 매번 열고 닫는 것을 \n",
    "# 자동으로 처리할 수 있는데 파이썬의 with문이 이런 역할을 한다.\n",
    "\n",
    "filename = 'd:/gilbaek/newfile1.txt'\n",
    "with open(filename, 'w') as f:\n",
    "    f.write('안녕하세요 파이썬!')"
   ]
  },
  {
   "cell_type": "markdown",
   "metadata": {},
   "source": [
    "#### 3. 파일객체 관련함수"
   ]
  },
  {
   "cell_type": "code",
   "execution_count": null,
   "metadata": {},
   "outputs": [],
   "source": [
    "# seek(), tell()함수 사용하기\n",
    "# seek() : 임의접근\n",
    "# f.seek(n) or f.seek(n, 0) : 파일의 맨처음 위치에서 n번쨰 바이트로 이동\n",
    "# f.seek(n, 1) :\n",
    "# f.seek(n, 2)\n",
    "# f.tell():"
   ]
  },
  {
   "cell_type": "code",
   "execution_count": null,
   "metadata": {},
   "outputs": [],
   "source": []
  },
  {
   "cell_type": "code",
   "execution_count": null,
   "metadata": {},
   "outputs": [],
   "source": []
  },
  {
   "cell_type": "code",
   "execution_count": null,
   "metadata": {},
   "outputs": [],
   "source": []
  },
  {
   "cell_type": "code",
   "execution_count": null,
   "metadata": {},
   "outputs": [],
   "source": []
  },
  {
   "cell_type": "code",
   "execution_count": null,
   "metadata": {},
   "outputs": [],
   "source": []
  },
  {
   "cell_type": "code",
   "execution_count": null,
   "metadata": {},
   "outputs": [],
   "source": []
  },
  {
   "cell_type": "code",
   "execution_count": null,
   "metadata": {},
   "outputs": [],
   "source": []
  },
  {
   "cell_type": "code",
   "execution_count": null,
   "metadata": {},
   "outputs": [],
   "source": []
  },
  {
   "cell_type": "code",
   "execution_count": null,
   "metadata": {},
   "outputs": [],
   "source": []
  },
  {
   "cell_type": "code",
   "execution_count": null,
   "metadata": {},
   "outputs": [],
   "source": []
  }
 ],
 "metadata": {
  "kernelspec": {
   "display_name": "Python 3",
   "language": "python",
   "name": "python3"
  },
  "language_info": {
   "codemirror_mode": {
    "name": "ipython",
    "version": 3
   },
   "file_extension": ".py",
   "mimetype": "text/x-python",
   "name": "python",
   "nbconvert_exporter": "python",
   "pygments_lexer": "ipython3",
   "version": "3.7.4"
  }
 },
 "nbformat": 4,
 "nbformat_minor": 2
}
